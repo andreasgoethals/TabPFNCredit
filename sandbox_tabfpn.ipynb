{
 "cells": [
  {
   "cell_type": "code",
   "execution_count": 2,
   "id": "initial_id",
   "metadata": {
    "collapsed": true,
    "ExecuteTime": {
     "end_time": "2025-01-22T13:56:31.558431300Z",
     "start_time": "2025-01-22T13:55:34.263812900Z"
    }
   },
   "outputs": [
    {
     "name": "stdout",
     "output_type": "stream",
     "text": [
      "Collecting scikit-learn==1.5.2\n",
      "  Obtaining dependency information for scikit-learn==1.5.2 from https://files.pythonhosted.org/packages/45/05/74e453853c0b1b0773f46027848a17467f5dc9c5f15d096d911163d27550/scikit_learn-1.5.2-cp39-cp39-win_amd64.whl.metadata\n",
      "  Downloading scikit_learn-1.5.2-cp39-cp39-win_amd64.whl.metadata (13 kB)\n",
      "Requirement already satisfied: numpy>=1.19.5 in c:\\users\\u0148775\\pycharmprojects\\creditscoring\\venv\\lib\\site-packages (from scikit-learn==1.5.2) (1.26.4)\n",
      "Requirement already satisfied: scipy>=1.6.0 in c:\\users\\u0148775\\pycharmprojects\\creditscoring\\venv\\lib\\site-packages (from scikit-learn==1.5.2) (1.13.1)\n",
      "Requirement already satisfied: joblib>=1.2.0 in c:\\users\\u0148775\\pycharmprojects\\creditscoring\\venv\\lib\\site-packages (from scikit-learn==1.5.2) (1.4.2)\n",
      "Requirement already satisfied: threadpoolctl>=3.1.0 in c:\\users\\u0148775\\pycharmprojects\\creditscoring\\venv\\lib\\site-packages (from scikit-learn==1.5.2) (3.5.0)\n",
      "Downloading scikit_learn-1.5.2-cp39-cp39-win_amd64.whl (11.0 MB)\n",
      "   ---------------------------------------- 0.0/11.0 MB ? eta -:--:--\n",
      "    --------------------------------------- 0.2/11.0 MB 7.6 MB/s eta 0:00:02\n",
      "   -- ------------------------------------- 0.7/11.0 MB 9.3 MB/s eta 0:00:02\n",
      "   --- ------------------------------------ 1.0/11.0 MB 8.3 MB/s eta 0:00:02\n",
      "   ----- ---------------------------------- 1.5/11.0 MB 8.7 MB/s eta 0:00:02\n",
      "   ------ --------------------------------- 1.9/11.0 MB 8.5 MB/s eta 0:00:02\n",
      "   -------- ------------------------------- 2.3/11.0 MB 8.2 MB/s eta 0:00:02\n",
      "   ---------- ----------------------------- 2.8/11.0 MB 8.8 MB/s eta 0:00:01\n",
      "   ----------- ---------------------------- 3.3/11.0 MB 8.8 MB/s eta 0:00:01\n",
      "   -------------- ------------------------- 3.9/11.0 MB 9.6 MB/s eta 0:00:01\n",
      "   --------------- ------------------------ 4.2/11.0 MB 9.5 MB/s eta 0:00:01\n",
      "   --------------- ------------------------ 4.2/11.0 MB 9.5 MB/s eta 0:00:01\n",
      "   --------------- ------------------------ 4.2/11.0 MB 9.5 MB/s eta 0:00:01\n",
      "   --------------- ------------------------ 4.2/11.0 MB 9.5 MB/s eta 0:00:01\n",
      "   --------------- ------------------------ 4.2/11.0 MB 9.5 MB/s eta 0:00:01\n",
      "   --------------- ------------------------ 4.2/11.0 MB 9.5 MB/s eta 0:00:01\n",
      "   ---------------- ----------------------- 4.5/11.0 MB 6.4 MB/s eta 0:00:02\n",
      "   ------------------ --------------------- 5.1/11.0 MB 6.8 MB/s eta 0:00:01\n",
      "   -------------------- ------------------- 5.6/11.0 MB 6.9 MB/s eta 0:00:01\n",
      "   ---------------------- ----------------- 6.1/11.0 MB 7.1 MB/s eta 0:00:01\n",
      "   ------------------------ --------------- 6.7/11.0 MB 7.4 MB/s eta 0:00:01\n",
      "   -------------------------- ------------- 7.3/11.0 MB 7.7 MB/s eta 0:00:01\n",
      "   ---------------------------- ----------- 7.9/11.0 MB 7.9 MB/s eta 0:00:01\n",
      "   ------------------------------ --------- 8.5/11.0 MB 8.0 MB/s eta 0:00:01\n",
      "   -------------------------------- ------- 8.9/11.0 MB 8.2 MB/s eta 0:00:01\n",
      "   ---------------------------------- ----- 9.6/11.0 MB 8.4 MB/s eta 0:00:01\n",
      "   ------------------------------------ --- 10.1/11.0 MB 8.4 MB/s eta 0:00:01\n",
      "   -------------------------------------- - 10.7/11.0 MB 8.6 MB/s eta 0:00:01\n",
      "   ---------------------------------------  11.0/11.0 MB 8.6 MB/s eta 0:00:01\n",
      "   ---------------------------------------- 11.0/11.0 MB 8.5 MB/s eta 0:00:00\n",
      "Installing collected packages: scikit-learn\n",
      "  Attempting uninstall: scikit-learn\n",
      "    Found existing installation: scikit-learn 1.6.1\n",
      "    Uninstalling scikit-learn-1.6.1:\n",
      "      Successfully uninstalled scikit-learn-1.6.1\n",
      "Successfully installed scikit-learn-1.5.2\n"
     ]
    },
    {
     "name": "stderr",
     "output_type": "stream",
     "text": [
      "\n",
      "[notice] A new release of pip is available: 23.2.1 -> 24.3.1\n",
      "[notice] To update, run: python.exe -m pip install --upgrade pip\n"
     ]
    },
    {
     "name": "stdout",
     "output_type": "stream",
     "text": [
      "Requirement already satisfied: tabpfn in c:\\users\\u0148775\\pycharmprojects\\creditscoring\\venv\\lib\\site-packages (2.0.3)\n",
      "Requirement already satisfied: torch>=2.1 in c:\\users\\u0148775\\pycharmprojects\\creditscoring\\venv\\lib\\site-packages (from tabpfn) (2.5.1)\n",
      "Requirement already satisfied: scikit-learn>=1 in c:\\users\\u0148775\\pycharmprojects\\creditscoring\\venv\\lib\\site-packages (from tabpfn) (1.5.2)\n",
      "Requirement already satisfied: typing_extensions in c:\\users\\u0148775\\pycharmprojects\\creditscoring\\venv\\lib\\site-packages (from tabpfn) (4.12.2)\n",
      "Requirement already satisfied: scipy in c:\\users\\u0148775\\pycharmprojects\\creditscoring\\venv\\lib\\site-packages (from tabpfn) (1.13.1)\n",
      "Requirement already satisfied: pandas in c:\\users\\u0148775\\pycharmprojects\\creditscoring\\venv\\lib\\site-packages (from tabpfn) (2.2.3)\n",
      "Requirement already satisfied: einops in c:\\users\\u0148775\\pycharmprojects\\creditscoring\\venv\\lib\\site-packages (from tabpfn) (0.8.0)\n",
      "Requirement already satisfied: huggingface-hub in c:\\users\\u0148775\\pycharmprojects\\creditscoring\\venv\\lib\\site-packages (from tabpfn) (0.27.1)\n",
      "Requirement already satisfied: numpy>=1.19.5 in c:\\users\\u0148775\\pycharmprojects\\creditscoring\\venv\\lib\\site-packages (from scikit-learn>=1->tabpfn) (1.26.4)\n",
      "Requirement already satisfied: joblib>=1.2.0 in c:\\users\\u0148775\\pycharmprojects\\creditscoring\\venv\\lib\\site-packages (from scikit-learn>=1->tabpfn) (1.4.2)\n",
      "Requirement already satisfied: threadpoolctl>=3.1.0 in c:\\users\\u0148775\\pycharmprojects\\creditscoring\\venv\\lib\\site-packages (from scikit-learn>=1->tabpfn) (3.5.0)\n",
      "Requirement already satisfied: filelock in c:\\users\\u0148775\\pycharmprojects\\creditscoring\\venv\\lib\\site-packages (from torch>=2.1->tabpfn) (3.17.0)\n",
      "Requirement already satisfied: networkx in c:\\users\\u0148775\\pycharmprojects\\creditscoring\\venv\\lib\\site-packages (from torch>=2.1->tabpfn) (3.2.1)\n",
      "Requirement already satisfied: jinja2 in c:\\users\\u0148775\\pycharmprojects\\creditscoring\\venv\\lib\\site-packages (from torch>=2.1->tabpfn) (3.1.5)\n",
      "Requirement already satisfied: fsspec in c:\\users\\u0148775\\pycharmprojects\\creditscoring\\venv\\lib\\site-packages (from torch>=2.1->tabpfn) (2024.9.0)\n",
      "Requirement already satisfied: sympy==1.13.1 in c:\\users\\u0148775\\pycharmprojects\\creditscoring\\venv\\lib\\site-packages (from torch>=2.1->tabpfn) (1.13.1)\n",
      "Requirement already satisfied: mpmath<1.4,>=1.1.0 in c:\\users\\u0148775\\pycharmprojects\\creditscoring\\venv\\lib\\site-packages (from sympy==1.13.1->torch>=2.1->tabpfn) (1.3.0)\n",
      "Requirement already satisfied: packaging>=20.9 in c:\\users\\u0148775\\pycharmprojects\\creditscoring\\venv\\lib\\site-packages (from huggingface-hub->tabpfn) (24.2)\n",
      "Requirement already satisfied: pyyaml>=5.1 in c:\\users\\u0148775\\pycharmprojects\\creditscoring\\venv\\lib\\site-packages (from huggingface-hub->tabpfn) (6.0.2)\n",
      "Requirement already satisfied: requests in c:\\users\\u0148775\\pycharmprojects\\creditscoring\\venv\\lib\\site-packages (from huggingface-hub->tabpfn) (2.32.3)\n",
      "Requirement already satisfied: tqdm>=4.42.1 in c:\\users\\u0148775\\pycharmprojects\\creditscoring\\venv\\lib\\site-packages (from huggingface-hub->tabpfn) (4.67.1)\n",
      "Requirement already satisfied: python-dateutil>=2.8.2 in c:\\users\\u0148775\\pycharmprojects\\creditscoring\\venv\\lib\\site-packages (from pandas->tabpfn) (2.9.0.post0)\n",
      "Requirement already satisfied: pytz>=2020.1 in c:\\users\\u0148775\\pycharmprojects\\creditscoring\\venv\\lib\\site-packages (from pandas->tabpfn) (2024.2)\n",
      "Requirement already satisfied: tzdata>=2022.7 in c:\\users\\u0148775\\pycharmprojects\\creditscoring\\venv\\lib\\site-packages (from pandas->tabpfn) (2025.1)\n",
      "Requirement already satisfied: six>=1.5 in c:\\users\\u0148775\\pycharmprojects\\creditscoring\\venv\\lib\\site-packages (from python-dateutil>=2.8.2->pandas->tabpfn) (1.17.0)\n",
      "Requirement already satisfied: colorama in c:\\users\\u0148775\\pycharmprojects\\creditscoring\\venv\\lib\\site-packages (from tqdm>=4.42.1->huggingface-hub->tabpfn) (0.4.6)\n",
      "Requirement already satisfied: MarkupSafe>=2.0 in c:\\users\\u0148775\\pycharmprojects\\creditscoring\\venv\\lib\\site-packages (from jinja2->torch>=2.1->tabpfn) (3.0.2)\n",
      "Requirement already satisfied: charset-normalizer<4,>=2 in c:\\users\\u0148775\\pycharmprojects\\creditscoring\\venv\\lib\\site-packages (from requests->huggingface-hub->tabpfn) (3.4.1)\n",
      "Requirement already satisfied: idna<4,>=2.5 in c:\\users\\u0148775\\pycharmprojects\\creditscoring\\venv\\lib\\site-packages (from requests->huggingface-hub->tabpfn) (3.10)\n",
      "Requirement already satisfied: urllib3<3,>=1.21.1 in c:\\users\\u0148775\\pycharmprojects\\creditscoring\\venv\\lib\\site-packages (from requests->huggingface-hub->tabpfn) (2.3.0)\n",
      "Requirement already satisfied: certifi>=2017.4.17 in c:\\users\\u0148775\\pycharmprojects\\creditscoring\\venv\\lib\\site-packages (from requests->huggingface-hub->tabpfn) (2024.12.14)\n"
     ]
    },
    {
     "name": "stderr",
     "output_type": "stream",
     "text": [
      "\n",
      "[notice] A new release of pip is available: 23.2.1 -> 24.3.1\n",
      "[notice] To update, run: python.exe -m pip install --upgrade pip\n",
      "fatal: destination path 'tabpfn-extensions' already exists and is not an empty directory.\n"
     ]
    },
    {
     "name": "stdout",
     "output_type": "stream",
     "text": [
      "Obtaining file:///C:/Users/u0148775/PycharmProjects/CreditScoring/tabpfn-extensions\n",
      "  Installing build dependencies: started\n",
      "  Installing build dependencies: finished with status 'done'\n",
      "  Checking if build backend supports build_editable: started\n",
      "  Checking if build backend supports build_editable: finished with status 'done'\n",
      "  Getting requirements to build editable: started\n",
      "  Getting requirements to build editable: finished with status 'done'\n",
      "  Preparing editable metadata (pyproject.toml): started\n",
      "  Preparing editable metadata (pyproject.toml): finished with status 'done'\n",
      "Requirement already satisfied: seaborn==0.12.2 in c:\\users\\u0148775\\pycharmprojects\\creditscoring\\venv\\lib\\site-packages (from tabpfn-extensions==0.0.4) (0.12.2)\n",
      "Requirement already satisfied: numpy in c:\\users\\u0148775\\pycharmprojects\\creditscoring\\venv\\lib\\site-packages (from tabpfn-extensions==0.0.4) (1.26.4)\n",
      "Requirement already satisfied: torch in c:\\users\\u0148775\\pycharmprojects\\creditscoring\\venv\\lib\\site-packages (from tabpfn-extensions==0.0.4) (2.5.1)\n",
      "Requirement already satisfied: pandas in c:\\users\\u0148775\\pycharmprojects\\creditscoring\\venv\\lib\\site-packages (from tabpfn-extensions==0.0.4) (2.2.3)\n",
      "Requirement already satisfied: scikit-learn in c:\\users\\u0148775\\pycharmprojects\\creditscoring\\venv\\lib\\site-packages (from tabpfn-extensions==0.0.4) (1.5.2)\n",
      "Requirement already satisfied: scipy in c:\\users\\u0148775\\pycharmprojects\\creditscoring\\venv\\lib\\site-packages (from tabpfn-extensions==0.0.4) (1.13.1)\n",
      "Requirement already satisfied: matplotlib!=3.6.1,>=3.1 in c:\\users\\u0148775\\pycharmprojects\\creditscoring\\venv\\lib\\site-packages (from seaborn==0.12.2->tabpfn-extensions==0.0.4) (3.9.4)\n",
      "Requirement already satisfied: python-dateutil>=2.8.2 in c:\\users\\u0148775\\pycharmprojects\\creditscoring\\venv\\lib\\site-packages (from pandas->tabpfn-extensions==0.0.4) (2.9.0.post0)\n",
      "Requirement already satisfied: pytz>=2020.1 in c:\\users\\u0148775\\pycharmprojects\\creditscoring\\venv\\lib\\site-packages (from pandas->tabpfn-extensions==0.0.4) (2024.2)\n",
      "Requirement already satisfied: tzdata>=2022.7 in c:\\users\\u0148775\\pycharmprojects\\creditscoring\\venv\\lib\\site-packages (from pandas->tabpfn-extensions==0.0.4) (2025.1)\n",
      "Requirement already satisfied: joblib>=1.2.0 in c:\\users\\u0148775\\pycharmprojects\\creditscoring\\venv\\lib\\site-packages (from scikit-learn->tabpfn-extensions==0.0.4) (1.4.2)\n",
      "Requirement already satisfied: threadpoolctl>=3.1.0 in c:\\users\\u0148775\\pycharmprojects\\creditscoring\\venv\\lib\\site-packages (from scikit-learn->tabpfn-extensions==0.0.4) (3.5.0)\n",
      "Requirement already satisfied: filelock in c:\\users\\u0148775\\pycharmprojects\\creditscoring\\venv\\lib\\site-packages (from torch->tabpfn-extensions==0.0.4) (3.17.0)\n",
      "Requirement already satisfied: typing-extensions>=4.8.0 in c:\\users\\u0148775\\pycharmprojects\\creditscoring\\venv\\lib\\site-packages (from torch->tabpfn-extensions==0.0.4) (4.12.2)\n",
      "Requirement already satisfied: networkx in c:\\users\\u0148775\\pycharmprojects\\creditscoring\\venv\\lib\\site-packages (from torch->tabpfn-extensions==0.0.4) (3.2.1)\n",
      "Requirement already satisfied: jinja2 in c:\\users\\u0148775\\pycharmprojects\\creditscoring\\venv\\lib\\site-packages (from torch->tabpfn-extensions==0.0.4) (3.1.5)\n",
      "Requirement already satisfied: fsspec in c:\\users\\u0148775\\pycharmprojects\\creditscoring\\venv\\lib\\site-packages (from torch->tabpfn-extensions==0.0.4) (2024.9.0)\n",
      "Requirement already satisfied: sympy==1.13.1 in c:\\users\\u0148775\\pycharmprojects\\creditscoring\\venv\\lib\\site-packages (from torch->tabpfn-extensions==0.0.4) (1.13.1)\n",
      "Requirement already satisfied: mpmath<1.4,>=1.1.0 in c:\\users\\u0148775\\pycharmprojects\\creditscoring\\venv\\lib\\site-packages (from sympy==1.13.1->torch->tabpfn-extensions==0.0.4) (1.3.0)\n",
      "Requirement already satisfied: contourpy>=1.0.1 in c:\\users\\u0148775\\pycharmprojects\\creditscoring\\venv\\lib\\site-packages (from matplotlib!=3.6.1,>=3.1->seaborn==0.12.2->tabpfn-extensions==0.0.4) (1.3.0)\n",
      "Requirement already satisfied: cycler>=0.10 in c:\\users\\u0148775\\pycharmprojects\\creditscoring\\venv\\lib\\site-packages (from matplotlib!=3.6.1,>=3.1->seaborn==0.12.2->tabpfn-extensions==0.0.4) (0.12.1)\n",
      "Requirement already satisfied: fonttools>=4.22.0 in c:\\users\\u0148775\\pycharmprojects\\creditscoring\\venv\\lib\\site-packages (from matplotlib!=3.6.1,>=3.1->seaborn==0.12.2->tabpfn-extensions==0.0.4) (4.55.4)\n",
      "Requirement already satisfied: kiwisolver>=1.3.1 in c:\\users\\u0148775\\pycharmprojects\\creditscoring\\venv\\lib\\site-packages (from matplotlib!=3.6.1,>=3.1->seaborn==0.12.2->tabpfn-extensions==0.0.4) (1.4.7)\n",
      "Requirement already satisfied: packaging>=20.0 in c:\\users\\u0148775\\pycharmprojects\\creditscoring\\venv\\lib\\site-packages (from matplotlib!=3.6.1,>=3.1->seaborn==0.12.2->tabpfn-extensions==0.0.4) (24.2)\n",
      "Requirement already satisfied: pillow>=8 in c:\\users\\u0148775\\pycharmprojects\\creditscoring\\venv\\lib\\site-packages (from matplotlib!=3.6.1,>=3.1->seaborn==0.12.2->tabpfn-extensions==0.0.4) (11.1.0)\n",
      "Requirement already satisfied: pyparsing>=2.3.1 in c:\\users\\u0148775\\pycharmprojects\\creditscoring\\venv\\lib\\site-packages (from matplotlib!=3.6.1,>=3.1->seaborn==0.12.2->tabpfn-extensions==0.0.4) (3.2.1)\n",
      "Requirement already satisfied: importlib-resources>=3.2.0 in c:\\users\\u0148775\\pycharmprojects\\creditscoring\\venv\\lib\\site-packages (from matplotlib!=3.6.1,>=3.1->seaborn==0.12.2->tabpfn-extensions==0.0.4) (6.5.2)\n",
      "Requirement already satisfied: six>=1.5 in c:\\users\\u0148775\\pycharmprojects\\creditscoring\\venv\\lib\\site-packages (from python-dateutil>=2.8.2->pandas->tabpfn-extensions==0.0.4) (1.17.0)\n",
      "Requirement already satisfied: MarkupSafe>=2.0 in c:\\users\\u0148775\\pycharmprojects\\creditscoring\\venv\\lib\\site-packages (from jinja2->torch->tabpfn-extensions==0.0.4) (3.0.2)\n",
      "Requirement already satisfied: zipp>=3.1.0 in c:\\users\\u0148775\\pycharmprojects\\creditscoring\\venv\\lib\\site-packages (from importlib-resources>=3.2.0->matplotlib!=3.6.1,>=3.1->seaborn==0.12.2->tabpfn-extensions==0.0.4) (3.21.0)\n",
      "Building wheels for collected packages: tabpfn-extensions\n",
      "  Building editable for tabpfn-extensions (pyproject.toml): started\n",
      "  Building editable for tabpfn-extensions (pyproject.toml): finished with status 'done'\n",
      "  Created wheel for tabpfn-extensions: filename=tabpfn_extensions-0.0.4-0.editable-py3-none-any.whl size=7807 sha256=872a8d53847819b73fbb635fafea0e265d0ca6980454659eeb60c399921539f6\n",
      "  Stored in directory: C:\\Users\\u0148775\\AppData\\Local\\Temp\\pip-ephem-wheel-cache-fvxao3lc\\wheels\\b2\\6f\\ea\\36cd244108855829f1506a3b3c60dcb2cfd97179a589a62022\n",
      "Successfully built tabpfn-extensions\n",
      "Installing collected packages: tabpfn-extensions\n",
      "  Attempting uninstall: tabpfn-extensions\n",
      "    Found existing installation: tabpfn-extensions 0.0.4\n",
      "    Uninstalling tabpfn-extensions-0.0.4:\n",
      "      Successfully uninstalled tabpfn-extensions-0.0.4\n",
      "Successfully installed tabpfn-extensions-0.0.4\n"
     ]
    },
    {
     "name": "stderr",
     "output_type": "stream",
     "text": [
      "\n",
      "[notice] A new release of pip is available: 23.2.1 -> 24.3.1\n",
      "[notice] To update, run: python.exe -m pip install --upgrade pip\n"
     ]
    },
    {
     "name": "stdout",
     "output_type": "stream",
     "text": [
      "Requirement already satisfied: catboost in c:\\users\\u0148775\\pycharmprojects\\creditscoring\\venv\\lib\\site-packages (1.2.7)\n",
      "Requirement already satisfied: xgboost in c:\\users\\u0148775\\pycharmprojects\\creditscoring\\venv\\lib\\site-packages (2.1.3)\n",
      "Requirement already satisfied: graphviz in c:\\users\\u0148775\\pycharmprojects\\creditscoring\\venv\\lib\\site-packages (from catboost) (0.20.3)\n",
      "Requirement already satisfied: matplotlib in c:\\users\\u0148775\\pycharmprojects\\creditscoring\\venv\\lib\\site-packages (from catboost) (3.9.4)\n",
      "Requirement already satisfied: numpy<2.0,>=1.16.0 in c:\\users\\u0148775\\pycharmprojects\\creditscoring\\venv\\lib\\site-packages (from catboost) (1.26.4)\n",
      "Requirement already satisfied: pandas>=0.24 in c:\\users\\u0148775\\pycharmprojects\\creditscoring\\venv\\lib\\site-packages (from catboost) (2.2.3)\n",
      "Requirement already satisfied: scipy in c:\\users\\u0148775\\pycharmprojects\\creditscoring\\venv\\lib\\site-packages (from catboost) (1.13.1)\n",
      "Requirement already satisfied: plotly in c:\\users\\u0148775\\pycharmprojects\\creditscoring\\venv\\lib\\site-packages (from catboost) (5.24.1)\n",
      "Requirement already satisfied: six in c:\\users\\u0148775\\pycharmprojects\\creditscoring\\venv\\lib\\site-packages (from catboost) (1.17.0)\n",
      "Requirement already satisfied: python-dateutil>=2.8.2 in c:\\users\\u0148775\\pycharmprojects\\creditscoring\\venv\\lib\\site-packages (from pandas>=0.24->catboost) (2.9.0.post0)\n",
      "Requirement already satisfied: pytz>=2020.1 in c:\\users\\u0148775\\pycharmprojects\\creditscoring\\venv\\lib\\site-packages (from pandas>=0.24->catboost) (2024.2)\n",
      "Requirement already satisfied: tzdata>=2022.7 in c:\\users\\u0148775\\pycharmprojects\\creditscoring\\venv\\lib\\site-packages (from pandas>=0.24->catboost) (2025.1)\n",
      "Requirement already satisfied: contourpy>=1.0.1 in c:\\users\\u0148775\\pycharmprojects\\creditscoring\\venv\\lib\\site-packages (from matplotlib->catboost) (1.3.0)\n",
      "Requirement already satisfied: cycler>=0.10 in c:\\users\\u0148775\\pycharmprojects\\creditscoring\\venv\\lib\\site-packages (from matplotlib->catboost) (0.12.1)\n",
      "Requirement already satisfied: fonttools>=4.22.0 in c:\\users\\u0148775\\pycharmprojects\\creditscoring\\venv\\lib\\site-packages (from matplotlib->catboost) (4.55.4)\n",
      "Requirement already satisfied: kiwisolver>=1.3.1 in c:\\users\\u0148775\\pycharmprojects\\creditscoring\\venv\\lib\\site-packages (from matplotlib->catboost) (1.4.7)\n",
      "Requirement already satisfied: packaging>=20.0 in c:\\users\\u0148775\\pycharmprojects\\creditscoring\\venv\\lib\\site-packages (from matplotlib->catboost) (24.2)\n",
      "Requirement already satisfied: pillow>=8 in c:\\users\\u0148775\\pycharmprojects\\creditscoring\\venv\\lib\\site-packages (from matplotlib->catboost) (11.1.0)\n",
      "Requirement already satisfied: pyparsing>=2.3.1 in c:\\users\\u0148775\\pycharmprojects\\creditscoring\\venv\\lib\\site-packages (from matplotlib->catboost) (3.2.1)\n",
      "Requirement already satisfied: importlib-resources>=3.2.0 in c:\\users\\u0148775\\pycharmprojects\\creditscoring\\venv\\lib\\site-packages (from matplotlib->catboost) (6.5.2)\n",
      "Requirement already satisfied: tenacity>=6.2.0 in c:\\users\\u0148775\\pycharmprojects\\creditscoring\\venv\\lib\\site-packages (from plotly->catboost) (9.0.0)\n",
      "Requirement already satisfied: zipp>=3.1.0 in c:\\users\\u0148775\\pycharmprojects\\creditscoring\\venv\\lib\\site-packages (from importlib-resources>=3.2.0->matplotlib->catboost) (3.21.0)\n"
     ]
    },
    {
     "name": "stderr",
     "output_type": "stream",
     "text": [
      "\n",
      "[notice] A new release of pip is available: 23.2.1 -> 24.3.1\n",
      "[notice] To update, run: python.exe -m pip install --upgrade pip\n"
     ]
    },
    {
     "name": "stdout",
     "output_type": "stream",
     "text": [
      "Requirement already satisfied: datasets in c:\\users\\u0148775\\pycharmprojects\\creditscoring\\venv\\lib\\site-packages (3.2.0)\n",
      "Requirement already satisfied: filelock in c:\\users\\u0148775\\pycharmprojects\\creditscoring\\venv\\lib\\site-packages (from datasets) (3.17.0)\n",
      "Requirement already satisfied: numpy>=1.17 in c:\\users\\u0148775\\pycharmprojects\\creditscoring\\venv\\lib\\site-packages (from datasets) (1.26.4)\n",
      "Requirement already satisfied: pyarrow>=15.0.0 in c:\\users\\u0148775\\pycharmprojects\\creditscoring\\venv\\lib\\site-packages (from datasets) (19.0.0)\n",
      "Requirement already satisfied: dill<0.3.9,>=0.3.0 in c:\\users\\u0148775\\pycharmprojects\\creditscoring\\venv\\lib\\site-packages (from datasets) (0.3.8)\n",
      "Requirement already satisfied: pandas in c:\\users\\u0148775\\pycharmprojects\\creditscoring\\venv\\lib\\site-packages (from datasets) (2.2.3)\n",
      "Requirement already satisfied: requests>=2.32.2 in c:\\users\\u0148775\\pycharmprojects\\creditscoring\\venv\\lib\\site-packages (from datasets) (2.32.3)\n",
      "Requirement already satisfied: tqdm>=4.66.3 in c:\\users\\u0148775\\pycharmprojects\\creditscoring\\venv\\lib\\site-packages (from datasets) (4.67.1)\n",
      "Requirement already satisfied: xxhash in c:\\users\\u0148775\\pycharmprojects\\creditscoring\\venv\\lib\\site-packages (from datasets) (3.5.0)\n",
      "Requirement already satisfied: multiprocess<0.70.17 in c:\\users\\u0148775\\pycharmprojects\\creditscoring\\venv\\lib\\site-packages (from datasets) (0.70.16)\n",
      "Requirement already satisfied: fsspec[http]<=2024.9.0,>=2023.1.0 in c:\\users\\u0148775\\pycharmprojects\\creditscoring\\venv\\lib\\site-packages (from datasets) (2024.9.0)\n",
      "Requirement already satisfied: aiohttp in c:\\users\\u0148775\\pycharmprojects\\creditscoring\\venv\\lib\\site-packages (from datasets) (3.11.11)\n",
      "Requirement already satisfied: huggingface-hub>=0.23.0 in c:\\users\\u0148775\\pycharmprojects\\creditscoring\\venv\\lib\\site-packages (from datasets) (0.27.1)\n",
      "Requirement already satisfied: packaging in c:\\users\\u0148775\\pycharmprojects\\creditscoring\\venv\\lib\\site-packages (from datasets) (24.2)\n",
      "Requirement already satisfied: pyyaml>=5.1 in c:\\users\\u0148775\\pycharmprojects\\creditscoring\\venv\\lib\\site-packages (from datasets) (6.0.2)\n",
      "Requirement already satisfied: aiohappyeyeballs>=2.3.0 in c:\\users\\u0148775\\pycharmprojects\\creditscoring\\venv\\lib\\site-packages (from aiohttp->datasets) (2.4.4)\n",
      "Requirement already satisfied: aiosignal>=1.1.2 in c:\\users\\u0148775\\pycharmprojects\\creditscoring\\venv\\lib\\site-packages (from aiohttp->datasets) (1.3.2)\n",
      "Requirement already satisfied: async-timeout<6.0,>=4.0 in c:\\users\\u0148775\\pycharmprojects\\creditscoring\\venv\\lib\\site-packages (from aiohttp->datasets) (5.0.1)\n",
      "Requirement already satisfied: attrs>=17.3.0 in c:\\users\\u0148775\\pycharmprojects\\creditscoring\\venv\\lib\\site-packages (from aiohttp->datasets) (24.3.0)\n",
      "Requirement already satisfied: frozenlist>=1.1.1 in c:\\users\\u0148775\\pycharmprojects\\creditscoring\\venv\\lib\\site-packages (from aiohttp->datasets) (1.5.0)\n",
      "Requirement already satisfied: multidict<7.0,>=4.5 in c:\\users\\u0148775\\pycharmprojects\\creditscoring\\venv\\lib\\site-packages (from aiohttp->datasets) (6.1.0)\n",
      "Requirement already satisfied: propcache>=0.2.0 in c:\\users\\u0148775\\pycharmprojects\\creditscoring\\venv\\lib\\site-packages (from aiohttp->datasets) (0.2.1)\n",
      "Requirement already satisfied: yarl<2.0,>=1.17.0 in c:\\users\\u0148775\\pycharmprojects\\creditscoring\\venv\\lib\\site-packages (from aiohttp->datasets) (1.18.3)\n",
      "Requirement already satisfied: typing-extensions>=3.7.4.3 in c:\\users\\u0148775\\pycharmprojects\\creditscoring\\venv\\lib\\site-packages (from huggingface-hub>=0.23.0->datasets) (4.12.2)\n",
      "Requirement already satisfied: charset-normalizer<4,>=2 in c:\\users\\u0148775\\pycharmprojects\\creditscoring\\venv\\lib\\site-packages (from requests>=2.32.2->datasets) (3.4.1)\n",
      "Requirement already satisfied: idna<4,>=2.5 in c:\\users\\u0148775\\pycharmprojects\\creditscoring\\venv\\lib\\site-packages (from requests>=2.32.2->datasets) (3.10)\n",
      "Requirement already satisfied: urllib3<3,>=1.21.1 in c:\\users\\u0148775\\pycharmprojects\\creditscoring\\venv\\lib\\site-packages (from requests>=2.32.2->datasets) (2.3.0)\n",
      "Requirement already satisfied: certifi>=2017.4.17 in c:\\users\\u0148775\\pycharmprojects\\creditscoring\\venv\\lib\\site-packages (from requests>=2.32.2->datasets) (2024.12.14)\n",
      "Requirement already satisfied: colorama in c:\\users\\u0148775\\pycharmprojects\\creditscoring\\venv\\lib\\site-packages (from tqdm>=4.66.3->datasets) (0.4.6)\n",
      "Requirement already satisfied: python-dateutil>=2.8.2 in c:\\users\\u0148775\\pycharmprojects\\creditscoring\\venv\\lib\\site-packages (from pandas->datasets) (2.9.0.post0)\n",
      "Requirement already satisfied: pytz>=2020.1 in c:\\users\\u0148775\\pycharmprojects\\creditscoring\\venv\\lib\\site-packages (from pandas->datasets) (2024.2)\n",
      "Requirement already satisfied: tzdata>=2022.7 in c:\\users\\u0148775\\pycharmprojects\\creditscoring\\venv\\lib\\site-packages (from pandas->datasets) (2025.1)\n",
      "Requirement already satisfied: six>=1.5 in c:\\users\\u0148775\\pycharmprojects\\creditscoring\\venv\\lib\\site-packages (from python-dateutil>=2.8.2->pandas->datasets) (1.17.0)\n"
     ]
    },
    {
     "name": "stderr",
     "output_type": "stream",
     "text": [
      "\n",
      "[notice] A new release of pip is available: 23.2.1 -> 24.3.1\n",
      "[notice] To update, run: python.exe -m pip install --upgrade pip\n"
     ]
    }
   ],
   "source": [
    "# Install sklearn\n",
    "!pip install scikit-learn==1.5.2\n",
    "\n",
    "# Install TabPFN\n",
    "!pip install tabpfn\n",
    "\n",
    "# TabPFN Extensions installs optional functionalities around the TabPFN model\n",
    "# These include post-hoc ensembles, interpretability tools, and more\n",
    "!git clone https://github.com/PriorLabs/tabpfn-extensions\n",
    "!pip install -e tabpfn-extensions\n",
    "\n",
    "\n",
    "# Install Baselines\n",
    "!pip install catboost xgboost\n",
    "\n",
    "# Install example datasets\n",
    "!pip install datasets\n"
   ]
  },
  {
   "cell_type": "code",
   "execution_count": null,
   "outputs": [],
   "source": [],
   "metadata": {
    "collapsed": false
   },
   "id": "66acd45bfc5e1744"
  },
  {
   "cell_type": "code",
   "execution_count": 3,
   "outputs": [
    {
     "ename": "SystemError",
     "evalue": "GPU device not found. For fast training, please enable GPU. See section above for instructions.",
     "output_type": "error",
     "traceback": [
      "\u001B[1;31m---------------------------------------------------------------------------\u001B[0m",
      "\u001B[1;31mSystemError\u001B[0m                               Traceback (most recent call last)",
      "Cell \u001B[1;32mIn[3], line 38\u001B[0m\n\u001B[0;32m     35\u001B[0m \u001B[38;5;28;01mfrom\u001B[39;00m\u001B[38;5;250m \u001B[39m\u001B[38;5;21;01mtabpfn\u001B[39;00m\u001B[38;5;250m \u001B[39m\u001B[38;5;28;01mimport\u001B[39;00m TabPFNClassifier, TabPFNRegressor\n\u001B[0;32m     37\u001B[0m \u001B[38;5;28;01mif\u001B[39;00m \u001B[38;5;129;01mnot\u001B[39;00m torch\u001B[38;5;241m.\u001B[39mcuda\u001B[38;5;241m.\u001B[39mis_available():\n\u001B[1;32m---> 38\u001B[0m     \u001B[38;5;28;01mraise\u001B[39;00m \u001B[38;5;167;01mSystemError\u001B[39;00m(\u001B[38;5;124m'\u001B[39m\u001B[38;5;124mGPU device not found. For fast training, please enable GPU. See section above for instructions.\u001B[39m\u001B[38;5;124m'\u001B[39m)\n",
      "\u001B[1;31mSystemError\u001B[0m: GPU device not found. For fast training, please enable GPU. See section above for instructions."
     ]
    }
   ],
   "source": [
    "import os\n",
    "\n",
    "# Setup Imports\n",
    "import pandas as pd\n",
    "import numpy as np\n",
    "\n",
    "from sklearn.datasets import load_breast_cancer, load_diabetes, load_iris\n",
    "from sklearn.model_selection import train_test_split\n",
    "from sklearn.model_selection import cross_val_score\n",
    "from sklearn.metrics import (\n",
    "    accuracy_score,\n",
    "    mean_absolute_error,\n",
    "    mean_squared_error,\n",
    "    root_mean_squared_error,\n",
    "    r2_score,\n",
    "    roc_auc_score,\n",
    ")\n",
    "from sklearn.model_selection import train_test_split\n",
    "\n",
    "import matplotlib.pyplot as plt\n",
    "from matplotlib.colors import ListedColormap\n",
    "from sklearn.inspection import DecisionBoundaryDisplay\n",
    "\n",
    "from sklearn.datasets import fetch_openml\n",
    "from sklearn.preprocessing import LabelEncoder\n",
    "from IPython.display import display, Markdown, Latex\n",
    "\n",
    "# Baseline Imports\n",
    "from xgboost import XGBClassifier, XGBRegressor\n",
    "from sklearn.ensemble import RandomForestClassifier, RandomForestRegressor\n",
    "from catboost import CatBoostClassifier, CatBoostRegressor\n",
    "\n",
    "import torch\n",
    "\n",
    "from tabpfn import TabPFNClassifier, TabPFNRegressor\n",
    "\n",
    "if not torch.cuda.is_available():\n",
    "    raise SystemError('GPU device not found. For fast training, please enable GPU. See section above for instructions.')"
   ],
   "metadata": {
    "collapsed": false,
    "ExecuteTime": {
     "end_time": "2025-01-22T13:58:33.167352900Z",
     "start_time": "2025-01-22T13:58:22.677895Z"
    }
   },
   "id": "9e1b854899de975c"
  },
  {
   "cell_type": "code",
   "execution_count": 4,
   "outputs": [
    {
     "data": {
      "text/plain": "<IPython.core.display.Markdown object>",
      "text/markdown": ".. _breast_cancer_dataset:\n\nBreast cancer wisconsin (diagnostic) dataset\n--------------------------------------------\n\n**Data Set Characteristics:**\n\n:Number of Instances: 569\n\n:Number of Attributes: 30 numeric, predictive attributes and the class\n\n:Attribute Information:\n    - radius (mean of distances from center to points on the perimeter)\n    - texture (standard deviation of gray-scale values)\n    - perimeter\n    - area\n    - smoothness (local variation in radius lengths)\n    - compactness (perimeter^2 / area - 1.0)\n    - concavity (severity of concave portions of the contour)\n    - concave points (number of concave portions of the contour)\n    - symmetry\n    - fractal dimension (\"coastline approximation\" - 1)\n\n    The mean, standard error, and \"worst\" or largest (mean of the three\n    worst/largest values) of these features were computed for each image,\n    resulting in 30 features.  For instance, field 0 is Mean Radius, field\n    10 is Radius SE, field 20 is Worst Radius.\n\n    - class:\n            - WDBC-Malignant\n            - WDBC-Benign\n\n:Summary Statistics:\n\n===================================== ====== ======\n                                        Min    Max\n===================================== ====== ======\nradius (mean):                        6.981  28.11\ntexture (mean):                       9.71   39.28\nperimeter (mean):                     43.79  188.5\narea (mean):                          143.5  2501.0\nsmoothness (mean):                    0.053  0.163\ncompactness (mean):                   0.019  0.345\nconcavity (mean):                     0.0    0.427\nconcave points (mean):                0.0    0.201\nsymmetry (mean):                      0.106  0.304\nfractal dimension (mean):             0.05   0.097\nradius (standard error):              0.112  2.873\ntexture (standard error):             0.36   4.885\nperimeter (standard error):           0.757  21.98\narea (standard error):                6.802  542.2\nsmoothness (standard error):          0.002  0.031\ncompactness (standard error):         0.002  0.135\nconcavity (standard error):           0.0    0.396\nconcave points (standard error):      0.0    0.053\nsymmetry (standard error):            0.008  0.079\nfractal dimension (standard error):   0.001  0.03\nradius (worst):                       7.93   36.04\ntexture (worst):                      12.02  49.54\nperimeter (worst):                    50.41  251.2\narea (worst):                         185.2  4254.0\nsmoothness (worst):                   0.071  0.223\ncompactness (worst):                  0.027  1.058\nconcavity (worst):                    0.0    1.252\nconcave points (worst):               0.0    0.291\nsymmetry (worst):                     0.156  0.664\nfractal dimension (worst):            0.055  0.208\n===================================== ====== ======\n\n:Missing Attribute Values: None\n\n:Class Distribution: 212 - Malignant, 357 - Benign\n\n:Creator:  Dr. William H. Wolberg, W. Nick Street, Olvi L. Mangasarian\n\n:Donor: Nick Street\n\n:Date: November, 1995\n\nThis is a copy of UCI ML Breast Cancer Wisconsin (Diagnostic) datasets.\nhttps://goo.gl/U2Uwz2\n\nFeatures are computed from a digitized image of a fine needle\naspirate (FNA) of a breast mass.  They describe\ncharacteristics of the cell nuclei present in the image.\n\nSeparating plane described above was obtained using\nMultisurface Method-Tree (MSM-T) [K. P. Bennett, \"Decision Tree\nConstruction Via Linear Programming.\" Proceedings of the 4th\nMidwest Artificial Intelligence and Cognitive Science Society,\npp. 97-101, 1992], a classification method which uses linear\nprogramming to construct a decision tree.  Relevant features\nwere selected using an exhaustive search in the space of 1-4\nfeatures and 1-3 separating planes.\n\nThe actual linear program used to obtain the separating plane\nin the 3-dimensional space is that described in:\n[K. P. Bennett and O. L. Mangasarian: \"Robust Linear\nProgramming Discrimination of Two Linearly Inseparable Sets\",\nOptimization Methods and Software 1, 1992, 23-34].\n\nThis database is also available through the UW CS ftp server:\n\nftp ftp.cs.wisc.edu\ncd math-prog/cpo-dataset/machine-learn/WDBC/\n\n.. dropdown:: References\n\n  - W.N. Street, W.H. Wolberg and O.L. Mangasarian. Nuclear feature extraction\n    for breast tumor diagnosis. IS&T/SPIE 1993 International Symposium on\n    Electronic Imaging: Science and Technology, volume 1905, pages 861-870,\n    San Jose, CA, 1993.\n  - O.L. Mangasarian, W.N. Street and W.H. Wolberg. Breast cancer diagnosis and\n    prognosis via linear programming. Operations Research, 43(4), pages 570-577,\n    July-August 1995.\n  - W.H. Wolberg, W.N. Street, and O.L. Mangasarian. Machine learning techniques\n    to diagnose breast cancer from fine-needle aspirates. Cancer Letters 77 (1994)\n    163-171.\n"
     },
     "metadata": {},
     "output_type": "display_data"
    },
    {
     "data": {
      "text/plain": "     mean radius  mean texture  mean perimeter  mean area  mean smoothness  \\\n0          17.99         10.38          122.80     1001.0          0.11840   \n1          20.57         17.77          132.90     1326.0          0.08474   \n2          19.69         21.25          130.00     1203.0          0.10960   \n3          11.42         20.38           77.58      386.1          0.14250   \n4          20.29         14.34          135.10     1297.0          0.10030   \n..           ...           ...             ...        ...              ...   \n564        21.56         22.39          142.00     1479.0          0.11100   \n565        20.13         28.25          131.20     1261.0          0.09780   \n566        16.60         28.08          108.30      858.1          0.08455   \n567        20.60         29.33          140.10     1265.0          0.11780   \n568         7.76         24.54           47.92      181.0          0.05263   \n\n     mean compactness  mean concavity  mean concave points  mean symmetry  \\\n0             0.27760         0.30010              0.14710         0.2419   \n1             0.07864         0.08690              0.07017         0.1812   \n2             0.15990         0.19740              0.12790         0.2069   \n3             0.28390         0.24140              0.10520         0.2597   \n4             0.13280         0.19800              0.10430         0.1809   \n..                ...             ...                  ...            ...   \n564           0.11590         0.24390              0.13890         0.1726   \n565           0.10340         0.14400              0.09791         0.1752   \n566           0.10230         0.09251              0.05302         0.1590   \n567           0.27700         0.35140              0.15200         0.2397   \n568           0.04362         0.00000              0.00000         0.1587   \n\n     mean fractal dimension  ...  worst radius  worst texture  \\\n0                   0.07871  ...        25.380          17.33   \n1                   0.05667  ...        24.990          23.41   \n2                   0.05999  ...        23.570          25.53   \n3                   0.09744  ...        14.910          26.50   \n4                   0.05883  ...        22.540          16.67   \n..                      ...  ...           ...            ...   \n564                 0.05623  ...        25.450          26.40   \n565                 0.05533  ...        23.690          38.25   \n566                 0.05648  ...        18.980          34.12   \n567                 0.07016  ...        25.740          39.42   \n568                 0.05884  ...         9.456          30.37   \n\n     worst perimeter  worst area  worst smoothness  worst compactness  \\\n0             184.60      2019.0           0.16220            0.66560   \n1             158.80      1956.0           0.12380            0.18660   \n2             152.50      1709.0           0.14440            0.42450   \n3              98.87       567.7           0.20980            0.86630   \n4             152.20      1575.0           0.13740            0.20500   \n..               ...         ...               ...                ...   \n564           166.10      2027.0           0.14100            0.21130   \n565           155.00      1731.0           0.11660            0.19220   \n566           126.70      1124.0           0.11390            0.30940   \n567           184.60      1821.0           0.16500            0.86810   \n568            59.16       268.6           0.08996            0.06444   \n\n     worst concavity  worst concave points  worst symmetry  \\\n0             0.7119                0.2654          0.4601   \n1             0.2416                0.1860          0.2750   \n2             0.4504                0.2430          0.3613   \n3             0.6869                0.2575          0.6638   \n4             0.4000                0.1625          0.2364   \n..               ...                   ...             ...   \n564           0.4107                0.2216          0.2060   \n565           0.3215                0.1628          0.2572   \n566           0.3403                0.1418          0.2218   \n567           0.9387                0.2650          0.4087   \n568           0.0000                0.0000          0.2871   \n\n     worst fractal dimension  \n0                    0.11890  \n1                    0.08902  \n2                    0.08758  \n3                    0.17300  \n4                    0.07678  \n..                       ...  \n564                  0.07115  \n565                  0.06637  \n566                  0.07820  \n567                  0.12400  \n568                  0.07039  \n\n[569 rows x 30 columns]",
      "text/html": "<div>\n<style scoped>\n    .dataframe tbody tr th:only-of-type {\n        vertical-align: middle;\n    }\n\n    .dataframe tbody tr th {\n        vertical-align: top;\n    }\n\n    .dataframe thead th {\n        text-align: right;\n    }\n</style>\n<table border=\"1\" class=\"dataframe\">\n  <thead>\n    <tr style=\"text-align: right;\">\n      <th></th>\n      <th>mean radius</th>\n      <th>mean texture</th>\n      <th>mean perimeter</th>\n      <th>mean area</th>\n      <th>mean smoothness</th>\n      <th>mean compactness</th>\n      <th>mean concavity</th>\n      <th>mean concave points</th>\n      <th>mean symmetry</th>\n      <th>mean fractal dimension</th>\n      <th>...</th>\n      <th>worst radius</th>\n      <th>worst texture</th>\n      <th>worst perimeter</th>\n      <th>worst area</th>\n      <th>worst smoothness</th>\n      <th>worst compactness</th>\n      <th>worst concavity</th>\n      <th>worst concave points</th>\n      <th>worst symmetry</th>\n      <th>worst fractal dimension</th>\n    </tr>\n  </thead>\n  <tbody>\n    <tr>\n      <th>0</th>\n      <td>17.99</td>\n      <td>10.38</td>\n      <td>122.80</td>\n      <td>1001.0</td>\n      <td>0.11840</td>\n      <td>0.27760</td>\n      <td>0.30010</td>\n      <td>0.14710</td>\n      <td>0.2419</td>\n      <td>0.07871</td>\n      <td>...</td>\n      <td>25.380</td>\n      <td>17.33</td>\n      <td>184.60</td>\n      <td>2019.0</td>\n      <td>0.16220</td>\n      <td>0.66560</td>\n      <td>0.7119</td>\n      <td>0.2654</td>\n      <td>0.4601</td>\n      <td>0.11890</td>\n    </tr>\n    <tr>\n      <th>1</th>\n      <td>20.57</td>\n      <td>17.77</td>\n      <td>132.90</td>\n      <td>1326.0</td>\n      <td>0.08474</td>\n      <td>0.07864</td>\n      <td>0.08690</td>\n      <td>0.07017</td>\n      <td>0.1812</td>\n      <td>0.05667</td>\n      <td>...</td>\n      <td>24.990</td>\n      <td>23.41</td>\n      <td>158.80</td>\n      <td>1956.0</td>\n      <td>0.12380</td>\n      <td>0.18660</td>\n      <td>0.2416</td>\n      <td>0.1860</td>\n      <td>0.2750</td>\n      <td>0.08902</td>\n    </tr>\n    <tr>\n      <th>2</th>\n      <td>19.69</td>\n      <td>21.25</td>\n      <td>130.00</td>\n      <td>1203.0</td>\n      <td>0.10960</td>\n      <td>0.15990</td>\n      <td>0.19740</td>\n      <td>0.12790</td>\n      <td>0.2069</td>\n      <td>0.05999</td>\n      <td>...</td>\n      <td>23.570</td>\n      <td>25.53</td>\n      <td>152.50</td>\n      <td>1709.0</td>\n      <td>0.14440</td>\n      <td>0.42450</td>\n      <td>0.4504</td>\n      <td>0.2430</td>\n      <td>0.3613</td>\n      <td>0.08758</td>\n    </tr>\n    <tr>\n      <th>3</th>\n      <td>11.42</td>\n      <td>20.38</td>\n      <td>77.58</td>\n      <td>386.1</td>\n      <td>0.14250</td>\n      <td>0.28390</td>\n      <td>0.24140</td>\n      <td>0.10520</td>\n      <td>0.2597</td>\n      <td>0.09744</td>\n      <td>...</td>\n      <td>14.910</td>\n      <td>26.50</td>\n      <td>98.87</td>\n      <td>567.7</td>\n      <td>0.20980</td>\n      <td>0.86630</td>\n      <td>0.6869</td>\n      <td>0.2575</td>\n      <td>0.6638</td>\n      <td>0.17300</td>\n    </tr>\n    <tr>\n      <th>4</th>\n      <td>20.29</td>\n      <td>14.34</td>\n      <td>135.10</td>\n      <td>1297.0</td>\n      <td>0.10030</td>\n      <td>0.13280</td>\n      <td>0.19800</td>\n      <td>0.10430</td>\n      <td>0.1809</td>\n      <td>0.05883</td>\n      <td>...</td>\n      <td>22.540</td>\n      <td>16.67</td>\n      <td>152.20</td>\n      <td>1575.0</td>\n      <td>0.13740</td>\n      <td>0.20500</td>\n      <td>0.4000</td>\n      <td>0.1625</td>\n      <td>0.2364</td>\n      <td>0.07678</td>\n    </tr>\n    <tr>\n      <th>...</th>\n      <td>...</td>\n      <td>...</td>\n      <td>...</td>\n      <td>...</td>\n      <td>...</td>\n      <td>...</td>\n      <td>...</td>\n      <td>...</td>\n      <td>...</td>\n      <td>...</td>\n      <td>...</td>\n      <td>...</td>\n      <td>...</td>\n      <td>...</td>\n      <td>...</td>\n      <td>...</td>\n      <td>...</td>\n      <td>...</td>\n      <td>...</td>\n      <td>...</td>\n      <td>...</td>\n    </tr>\n    <tr>\n      <th>564</th>\n      <td>21.56</td>\n      <td>22.39</td>\n      <td>142.00</td>\n      <td>1479.0</td>\n      <td>0.11100</td>\n      <td>0.11590</td>\n      <td>0.24390</td>\n      <td>0.13890</td>\n      <td>0.1726</td>\n      <td>0.05623</td>\n      <td>...</td>\n      <td>25.450</td>\n      <td>26.40</td>\n      <td>166.10</td>\n      <td>2027.0</td>\n      <td>0.14100</td>\n      <td>0.21130</td>\n      <td>0.4107</td>\n      <td>0.2216</td>\n      <td>0.2060</td>\n      <td>0.07115</td>\n    </tr>\n    <tr>\n      <th>565</th>\n      <td>20.13</td>\n      <td>28.25</td>\n      <td>131.20</td>\n      <td>1261.0</td>\n      <td>0.09780</td>\n      <td>0.10340</td>\n      <td>0.14400</td>\n      <td>0.09791</td>\n      <td>0.1752</td>\n      <td>0.05533</td>\n      <td>...</td>\n      <td>23.690</td>\n      <td>38.25</td>\n      <td>155.00</td>\n      <td>1731.0</td>\n      <td>0.11660</td>\n      <td>0.19220</td>\n      <td>0.3215</td>\n      <td>0.1628</td>\n      <td>0.2572</td>\n      <td>0.06637</td>\n    </tr>\n    <tr>\n      <th>566</th>\n      <td>16.60</td>\n      <td>28.08</td>\n      <td>108.30</td>\n      <td>858.1</td>\n      <td>0.08455</td>\n      <td>0.10230</td>\n      <td>0.09251</td>\n      <td>0.05302</td>\n      <td>0.1590</td>\n      <td>0.05648</td>\n      <td>...</td>\n      <td>18.980</td>\n      <td>34.12</td>\n      <td>126.70</td>\n      <td>1124.0</td>\n      <td>0.11390</td>\n      <td>0.30940</td>\n      <td>0.3403</td>\n      <td>0.1418</td>\n      <td>0.2218</td>\n      <td>0.07820</td>\n    </tr>\n    <tr>\n      <th>567</th>\n      <td>20.60</td>\n      <td>29.33</td>\n      <td>140.10</td>\n      <td>1265.0</td>\n      <td>0.11780</td>\n      <td>0.27700</td>\n      <td>0.35140</td>\n      <td>0.15200</td>\n      <td>0.2397</td>\n      <td>0.07016</td>\n      <td>...</td>\n      <td>25.740</td>\n      <td>39.42</td>\n      <td>184.60</td>\n      <td>1821.0</td>\n      <td>0.16500</td>\n      <td>0.86810</td>\n      <td>0.9387</td>\n      <td>0.2650</td>\n      <td>0.4087</td>\n      <td>0.12400</td>\n    </tr>\n    <tr>\n      <th>568</th>\n      <td>7.76</td>\n      <td>24.54</td>\n      <td>47.92</td>\n      <td>181.0</td>\n      <td>0.05263</td>\n      <td>0.04362</td>\n      <td>0.00000</td>\n      <td>0.00000</td>\n      <td>0.1587</td>\n      <td>0.05884</td>\n      <td>...</td>\n      <td>9.456</td>\n      <td>30.37</td>\n      <td>59.16</td>\n      <td>268.6</td>\n      <td>0.08996</td>\n      <td>0.06444</td>\n      <td>0.0000</td>\n      <td>0.0000</td>\n      <td>0.2871</td>\n      <td>0.07039</td>\n    </tr>\n  </tbody>\n</table>\n<p>569 rows × 30 columns</p>\n</div>"
     },
     "metadata": {},
     "output_type": "display_data"
    }
   ],
   "source": [
    "df = load_breast_cancer(as_frame=True)\n",
    "\n",
    "# Parkinson's Disease dataset: Predict Parkinson's disease presence\n",
    "# Features: Voice measurements (e.g., frequency, amplitude)\n",
    "# Samples: 195 cases\n",
    "#df = fetch_openml('parkinsons')\n",
    "\n",
    "# Alternative datasets (commented for reference):\n",
    "\n",
    "# German Credit Fraud (ID: 31)\n",
    "# Samples: 1,000\n",
    "# Features: 20 (account info, credit history, employment)\n",
    "# Target: Good/Bad credit risk\n",
    "# df = fetch_openml(data_id=31)\n",
    "\n",
    "# Cholesterol dataset: Predict cholesterol levels\n",
    "# Features: Patient characteristics, medical measurements\n",
    "# Samples: 303 patients\n",
    "# Target: Cholesterol levels in mg/dl\n",
    "# df = fetch_openml('cholesterol', version=2, as_frame=True)\n",
    "\n",
    "# Primary Tumor dataset: Predict tumor type and size\n",
    "# Features: Patient symptoms, medical test results\n",
    "# Samples: 339 patients\n",
    "# Target: Tumor classification and size\n",
    "# df = fetch_openml('primary-tumor', version=1, as_frame=True) - too many classes!\n",
    "\n",
    "# Heart Disease dataset (Statlog): Predict presence of heart disease\n",
    "# Features: Clinical and test measurements\n",
    "# Samples: 270 patients\n",
    "# Target: Binary heart disease diagnosis\n",
    "# df = fetch_openml(\"heart-statlog\", version=1)\n",
    "\n",
    "# Diabetes dataset: Predict diabetes presence\n",
    "# Features: Medical measurements, patient history\n",
    "# Samples: 768 patients\n",
    "# Target: Binary diabetes diagnosis\n",
    "#df = fetch_openml(\"diabetes\", version=1)\n",
    "\n",
    "# Hypothyroid dataset: Predict thyroid condition\n",
    "# Features: Blood test results, patient symptoms\n",
    "# Samples: 3772 patients\n",
    "# Target: Thyroid condition classification\n",
    "# df = fetch_openml('hypothyroid')\n",
    "\n",
    "X, y = df.data, df.target\n",
    "\n",
    "# Encode target labels to classes\n",
    "le = LabelEncoder()\n",
    "y = le.fit_transform(y)\n",
    "\n",
    "# Convert all categorical columns to numeric\n",
    "for col in X.select_dtypes(['category']).columns:\n",
    "    X[col] = X[col].cat.codes\n",
    "\n",
    "X_train, X_test, y_train, y_test = train_test_split(X, y, test_size=0.33, random_state=42)\n",
    "\n",
    "# Print dataset description\n",
    "display(Markdown(df['DESCR']))\n",
    "\n",
    "display(X)"
   ],
   "metadata": {
    "collapsed": false,
    "ExecuteTime": {
     "end_time": "2025-01-22T13:58:59.878706800Z",
     "start_time": "2025-01-22T13:58:59.750358Z"
    }
   },
   "id": "af78b4ff301f04da"
  },
  {
   "cell_type": "code",
   "execution_count": 5,
   "outputs": [
    {
     "name": "stderr",
     "output_type": "stream",
     "text": [
      "C:\\Users\\u0148775\\PycharmProjects\\CreditScoring\\venv\\lib\\site-packages\\tabpfn\\base.py:88: UserWarning: Downloading model to C:\\Users\\u0148775\\AppData\\Roaming\\tabpfn\\tabpfn-v2-classifier.ckpt.\n",
      "  model, _, config_ = load_model_criterion_config(\n"
     ]
    },
    {
     "data": {
      "text/plain": "tabpfn-v2-classifier.ckpt:   0%|          | 0.00/29.0M [00:00<?, ?B/s]",
      "application/vnd.jupyter.widget-view+json": {
       "version_major": 2,
       "version_minor": 0,
       "model_id": "3ad9d70592384b2da9aed434001dc8ba"
      }
     },
     "metadata": {},
     "output_type": "display_data"
    },
    {
     "data": {
      "text/plain": "config.json:   0%|          | 0.00/37.0 [00:00<?, ?B/s]",
      "application/vnd.jupyter.widget-view+json": {
       "version_major": 2,
       "version_minor": 0,
       "model_id": "086000ce505040b4a2f9b11aef221fc1"
      }
     },
     "metadata": {},
     "output_type": "display_data"
    },
    {
     "name": "stdout",
     "output_type": "stream",
     "text": [
      "TabPFN ROC AUC: 0.9985\n"
     ]
    }
   ],
   "source": [
    "X_train, X_test, y_train, y_test = train_test_split(X, y, test_size=0.20, random_state=6)\n",
    "\n",
    "# Train and evaluate TabPFN\n",
    "y_pred = TabPFNClassifier(random_state=42).fit(X_train, y_train).predict_proba(X_test)\n",
    "\n",
    "# Calculate ROC AUC (handles both binary and multiclass)\n",
    "score = roc_auc_score(y_test, y_pred if len(np.unique(y)) > 2 else y_pred[:, 1])\n",
    "print(f\"TabPFN ROC AUC: {score:.4f}\")"
   ],
   "metadata": {
    "collapsed": false,
    "ExecuteTime": {
     "end_time": "2025-01-22T13:59:29.979870400Z",
     "start_time": "2025-01-22T13:59:04.640241Z"
    }
   },
   "id": "2e4c7da76605c51c"
  },
  {
   "cell_type": "code",
   "execution_count": 6,
   "outputs": [
    {
     "data": {
      "text/plain": "Text(0.5, 1.0, 'Model Comparison - 5-fold Cross-validation')"
     },
     "execution_count": 6,
     "metadata": {},
     "output_type": "execute_result"
    },
    {
     "data": {
      "text/plain": "<Figure size 1000x600 with 1 Axes>",
      "image/png": "[encoded data removed]"
     },
     "metadata": {},
     "output_type": "display_data"
    }
   ],
   "source": [
    "# Compare different machine learning models by training each one multiple times\n",
    "# on different parts of the data and averaging their performance scores for a\n",
    "# more reliable performance estimate\n",
    "\n",
    "# Define models\n",
    "models = [\n",
    "    ('TabPFN', TabPFNClassifier(random_state=42)),\n",
    "    ('RandomForest', RandomForestClassifier(random_state=42)),\n",
    "    ('XGBoost', XGBClassifier(random_state=42)),\n",
    "    ('CatBoost', CatBoostClassifier(random_state=42, verbose=0))\n",
    "]\n",
    "\n",
    "# Calculate scores\n",
    "scoring = 'roc_auc_ovr' if len(np.unique(y)) > 2 else 'roc_auc'\n",
    "scores = {name: cross_val_score(model, X, y, cv=5, scoring=scoring, n_jobs=1, verbose=1).mean()\n",
    "          for name, model in models}\n",
    "\n",
    "# Plot results\n",
    "df = pd.DataFrame(list(scores.items()), columns=['Model', 'ROC AUC'])\n",
    "ax = df.plot(x='Model', y='ROC AUC', kind='bar', figsize=(10, 6))\n",
    "ax.set_ylim(df['ROC AUC'].min() * 0.995, min(1.0, df['ROC AUC'].max() * 1.005))\n",
    "ax.set_title('Model Comparison - 5-fold Cross-validation')"
   ],
   "metadata": {
    "collapsed": false,
    "ExecuteTime": {
     "end_time": "2025-01-22T14:01:44.906875800Z",
     "start_time": "2025-01-22T13:59:35.708603300Z"
    }
   },
   "id": "2d925d0ef257da64"
  },
  {
   "cell_type": "code",
   "execution_count": 7,
   "outputs": [
    {
     "ename": "ModuleNotFoundError",
     "evalue": "No module named 'tabpfn_extensions'",
     "output_type": "error",
     "traceback": [
      "\u001B[1;31m---------------------------------------------------------------------------\u001B[0m",
      "\u001B[1;31mModuleNotFoundError\u001B[0m                       Traceback (most recent call last)",
      "Cell \u001B[1;32mIn[7], line 1\u001B[0m\n\u001B[1;32m----> 1\u001B[0m \u001B[38;5;28;01mfrom\u001B[39;00m\u001B[38;5;250m \u001B[39m\u001B[38;5;21;01mtabpfn_extensions\u001B[39;00m\u001B[38;5;21;01m.\u001B[39;00m\u001B[38;5;21;01mpost_hoc_ensembles\u001B[39;00m\u001B[38;5;21;01m.\u001B[39;00m\u001B[38;5;21;01msklearn_interface\u001B[39;00m\u001B[38;5;250m \u001B[39m\u001B[38;5;28;01mimport\u001B[39;00m AutoTabPFNClassifier\n\u001B[0;32m      3\u001B[0m \u001B[38;5;66;03m# Binary\u001B[39;00m\n\u001B[0;32m      4\u001B[0m X, y \u001B[38;5;241m=\u001B[39m load_breast_cancer(return_X_y\u001B[38;5;241m=\u001B[39m\u001B[38;5;28;01mTrue\u001B[39;00m)\n",
      "\u001B[1;31mModuleNotFoundError\u001B[0m: No module named 'tabpfn_extensions'"
     ]
    }
   ],
   "source": [
    "from tabpfn_extensions.post_hoc_ensembles.sklearn_interface import AutoTabPFNClassifier\n",
    "\n",
    "# Binary\n",
    "X, y = load_breast_cancer(return_X_y=True)\n",
    "X_train, X_test, y_train, y_test = train_test_split(\n",
    "    X, y, test_size=0.33, random_state=42\n",
    ")\n",
    "clf = AutoTabPFNClassifier(max_time=30) # runs for 30 seconds, longer ensembling time leads to better results\n",
    "clf.fit(X_train, y_train)\n",
    "prediction_probabilities = clf.predict_proba(X_test)\n",
    "predictions = np.argmax(prediction_probabilities, axis=-1)\n",
    "\n",
    "print(\"ROC AUC:\", roc_auc_score(y_test, prediction_probabilities[:, 1]))\n",
    "print(\"Accuracy\", accuracy_score(y_test, predictions))"
   ],
   "metadata": {
    "collapsed": false,
    "ExecuteTime": {
     "end_time": "2025-01-22T14:01:45.014879200Z",
     "start_time": "2025-01-22T14:01:44.902894600Z"
    }
   },
   "id": "3a2b07c42e1361b1"
  },
  {
   "cell_type": "code",
   "execution_count": null,
   "outputs": [],
   "source": [
    "# Boston Housing dataset\n",
    "# Regression task: Predict house prices\n",
    "# Features: Neighborhood characteristics, housing attributes\n",
    "# Samples: 506 neighborhoods\n",
    "# Target: Median house value in $1000s\n",
    "df = fetch_openml(data_id=531, as_frame=True)\n",
    "\n",
    "# Alternative datasets (commented for reference):\n",
    "\n",
    "# Liver Disorders dataset\n",
    "# Classification task: Predict liver disorder presence\n",
    "# Features: Blood test results, alcohol consumption\n",
    "# Samples: 345 patients\n",
    "# Target: Binary liver disorder diagnosis\n",
    "# df = fetch_openml(\"liver-disorders\", version=1)\n",
    "\n",
    "# Grid Stability dataset\n",
    "# Regression task: Predict electrical grid stability\n",
    "# Features: Power system measurements, grid parameters\n",
    "# Samples: 10,000 simulations\n",
    "# Target: Grid stability score\n",
    "#df = fetch_openml(data_id=44973, as_frame=True)\n",
    "\n",
    "# Concrete Compressive Strength dataset\n",
    "# Regression task: Predict concrete strength\n",
    "# Features: Concrete components (cement, water, aggregates)\n",
    "# Samples: 1,030 concrete samples\n",
    "# Target: Compressive strength in MPa\n",
    "#df = fetch_openml(data_id=44959, as_frame=True)\n",
    "\n",
    "X, y = df.data, df.target\n",
    "\n",
    "# Convert all 'object' and 'category' columns to numeric\n",
    "for col in X.select_dtypes(['object', 'category']).columns:\n",
    "    X[col] = pd.factorize(X[col])[0]  # Factorize encodes as integers\n",
    "\n",
    "X_train, X_test, y_train, y_test = train_test_split(X, y, test_size=0.33, random_state=42)\n",
    "\n",
    "# Print dataset description\n",
    "display(Markdown(df['DESCR']))\n",
    "\n",
    "display(X)"
   ],
   "metadata": {
    "collapsed": false,
    "ExecuteTime": {
     "start_time": "2025-01-22T14:01:44.995879Z"
    }
   },
   "id": "7abcc432bf087ad6"
  },
  {
   "cell_type": "code",
   "execution_count": null,
   "outputs": [],
   "source": [
    "# Train and evaluate TabPFN\n",
    "reg = TabPFNRegressor(random_state=42)\n",
    "reg.fit(X_train, y_train)\n",
    "y_pred = reg.predict(X_test)\n",
    "\n",
    "# Calculate Variance Explained (R2 Score)\n",
    "score = root_mean_squared_error(y_test, y_pred)\n",
    "print(f\"TabPFN RMSE: {score:.4f}\")"
   ],
   "metadata": {
    "collapsed": false,
    "ExecuteTime": {
     "start_time": "2025-01-22T14:01:44.996879Z"
    }
   },
   "id": "cfd766bb9850ac80"
  },
  {
   "cell_type": "code",
   "execution_count": null,
   "outputs": [],
   "source": [
    "# Compare different machine learning models by training each one multiple times\n",
    "# on different parts of the data and averaging their performance scores for a\n",
    "# more reliable performance estimate\n",
    "\n",
    "# Define models\n",
    "models = [\n",
    "    ('TabPFN', TabPFNRegressor(random_state=42)),\n",
    "    ('RandomForest', RandomForestRegressor(random_state=42)),\n",
    "    ('XGBoost', XGBRegressor(random_state=42)),\n",
    "    ('CatBoost', CatBoostRegressor(random_state=42, verbose=0))\n",
    "]\n",
    "\n",
    "# Calculate scores\n",
    "scoring = 'neg_root_mean_squared_error'\n",
    "scores = {name: cross_val_score(model, X, y, cv=5, scoring=scoring, n_jobs=-1).mean()\n",
    "          for name, model in models}\n",
    "\n",
    "\n",
    "# Plot results\n",
    "df = pd.DataFrame(list(scores.items()), columns=['Model', 'RMSE'])\n",
    "df.RMSE = -df.RMSE # Smaller is better\n",
    "ax = df.plot(x='Model', y='RMSE', kind='bar', figsize=(10, 6))\n",
    "ax.set_ylim(df['RMSE'].min() * 0.99, df['RMSE'].max() * 1.01)\n",
    "ax.set_title('Model Comparison - 5-fold Cross-validation \\n (Root Mean Squared Error - Smaller is better)')"
   ],
   "metadata": {
    "collapsed": false,
    "ExecuteTime": {
     "start_time": "2025-01-22T14:01:44.998884500Z"
    }
   },
   "id": "28f176022b821175"
  },
  {
   "cell_type": "code",
   "execution_count": null,
   "outputs": [],
   "source": [],
   "metadata": {
    "collapsed": false
   },
   "id": "b3f383fde0940bb"
  },
  {
   "cell_type": "code",
   "execution_count": null,
   "outputs": [],
   "source": [],
   "metadata": {
    "collapsed": false
   },
   "id": "b30c0cd2f616f5ec"
  },
  {
   "cell_type": "code",
   "execution_count": null,
   "outputs": [],
   "source": [],
   "metadata": {
    "collapsed": false
   },
   "id": "b72fbffaf24c24db"
  },
  {
   "cell_type": "code",
   "execution_count": null,
   "outputs": [],
   "source": [],
   "metadata": {
    "collapsed": false
   },
   "id": "268a0707a7b2782b"
  }
 ],
 "metadata": {
  "kernelspec": {
   "display_name": "Python 3",
   "language": "python",
   "name": "python3"
  },
  "language_info": {
   "codemirror_mode": {
    "name": "ipython",
    "version": 2
   },
   "file_extension": ".py",
   "mimetype": "text/x-python",
   "name": "python",
   "nbconvert_exporter": "python",
   "pygments_lexer": "ipython2",
   "version": "2.7.6"
  }
 },
 "nbformat": 4,
 "nbformat_minor": 5
}
