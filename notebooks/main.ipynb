{
 "cells": [
  {
   "cell_type": "code",
   "id": "20a284b51db49046",
   "metadata": {
    "collapsed": false,
    "ExecuteTime": {
     "end_time": "2025-06-03T14:47:17.369421Z",
     "start_time": "2025-06-03T14:47:17.318555Z"
    }
   },
   "source": [
    "# code for autoreload of modules\n",
    "%load_ext autoreload\n",
    "%autoreload 2"
   ],
   "outputs": [
    {
     "name": "stdout",
     "output_type": "stream",
     "text": [
      "The autoreload extension is already loaded. To reload it, use:\n",
      "  %reload_ext autoreload\n"
     ]
    }
   ],
   "execution_count": 40
  },
  {
   "cell_type": "code",
   "id": "3115e454e894e990",
   "metadata": {
    "collapsed": false,
    "ExecuteTime": {
     "end_time": "2025-06-03T14:47:18.283424Z",
     "start_time": "2025-06-03T14:47:18.266038Z"
    }
   },
   "source": [
    "import os\n",
    "# Set your custom working DIR:\n",
    "DIR = '/Users/jannispoltier/Documents/Studium/3. Semester/tabpfn_credit_codebase'\n",
    "# DIR = r'C:\\Users\\u0148775\\PycharmProjects\\CreditScoring'\n",
    "os.chdir(DIR)\n",
    "\n"
   ],
   "outputs": [],
   "execution_count": 41
  },
  {
   "cell_type": "code",
   "id": "initial_id",
   "metadata": {
    "collapsed": false,
    "ExecuteTime": {
     "end_time": "2025-06-03T14:47:19.570932Z",
     "start_time": "2025-06-03T14:47:19.544334Z"
    }
   },
   "source": [
    "\n",
    "from src.utils import set_random_seed\n",
    "set_random_seed(0)"
   ],
   "outputs": [],
   "execution_count": 42
  },
  {
   "cell_type": "code",
   "id": "a08305fa84180327",
   "metadata": {
    "collapsed": false,
    "ExecuteTime": {
     "end_time": "2025-06-03T14:47:54.339700Z",
     "start_time": "2025-06-03T14:47:54.308330Z"
    }
   },
   "source": [
    "from src.utils import load_config\n",
    "from pathlib import Path\n",
    "\n",
    "# read dataconfig from CONFIG_DATA.yaml file:\n",
    "\n",
    "# dataconfig = load_config('config\\CONFIG_DATA.yaml')\n",
    "# experimentconfig = load_config('config\\CONFIG_EXPERIMENT.yaml')\n",
    "# methodconfig = load_config('config\\CONFIG_METHOD.yaml')\n",
    "# evaluationconfig = load_config('config\\CONFIG_EVALUATION.yaml')\n",
    "dataconfig = load_config(Path('config') / 'CONFIG_DATA.yaml')\n",
    "experimentconfig = load_config(Path('config') / 'CONFIG_EXPERIMENT.yaml')\n",
    "methodconfig = load_config(Path('config') / 'CONFIG_METHOD.yaml')\n",
    "evaluationconfig = load_config(Path('config') / 'CONFIG_EVALUATION.yaml')\n",
    "tuningconfig = load_config(Path('config') / 'CONFIG_TUNING.yaml')\n",
    "paramconfig = load_config(Path('config') / 'datasets' / 'OPTIMAL_HYPERPARAS.yaml')\n"
   ],
   "outputs": [],
   "execution_count": 46
  },
  {
   "metadata": {
    "ExecuteTime": {
     "end_time": "2025-06-03T14:47:55.342566Z",
     "start_time": "2025-06-03T14:47:55.319744Z"
    }
   },
   "cell_type": "code",
   "source": [
    "from src.classes.experiment import Experiment\n",
    "\n",
    "# Initialize experiment object\n",
    "experiment = Experiment(dataconfig=dataconfig,\n",
    "                        experimentconfig=experimentconfig,\n",
    "                        methodconfig=methodconfig,\n",
    "                        evaluationconfig=evaluationconfig,\n",
    "                        tuningconfig=tuningconfig,\n",
    "                        paramconfig=paramconfig)"
   ],
   "id": "33446f919592010d",
   "outputs": [
    {
     "name": "stdout",
     "output_type": "stream",
     "text": [
      "\n",
      "Experiment created at:  2025-06-03-16-47\n",
      "Task: pd\n",
      "Dataset: 01_gmsc\n",
      "CV splits:  3\n"
     ]
    }
   ],
   "execution_count": 47
  },
  {
   "cell_type": "code",
   "id": "57033baf67309b3f",
   "metadata": {
    "collapsed": false,
    "ExecuteTime": {
     "end_time": "2025-06-03T14:48:09.663393Z",
     "start_time": "2025-06-03T14:47:56.549324Z"
    }
   },
   "source": [
    "experiment.run()"
   ],
   "outputs": [
    {
     "name": "stdout",
     "output_type": "stream",
     "text": [
      "01_gmsc loaded\n",
      "- Dataset has 150000 rows. Subsampling to 30000 rows.\n",
      "01_gmsc preprocessed\n",
      "x shape:  (30000, 10)\n",
      "y shape:  (30000,)\n"
     ]
    },
    {
     "name": "stderr",
     "output_type": "stream",
     "text": [
      "Cross-validation loop::   0%|          | 0/3 [00:00<?, ?it/s][I 2025-06-03 16:47:56,623] A new study created in memory with name: no-name-5d8c9266-5aac-405f-8b5d-f30fec04bda9\n",
      "[I 2025-06-03 16:47:56,805] Trial 0 finished with value: 0.8428295276390947 and parameters: {'n_estimators': 60, 'learning_rate': 0.0530352388639183}. Best is trial 0 with value: 0.8428295276390947.\n"
     ]
    },
    {
     "name": "stdout",
     "output_type": "stream",
     "text": [
      "- Omitting rows with missing values: 6042 rows left out\n",
      "---- Tuning ab ----\n"
     ]
    },
    {
     "name": "stderr",
     "output_type": "stream",
     "text": [
      "[I 2025-06-03 16:47:57,124] Trial 1 finished with value: 0.8503842672776106 and parameters: {'n_estimators': 100, 'learning_rate': 0.09976662828086057}. Best is trial 1 with value: 0.8503842672776106.\n",
      "[I 2025-06-03 16:47:57,288] Trial 2 finished with value: 0.8402549173309771 and parameters: {'n_estimators': 50, 'learning_rate': 0.04816659314916038}. Best is trial 1 with value: 0.8503842672776106.\n",
      "[I 2025-06-03 16:47:57,444] Trial 3 finished with value: 0.8432880533585634 and parameters: {'n_estimators': 50, 'learning_rate': 0.08055152497412305}. Best is trial 1 with value: 0.8503842672776106.\n",
      "[I 2025-06-03 16:47:57,743] Trial 4 finished with value: 0.8493370986281126 and parameters: {'n_estimators': 100, 'learning_rate': 0.07558713465340919}. Best is trial 1 with value: 0.8503842672776106.\n",
      "[I 2025-06-03 16:47:57,929] Trial 5 finished with value: 0.8426033802618667 and parameters: {'n_estimators': 60, 'learning_rate': 0.04622227613883457}. Best is trial 1 with value: 0.8503842672776106.\n",
      "[I 2025-06-03 16:47:58,137] Trial 6 finished with value: 0.8431333788153055 and parameters: {'n_estimators': 70, 'learning_rate': 0.05186264026099847}. Best is trial 1 with value: 0.8503842672776106.\n",
      "[I 2025-06-03 16:47:58,350] Trial 7 finished with value: 0.830689530805891 and parameters: {'n_estimators': 70, 'learning_rate': 0.01773855782766985}. Best is trial 1 with value: 0.8503842672776106.\n",
      "[I 2025-06-03 16:47:58,652] Trial 8 finished with value: 0.849693729743255 and parameters: {'n_estimators': 100, 'learning_rate': 0.08490725539377168}. Best is trial 1 with value: 0.8503842672776106.\n",
      "[I 2025-06-03 16:47:58,801] Trial 9 finished with value: 0.8407990882754252 and parameters: {'n_estimators': 50, 'learning_rate': 0.05166323284170634}. Best is trial 1 with value: 0.8503842672776106.\n",
      "[I 2025-06-03 16:47:59,073] Trial 10 finished with value: 0.8499842637589482 and parameters: {'n_estimators': 90, 'learning_rate': 0.09900490280728212}. Best is trial 1 with value: 0.8503842672776106.\n",
      "[I 2025-06-03 16:47:59,366] Trial 11 finished with value: 0.8499617834145885 and parameters: {'n_estimators': 90, 'learning_rate': 0.09962215956051727}. Best is trial 1 with value: 0.8503842672776106.\n",
      "[I 2025-06-03 16:47:59,641] Trial 12 finished with value: 0.8499634938755724 and parameters: {'n_estimators': 90, 'learning_rate': 0.09933857358673932}. Best is trial 1 with value: 0.8503842672776106.\n",
      "[I 2025-06-03 16:47:59,913] Trial 13 finished with value: 0.8477135046270412 and parameters: {'n_estimators': 90, 'learning_rate': 0.07125919450838746}. Best is trial 1 with value: 0.8503842672776106.\n",
      "[I 2025-06-03 16:48:00,168] Trial 14 finished with value: 0.8492527973367634 and parameters: {'n_estimators': 80, 'learning_rate': 0.08979605751085099}. Best is trial 1 with value: 0.8503842672776106.\n",
      "[I 2025-06-03 16:48:00,475] Trial 15 finished with value: 0.8478614595021484 and parameters: {'n_estimators': 100, 'learning_rate': 0.06762654400287607}. Best is trial 1 with value: 0.8503842672776106.\n",
      "[I 2025-06-03 16:48:00,721] Trial 16 finished with value: 0.8401979834153703 and parameters: {'n_estimators': 80, 'learning_rate': 0.031795729190303705}. Best is trial 1 with value: 0.8503842672776106.\n",
      "[I 2025-06-03 16:48:00,993] Trial 17 finished with value: 0.8493769279338804 and parameters: {'n_estimators': 90, 'learning_rate': 0.09052424778957655}. Best is trial 1 with value: 0.8503842672776106.\n",
      "[I 2025-06-03 16:48:01,292] Trial 18 finished with value: 0.8488024573948605 and parameters: {'n_estimators': 100, 'learning_rate': 0.06848191055598123}. Best is trial 1 with value: 0.8503842672776106.\n",
      "[I 2025-06-03 16:48:01,533] Trial 19 finished with value: 0.8436340551804488 and parameters: {'n_estimators': 80, 'learning_rate': 0.06223829779871746}. Best is trial 1 with value: 0.8503842672776106.\n"
     ]
    },
    {
     "name": "stdout",
     "output_type": "stream",
     "text": [
      "*Best hyperparameters (ab)* {'n_estimators': 100, 'learning_rate': 0.09976662828086057}\n"
     ]
    },
    {
     "name": "stderr",
     "output_type": "stream",
     "text": [
      "[I 2025-06-03 16:48:01,836] A new study created in memory with name: no-name-50b3e01b-a19d-4eaf-aa9d-1c0c8751f3f4\n",
      "[I 2025-06-03 16:48:01,846] Trial 0 finished with value: 0.6546341030733562 and parameters: {'C': 0.9864404048708976, 'penalty': 'l1'}. Best is trial 0 with value: 0.6546341030733562.\n",
      "[I 2025-06-03 16:48:01,860] Trial 1 finished with value: 0.5 and parameters: {'C': 0.0027103966745946413, 'penalty': 'l1'}. Best is trial 0 with value: 0.6546341030733562.\n",
      "[I 2025-06-03 16:48:01,917] Trial 2 finished with value: 0.6999274764542828 and parameters: {'C': 96.13835924525424, 'penalty': 'l1'}. Best is trial 2 with value: 0.6999274764542828.\n",
      "[I 2025-06-03 16:48:01,942] Trial 3 finished with value: 0.6153147590302566 and parameters: {'C': 0.0671023941864026, 'penalty': 'l1'}. Best is trial 2 with value: 0.6999274764542828.\n",
      "[I 2025-06-03 16:48:01,962] Trial 4 finished with value: 0.661680591448086 and parameters: {'C': 5.443486262515008, 'penalty': 'l2'}. Best is trial 2 with value: 0.6999274764542828.\n",
      "[I 2025-06-03 16:48:01,978] Trial 5 finished with value: 0.6248543664647997 and parameters: {'C': 0.06219120964225487, 'penalty': 'l2'}. Best is trial 2 with value: 0.6999274764542828.\n",
      "[I 2025-06-03 16:48:01,994] Trial 6 finished with value: 0.6153147590302566 and parameters: {'C': 0.03739168057474988, 'penalty': 'l1'}. Best is trial 2 with value: 0.6999274764542828.\n",
      "[I 2025-06-03 16:48:02,008] Trial 7 finished with value: 0.5 and parameters: {'C': 0.008270108186385317, 'penalty': 'l1'}. Best is trial 2 with value: 0.6999274764542828.\n",
      "[I 2025-06-03 16:48:02,016] Trial 8 finished with value: 0.627454022808753 and parameters: {'C': 0.09692269448998221, 'penalty': 'l2'}. Best is trial 2 with value: 0.6999274764542828.\n",
      "[I 2025-06-03 16:48:02,035] Trial 9 finished with value: 0.5 and parameters: {'C': 0.013783905323739866, 'penalty': 'l1'}. Best is trial 2 with value: 0.6999274764542828.\n"
     ]
    },
    {
     "name": "stdout",
     "output_type": "stream",
     "text": [
      "---- Tuning lr ----\n"
     ]
    },
    {
     "name": "stderr",
     "output_type": "stream",
     "text": [
      "[I 2025-06-03 16:48:02,063] Trial 10 finished with value: 0.6931777530602591 and parameters: {'C': 58.59113405690909, 'penalty': 'l2'}. Best is trial 2 with value: 0.6999274764542828.\n",
      "[I 2025-06-03 16:48:02,087] Trial 11 finished with value: 0.6957649474741866 and parameters: {'C': 96.4764289823438, 'penalty': 'l2'}. Best is trial 2 with value: 0.6999274764542828.\n",
      "[I 2025-06-03 16:48:02,122] Trial 12 finished with value: 0.6961089944835189 and parameters: {'C': 99.05570972405158, 'penalty': 'l2'}. Best is trial 2 with value: 0.6999274764542828.\n",
      "[I 2025-06-03 16:48:02,146] Trial 13 finished with value: 0.6738903506542758 and parameters: {'C': 11.743896391945, 'penalty': 'l2'}. Best is trial 2 with value: 0.6999274764542828.\n",
      "[I 2025-06-03 16:48:02,182] Trial 14 finished with value: 0.6982126171421422 and parameters: {'C': 11.295269095639924, 'penalty': 'l1'}. Best is trial 2 with value: 0.6999274764542828.\n",
      "[I 2025-06-03 16:48:02,219] Trial 15 finished with value: 0.6981459091637703 and parameters: {'C': 10.991803691695827, 'penalty': 'l1'}. Best is trial 2 with value: 0.6999274764542828.\n",
      "[I 2025-06-03 16:48:02,238] Trial 16 finished with value: 0.6577640023223172 and parameters: {'C': 1.0919919537960554, 'penalty': 'l1'}. Best is trial 2 with value: 0.6999274764542828.\n",
      "[I 2025-06-03 16:48:02,271] Trial 17 finished with value: 0.69932295067226 and parameters: {'C': 24.313731127966538, 'penalty': 'l1'}. Best is trial 2 with value: 0.6999274764542828.\n",
      "[I 2025-06-03 16:48:02,289] Trial 18 finished with value: 0.6875802694904586 and parameters: {'C': 2.2620204478296713, 'penalty': 'l1'}. Best is trial 2 with value: 0.6999274764542828.\n",
      "[I 2025-06-03 16:48:02,328] Trial 19 finished with value: 0.6996007784063585 and parameters: {'C': 34.02046848495575, 'penalty': 'l1'}. Best is trial 2 with value: 0.6999274764542828.\n",
      "[I 2025-06-03 16:48:02,381] A new study created in memory with name: no-name-53624b48-b6d5-4843-8287-d126b4be4e5e\n"
     ]
    },
    {
     "name": "stdout",
     "output_type": "stream",
     "text": [
      "*Best hyperparameters (lr)* {'C': 96.13835924525424, 'penalty': 'l1'}\n",
      "---- Tuning rf ----\n"
     ]
    },
    {
     "name": "stderr",
     "output_type": "stream",
     "text": [
      "[I 2025-06-03 16:48:02,899] Trial 0 finished with value: 0.8387864865763022 and parameters: {'n_estimators': 84, 'max_depth': 16}. Best is trial 0 with value: 0.8387864865763022.\n",
      "[I 2025-06-03 16:48:03,379] Trial 1 finished with value: 0.845304442507008 and parameters: {'n_estimators': 89, 'max_depth': 15}. Best is trial 1 with value: 0.845304442507008.\n",
      "[I 2025-06-03 16:48:03,630] Trial 2 finished with value: 0.8305935006392238 and parameters: {'n_estimators': 44, 'max_depth': 16}. Best is trial 1 with value: 0.845304442507008.\n",
      "[I 2025-06-03 16:48:03,743] Trial 3 finished with value: 0.8026134133372952 and parameters: {'n_estimators': 20, 'max_depth': 24}. Best is trial 1 with value: 0.845304442507008.\n",
      "[I 2025-06-03 16:48:03,952] Trial 4 finished with value: 0.8569832257534826 and parameters: {'n_estimators': 86, 'max_depth': 5}. Best is trial 4 with value: 0.8569832257534826.\n",
      "[I 2025-06-03 16:48:04,460] Trial 5 finished with value: 0.8280583531095203 and parameters: {'n_estimators': 88, 'max_depth': 29}. Best is trial 4 with value: 0.8569832257534826.\n",
      "[I 2025-06-03 16:48:04,574] Trial 6 finished with value: 0.85654815778465 and parameters: {'n_estimators': 45, 'max_depth': 5}. Best is trial 4 with value: 0.8569832257534826.\n",
      "[I 2025-06-03 16:48:04,687] Trial 7 finished with value: 0.8510000332318133 and parameters: {'n_estimators': 87, 'max_depth': 2}. Best is trial 4 with value: 0.8569832257534826.\n",
      "[I 2025-06-03 16:48:04,993] Trial 8 finished with value: 0.8481918228236095 and parameters: {'n_estimators': 68, 'max_depth': 11}. Best is trial 4 with value: 0.8569832257534826.\n",
      "[I 2025-06-03 16:48:05,299] Trial 9 finished with value: 0.8576650888071343 and parameters: {'n_estimators': 96, 'max_depth': 7}. Best is trial 9 with value: 0.8576650888071343.\n",
      "[I 2025-06-03 16:48:05,561] Trial 10 finished with value: 0.8510126173376236 and parameters: {'n_estimators': 66, 'max_depth': 9}. Best is trial 9 with value: 0.8576650888071343.\n",
      "[I 2025-06-03 16:48:05,655] Trial 11 finished with value: 0.8444791450822782 and parameters: {'n_estimators': 98, 'max_depth': 1}. Best is trial 9 with value: 0.8576650888071343.\n",
      "[I 2025-06-03 16:48:05,906] Trial 12 finished with value: 0.8546223008925674 and parameters: {'n_estimators': 71, 'max_depth': 8}. Best is trial 9 with value: 0.8576650888071343.\n",
      "[I 2025-06-03 16:48:06,199] Trial 13 finished with value: 0.8569579353660777 and parameters: {'n_estimators': 99, 'max_depth': 6}. Best is trial 9 with value: 0.8576650888071343.\n",
      "[I 2025-06-03 16:48:06,266] Trial 14 finished with value: 0.7987577899280238 and parameters: {'n_estimators': 11, 'max_depth': 22}. Best is trial 9 with value: 0.8576650888071343.\n",
      "[I 2025-06-03 16:48:06,646] Trial 15 finished with value: 0.845839694619183 and parameters: {'n_estimators': 75, 'max_depth': 12}. Best is trial 9 with value: 0.8576650888071343.\n",
      "[I 2025-06-03 16:48:06,777] Trial 16 finished with value: 0.8561086914875733 and parameters: {'n_estimators': 49, 'max_depth': 5}. Best is trial 9 with value: 0.8576650888071343.\n",
      "[I 2025-06-03 16:48:06,959] Trial 17 finished with value: 0.841519925404353 and parameters: {'n_estimators': 34, 'max_depth': 12}. Best is trial 9 with value: 0.8576650888071343.\n",
      "[I 2025-06-03 16:48:07,321] Trial 18 finished with value: 0.8210300689266905 and parameters: {'n_estimators': 59, 'max_depth': 23}. Best is trial 9 with value: 0.8576650888071343.\n",
      "[I 2025-06-03 16:48:07,791] Trial 19 finished with value: 0.8306389500310816 and parameters: {'n_estimators': 79, 'max_depth': 20}. Best is trial 9 with value: 0.8576650888071343.\n"
     ]
    },
    {
     "name": "stdout",
     "output_type": "stream",
     "text": [
      "*Best hyperparameters (rf)* {'n_estimators': 96, 'max_depth': 7}\n"
     ]
    },
    {
     "name": "stderr",
     "output_type": "stream",
     "text": [
      "Cross-validation loop::  33%|███▎      | 1/3 [00:11<00:23, 11.52s/it]"
     ]
    },
    {
     "name": "stdout",
     "output_type": "stream",
     "text": [
      "- Omitting rows with missing values: 6042 rows left out\n"
     ]
    },
    {
     "name": "stderr",
     "output_type": "stream",
     "text": [
      "Cross-validation loop::  67%|██████▋   | 2/3 [00:12<00:05,  5.17s/it]"
     ]
    },
    {
     "name": "stdout",
     "output_type": "stream",
     "text": [
      "- Omitting rows with missing values: 6042 rows left out\n"
     ]
    },
    {
     "name": "stderr",
     "output_type": "stream",
     "text": [
      "Cross-validation loop:: 100%|██████████| 3/3 [00:13<00:00,  4.35s/it]\n"
     ]
    }
   ],
   "execution_count": 48
  },
  {
   "cell_type": "code",
   "id": "dc04285e5a4ef64",
   "metadata": {
    "collapsed": false,
    "ExecuteTime": {
     "end_time": "2025-06-03T14:48:14.359757Z",
     "start_time": "2025-06-03T14:48:14.339674Z"
    }
   },
   "source": [
    "experiment.results"
   ],
   "outputs": [
    {
     "data": {
      "text/plain": [
       "{'ab': {0: {'accuracy': 0.93849,\n",
       "   'brier': 0.17973,\n",
       "   'f1': 0.25719,\n",
       "   'precision': 0.62044,\n",
       "   'recall': 0.16221,\n",
       "   'h_measure': 0.38153,\n",
       "   'aucroc': 0.83512,\n",
       "   'aucpr': 0.36136},\n",
       "  1: {'accuracy': 0.9318,\n",
       "   'brier': 0.18276,\n",
       "   'f1': 0.22695,\n",
       "   'precision': 0.64,\n",
       "   'recall': 0.13793,\n",
       "   'h_measure': 0.40586,\n",
       "   'aucroc': 0.83511,\n",
       "   'aucpr': 0.38395},\n",
       "  2: {'accuracy': 0.93913,\n",
       "   'brier': 0.18169,\n",
       "   'f1': 0.21865,\n",
       "   'precision': 0.61818,\n",
       "   'recall': 0.13281,\n",
       "   'h_measure': 0.41818,\n",
       "   'aucroc': 0.85675,\n",
       "   'aucpr': 0.38652}},\n",
       " 'lr': {0: {'accuracy': 0.93436,\n",
       "   'brier': 0.05806,\n",
       "   'f1': 0.03676,\n",
       "   'precision': 0.5,\n",
       "   'recall': 0.01908,\n",
       "   'h_measure': 0.17251,\n",
       "   'aucroc': 0.69408,\n",
       "   'aucpr': 0.19988},\n",
       "  1: {'accuracy': 0.93005,\n",
       "   'brier': 0.05925,\n",
       "   'f1': 0.1169,\n",
       "   'precision': 0.69811,\n",
       "   'recall': 0.06379,\n",
       "   'h_measure': 0.31217,\n",
       "   'aucroc': 0.78398,\n",
       "   'aucpr': 0.32513},\n",
       "  2: {'accuracy': 0.93625,\n",
       "   'brier': 0.05659,\n",
       "   'f1': 0.05566,\n",
       "   'precision': 0.55556,\n",
       "   'recall': 0.0293,\n",
       "   'h_measure': 0.17908,\n",
       "   'aucroc': 0.68215,\n",
       "   'aucpr': 0.19858}},\n",
       " 'rf': {0: {'accuracy': 0.93699,\n",
       "   'brier': 0.04975,\n",
       "   'f1': 0.24361,\n",
       "   'precision': 0.57447,\n",
       "   'recall': 0.15458,\n",
       "   'h_measure': 0.3913,\n",
       "   'aucroc': 0.8408,\n",
       "   'aucpr': 0.36143},\n",
       "  1: {'accuracy': 0.93155,\n",
       "   'brier': 0.05439,\n",
       "   'f1': 0.21969,\n",
       "   'precision': 0.63636,\n",
       "   'recall': 0.13276,\n",
       "   'h_measure': 0.40219,\n",
       "   'aucroc': 0.84824,\n",
       "   'aucpr': 0.38641},\n",
       "  2: {'accuracy': 0.93925,\n",
       "   'brier': 0.0481,\n",
       "   'f1': 0.224,\n",
       "   'precision': 0.61947,\n",
       "   'recall': 0.13672,\n",
       "   'h_measure': 0.42332,\n",
       "   'aucroc': 0.85623,\n",
       "   'aucpr': 0.38974}}}"
      ]
     },
     "execution_count": 49,
     "metadata": {},
     "output_type": "execute_result"
    }
   ],
   "execution_count": 49
  },
  {
   "cell_type": "code",
   "id": "850cc3c1189e1a94",
   "metadata": {
    "ExecuteTime": {
     "end_time": "2025-05-26T19:08:41.455240Z",
     "start_time": "2025-05-26T19:08:41.393519Z"
    }
   },
   "source": [
    "\n",
    "# Todo: implement method that writes experiment.results to a csv file / connects with WandB / ...\n",
    "\n",
    "# Quick and dirty examplary code:\n",
    "\n",
    "import pandas as pd\n",
    "\n",
    "# Convert dictionary of dictionaries to a list of rows\n",
    "rows = []\n",
    "for model_name, splits_dict in experiment.results.items():\n",
    "    for split_idx, metrics_dict in splits_dict.items():\n",
    "        # Create a row dict with model and split identifiers\n",
    "        row = {\n",
    "            'model': model_name,\n",
    "            'split': split_idx,\n",
    "        }\n",
    "        # Update with all metrics in that split\n",
    "        row.update(metrics_dict)\n",
    "\n",
    "        rows.append(row)\n",
    "\n",
    "# Convert the list of row dictionaries into a DataFrame\n",
    "df = pd.DataFrame(rows)\n",
    "\n",
    "df\n",
    "\n",
    "# Summarise df by model (along split) and get the mean and sd of all the metrics, discarding the split and sorting by mean of aucroc\n",
    "df_summary = df.groupby('model').agg(['mean', 'std']).reset_index()\n",
    "# df_summary = df_summary.loc[:, ~df_summary.columns.str.contains('split')]\n",
    "df_summary\n",
    "\n",
    "\n"
   ],
   "outputs": [
    {
     "data": {
      "text/plain": [
       "    model split       accuracy               brier                  f1  \\\n",
       "           mean  std      mean       std      mean       std      mean   \n",
       "0     ann   1.0  1.0  0.932550  0.004506  0.062403  0.003812  0.000000   \n",
       "1      dt   1.0  1.0  0.924703  0.002422  0.069583  0.002620  0.294327   \n",
       "2     knn   1.0  1.0  0.926080  0.003625  0.073033  0.004091  0.080363   \n",
       "3     lda   1.0  1.0  0.931507  0.003544  0.059013  0.002887  0.126527   \n",
       "4      lr   1.0  1.0  0.932550  0.004506  0.062073  0.003929  0.000000   \n",
       "5      rf   1.0  1.0  0.934263  0.003703  0.052610  0.003113  0.262270   \n",
       "6     svm   1.0  1.0  0.932843  0.004464  0.061293  0.001939  0.021743   \n",
       "7  tabpfn   1.0  1.0  0.936470  0.003940  0.050707  0.003045  0.293770   \n",
       "8     xgb   1.0  1.0  0.932550  0.004506  0.058713  0.003197  0.000000   \n",
       "\n",
       "            precision              recall           h_measure            \\\n",
       "        std      mean       std      mean       std      mean       std   \n",
       "0  0.000000  0.000000  0.000000  0.000000  0.000000  0.054427  0.010668   \n",
       "1  0.013192  0.401040  0.021259  0.233630  0.021659  0.232697  0.010765   \n",
       "2  0.019890  0.247737  0.015965  0.048247  0.013428  0.042327  0.011653   \n",
       "3  0.025267  0.451177  0.044127  0.073877  0.016343  0.198710  0.018246   \n",
       "4  0.000000  0.000000  0.000000  0.000000  0.000000  0.066383  0.012676   \n",
       "5  0.027888  0.541087  0.023853  0.174070  0.026391  0.368213  0.006976   \n",
       "6  0.005562  0.658273  0.132140  0.011080  0.002904  0.356070  0.016592   \n",
       "7  0.043818  0.589647  0.030372  0.197573  0.040826  0.402200  0.014832   \n",
       "8  0.000000  0.000000  0.000000  0.000000  0.000000  0.377150  0.005420   \n",
       "\n",
       "     aucroc               aucpr            \n",
       "       mean       std      mean       std  \n",
       "0  0.621487  0.009011  0.104617  0.006050  \n",
       "1  0.657687  0.007196  0.215847  0.013250  \n",
       "2  0.570407  0.012304  0.091307  0.001651  \n",
       "3  0.684440  0.012835  0.221907  0.024543  \n",
       "4  0.633873  0.010671  0.116983  0.007833  \n",
       "5  0.827767  0.006686  0.342080  0.009941  \n",
       "6  0.800450  0.007351  0.348927  0.010933  \n",
       "7  0.843273  0.006407  0.386983  0.011910  \n",
       "8  0.822090  0.007808  0.334273  0.005463  "
      ],
      "text/html": [
       "<div>\n",
       "<style scoped>\n",
       "    .dataframe tbody tr th:only-of-type {\n",
       "        vertical-align: middle;\n",
       "    }\n",
       "\n",
       "    .dataframe tbody tr th {\n",
       "        vertical-align: top;\n",
       "    }\n",
       "\n",
       "    .dataframe thead tr th {\n",
       "        text-align: left;\n",
       "    }\n",
       "</style>\n",
       "<table border=\"1\" class=\"dataframe\">\n",
       "  <thead>\n",
       "    <tr>\n",
       "      <th></th>\n",
       "      <th>model</th>\n",
       "      <th colspan=\"2\" halign=\"left\">split</th>\n",
       "      <th colspan=\"2\" halign=\"left\">accuracy</th>\n",
       "      <th colspan=\"2\" halign=\"left\">brier</th>\n",
       "      <th colspan=\"2\" halign=\"left\">f1</th>\n",
       "      <th colspan=\"2\" halign=\"left\">precision</th>\n",
       "      <th colspan=\"2\" halign=\"left\">recall</th>\n",
       "      <th colspan=\"2\" halign=\"left\">h_measure</th>\n",
       "      <th colspan=\"2\" halign=\"left\">aucroc</th>\n",
       "      <th colspan=\"2\" halign=\"left\">aucpr</th>\n",
       "    </tr>\n",
       "    <tr>\n",
       "      <th></th>\n",
       "      <th></th>\n",
       "      <th>mean</th>\n",
       "      <th>std</th>\n",
       "      <th>mean</th>\n",
       "      <th>std</th>\n",
       "      <th>mean</th>\n",
       "      <th>std</th>\n",
       "      <th>mean</th>\n",
       "      <th>std</th>\n",
       "      <th>mean</th>\n",
       "      <th>std</th>\n",
       "      <th>mean</th>\n",
       "      <th>std</th>\n",
       "      <th>mean</th>\n",
       "      <th>std</th>\n",
       "      <th>mean</th>\n",
       "      <th>std</th>\n",
       "      <th>mean</th>\n",
       "      <th>std</th>\n",
       "    </tr>\n",
       "  </thead>\n",
       "  <tbody>\n",
       "    <tr>\n",
       "      <th>0</th>\n",
       "      <td>ann</td>\n",
       "      <td>1.0</td>\n",
       "      <td>1.0</td>\n",
       "      <td>0.932550</td>\n",
       "      <td>0.004506</td>\n",
       "      <td>0.062403</td>\n",
       "      <td>0.003812</td>\n",
       "      <td>0.000000</td>\n",
       "      <td>0.000000</td>\n",
       "      <td>0.000000</td>\n",
       "      <td>0.000000</td>\n",
       "      <td>0.000000</td>\n",
       "      <td>0.000000</td>\n",
       "      <td>0.054427</td>\n",
       "      <td>0.010668</td>\n",
       "      <td>0.621487</td>\n",
       "      <td>0.009011</td>\n",
       "      <td>0.104617</td>\n",
       "      <td>0.006050</td>\n",
       "    </tr>\n",
       "    <tr>\n",
       "      <th>1</th>\n",
       "      <td>dt</td>\n",
       "      <td>1.0</td>\n",
       "      <td>1.0</td>\n",
       "      <td>0.924703</td>\n",
       "      <td>0.002422</td>\n",
       "      <td>0.069583</td>\n",
       "      <td>0.002620</td>\n",
       "      <td>0.294327</td>\n",
       "      <td>0.013192</td>\n",
       "      <td>0.401040</td>\n",
       "      <td>0.021259</td>\n",
       "      <td>0.233630</td>\n",
       "      <td>0.021659</td>\n",
       "      <td>0.232697</td>\n",
       "      <td>0.010765</td>\n",
       "      <td>0.657687</td>\n",
       "      <td>0.007196</td>\n",
       "      <td>0.215847</td>\n",
       "      <td>0.013250</td>\n",
       "    </tr>\n",
       "    <tr>\n",
       "      <th>2</th>\n",
       "      <td>knn</td>\n",
       "      <td>1.0</td>\n",
       "      <td>1.0</td>\n",
       "      <td>0.926080</td>\n",
       "      <td>0.003625</td>\n",
       "      <td>0.073033</td>\n",
       "      <td>0.004091</td>\n",
       "      <td>0.080363</td>\n",
       "      <td>0.019890</td>\n",
       "      <td>0.247737</td>\n",
       "      <td>0.015965</td>\n",
       "      <td>0.048247</td>\n",
       "      <td>0.013428</td>\n",
       "      <td>0.042327</td>\n",
       "      <td>0.011653</td>\n",
       "      <td>0.570407</td>\n",
       "      <td>0.012304</td>\n",
       "      <td>0.091307</td>\n",
       "      <td>0.001651</td>\n",
       "    </tr>\n",
       "    <tr>\n",
       "      <th>3</th>\n",
       "      <td>lda</td>\n",
       "      <td>1.0</td>\n",
       "      <td>1.0</td>\n",
       "      <td>0.931507</td>\n",
       "      <td>0.003544</td>\n",
       "      <td>0.059013</td>\n",
       "      <td>0.002887</td>\n",
       "      <td>0.126527</td>\n",
       "      <td>0.025267</td>\n",
       "      <td>0.451177</td>\n",
       "      <td>0.044127</td>\n",
       "      <td>0.073877</td>\n",
       "      <td>0.016343</td>\n",
       "      <td>0.198710</td>\n",
       "      <td>0.018246</td>\n",
       "      <td>0.684440</td>\n",
       "      <td>0.012835</td>\n",
       "      <td>0.221907</td>\n",
       "      <td>0.024543</td>\n",
       "    </tr>\n",
       "    <tr>\n",
       "      <th>4</th>\n",
       "      <td>lr</td>\n",
       "      <td>1.0</td>\n",
       "      <td>1.0</td>\n",
       "      <td>0.932550</td>\n",
       "      <td>0.004506</td>\n",
       "      <td>0.062073</td>\n",
       "      <td>0.003929</td>\n",
       "      <td>0.000000</td>\n",
       "      <td>0.000000</td>\n",
       "      <td>0.000000</td>\n",
       "      <td>0.000000</td>\n",
       "      <td>0.000000</td>\n",
       "      <td>0.000000</td>\n",
       "      <td>0.066383</td>\n",
       "      <td>0.012676</td>\n",
       "      <td>0.633873</td>\n",
       "      <td>0.010671</td>\n",
       "      <td>0.116983</td>\n",
       "      <td>0.007833</td>\n",
       "    </tr>\n",
       "    <tr>\n",
       "      <th>5</th>\n",
       "      <td>rf</td>\n",
       "      <td>1.0</td>\n",
       "      <td>1.0</td>\n",
       "      <td>0.934263</td>\n",
       "      <td>0.003703</td>\n",
       "      <td>0.052610</td>\n",
       "      <td>0.003113</td>\n",
       "      <td>0.262270</td>\n",
       "      <td>0.027888</td>\n",
       "      <td>0.541087</td>\n",
       "      <td>0.023853</td>\n",
       "      <td>0.174070</td>\n",
       "      <td>0.026391</td>\n",
       "      <td>0.368213</td>\n",
       "      <td>0.006976</td>\n",
       "      <td>0.827767</td>\n",
       "      <td>0.006686</td>\n",
       "      <td>0.342080</td>\n",
       "      <td>0.009941</td>\n",
       "    </tr>\n",
       "    <tr>\n",
       "      <th>6</th>\n",
       "      <td>svm</td>\n",
       "      <td>1.0</td>\n",
       "      <td>1.0</td>\n",
       "      <td>0.932843</td>\n",
       "      <td>0.004464</td>\n",
       "      <td>0.061293</td>\n",
       "      <td>0.001939</td>\n",
       "      <td>0.021743</td>\n",
       "      <td>0.005562</td>\n",
       "      <td>0.658273</td>\n",
       "      <td>0.132140</td>\n",
       "      <td>0.011080</td>\n",
       "      <td>0.002904</td>\n",
       "      <td>0.356070</td>\n",
       "      <td>0.016592</td>\n",
       "      <td>0.800450</td>\n",
       "      <td>0.007351</td>\n",
       "      <td>0.348927</td>\n",
       "      <td>0.010933</td>\n",
       "    </tr>\n",
       "    <tr>\n",
       "      <th>7</th>\n",
       "      <td>tabpfn</td>\n",
       "      <td>1.0</td>\n",
       "      <td>1.0</td>\n",
       "      <td>0.936470</td>\n",
       "      <td>0.003940</td>\n",
       "      <td>0.050707</td>\n",
       "      <td>0.003045</td>\n",
       "      <td>0.293770</td>\n",
       "      <td>0.043818</td>\n",
       "      <td>0.589647</td>\n",
       "      <td>0.030372</td>\n",
       "      <td>0.197573</td>\n",
       "      <td>0.040826</td>\n",
       "      <td>0.402200</td>\n",
       "      <td>0.014832</td>\n",
       "      <td>0.843273</td>\n",
       "      <td>0.006407</td>\n",
       "      <td>0.386983</td>\n",
       "      <td>0.011910</td>\n",
       "    </tr>\n",
       "    <tr>\n",
       "      <th>8</th>\n",
       "      <td>xgb</td>\n",
       "      <td>1.0</td>\n",
       "      <td>1.0</td>\n",
       "      <td>0.932550</td>\n",
       "      <td>0.004506</td>\n",
       "      <td>0.058713</td>\n",
       "      <td>0.003197</td>\n",
       "      <td>0.000000</td>\n",
       "      <td>0.000000</td>\n",
       "      <td>0.000000</td>\n",
       "      <td>0.000000</td>\n",
       "      <td>0.000000</td>\n",
       "      <td>0.000000</td>\n",
       "      <td>0.377150</td>\n",
       "      <td>0.005420</td>\n",
       "      <td>0.822090</td>\n",
       "      <td>0.007808</td>\n",
       "      <td>0.334273</td>\n",
       "      <td>0.005463</td>\n",
       "    </tr>\n",
       "  </tbody>\n",
       "</table>\n",
       "</div>"
      ]
     },
     "execution_count": 14,
     "metadata": {},
     "output_type": "execute_result"
    }
   ],
   "execution_count": 14
  },
  {
   "cell_type": "code",
   "execution_count": null,
   "id": "cbab971e",
   "metadata": {},
   "outputs": [],
   "source": []
  }
 ],
 "metadata": {
  "kernelspec": {
   "display_name": "tabpfn",
   "language": "python",
   "name": "python3"
  },
  "language_info": {
   "codemirror_mode": {
    "name": "ipython",
    "version": 3
   },
   "file_extension": ".py",
   "mimetype": "text/x-python",
   "name": "python",
   "nbconvert_exporter": "python",
   "pygments_lexer": "ipython3",
   "version": "3.10.16"
  }
 },
 "nbformat": 4,
 "nbformat_minor": 5
}
