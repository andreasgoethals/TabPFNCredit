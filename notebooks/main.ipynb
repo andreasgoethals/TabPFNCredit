{
 "cells": [
  {
   "cell_type": "code",
   "source": [
    "# code for autoreload of modules\n",
    "#%load_ext autoreload\n",
    "#%autoreload 2"
   ],
   "metadata": {
    "collapsed": false,
    "ExecuteTime": {
     "end_time": "2025-03-17T14:21:27.442805Z",
     "start_time": "2025-03-17T14:21:27.430805Z"
    }
   },
   "id": "20a284b51db49046",
   "outputs": [],
   "execution_count": 1
  },
  {
   "cell_type": "code",
   "source": [
    "import os\n",
    "from src.utils import set_random_seed"
   ],
   "metadata": {
    "collapsed": false,
    "ExecuteTime": {
     "end_time": "2025-03-17T15:13:28.280752Z",
     "start_time": "2025-03-17T15:13:25.649208Z"
    }
   },
   "id": "initial_id",
   "outputs": [],
   "execution_count": 1
  },
  {
   "cell_type": "code",
   "source": [
    "\n",
    "\n",
    "DIR = r'C:\\Users\\u0148775\\PycharmProjects\\CreditScoring'\n",
    "os.chdir(DIR)\n",
    "\n",
    "set_random_seed(0)"
   ],
   "metadata": {
    "collapsed": false,
    "ExecuteTime": {
     "end_time": "2025-03-17T15:13:28.296942Z",
     "start_time": "2025-03-17T15:13:28.281314Z"
    }
   },
   "id": "3115e454e894e990",
   "outputs": [],
   "execution_count": 2
  },
  {
   "cell_type": "code",
   "source": [
    "from src.utils import load_config\n",
    "\n",
    "# read dataconfig from CONFIG_DATA.yaml file:\n",
    "\n",
    "dataconfig = load_config('config\\CONFIG_DATA.yaml')\n",
    "experimentconfig = load_config('config\\CONFIG_EXPERIMENT.yaml')\n",
    "methodconfig = load_config('config\\CONFIG_METHOD.yaml')\n",
    "evaluationconfig = load_config('config\\CONFIG_EVALUATION.yaml')\n",
    "\n"
   ],
   "metadata": {
    "collapsed": false,
    "ExecuteTime": {
     "end_time": "2025-03-17T15:13:28.644111Z",
     "start_time": "2025-03-17T15:13:28.549565Z"
    }
   },
   "id": "a08305fa84180327",
   "outputs": [],
   "execution_count": 3
  },
  {
   "cell_type": "code",
   "source": [
    "from src.classes.experiment import Experiment\n",
    "\n",
    "# Initialize experiment object\n",
    "experiment = Experiment(dataconfig=dataconfig,\n",
    "                        experimentconfig=experimentconfig,\n",
    "                        methodconfig=methodconfig,\n",
    "                        evaluationconfig=evaluationconfig)\n"
   ],
   "metadata": {
    "collapsed": false,
    "ExecuteTime": {
     "end_time": "2025-03-17T15:13:35.319577Z",
     "start_time": "2025-03-17T15:13:28.660418Z"
    }
   },
   "id": "d7ada7e1194abf9b",
   "outputs": [
    {
     "name": "stdout",
     "output_type": "stream",
     "text": [
      "\n",
      "Experiment created at:  2025-03-17-16-13\n",
      "Task: lgd\n",
      "Dataset: 00_lgd_toydata\n",
      "CV splits:  2\n"
     ]
    }
   ],
   "execution_count": 4
  },
  {
   "cell_type": "code",
   "source": [
    "experiment.run()"
   ],
   "metadata": {
    "collapsed": false,
    "ExecuteTime": {
     "end_time": "2025-03-17T15:23:53.195391Z",
     "start_time": "2025-03-17T15:13:35.402573Z"
    }
   },
   "id": "57033baf67309b3f",
   "outputs": [
    {
     "name": "stdout",
     "output_type": "stream",
     "text": [
      "00_lgd_toydata loaded\n",
      "00_lgd_toydata preprocessed\n",
      "x shape:  (442, 10)\n",
      "y shape:  (442,)\n"
     ]
    },
    {
     "name": "stderr",
     "output_type": "stream",
     "text": [
      "Cross-validation loop::   0%|          | 0/2 [00:00<?, ?it/s]"
     ]
    },
    {
     "name": "stdout",
     "output_type": "stream",
     "text": [
      "- Imputed missing values with (num: median) and (cat: mode)\n",
      "*Best hyperparameters (dt)* {'ccp_alpha': 0.0, 'criterion': 'absolute_error', 'max_depth': 10, 'max_features': None, 'max_leaf_nodes': None, 'min_impurity_decrease': 0.0, 'min_samples_leaf': 1, 'min_samples_split': 2, 'min_weight_fraction_leaf': 0.0, 'monotonic_cst': None, 'random_state': None, 'splitter': 'best'}\n",
      "Stop training because you reached max_epochs = 200 with best_epoch = 199 and best_val_rmse = 99.84124\n",
      "\n",
      "Early stopping occurred at epoch 96 with best_epoch = 86 and best_val_rmse = 73.10524\n",
      "\n",
      "Early stopping occurred at epoch 143 with best_epoch = 133 and best_val_rmse = 59.84632\n",
      "\n",
      "Early stopping occurred at epoch 57 with best_epoch = 47 and best_val_rmse = 96.80559\n",
      "\n",
      "Early stopping occurred at epoch 66 with best_epoch = 56 and best_val_rmse = 65.32963\n",
      "\n",
      "Early stopping occurred at epoch 156 with best_epoch = 146 and best_val_rmse = 60.05876\n",
      "\n",
      "Early stopping occurred at epoch 119 with best_epoch = 109 and best_val_rmse = 67.36478\n",
      "\n",
      "Early stopping occurred at epoch 138 with best_epoch = 128 and best_val_rmse = 59.61639\n",
      "\n",
      "Early stopping occurred at epoch 107 with best_epoch = 97 and best_val_rmse = 64.80157\n",
      "\n",
      "Early stopping occurred at epoch 98 with best_epoch = 88 and best_val_rmse = 75.60916\n",
      "\n",
      "Early stopping occurred at epoch 86 with best_epoch = 76 and best_val_rmse = 64.63519\n",
      "\n",
      "Early stopping occurred at epoch 71 with best_epoch = 61 and best_val_rmse = 68.08771\n",
      "\n",
      "Early stopping occurred at epoch 113 with best_epoch = 103 and best_val_rmse = 69.11296\n",
      "\n",
      "Early stopping occurred at epoch 83 with best_epoch = 73 and best_val_rmse = 58.99038\n",
      "\n",
      "Early stopping occurred at epoch 59 with best_epoch = 49 and best_val_rmse = 65.58991\n",
      "\n",
      "Early stopping occurred at epoch 69 with best_epoch = 59 and best_val_rmse = 78.67713\n",
      "\n",
      "Early stopping occurred at epoch 76 with best_epoch = 66 and best_val_rmse = 63.81369\n",
      "\n",
      "Early stopping occurred at epoch 65 with best_epoch = 55 and best_val_rmse = 63.15506\n",
      "\n",
      "Early stopping occurred at epoch 174 with best_epoch = 164 and best_val_rmse = 89.801\n",
      "\n",
      "Early stopping occurred at epoch 69 with best_epoch = 59 and best_val_rmse = 75.40225\n",
      "\n",
      "Early stopping occurred at epoch 128 with best_epoch = 118 and best_val_rmse = 66.86107\n",
      "\n",
      "Early stopping occurred at epoch 62 with best_epoch = 52 and best_val_rmse = 84.13381\n",
      "\n",
      "Early stopping occurred at epoch 69 with best_epoch = 59 and best_val_rmse = 67.17979\n",
      "\n",
      "Early stopping occurred at epoch 82 with best_epoch = 72 and best_val_rmse = 67.74189\n",
      "\n",
      "Early stopping occurred at epoch 69 with best_epoch = 59 and best_val_rmse = 110.91049\n",
      "\n",
      "Early stopping occurred at epoch 85 with best_epoch = 75 and best_val_rmse = 63.63184\n",
      "\n",
      "Early stopping occurred at epoch 77 with best_epoch = 67 and best_val_rmse = 65.19392\n",
      "\n",
      "Early stopping occurred at epoch 86 with best_epoch = 76 and best_val_rmse = 76.72016\n",
      "\n",
      "Early stopping occurred at epoch 67 with best_epoch = 57 and best_val_rmse = 69.27385\n",
      "\n",
      "Early stopping occurred at epoch 64 with best_epoch = 54 and best_val_rmse = 62.25695\n",
      "\n",
      "Early stopping occurred at epoch 73 with best_epoch = 63 and best_val_rmse = 79.75143\n",
      "\n",
      "Early stopping occurred at epoch 58 with best_epoch = 48 and best_val_rmse = 62.35906\n",
      "\n",
      "Early stopping occurred at epoch 47 with best_epoch = 37 and best_val_rmse = 71.72675\n",
      "\n",
      "Early stopping occurred at epoch 75 with best_epoch = 65 and best_val_rmse = 71.6392\n",
      "\n",
      "Early stopping occurred at epoch 63 with best_epoch = 53 and best_val_rmse = 64.17822\n",
      "\n",
      "Early stopping occurred at epoch 53 with best_epoch = 43 and best_val_rmse = 66.3599\n",
      "*Best hyperparameters (tabnet)* {'cat_dims': [], 'cat_emb_dim': [], 'cat_idxs': [], 'clip_value': 1, 'device_name': 'auto', 'epsilon': 1e-15, 'gamma': 1.3, 'grouped_features': [], 'input_dim': 10, 'lambda_sparse': 0.001, 'mask_type': 'sparsemax', 'momentum': 0.02, 'n_a': 8, 'n_d': 16, 'n_indep_decoder': 1, 'n_independent': 2, 'n_shared': 2, 'n_shared_decoder': 1, 'n_steps': 6, 'optimizer_fn': <class 'torch.optim.adam.Adam'>, 'optimizer_params': {'lr': 0.02}, 'output_dim': 1, 'scheduler_fn': <class 'torch.optim.lr_scheduler.StepLR'>, 'scheduler_params': {'step_size': 10, 'gamma': 0.9}, 'seed': 0, 'verbose': 0}\n"
     ]
    },
    {
     "name": "stderr",
     "output_type": "stream",
     "text": [
      "Cross-validation loop::  50%|█████     | 1/2 [05:07<05:07, 307.86s/it]"
     ]
    },
    {
     "name": "stdout",
     "output_type": "stream",
     "text": [
      "\n",
      "Early stopping occurred at epoch 83 with best_epoch = 73 and best_val_rmse = 58.99038\n",
      "- Imputed missing values with (num: median) and (cat: mode)\n",
      "*Best hyperparameters (dt)* {'ccp_alpha': 0.0, 'criterion': 'absolute_error', 'max_depth': 10, 'max_features': None, 'max_leaf_nodes': None, 'min_impurity_decrease': 0.0, 'min_samples_leaf': 1, 'min_samples_split': 2, 'min_weight_fraction_leaf': 0.0, 'monotonic_cst': None, 'random_state': None, 'splitter': 'best'}\n",
      "Stop training because you reached max_epochs = 200 with best_epoch = 199 and best_val_rmse = 112.98871\n",
      "\n",
      "Early stopping occurred at epoch 133 with best_epoch = 123 and best_val_rmse = 69.58696\n",
      "\n",
      "Early stopping occurred at epoch 162 with best_epoch = 152 and best_val_rmse = 60.36398\n",
      "\n",
      "Early stopping occurred at epoch 76 with best_epoch = 66 and best_val_rmse = 113.00108\n",
      "\n",
      "Early stopping occurred at epoch 84 with best_epoch = 74 and best_val_rmse = 67.8125\n",
      "\n",
      "Early stopping occurred at epoch 137 with best_epoch = 127 and best_val_rmse = 72.51086\n",
      "\n",
      "Early stopping occurred at epoch 143 with best_epoch = 133 and best_val_rmse = 66.41086\n",
      "\n",
      "Early stopping occurred at epoch 109 with best_epoch = 99 and best_val_rmse = 61.87739\n",
      "\n",
      "Early stopping occurred at epoch 109 with best_epoch = 99 and best_val_rmse = 62.33786\n",
      "\n",
      "Early stopping occurred at epoch 146 with best_epoch = 136 and best_val_rmse = 65.43588\n",
      "\n",
      "Early stopping occurred at epoch 71 with best_epoch = 61 and best_val_rmse = 70.4438\n",
      "\n",
      "Early stopping occurred at epoch 67 with best_epoch = 57 and best_val_rmse = 62.44289\n",
      "\n",
      "Early stopping occurred at epoch 112 with best_epoch = 102 and best_val_rmse = 71.36526\n",
      "\n",
      "Early stopping occurred at epoch 73 with best_epoch = 63 and best_val_rmse = 65.56034\n",
      "\n",
      "Early stopping occurred at epoch 70 with best_epoch = 60 and best_val_rmse = 62.76924\n",
      "\n",
      "Early stopping occurred at epoch 93 with best_epoch = 83 and best_val_rmse = 83.94433\n",
      "\n",
      "Early stopping occurred at epoch 63 with best_epoch = 53 and best_val_rmse = 64.30103\n",
      "\n",
      "Early stopping occurred at epoch 59 with best_epoch = 49 and best_val_rmse = 64.19026\n",
      "\n",
      "Early stopping occurred at epoch 185 with best_epoch = 175 and best_val_rmse = 82.88995\n",
      "\n",
      "Early stopping occurred at epoch 97 with best_epoch = 87 and best_val_rmse = 71.85447\n",
      "\n",
      "Early stopping occurred at epoch 110 with best_epoch = 100 and best_val_rmse = 63.51834\n",
      "\n",
      "Early stopping occurred at epoch 87 with best_epoch = 77 and best_val_rmse = 86.2891\n",
      "\n",
      "Early stopping occurred at epoch 89 with best_epoch = 79 and best_val_rmse = 60.83258\n",
      "\n",
      "Early stopping occurred at epoch 101 with best_epoch = 91 and best_val_rmse = 64.08436\n",
      "\n",
      "Early stopping occurred at epoch 90 with best_epoch = 80 and best_val_rmse = 67.95997\n",
      "\n",
      "Early stopping occurred at epoch 93 with best_epoch = 83 and best_val_rmse = 65.96429\n",
      "\n",
      "Early stopping occurred at epoch 89 with best_epoch = 79 and best_val_rmse = 68.33121\n",
      "\n",
      "Early stopping occurred at epoch 122 with best_epoch = 112 and best_val_rmse = 67.94958\n",
      "\n",
      "Early stopping occurred at epoch 61 with best_epoch = 51 and best_val_rmse = 70.69019\n",
      "\n",
      "Early stopping occurred at epoch 63 with best_epoch = 53 and best_val_rmse = 67.20598\n",
      "\n",
      "Early stopping occurred at epoch 72 with best_epoch = 62 and best_val_rmse = 73.6017\n",
      "\n",
      "Early stopping occurred at epoch 56 with best_epoch = 46 and best_val_rmse = 67.33819\n",
      "\n",
      "Early stopping occurred at epoch 51 with best_epoch = 41 and best_val_rmse = 62.91881\n",
      "\n",
      "Early stopping occurred at epoch 68 with best_epoch = 58 and best_val_rmse = 73.08464\n",
      "\n",
      "Early stopping occurred at epoch 52 with best_epoch = 42 and best_val_rmse = 69.90027\n",
      "\n",
      "Early stopping occurred at epoch 52 with best_epoch = 42 and best_val_rmse = 64.21333\n",
      "*Best hyperparameters (tabnet)* {'cat_dims': [], 'cat_emb_dim': [], 'cat_idxs': [], 'clip_value': 1, 'device_name': 'auto', 'epsilon': 1e-15, 'gamma': 1.3, 'grouped_features': [], 'input_dim': 10, 'lambda_sparse': 0.001, 'mask_type': 'sparsemax', 'momentum': 0.02, 'n_a': 8, 'n_d': 8, 'n_indep_decoder': 1, 'n_independent': 2, 'n_shared': 1, 'n_shared_decoder': 1, 'n_steps': 9, 'optimizer_fn': <class 'torch.optim.adam.Adam'>, 'optimizer_params': {'lr': 0.02}, 'output_dim': 1, 'scheduler_fn': <class 'torch.optim.lr_scheduler.StepLR'>, 'scheduler_params': {'step_size': 10, 'gamma': 0.9}, 'seed': 0, 'verbose': 0}\n"
     ]
    },
    {
     "name": "stderr",
     "output_type": "stream",
     "text": [
      "Cross-validation loop:: 100%|██████████| 2/2 [10:17<00:00, 308.86s/it]"
     ]
    },
    {
     "name": "stdout",
     "output_type": "stream",
     "text": [
      "\n",
      "Early stopping occurred at epoch 162 with best_epoch = 152 and best_val_rmse = 60.36398\n"
     ]
    },
    {
     "name": "stderr",
     "output_type": "stream",
     "text": [
      "\n"
     ]
    }
   ],
   "execution_count": 5
  },
  {
   "cell_type": "code",
   "source": [
    "experiment.results"
   ],
   "metadata": {
    "collapsed": false,
    "ExecuteTime": {
     "end_time": "2025-03-17T15:23:53.243390Z",
     "start_time": "2025-03-17T15:23:53.229392Z"
    }
   },
   "id": "dc04285e5a4ef64",
   "outputs": [
    {
     "data": {
      "text/plain": [
       "{'dt': {0: {'mse': 8033.65271,\n",
       "   'mae': 71.4819,\n",
       "   'r2': -0.46876,\n",
       "   'rmse': 89.63065},\n",
       "  1: {'mse': 6540.64706, 'mae': 64.05882, 'r2': -0.02435, 'rmse': 80.87427}},\n",
       " 'tabnet': {0: {'mse': 3591.85979,\n",
       "   'mae': 49.75913,\n",
       "   'r2': 0.34331,\n",
       "   'rmse': 59.93213},\n",
       "  1: {'mse': 4366.00584, 'mae': 56.94672, 'r2': 0.31622, 'rmse': 66.07576}}}"
      ]
     },
     "execution_count": 6,
     "metadata": {},
     "output_type": "execute_result"
    }
   ],
   "execution_count": 6
  },
  {
   "metadata": {
    "ExecuteTime": {
     "end_time": "2025-03-17T14:10:04.777009100Z",
     "start_time": "2025-03-17T14:09:23.746655Z"
    }
   },
   "cell_type": "code",
   "source": "",
   "id": "850cc3c1189e1a94",
   "outputs": [],
   "execution_count": null
  },
  {
   "metadata": {
    "ExecuteTime": {
     "end_time": "2025-03-17T14:09:23.792654Z",
     "start_time": "2025-03-17T14:09:23.778655Z"
    }
   },
   "cell_type": "code",
   "source": "",
   "id": "d0cbdd920dc85eed",
   "outputs": [],
   "execution_count": null
  },
  {
   "metadata": {
    "ExecuteTime": {
     "end_time": "2025-03-17T14:09:23.822655Z",
     "start_time": "2025-03-17T14:09:23.809654Z"
    }
   },
   "cell_type": "code",
   "source": "",
   "id": "d7cd083c60cf9a90",
   "outputs": [],
   "execution_count": null
  },
  {
   "metadata": {
    "ExecuteTime": {
     "end_time": "2025-03-17T14:09:23.854659Z",
     "start_time": "2025-03-17T14:09:23.840655Z"
    }
   },
   "cell_type": "code",
   "source": "",
   "id": "f839297a4024eff5",
   "outputs": [],
   "execution_count": null
  },
  {
   "metadata": {
    "ExecuteTime": {
     "end_time": "2025-03-17T14:09:23.886653Z",
     "start_time": "2025-03-17T14:09:23.873653Z"
    }
   },
   "cell_type": "code",
   "source": "",
   "id": "f1a0624a255424d3",
   "outputs": [],
   "execution_count": null
  }
 ],
 "metadata": {
  "kernelspec": {
   "display_name": "Python 3",
   "language": "python",
   "name": "python3"
  },
  "language_info": {
   "codemirror_mode": {
    "name": "ipython",
    "version": 2
   },
   "file_extension": ".py",
   "mimetype": "text/x-python",
   "name": "python",
   "nbconvert_exporter": "python",
   "pygments_lexer": "ipython2",
   "version": "2.7.6"
  }
 },
 "nbformat": 4,
 "nbformat_minor": 5
}
