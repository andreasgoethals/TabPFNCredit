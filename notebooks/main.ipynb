{
 "cells": [
  {
   "cell_type": "code",
   "id": "20a284b51db49046",
   "metadata": {
    "collapsed": false,
    "ExecuteTime": {
     "end_time": "2025-06-16T14:07:32.539719Z",
     "start_time": "2025-06-16T14:07:32.511382Z"
    }
   },
   "source": [
    "# code for autoreload of modules\n",
    "%load_ext autoreload\n",
    "%autoreload 2"
   ],
   "outputs": [],
   "execution_count": 1
  },
  {
   "cell_type": "code",
   "id": "3115e454e894e990",
   "metadata": {
    "collapsed": false,
    "ExecuteTime": {
     "end_time": "2025-06-16T14:07:33.861261Z",
     "start_time": "2025-06-16T14:07:33.797179Z"
    }
   },
   "source": [
    "import os\n",
    "# Set your custom working DIR:\n",
    "DIR = '/Users/jannispoltier/Documents/Studium/3. Semester/tabpfn_credit_codebase'\n",
    "# DIR = r'C:\\Users\\u0148775\\PycharmProjects\\CreditScoring'\n",
    "os.chdir(DIR)\n",
    "\n"
   ],
   "outputs": [],
   "execution_count": 2
  },
  {
   "cell_type": "code",
   "id": "initial_id",
   "metadata": {
    "collapsed": false,
    "ExecuteTime": {
     "end_time": "2025-06-16T14:07:35.657110Z",
     "start_time": "2025-06-16T14:07:35.012872Z"
    }
   },
   "source": [
    "from src.utils import set_random_seed\n",
    "set_random_seed(0)"
   ],
   "outputs": [],
   "execution_count": 3
  },
  {
   "cell_type": "code",
   "id": "a08305fa84180327",
   "metadata": {
    "collapsed": false,
    "ExecuteTime": {
     "end_time": "2025-06-16T14:07:36.626988Z",
     "start_time": "2025-06-16T14:07:36.585420Z"
    }
   },
   "source": [
    "from src.utils import load_config\n",
    "from pathlib import Path\n",
    "\n",
    "dataconfig = load_config(Path('config') / 'CONFIG_DATA.yaml')\n",
    "experimentconfig = load_config(Path('config') / 'CONFIG_EXPERIMENT.yaml')\n",
    "methodconfig = load_config(Path('config') / 'CONFIG_METHOD.yaml')\n",
    "evaluationconfig = load_config(Path('config') / 'CONFIG_EVALUATION.yaml')\n",
    "tuningconfig = load_config(Path('config') / 'CONFIG_TUNING.yaml')\n",
    "paramconfig = load_config(Path('config') / 'datasets' / 'OPTIMAL_HYPERPARAS.yaml')\n"
   ],
   "outputs": [],
   "execution_count": 4
  },
  {
   "metadata": {
    "ExecuteTime": {
     "end_time": "2025-06-16T14:07:39.151485Z",
     "start_time": "2025-06-16T14:07:37.796441Z"
    }
   },
   "cell_type": "code",
   "source": [
    "from src.classes.experiment import Experiment\n",
    "\n",
    "experiment = Experiment(dataconfig=dataconfig,\n",
    "                        experimentconfig=experimentconfig,\n",
    "                        methodconfig=methodconfig,\n",
    "                        evaluationconfig=evaluationconfig,\n",
    "                        tuningconfig=tuningconfig,\n",
    "                        paramconfig=paramconfig)"
   ],
   "id": "33446f919592010d",
   "outputs": [
    {
     "name": "stderr",
     "output_type": "stream",
     "text": [
      "2025-06-16 16:07:39,135 | INFO | Experiment created at: 2025-06-16-16-07\n",
      "2025-06-16 16:07:39,136 | INFO | Task: pd\n",
      "2025-06-16 16:07:39,136 | INFO | Dataset: 01_gmsc\n",
      "2025-06-16 16:07:39,137 | INFO | CV splits: 3\n"
     ]
    }
   ],
   "execution_count": 5
  },
  {
   "cell_type": "code",
   "id": "57033baf67309b3f",
   "metadata": {
    "collapsed": false,
    "ExecuteTime": {
     "end_time": "2025-06-16T14:07:40.550806Z",
     "start_time": "2025-06-16T14:07:40.204003Z"
    }
   },
   "source": [
    "experiment.run()"
   ],
   "outputs": [
    {
     "name": "stderr",
     "output_type": "stream",
     "text": [
      "2025-06-16 16:07:40,274 | INFO | 01_gmsc loaded\n",
      "2025-06-16 16:07:40,274 | INFO | Dataset has 150000 rows. Subsampling to 10000 rows.\n",
      "2025-06-16 16:07:40,278 | INFO | 01_gmsc preprocessed\n",
      "2025-06-16 16:07:40,279 | INFO | x shape: (10000, 10)\n",
      "2025-06-16 16:07:40,279 | INFO | y shape: (10000,)\n",
      "Cross-validation loop::   0%|          | 0/3 [00:00<?, ?it/s]2025-06-16 16:07:40,306 | INFO | Imputed missing values with (num: median) and (cat: mode)\n",
      "2025-06-16 16:07:40,308 | INFO | Data preprocessing finished\n",
      "2025-06-16 16:07:40,308 | INFO | Tuning tabpfn\n",
      "2025-06-16 16:07:40,308 | INFO | Creating classifier with method: tabpfn\n",
      "Cross-validation loop::   0%|          | 0/3 [00:00<?, ?it/s]\n"
     ]
    },
    {
     "ename": "TypeError",
     "evalue": "TabPFNClassifier.__init__() got an unexpected keyword argument 'param_grid'",
     "output_type": "error",
     "traceback": [
      "\u001B[31m---------------------------------------------------------------------------\u001B[39m",
      "\u001B[31mTypeError\u001B[39m                                 Traceback (most recent call last)",
      "\u001B[36mCell\u001B[39m\u001B[36m \u001B[39m\u001B[32mIn[6]\u001B[39m\u001B[32m, line 1\u001B[39m\n\u001B[32m----> \u001B[39m\u001B[32m1\u001B[39m experiment.run()\n",
      "\u001B[36mFile \u001B[39m\u001B[32m~/Documents/Studium/3. Semester/tabpfn_credit_codebase/src/classes/experiment.py:115\u001B[39m, in \u001B[36mExperiment.run\u001B[39m\u001B[34m(self)\u001B[39m\n\u001B[32m    113\u001B[39m \u001B[38;5;28mself\u001B[39m.data.load_preprocess_data()\n\u001B[32m    114\u001B[39m \u001B[38;5;28mself\u001B[39m.data.split_data()\n\u001B[32m--> \u001B[39m\u001B[32m115\u001B[39m \u001B[38;5;28mself\u001B[39m.train_evaluate()\n",
      "\u001B[36mFile \u001B[39m\u001B[32m~/Documents/Studium/3. Semester/tabpfn_credit_codebase/src/classes/experiment.py:166\u001B[39m, in \u001B[36mExperiment.train_evaluate\u001B[39m\u001B[34m(self)\u001B[39m\n\u001B[32m    164\u001B[39m \u001B[38;5;28;01mif\u001B[39;00m \u001B[38;5;28mself\u001B[39m.config.task == \u001B[33m'\u001B[39m\u001B[33mpd\u001B[39m\u001B[33m'\u001B[39m:\n\u001B[32m    165\u001B[39m     logging.info(\u001B[33mf\u001B[39m\u001B[33m\"\u001B[39m\u001B[33mCreating classifier with method: \u001B[39m\u001B[38;5;132;01m{\u001B[39;00mmethod\u001B[38;5;132;01m}\u001B[39;00m\u001B[33m\"\u001B[39m)\n\u001B[32m--> \u001B[39m\u001B[32m166\u001B[39m     model = \u001B[38;5;28mself\u001B[39m.model_factory.create_classifier(method, tuned_hyperparams[method])\n\u001B[32m    167\u001B[39m \u001B[38;5;28;01melse\u001B[39;00m:\n\u001B[32m    168\u001B[39m     logging.info(\u001B[33mf\u001B[39m\u001B[33m\"\u001B[39m\u001B[33mCreating regressor with method: \u001B[39m\u001B[38;5;132;01m{\u001B[39;00mmethod\u001B[38;5;132;01m}\u001B[39;00m\u001B[33m\"\u001B[39m)\n",
      "\u001B[36mFile \u001B[39m\u001B[32m~/Documents/Studium/3. Semester/tabpfn_credit_codebase/src/classes/models/models.py:142\u001B[39m, in \u001B[36mModels.create_classifier\u001B[39m\u001B[34m(method, params)\u001B[39m\n\u001B[32m     90\u001B[39m \u001B[38;5;250m\u001B[39m\u001B[33;03m\"\"\"\u001B[39;00m\n\u001B[32m     91\u001B[39m \u001B[33;03mCreates and returns a machine learning classifier based on the specified method and parameters.\u001B[39;00m\n\u001B[32m     92\u001B[39m \n\u001B[32m   (...)\u001B[39m\u001B[32m    120\u001B[39m \u001B[33;03m    the provided parameters.\u001B[39;00m\n\u001B[32m    121\u001B[39m \u001B[33;03m\"\"\"\u001B[39;00m\n\u001B[32m    122\u001B[39m models = {\n\u001B[32m    123\u001B[39m     \u001B[33m'\u001B[39m\u001B[33mab\u001B[39m\u001B[33m'\u001B[39m: \u001B[38;5;28;01mlambda\u001B[39;00m p: AdaBoostClassifier(random_state=\u001B[32m0\u001B[39m, **p),\n\u001B[32m    124\u001B[39m     \u001B[33m'\u001B[39m\u001B[33mann\u001B[39m\u001B[33m'\u001B[39m: \u001B[38;5;28;01mlambda\u001B[39;00m p: NNClassifier(**p),\n\u001B[32m   (...)\u001B[39m\u001B[32m    140\u001B[39m     \u001B[33m'\u001B[39m\u001B[33mxgb\u001B[39m\u001B[33m'\u001B[39m: \u001B[38;5;28;01mlambda\u001B[39;00m p: XGBClassifier(random_state=\u001B[32m0\u001B[39m, **p)\n\u001B[32m    141\u001B[39m }\n\u001B[32m--> \u001B[39m\u001B[32m142\u001B[39m \u001B[38;5;28;01mreturn\u001B[39;00m models[method](params)\n",
      "\u001B[36mFile \u001B[39m\u001B[32m~/Documents/Studium/3. Semester/tabpfn_credit_codebase/src/classes/models/models.py:137\u001B[39m, in \u001B[36mModels.create_classifier.<locals>.<lambda>\u001B[39m\u001B[34m(p)\u001B[39m\n\u001B[32m     88\u001B[39m \u001B[38;5;129m@staticmethod\u001B[39m\n\u001B[32m     89\u001B[39m \u001B[38;5;28;01mdef\u001B[39;00m\u001B[38;5;250m \u001B[39m\u001B[34mcreate_classifier\u001B[39m(method: \u001B[38;5;28mstr\u001B[39m, params: Dict[\u001B[38;5;28mstr\u001B[39m, Any]) -> Any:\n\u001B[32m     90\u001B[39m \u001B[38;5;250m    \u001B[39m\u001B[33;03m\"\"\"\u001B[39;00m\n\u001B[32m     91\u001B[39m \u001B[33;03m    Creates and returns a machine learning classifier based on the specified method and parameters.\u001B[39;00m\n\u001B[32m     92\u001B[39m \n\u001B[32m   (...)\u001B[39m\u001B[32m    120\u001B[39m \u001B[33;03m        the provided parameters.\u001B[39;00m\n\u001B[32m    121\u001B[39m \u001B[33;03m    \"\"\"\u001B[39;00m\n\u001B[32m    122\u001B[39m     models = {\n\u001B[32m    123\u001B[39m         \u001B[33m'\u001B[39m\u001B[33mab\u001B[39m\u001B[33m'\u001B[39m: \u001B[38;5;28;01mlambda\u001B[39;00m p: AdaBoostClassifier(random_state=\u001B[32m0\u001B[39m, **p),\n\u001B[32m    124\u001B[39m         \u001B[33m'\u001B[39m\u001B[33mann\u001B[39m\u001B[33m'\u001B[39m: \u001B[38;5;28;01mlambda\u001B[39;00m p: NNClassifier(**p),\n\u001B[32m    125\u001B[39m         \u001B[33m'\u001B[39m\u001B[33mbnb\u001B[39m\u001B[33m'\u001B[39m: \u001B[38;5;28;01mlambda\u001B[39;00m p: BernoulliNB(**p),\n\u001B[32m    126\u001B[39m         \u001B[33m'\u001B[39m\u001B[33mcb\u001B[39m\u001B[33m'\u001B[39m: \u001B[38;5;28;01mlambda\u001B[39;00m p: CatBoostClassifier(random_state=\u001B[32m0\u001B[39m, **p),\n\u001B[32m    127\u001B[39m         \u001B[33m'\u001B[39m\u001B[33mdt\u001B[39m\u001B[33m'\u001B[39m: \u001B[38;5;28;01mlambda\u001B[39;00m p: DecisionTreeClassifier(random_state=\u001B[32m0\u001B[39m, **p),\n\u001B[32m    128\u001B[39m         \u001B[33m'\u001B[39m\u001B[33mgnb\u001B[39m\u001B[33m'\u001B[39m: \u001B[38;5;28;01mlambda\u001B[39;00m p: GaussianNB(),\n\u001B[32m    129\u001B[39m         \u001B[33m'\u001B[39m\u001B[33mknn\u001B[39m\u001B[33m'\u001B[39m: \u001B[38;5;28;01mlambda\u001B[39;00m p: KNeighborsClassifier(**p),\n\u001B[32m    130\u001B[39m         \u001B[33m'\u001B[39m\u001B[33mlda\u001B[39m\u001B[33m'\u001B[39m: \u001B[38;5;28;01mlambda\u001B[39;00m p: LinearDiscriminantAnalysis(),\n\u001B[32m    131\u001B[39m         \u001B[33m'\u001B[39m\u001B[33mlgbm\u001B[39m\u001B[33m'\u001B[39m: \u001B[38;5;28;01mlambda\u001B[39;00m p: LGBMClassifier(random_state=\u001B[32m0\u001B[39m, verbose=-\u001B[32m1\u001B[39m, **p),\n\u001B[32m    132\u001B[39m         \u001B[33m'\u001B[39m\u001B[33mlr\u001B[39m\u001B[33m'\u001B[39m: \u001B[38;5;28;01mlambda\u001B[39;00m p: LogisticRegression(random_state=\u001B[32m0\u001B[39m, solver=\u001B[33m'\u001B[39m\u001B[33mliblinear\u001B[39m\u001B[33m'\u001B[39m, **p),\n\u001B[32m    133\u001B[39m         \u001B[33m'\u001B[39m\u001B[33mrf\u001B[39m\u001B[33m'\u001B[39m: \u001B[38;5;28;01mlambda\u001B[39;00m p: RandomForestClassifier(random_state=\u001B[32m0\u001B[39m, **p),\n\u001B[32m    134\u001B[39m         \u001B[33m'\u001B[39m\u001B[33msvm\u001B[39m\u001B[33m'\u001B[39m: \u001B[38;5;28;01mlambda\u001B[39;00m p: SVC(random_state=\u001B[32m0\u001B[39m, probability=\u001B[38;5;28;01mTrue\u001B[39;00m, **p),\n\u001B[32m    135\u001B[39m         \u001B[33m'\u001B[39m\u001B[33mtabnet\u001B[39m\u001B[33m'\u001B[39m: \u001B[38;5;28;01mlambda\u001B[39;00m p: TabNetClassifier(verbose=\u001B[32m0\u001B[39m, optimizer_fn=torch.optim.Adam,\n\u001B[32m    136\u001B[39m                                              scheduler_fn=torch.optim.lr_scheduler.StepLR, **p),\n\u001B[32m--> \u001B[39m\u001B[32m137\u001B[39m         \u001B[33m'\u001B[39m\u001B[33mtabpfn\u001B[39m\u001B[33m'\u001B[39m: \u001B[38;5;28;01mlambda\u001B[39;00m p: TabPFNClassifier(**p),\n\u001B[32m    138\u001B[39m         \u001B[33m'\u001B[39m\u001B[33mtabpfn_rf\u001B[39m\u001B[33m'\u001B[39m: \u001B[38;5;28;01mlambda\u001B[39;00m p: tabpfn_create_classifier(\u001B[33m'\u001B[39m\u001B[33mtabpfn_rf\u001B[39m\u001B[33m'\u001B[39m, **p),\n\u001B[32m    139\u001B[39m         \u001B[33m'\u001B[39m\u001B[33mtabpfn_hpo\u001B[39m\u001B[33m'\u001B[39m: \u001B[38;5;28;01mlambda\u001B[39;00m p: tabpfn_create_classifier(\u001B[33m'\u001B[39m\u001B[33mtabpfn_hpo\u001B[39m\u001B[33m'\u001B[39m, **p),\n\u001B[32m    140\u001B[39m         \u001B[33m'\u001B[39m\u001B[33mxgb\u001B[39m\u001B[33m'\u001B[39m: \u001B[38;5;28;01mlambda\u001B[39;00m p: XGBClassifier(random_state=\u001B[32m0\u001B[39m, **p)\n\u001B[32m    141\u001B[39m     }\n\u001B[32m    142\u001B[39m     \u001B[38;5;28;01mreturn\u001B[39;00m models[method](params)\n",
      "\u001B[31mTypeError\u001B[39m: TabPFNClassifier.__init__() got an unexpected keyword argument 'param_grid'"
     ]
    }
   ],
   "execution_count": 6
  },
  {
   "cell_type": "code",
   "id": "dc04285e5a4ef64",
   "metadata": {
    "collapsed": false
   },
   "source": [
    "experiment.results"
   ],
   "outputs": [],
   "execution_count": null
  },
  {
   "cell_type": "code",
   "id": "850cc3c1189e1a94",
   "metadata": {},
   "source": [
    "\n",
    "# Todo: implement method that writes experiment.results to a csv file / connects with WandB / ...\n",
    "\n",
    "# Quick and dirty examplary code:\n",
    "\n",
    "import pandas as pd\n",
    "\n",
    "# Convert dictionary of dictionaries to a list of rows\n",
    "rows = []\n",
    "for model_name, splits_dict in experiment.results.items():\n",
    "    for split_idx, metrics_dict in splits_dict.items():\n",
    "        # Create a row dict with model and split identifiers\n",
    "        row = {\n",
    "            'model': model_name,\n",
    "            'split': split_idx,\n",
    "        }\n",
    "        # Update with all metrics in that split\n",
    "        row.update(metrics_dict)\n",
    "\n",
    "        rows.append(row)\n",
    "\n",
    "# Convert the list of row dictionaries into a DataFrame\n",
    "df = pd.DataFrame(rows)\n",
    "\n",
    "df\n",
    "\n",
    "# Summarise df by model (along split) and get the mean and sd of all the metrics, discarding the split and sorting by mean of aucroc\n",
    "df_summary = df.groupby('model').agg(['mean', 'std']).reset_index()\n",
    "# df_summary = df_summary.loc[:, ~df_summary.columns.str.contains('split')]\n",
    "df_summary\n",
    "\n",
    "\n"
   ],
   "outputs": [],
   "execution_count": null
  },
  {
   "cell_type": "code",
   "id": "cbab971e",
   "metadata": {},
   "source": [],
   "outputs": [],
   "execution_count": null
  }
 ],
 "metadata": {
  "kernelspec": {
   "display_name": "tabpfn",
   "language": "python",
   "name": "python3"
  },
  "language_info": {
   "codemirror_mode": {
    "name": "ipython",
    "version": 3
   },
   "file_extension": ".py",
   "mimetype": "text/x-python",
   "name": "python",
   "nbconvert_exporter": "python",
   "pygments_lexer": "ipython3",
   "version": "3.10.16"
  }
 },
 "nbformat": 4,
 "nbformat_minor": 5
}
