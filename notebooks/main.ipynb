{
 "cells": [
  {
   "cell_type": "code",
   "source": [
    "# code for autoreload of modules\n",
    "#%load_ext autoreload\n",
    "#%autoreload 2"
   ],
   "metadata": {
    "collapsed": false,
    "ExecuteTime": {
     "end_time": "2025-03-14T15:20:31.375173Z",
     "start_time": "2025-03-14T15:20:31.369170Z"
    }
   },
   "id": "20a284b51db49046",
   "outputs": [],
   "execution_count": 1
  },
  {
   "cell_type": "code",
   "source": [
    "import os\n",
    "from src.utils import set_random_seed"
   ],
   "metadata": {
    "collapsed": false,
    "ExecuteTime": {
     "end_time": "2025-03-14T15:20:33.265740Z",
     "start_time": "2025-03-14T15:20:31.380174Z"
    }
   },
   "id": "initial_id",
   "outputs": [],
   "execution_count": 2
  },
  {
   "cell_type": "code",
   "source": [
    "\n",
    "\n",
    "DIR = r'C:\\Users\\u0148775\\PycharmProjects\\CreditScoring'\n",
    "os.chdir(DIR)\n",
    "\n",
    "set_random_seed(0)"
   ],
   "metadata": {
    "collapsed": false,
    "ExecuteTime": {
     "end_time": "2025-03-14T15:20:33.468367Z",
     "start_time": "2025-03-14T15:20:33.454367Z"
    }
   },
   "id": "3115e454e894e990",
   "outputs": [],
   "execution_count": 3
  },
  {
   "cell_type": "code",
   "source": [
    "from src.utils import load_config\n",
    "\n",
    "# read dataconfig from CONFIG_DATA.yaml file:\n",
    "\n",
    "dataconfig = load_config('config\\CONFIG_DATA.yaml')\n",
    "experimentconfig = load_config('config\\CONFIG_EXPERIMENT.yaml')\n",
    "methodconfig = load_config('config\\CONFIG_METHOD.yaml')\n",
    "evaluationconfig = load_config('config\\CONFIG_EVALUATION.yaml')\n",
    "\n"
   ],
   "metadata": {
    "collapsed": false,
    "ExecuteTime": {
     "end_time": "2025-03-14T15:20:33.515365Z",
     "start_time": "2025-03-14T15:20:33.486368Z"
    }
   },
   "id": "a08305fa84180327",
   "outputs": [],
   "execution_count": 4
  },
  {
   "cell_type": "code",
   "source": [
    "from src.classes.experiment import Experiment\n",
    "\n",
    "# Initialize experiment object\n",
    "experiment = Experiment(dataconfig=dataconfig,\n",
    "                        experimentconfig=experimentconfig,\n",
    "                        methodconfig=methodconfig,\n",
    "                        evaluationconfig=evaluationconfig)\n"
   ],
   "metadata": {
    "collapsed": false,
    "ExecuteTime": {
     "end_time": "2025-03-14T15:20:35.905701Z",
     "start_time": "2025-03-14T15:20:33.532366Z"
    }
   },
   "id": "d7ada7e1194abf9b",
   "outputs": [
    {
     "name": "stdout",
     "output_type": "stream",
     "text": [
      "\n",
      "Experiment created at:  2025-03-14-16-20\n",
      "Task: pd\n",
      "Dataset: 22_bank_status\n",
      "CV splits:  2\n"
     ]
    }
   ],
   "execution_count": 5
  },
  {
   "cell_type": "code",
   "source": [
    "experiment.run()"
   ],
   "metadata": {
    "collapsed": false,
    "ExecuteTime": {
     "end_time": "2025-03-14T15:20:38.329026Z",
     "start_time": "2025-03-14T15:20:35.983620Z"
    }
   },
   "id": "57033baf67309b3f",
   "outputs": [
    {
     "name": "stdout",
     "output_type": "stream",
     "text": [
      "22_bank_status preprocessed\n",
      "x shape:  (100000, 16)\n",
      "y shape:  (100000,)\n"
     ]
    },
    {
     "name": "stderr",
     "output_type": "stream",
     "text": [
      "Cross-validation loop::   0%|          | 0/2 [00:00<?, ?it/s]"
     ]
    },
    {
     "name": "stdout",
     "output_type": "stream",
     "text": [
      "- Imputed missing values with (num: median) and (cat: mode)\n",
      "*Best hyperparameters (dt)* {'ccp_alpha': 0.0, 'class_weight': None, 'criterion': 'gini', 'max_depth': 10, 'max_features': None, 'max_leaf_nodes': None, 'min_impurity_decrease': 0.0, 'min_samples_leaf': 1, 'min_samples_split': 2, 'min_weight_fraction_leaf': 0.0, 'monotonic_cst': None, 'random_state': None, 'splitter': 'best'}\n"
     ]
    },
    {
     "name": "stderr",
     "output_type": "stream",
     "text": [
      "Cross-validation loop::  50%|█████     | 1/2 [00:00<00:00,  1.10it/s]"
     ]
    },
    {
     "name": "stdout",
     "output_type": "stream",
     "text": [
      "- Imputed missing values with (num: median) and (cat: mode)\n",
      "*Best hyperparameters (dt)* {'ccp_alpha': 0.0, 'class_weight': None, 'criterion': 'gini', 'max_depth': 10, 'max_features': None, 'max_leaf_nodes': None, 'min_impurity_decrease': 0.0, 'min_samples_leaf': 1, 'min_samples_split': 2, 'min_weight_fraction_leaf': 0.0, 'monotonic_cst': None, 'random_state': None, 'splitter': 'best'}\n"
     ]
    },
    {
     "name": "stderr",
     "output_type": "stream",
     "text": [
      "Cross-validation loop:: 100%|██████████| 2/2 [00:01<00:00,  1.06it/s]\n"
     ]
    }
   ],
   "execution_count": 6
  },
  {
   "cell_type": "code",
   "source": [
    "experiment.results"
   ],
   "metadata": {
    "collapsed": false,
    "ExecuteTime": {
     "end_time": "2025-03-14T15:20:38.361028Z",
     "start_time": "2025-03-14T15:20:38.347026Z"
    }
   },
   "id": "dc04285e5a4ef64",
   "outputs": [
    {
     "data": {
      "text/plain": [
       "{'dt': {0: {'accuracy': 0.8092,\n",
       "   'brier': 0.14551,\n",
       "   'f1': 0.37525,\n",
       "   'precision': 0.72771,\n",
       "   'recall': 0.72771,\n",
       "   'h_measure': 0.14559,\n",
       "   'aucroc': 0.61254,\n",
       "   'aucpr': 0.35333},\n",
       "  1: {'accuracy': 0.80968,\n",
       "   'brier': 0.14566,\n",
       "   'f1': 0.34938,\n",
       "   'precision': 0.76958,\n",
       "   'recall': 0.76958,\n",
       "   'h_measure': 0.13712,\n",
       "   'aucroc': 0.60311,\n",
       "   'aucpr': 0.34893}}}"
      ]
     },
     "execution_count": 7,
     "metadata": {},
     "output_type": "execute_result"
    }
   ],
   "execution_count": 7
  },
  {
   "metadata": {
    "ExecuteTime": {
     "end_time": "2025-03-14T15:20:38.408026Z",
     "start_time": "2025-03-14T15:20:38.391026Z"
    }
   },
   "cell_type": "code",
   "source": "",
   "id": "850cc3c1189e1a94",
   "outputs": [],
   "execution_count": null
  }
 ],
 "metadata": {
  "kernelspec": {
   "display_name": "Python 3",
   "language": "python",
   "name": "python3"
  },
  "language_info": {
   "codemirror_mode": {
    "name": "ipython",
    "version": 2
   },
   "file_extension": ".py",
   "mimetype": "text/x-python",
   "name": "python",
   "nbconvert_exporter": "python",
   "pygments_lexer": "ipython2",
   "version": "2.7.6"
  }
 },
 "nbformat": 4,
 "nbformat_minor": 5
}
