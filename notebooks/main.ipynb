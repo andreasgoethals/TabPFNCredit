{
 "cells": [
  {
   "cell_type": "code",
   "id": "20a284b51db49046",
   "metadata": {
    "collapsed": false,
    "ExecuteTime": {
     "end_time": "2025-06-03T11:32:18.299428Z",
     "start_time": "2025-06-03T11:32:18.238573Z"
    }
   },
   "source": [
    "# code for autoreload of modules\n",
    "%load_ext autoreload\n",
    "%autoreload 2"
   ],
   "outputs": [],
   "execution_count": 1
  },
  {
   "cell_type": "code",
   "id": "3115e454e894e990",
   "metadata": {
    "collapsed": false,
    "ExecuteTime": {
     "end_time": "2025-06-03T11:32:18.860329Z",
     "start_time": "2025-06-03T11:32:18.798388Z"
    }
   },
   "source": [
    "import os\n",
    "# Set your custom working DIR:\n",
    "DIR = '/Users/jannispoltier/Documents/Studium/3. Semester/tabpfn_credit_codebase'\n",
    "# DIR = r'C:\\Users\\u0148775\\PycharmProjects\\CreditScoring'\n",
    "os.chdir(DIR)\n",
    "\n"
   ],
   "outputs": [],
   "execution_count": 2
  },
  {
   "cell_type": "code",
   "id": "initial_id",
   "metadata": {
    "collapsed": false,
    "ExecuteTime": {
     "end_time": "2025-06-03T11:32:21.403708Z",
     "start_time": "2025-06-03T11:32:20.497758Z"
    }
   },
   "source": [
    "\n",
    "from src.utils import set_random_seed\n",
    "set_random_seed(0)"
   ],
   "outputs": [],
   "execution_count": 3
  },
  {
   "cell_type": "code",
   "id": "a08305fa84180327",
   "metadata": {
    "collapsed": false,
    "ExecuteTime": {
     "end_time": "2025-06-03T12:07:00.073683Z",
     "start_time": "2025-06-03T12:06:59.989758Z"
    }
   },
   "source": [
    "from src.utils import load_config\n",
    "from pathlib import Path\n",
    "\n",
    "# read dataconfig from CONFIG_DATA.yaml file:\n",
    "\n",
    "# dataconfig = load_config('config\\CONFIG_DATA.yaml')\n",
    "# experimentconfig = load_config('config\\CONFIG_EXPERIMENT.yaml')\n",
    "# methodconfig = load_config('config\\CONFIG_METHOD.yaml')\n",
    "# evaluationconfig = load_config('config\\CONFIG_EVALUATION.yaml')\n",
    "dataconfig = load_config(Path('config') / 'CONFIG_DATA.yaml')\n",
    "experimentconfig = load_config(Path('config') / 'CONFIG_EXPERIMENT.yaml')\n",
    "methodconfig = load_config(Path('config') / 'CONFIG_METHOD.yaml')\n",
    "evaluationconfig = load_config(Path('config') / 'CONFIG_EVALUATION.yaml')\n",
    "tuningconfig = load_config(Path('config') / 'CONFIG_TUNING.yaml')\n"
   ],
   "outputs": [],
   "execution_count": 21
  },
  {
   "metadata": {},
   "cell_type": "code",
   "outputs": [],
   "execution_count": null,
   "source": "",
   "id": "722be1afbd36901d"
  },
  {
   "metadata": {
    "ExecuteTime": {
     "end_time": "2025-06-03T12:07:01.506616Z",
     "start_time": "2025-06-03T12:07:01.482576Z"
    }
   },
   "cell_type": "code",
   "source": [
    "from src.classes.experiment import Experiment\n",
    "\n",
    "# Initialize experiment object\n",
    "experiment = Experiment(dataconfig=dataconfig,\n",
    "                        experimentconfig=experimentconfig,\n",
    "                        methodconfig=methodconfig,\n",
    "                        evaluationconfig=evaluationconfig,\n",
    "                        tuningconfig=tuningconfig)"
   ],
   "id": "33446f919592010d",
   "outputs": [
    {
     "name": "stdout",
     "output_type": "stream",
     "text": [
      "\n",
      "Experiment created at:  2025-06-03-14-07\n",
      "Task: pd\n",
      "Dataset: 01_gmsc\n",
      "CV splits:  3\n"
     ]
    }
   ],
   "execution_count": 22
  },
  {
   "cell_type": "code",
   "id": "57033baf67309b3f",
   "metadata": {
    "collapsed": false,
    "ExecuteTime": {
     "end_time": "2025-06-03T12:07:08.782150Z",
     "start_time": "2025-06-03T12:07:02.919615Z"
    }
   },
   "source": [
    "experiment.run()"
   ],
   "outputs": [
    {
     "name": "stdout",
     "output_type": "stream",
     "text": [
      "01_gmsc loaded\n",
      "- Dataset has 150000 rows. Subsampling to 30000 rows.\n",
      "01_gmsc preprocessed\n",
      "x shape:  (30000, 10)\n",
      "y shape:  (30000,)\n"
     ]
    },
    {
     "name": "stderr",
     "output_type": "stream",
     "text": [
      "Cross-validation loop::   0%|          | 0/3 [00:00<?, ?it/s][I 2025-06-03 14:07:03,004] A new study created in memory with name: no-name-5ed62f00-bf88-47bb-9cdc-8a2d4c8acda3\n",
      "[I 2025-06-03 14:07:03,012] Trial 0 finished with value: 0.5 and parameters: {'C': 0.008174795497570055, 'penalty': 'l1'}. Best is trial 0 with value: 0.5.\n",
      "[I 2025-06-03 14:07:03,048] Trial 1 finished with value: 0.6889055102256245 and parameters: {'C': 34.24499260464794, 'penalty': 'l2'}. Best is trial 1 with value: 0.6889055102256245.\n",
      "[I 2025-06-03 14:07:03,062] Trial 2 finished with value: 0.6221953326895483 and parameters: {'C': 0.037869531371921505, 'penalty': 'l2'}. Best is trial 1 with value: 0.6889055102256245.\n",
      "[I 2025-06-03 14:07:03,075] Trial 3 finished with value: 0.6896373431751629 and parameters: {'C': 37.08053612319896, 'penalty': 'l2'}. Best is trial 3 with value: 0.6896373431751629.\n",
      "[I 2025-06-03 14:07:03,085] Trial 4 finished with value: 0.5 and parameters: {'C': 0.005075325360717938, 'penalty': 'l1'}. Best is trial 3 with value: 0.6896373431751629.\n",
      "[I 2025-06-03 14:07:03,107] Trial 5 finished with value: 0.6936271155958855 and parameters: {'C': 62.40446287852889, 'penalty': 'l2'}. Best is trial 5 with value: 0.6936271155958855.\n",
      "[I 2025-06-03 14:07:03,127] Trial 6 finished with value: 0.694297860653142 and parameters: {'C': 70.04706945391602, 'penalty': 'l2'}. Best is trial 6 with value: 0.694297860653142.\n",
      "[I 2025-06-03 14:07:03,138] Trial 7 finished with value: 0.6681820536478756 and parameters: {'C': 8.298921292143321, 'penalty': 'l2'}. Best is trial 6 with value: 0.694297860653142.\n",
      "[I 2025-06-03 14:07:03,157] Trial 8 finished with value: 0.6786586271742403 and parameters: {'C': 15.623756304165413, 'penalty': 'l2'}. Best is trial 6 with value: 0.694297860653142.\n",
      "[I 2025-06-03 14:07:03,168] Trial 9 finished with value: 0.614091412899417 and parameters: {'C': 0.0022418048736892165, 'penalty': 'l2'}. Best is trial 6 with value: 0.694297860653142.\n"
     ]
    },
    {
     "name": "stdout",
     "output_type": "stream",
     "text": [
      "- Omitting rows with missing values: 6042 rows left out\n",
      "---- Tuning lr ----\n"
     ]
    },
    {
     "name": "stderr",
     "output_type": "stream",
     "text": [
      "[I 2025-06-03 14:07:03,193] Trial 10 finished with value: 0.6844154279671122 and parameters: {'C': 1.7927809957306413, 'penalty': 'l1'}. Best is trial 6 with value: 0.694297860653142.\n",
      "[I 2025-06-03 14:07:03,216] Trial 11 finished with value: 0.6433793919751034 and parameters: {'C': 1.0140246984319483, 'penalty': 'l2'}. Best is trial 6 with value: 0.694297860653142.\n",
      "[I 2025-06-03 14:07:03,251] Trial 12 finished with value: 0.6940410471539884 and parameters: {'C': 67.72573985132641, 'penalty': 'l2'}. Best is trial 6 with value: 0.694297860653142.\n",
      "[I 2025-06-03 14:07:03,269] Trial 13 finished with value: 0.6318091008253218 and parameters: {'C': 0.19531511808803986, 'penalty': 'l2'}. Best is trial 6 with value: 0.694297860653142.\n",
      "[I 2025-06-03 14:07:03,317] Trial 14 finished with value: 0.690004725759347 and parameters: {'C': 3.4764497659548352, 'penalty': 'l1'}. Best is trial 6 with value: 0.694297860653142.\n",
      "[I 2025-06-03 14:07:03,351] Trial 15 finished with value: 0.6344556726705476 and parameters: {'C': 0.2921195830836775, 'penalty': 'l2'}. Best is trial 6 with value: 0.694297860653142.\n",
      "[I 2025-06-03 14:07:03,396] Trial 16 finished with value: 0.6960806497015002 and parameters: {'C': 98.58173124269797, 'penalty': 'l2'}. Best is trial 16 with value: 0.6960806497015002.\n",
      "[I 2025-06-03 14:07:03,420] Trial 17 finished with value: 0.6687870681330367 and parameters: {'C': 8.606164027913739, 'penalty': 'l2'}. Best is trial 16 with value: 0.6960806497015002.\n",
      "[I 2025-06-03 14:07:03,476] Trial 18 finished with value: 0.6999191685009325 and parameters: {'C': 90.88477599845123, 'penalty': 'l1'}. Best is trial 18 with value: 0.6999191685009325.\n",
      "[I 2025-06-03 14:07:03,496] Trial 19 finished with value: 0.6153147590302566 and parameters: {'C': 0.055887296271253155, 'penalty': 'l1'}. Best is trial 18 with value: 0.6999191685009325.\n",
      "[I 2025-06-03 14:07:03,546] A new study created in memory with name: no-name-ae0d6ac1-2e53-4332-9f88-f97bfbfcb413\n"
     ]
    },
    {
     "name": "stdout",
     "output_type": "stream",
     "text": [
      "*Best hyperparameters (lr)* {'C': 90.88477599845123, 'penalty': 'l1'}\n",
      "---- Tuning rf ----\n"
     ]
    },
    {
     "name": "stderr",
     "output_type": "stream",
     "text": [
      "[I 2025-06-03 14:07:04,258] Trial 0 finished with value: 0.8293523168438379 and parameters: {'n_estimators': 99, 'max_depth': 26}. Best is trial 0 with value: 0.8293523168438379.\n",
      "[I 2025-06-03 14:07:04,522] Trial 1 finished with value: 0.8141449747633699 and parameters: {'n_estimators': 43, 'max_depth': 23}. Best is trial 0 with value: 0.8293523168438379.\n",
      "[I 2025-06-03 14:07:04,692] Trial 2 finished with value: 0.8524976639989992 and parameters: {'n_estimators': 39, 'max_depth': 10}. Best is trial 2 with value: 0.8524976639989992.\n",
      "[I 2025-06-03 14:07:05,205] Trial 3 finished with value: 0.8279339781608341 and parameters: {'n_estimators': 91, 'max_depth': 32}. Best is trial 2 with value: 0.8524976639989992.\n",
      "[I 2025-06-03 14:07:05,306] Trial 4 finished with value: 0.8125843012913492 and parameters: {'n_estimators': 17, 'max_depth': 18}. Best is trial 2 with value: 0.8524976639989992.\n",
      "[I 2025-06-03 14:07:05,391] Trial 5 finished with value: 0.8495846267676392 and parameters: {'n_estimators': 22, 'max_depth': 8}. Best is trial 2 with value: 0.8524976639989992.\n",
      "[I 2025-06-03 14:07:05,691] Trial 6 finished with value: 0.821358966138737 and parameters: {'n_estimators': 53, 'max_depth': 26}. Best is trial 2 with value: 0.8524976639989992.\n",
      "[I 2025-06-03 14:07:05,717] Trial 7 finished with value: 0.8357933020302685 and parameters: {'n_estimators': 23, 'max_depth': 1}. Best is trial 2 with value: 0.8524976639989992.\n",
      "[I 2025-06-03 14:07:05,798] Trial 8 finished with value: 0.8519478729684611 and parameters: {'n_estimators': 24, 'max_depth': 7}. Best is trial 2 with value: 0.8524976639989992.\n",
      "[I 2025-06-03 14:07:06,310] Trial 9 finished with value: 0.8299678384464713 and parameters: {'n_estimators': 89, 'max_depth': 24}. Best is trial 2 with value: 0.8524976639989992.\n",
      "[I 2025-06-03 14:07:06,680] Trial 10 finished with value: 0.8454142785373311 and parameters: {'n_estimators': 72, 'max_depth': 13}. Best is trial 2 with value: 0.8524976639989992.\n",
      "[I 2025-06-03 14:07:06,794] Trial 11 finished with value: 0.8541324981722502 and parameters: {'n_estimators': 38, 'max_depth': 6}. Best is trial 11 with value: 0.8541324981722502.\n",
      "[I 2025-06-03 14:07:06,837] Trial 12 finished with value: 0.8407483853248312 and parameters: {'n_estimators': 41, 'max_depth': 1}. Best is trial 11 with value: 0.8541324981722502.\n",
      "[I 2025-06-03 14:07:06,989] Trial 13 finished with value: 0.8492220090390532 and parameters: {'n_estimators': 38, 'max_depth': 9}. Best is trial 11 with value: 0.8541324981722502.\n",
      "[I 2025-06-03 14:07:07,314] Trial 14 finished with value: 0.8437207999874892 and parameters: {'n_estimators': 63, 'max_depth': 13}. Best is trial 11 with value: 0.8541324981722502.\n",
      "[I 2025-06-03 14:07:07,346] Trial 15 finished with value: 0.8473781320984131 and parameters: {'n_estimators': 10, 'max_depth': 5}. Best is trial 11 with value: 0.8541324981722502.\n",
      "[I 2025-06-03 14:07:07,526] Trial 16 finished with value: 0.8398932770086676 and parameters: {'n_estimators': 34, 'max_depth': 13}. Best is trial 11 with value: 0.8541324981722502.\n",
      "[I 2025-06-03 14:07:07,844] Trial 17 finished with value: 0.8307283827053824 and parameters: {'n_estimators': 55, 'max_depth': 18}. Best is trial 11 with value: 0.8541324981722502.\n",
      "[I 2025-06-03 14:07:07,972] Trial 18 finished with value: 0.8563326397006791 and parameters: {'n_estimators': 51, 'max_depth': 5}. Best is trial 18 with value: 0.8563326397006791.\n",
      "[I 2025-06-03 14:07:08,122] Trial 19 finished with value: 0.8552205957095773 and parameters: {'n_estimators': 71, 'max_depth': 4}. Best is trial 18 with value: 0.8563326397006791.\n",
      "Cross-validation loop::  33%|███▎      | 1/3 [00:05<00:10,  5.26s/it]"
     ]
    },
    {
     "name": "stdout",
     "output_type": "stream",
     "text": [
      "*Best hyperparameters (rf)* {'n_estimators': 51, 'max_depth': 5}\n",
      "- Omitting rows with missing values: 6042 rows left out\n"
     ]
    },
    {
     "name": "stderr",
     "output_type": "stream",
     "text": [
      "Cross-validation loop::  67%|██████▋   | 2/3 [00:05<00:02,  2.29s/it]"
     ]
    },
    {
     "name": "stdout",
     "output_type": "stream",
     "text": [
      "- Omitting rows with missing values: 6042 rows left out\n"
     ]
    },
    {
     "name": "stderr",
     "output_type": "stream",
     "text": [
      "Cross-validation loop:: 100%|██████████| 3/3 [00:05<00:00,  1.93s/it]\n"
     ]
    }
   ],
   "execution_count": 23
  },
  {
   "cell_type": "code",
   "id": "dc04285e5a4ef64",
   "metadata": {
    "collapsed": false,
    "ExecuteTime": {
     "end_time": "2025-06-03T12:07:17.629953Z",
     "start_time": "2025-06-03T12:07:17.603676Z"
    }
   },
   "source": [
    "experiment.results"
   ],
   "outputs": [
    {
     "data": {
      "text/plain": [
       "{'lr': {0: {'accuracy': 0.93436,\n",
       "   'brier': 0.05806,\n",
       "   'f1': 0.03676,\n",
       "   'precision': 0.5,\n",
       "   'recall': 0.01908,\n",
       "   'h_measure': 0.17245,\n",
       "   'aucroc': 0.69407,\n",
       "   'aucpr': 0.19982},\n",
       "  1: {'accuracy': 0.93005,\n",
       "   'brier': 0.05925,\n",
       "   'f1': 0.1169,\n",
       "   'precision': 0.69811,\n",
       "   'recall': 0.06379,\n",
       "   'h_measure': 0.31219,\n",
       "   'aucroc': 0.78397,\n",
       "   'aucpr': 0.32509},\n",
       "  2: {'accuracy': 0.93625,\n",
       "   'brier': 0.05659,\n",
       "   'f1': 0.05566,\n",
       "   'precision': 0.55556,\n",
       "   'recall': 0.0293,\n",
       "   'h_measure': 0.17892,\n",
       "   'aucroc': 0.68214,\n",
       "   'aucpr': 0.19852}},\n",
       " 'rf': {0: {'accuracy': 0.93749,\n",
       "   'brier': 0.0497,\n",
       "   'f1': 0.2016,\n",
       "   'precision': 0.62376,\n",
       "   'recall': 0.12023,\n",
       "   'h_measure': 0.3888,\n",
       "   'aucroc': 0.84147,\n",
       "   'aucpr': 0.36833},\n",
       "  1: {'accuracy': 0.9318,\n",
       "   'brier': 0.0547,\n",
       "   'f1': 0.2067,\n",
       "   'precision': 0.66355,\n",
       "   'recall': 0.12241,\n",
       "   'h_measure': 0.39922,\n",
       "   'aucroc': 0.84525,\n",
       "   'aucpr': 0.38233},\n",
       "  2: {'accuracy': 0.93838,\n",
       "   'brier': 0.04824,\n",
       "   'f1': 0.19344,\n",
       "   'precision': 0.60204,\n",
       "   'recall': 0.11523,\n",
       "   'h_measure': 0.42272,\n",
       "   'aucroc': 0.85446,\n",
       "   'aucpr': 0.38777}}}"
      ]
     },
     "execution_count": 24,
     "metadata": {},
     "output_type": "execute_result"
    }
   ],
   "execution_count": 24
  },
  {
   "cell_type": "code",
   "id": "850cc3c1189e1a94",
   "metadata": {
    "ExecuteTime": {
     "end_time": "2025-05-26T19:08:41.455240Z",
     "start_time": "2025-05-26T19:08:41.393519Z"
    }
   },
   "source": [
    "\n",
    "# Todo: implement method that writes experiment.results to a csv file / connects with WandB / ...\n",
    "\n",
    "# Quick and dirty examplary code:\n",
    "\n",
    "import pandas as pd\n",
    "\n",
    "# Convert dictionary of dictionaries to a list of rows\n",
    "rows = []\n",
    "for model_name, splits_dict in experiment.results.items():\n",
    "    for split_idx, metrics_dict in splits_dict.items():\n",
    "        # Create a row dict with model and split identifiers\n",
    "        row = {\n",
    "            'model': model_name,\n",
    "            'split': split_idx,\n",
    "        }\n",
    "        # Update with all metrics in that split\n",
    "        row.update(metrics_dict)\n",
    "\n",
    "        rows.append(row)\n",
    "\n",
    "# Convert the list of row dictionaries into a DataFrame\n",
    "df = pd.DataFrame(rows)\n",
    "\n",
    "df\n",
    "\n",
    "# Summarise df by model (along split) and get the mean and sd of all the metrics, discarding the split and sorting by mean of aucroc\n",
    "df_summary = df.groupby('model').agg(['mean', 'std']).reset_index()\n",
    "# df_summary = df_summary.loc[:, ~df_summary.columns.str.contains('split')]\n",
    "df_summary\n",
    "\n",
    "\n"
   ],
   "outputs": [
    {
     "data": {
      "text/plain": [
       "    model split       accuracy               brier                  f1  \\\n",
       "           mean  std      mean       std      mean       std      mean   \n",
       "0     ann   1.0  1.0  0.932550  0.004506  0.062403  0.003812  0.000000   \n",
       "1      dt   1.0  1.0  0.924703  0.002422  0.069583  0.002620  0.294327   \n",
       "2     knn   1.0  1.0  0.926080  0.003625  0.073033  0.004091  0.080363   \n",
       "3     lda   1.0  1.0  0.931507  0.003544  0.059013  0.002887  0.126527   \n",
       "4      lr   1.0  1.0  0.932550  0.004506  0.062073  0.003929  0.000000   \n",
       "5      rf   1.0  1.0  0.934263  0.003703  0.052610  0.003113  0.262270   \n",
       "6     svm   1.0  1.0  0.932843  0.004464  0.061293  0.001939  0.021743   \n",
       "7  tabpfn   1.0  1.0  0.936470  0.003940  0.050707  0.003045  0.293770   \n",
       "8     xgb   1.0  1.0  0.932550  0.004506  0.058713  0.003197  0.000000   \n",
       "\n",
       "            precision              recall           h_measure            \\\n",
       "        std      mean       std      mean       std      mean       std   \n",
       "0  0.000000  0.000000  0.000000  0.000000  0.000000  0.054427  0.010668   \n",
       "1  0.013192  0.401040  0.021259  0.233630  0.021659  0.232697  0.010765   \n",
       "2  0.019890  0.247737  0.015965  0.048247  0.013428  0.042327  0.011653   \n",
       "3  0.025267  0.451177  0.044127  0.073877  0.016343  0.198710  0.018246   \n",
       "4  0.000000  0.000000  0.000000  0.000000  0.000000  0.066383  0.012676   \n",
       "5  0.027888  0.541087  0.023853  0.174070  0.026391  0.368213  0.006976   \n",
       "6  0.005562  0.658273  0.132140  0.011080  0.002904  0.356070  0.016592   \n",
       "7  0.043818  0.589647  0.030372  0.197573  0.040826  0.402200  0.014832   \n",
       "8  0.000000  0.000000  0.000000  0.000000  0.000000  0.377150  0.005420   \n",
       "\n",
       "     aucroc               aucpr            \n",
       "       mean       std      mean       std  \n",
       "0  0.621487  0.009011  0.104617  0.006050  \n",
       "1  0.657687  0.007196  0.215847  0.013250  \n",
       "2  0.570407  0.012304  0.091307  0.001651  \n",
       "3  0.684440  0.012835  0.221907  0.024543  \n",
       "4  0.633873  0.010671  0.116983  0.007833  \n",
       "5  0.827767  0.006686  0.342080  0.009941  \n",
       "6  0.800450  0.007351  0.348927  0.010933  \n",
       "7  0.843273  0.006407  0.386983  0.011910  \n",
       "8  0.822090  0.007808  0.334273  0.005463  "
      ],
      "text/html": [
       "<div>\n",
       "<style scoped>\n",
       "    .dataframe tbody tr th:only-of-type {\n",
       "        vertical-align: middle;\n",
       "    }\n",
       "\n",
       "    .dataframe tbody tr th {\n",
       "        vertical-align: top;\n",
       "    }\n",
       "\n",
       "    .dataframe thead tr th {\n",
       "        text-align: left;\n",
       "    }\n",
       "</style>\n",
       "<table border=\"1\" class=\"dataframe\">\n",
       "  <thead>\n",
       "    <tr>\n",
       "      <th></th>\n",
       "      <th>model</th>\n",
       "      <th colspan=\"2\" halign=\"left\">split</th>\n",
       "      <th colspan=\"2\" halign=\"left\">accuracy</th>\n",
       "      <th colspan=\"2\" halign=\"left\">brier</th>\n",
       "      <th colspan=\"2\" halign=\"left\">f1</th>\n",
       "      <th colspan=\"2\" halign=\"left\">precision</th>\n",
       "      <th colspan=\"2\" halign=\"left\">recall</th>\n",
       "      <th colspan=\"2\" halign=\"left\">h_measure</th>\n",
       "      <th colspan=\"2\" halign=\"left\">aucroc</th>\n",
       "      <th colspan=\"2\" halign=\"left\">aucpr</th>\n",
       "    </tr>\n",
       "    <tr>\n",
       "      <th></th>\n",
       "      <th></th>\n",
       "      <th>mean</th>\n",
       "      <th>std</th>\n",
       "      <th>mean</th>\n",
       "      <th>std</th>\n",
       "      <th>mean</th>\n",
       "      <th>std</th>\n",
       "      <th>mean</th>\n",
       "      <th>std</th>\n",
       "      <th>mean</th>\n",
       "      <th>std</th>\n",
       "      <th>mean</th>\n",
       "      <th>std</th>\n",
       "      <th>mean</th>\n",
       "      <th>std</th>\n",
       "      <th>mean</th>\n",
       "      <th>std</th>\n",
       "      <th>mean</th>\n",
       "      <th>std</th>\n",
       "    </tr>\n",
       "  </thead>\n",
       "  <tbody>\n",
       "    <tr>\n",
       "      <th>0</th>\n",
       "      <td>ann</td>\n",
       "      <td>1.0</td>\n",
       "      <td>1.0</td>\n",
       "      <td>0.932550</td>\n",
       "      <td>0.004506</td>\n",
       "      <td>0.062403</td>\n",
       "      <td>0.003812</td>\n",
       "      <td>0.000000</td>\n",
       "      <td>0.000000</td>\n",
       "      <td>0.000000</td>\n",
       "      <td>0.000000</td>\n",
       "      <td>0.000000</td>\n",
       "      <td>0.000000</td>\n",
       "      <td>0.054427</td>\n",
       "      <td>0.010668</td>\n",
       "      <td>0.621487</td>\n",
       "      <td>0.009011</td>\n",
       "      <td>0.104617</td>\n",
       "      <td>0.006050</td>\n",
       "    </tr>\n",
       "    <tr>\n",
       "      <th>1</th>\n",
       "      <td>dt</td>\n",
       "      <td>1.0</td>\n",
       "      <td>1.0</td>\n",
       "      <td>0.924703</td>\n",
       "      <td>0.002422</td>\n",
       "      <td>0.069583</td>\n",
       "      <td>0.002620</td>\n",
       "      <td>0.294327</td>\n",
       "      <td>0.013192</td>\n",
       "      <td>0.401040</td>\n",
       "      <td>0.021259</td>\n",
       "      <td>0.233630</td>\n",
       "      <td>0.021659</td>\n",
       "      <td>0.232697</td>\n",
       "      <td>0.010765</td>\n",
       "      <td>0.657687</td>\n",
       "      <td>0.007196</td>\n",
       "      <td>0.215847</td>\n",
       "      <td>0.013250</td>\n",
       "    </tr>\n",
       "    <tr>\n",
       "      <th>2</th>\n",
       "      <td>knn</td>\n",
       "      <td>1.0</td>\n",
       "      <td>1.0</td>\n",
       "      <td>0.926080</td>\n",
       "      <td>0.003625</td>\n",
       "      <td>0.073033</td>\n",
       "      <td>0.004091</td>\n",
       "      <td>0.080363</td>\n",
       "      <td>0.019890</td>\n",
       "      <td>0.247737</td>\n",
       "      <td>0.015965</td>\n",
       "      <td>0.048247</td>\n",
       "      <td>0.013428</td>\n",
       "      <td>0.042327</td>\n",
       "      <td>0.011653</td>\n",
       "      <td>0.570407</td>\n",
       "      <td>0.012304</td>\n",
       "      <td>0.091307</td>\n",
       "      <td>0.001651</td>\n",
       "    </tr>\n",
       "    <tr>\n",
       "      <th>3</th>\n",
       "      <td>lda</td>\n",
       "      <td>1.0</td>\n",
       "      <td>1.0</td>\n",
       "      <td>0.931507</td>\n",
       "      <td>0.003544</td>\n",
       "      <td>0.059013</td>\n",
       "      <td>0.002887</td>\n",
       "      <td>0.126527</td>\n",
       "      <td>0.025267</td>\n",
       "      <td>0.451177</td>\n",
       "      <td>0.044127</td>\n",
       "      <td>0.073877</td>\n",
       "      <td>0.016343</td>\n",
       "      <td>0.198710</td>\n",
       "      <td>0.018246</td>\n",
       "      <td>0.684440</td>\n",
       "      <td>0.012835</td>\n",
       "      <td>0.221907</td>\n",
       "      <td>0.024543</td>\n",
       "    </tr>\n",
       "    <tr>\n",
       "      <th>4</th>\n",
       "      <td>lr</td>\n",
       "      <td>1.0</td>\n",
       "      <td>1.0</td>\n",
       "      <td>0.932550</td>\n",
       "      <td>0.004506</td>\n",
       "      <td>0.062073</td>\n",
       "      <td>0.003929</td>\n",
       "      <td>0.000000</td>\n",
       "      <td>0.000000</td>\n",
       "      <td>0.000000</td>\n",
       "      <td>0.000000</td>\n",
       "      <td>0.000000</td>\n",
       "      <td>0.000000</td>\n",
       "      <td>0.066383</td>\n",
       "      <td>0.012676</td>\n",
       "      <td>0.633873</td>\n",
       "      <td>0.010671</td>\n",
       "      <td>0.116983</td>\n",
       "      <td>0.007833</td>\n",
       "    </tr>\n",
       "    <tr>\n",
       "      <th>5</th>\n",
       "      <td>rf</td>\n",
       "      <td>1.0</td>\n",
       "      <td>1.0</td>\n",
       "      <td>0.934263</td>\n",
       "      <td>0.003703</td>\n",
       "      <td>0.052610</td>\n",
       "      <td>0.003113</td>\n",
       "      <td>0.262270</td>\n",
       "      <td>0.027888</td>\n",
       "      <td>0.541087</td>\n",
       "      <td>0.023853</td>\n",
       "      <td>0.174070</td>\n",
       "      <td>0.026391</td>\n",
       "      <td>0.368213</td>\n",
       "      <td>0.006976</td>\n",
       "      <td>0.827767</td>\n",
       "      <td>0.006686</td>\n",
       "      <td>0.342080</td>\n",
       "      <td>0.009941</td>\n",
       "    </tr>\n",
       "    <tr>\n",
       "      <th>6</th>\n",
       "      <td>svm</td>\n",
       "      <td>1.0</td>\n",
       "      <td>1.0</td>\n",
       "      <td>0.932843</td>\n",
       "      <td>0.004464</td>\n",
       "      <td>0.061293</td>\n",
       "      <td>0.001939</td>\n",
       "      <td>0.021743</td>\n",
       "      <td>0.005562</td>\n",
       "      <td>0.658273</td>\n",
       "      <td>0.132140</td>\n",
       "      <td>0.011080</td>\n",
       "      <td>0.002904</td>\n",
       "      <td>0.356070</td>\n",
       "      <td>0.016592</td>\n",
       "      <td>0.800450</td>\n",
       "      <td>0.007351</td>\n",
       "      <td>0.348927</td>\n",
       "      <td>0.010933</td>\n",
       "    </tr>\n",
       "    <tr>\n",
       "      <th>7</th>\n",
       "      <td>tabpfn</td>\n",
       "      <td>1.0</td>\n",
       "      <td>1.0</td>\n",
       "      <td>0.936470</td>\n",
       "      <td>0.003940</td>\n",
       "      <td>0.050707</td>\n",
       "      <td>0.003045</td>\n",
       "      <td>0.293770</td>\n",
       "      <td>0.043818</td>\n",
       "      <td>0.589647</td>\n",
       "      <td>0.030372</td>\n",
       "      <td>0.197573</td>\n",
       "      <td>0.040826</td>\n",
       "      <td>0.402200</td>\n",
       "      <td>0.014832</td>\n",
       "      <td>0.843273</td>\n",
       "      <td>0.006407</td>\n",
       "      <td>0.386983</td>\n",
       "      <td>0.011910</td>\n",
       "    </tr>\n",
       "    <tr>\n",
       "      <th>8</th>\n",
       "      <td>xgb</td>\n",
       "      <td>1.0</td>\n",
       "      <td>1.0</td>\n",
       "      <td>0.932550</td>\n",
       "      <td>0.004506</td>\n",
       "      <td>0.058713</td>\n",
       "      <td>0.003197</td>\n",
       "      <td>0.000000</td>\n",
       "      <td>0.000000</td>\n",
       "      <td>0.000000</td>\n",
       "      <td>0.000000</td>\n",
       "      <td>0.000000</td>\n",
       "      <td>0.000000</td>\n",
       "      <td>0.377150</td>\n",
       "      <td>0.005420</td>\n",
       "      <td>0.822090</td>\n",
       "      <td>0.007808</td>\n",
       "      <td>0.334273</td>\n",
       "      <td>0.005463</td>\n",
       "    </tr>\n",
       "  </tbody>\n",
       "</table>\n",
       "</div>"
      ]
     },
     "execution_count": 14,
     "metadata": {},
     "output_type": "execute_result"
    }
   ],
   "execution_count": 14
  },
  {
   "cell_type": "code",
   "execution_count": null,
   "id": "cbab971e",
   "metadata": {},
   "outputs": [],
   "source": []
  }
 ],
 "metadata": {
  "kernelspec": {
   "display_name": "tabpfn",
   "language": "python",
   "name": "python3"
  },
  "language_info": {
   "codemirror_mode": {
    "name": "ipython",
    "version": 3
   },
   "file_extension": ".py",
   "mimetype": "text/x-python",
   "name": "python",
   "nbconvert_exporter": "python",
   "pygments_lexer": "ipython3",
   "version": "3.10.16"
  }
 },
 "nbformat": 4,
 "nbformat_minor": 5
}
