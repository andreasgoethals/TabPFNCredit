{
 "cells": [
  {
   "cell_type": "code",
   "source": [
    "# code for autoreload of modules\n",
    "#%load_ext autoreload\n",
    "#%autoreload 2"
   ],
   "metadata": {
    "collapsed": false,
    "ExecuteTime": {
     "end_time": "2025-03-12T14:44:14.349550Z",
     "start_time": "2025-03-12T14:44:14.335081Z"
    }
   },
   "id": "20a284b51db49046",
   "outputs": [],
   "execution_count": 1
  },
  {
   "cell_type": "code",
   "source": [
    "import os\n",
    "from src.utils import set_random_seed"
   ],
   "metadata": {
    "collapsed": false,
    "ExecuteTime": {
     "end_time": "2025-03-12T14:44:17.561379Z",
     "start_time": "2025-03-12T14:44:14.359460Z"
    }
   },
   "id": "initial_id",
   "outputs": [],
   "execution_count": 2
  },
  {
   "cell_type": "code",
   "source": [
    "\n",
    "\n",
    "DIR = r'C:\\Users\\u0148775\\PycharmProjects\\CreditScoring'\n",
    "os.chdir(DIR)\n",
    "\n",
    "set_random_seed(0)"
   ],
   "metadata": {
    "collapsed": false,
    "ExecuteTime": {
     "end_time": "2025-03-12T14:44:17.792377Z",
     "start_time": "2025-03-12T14:44:17.733379Z"
    }
   },
   "id": "3115e454e894e990",
   "outputs": [],
   "execution_count": 3
  },
  {
   "cell_type": "code",
   "source": [
    "from src.utils import load_config\n",
    "\n",
    "# read dataconfig from CONFIG_DATA.yaml file:\n",
    "\n",
    "dataconfig = load_config('config\\CONFIG_DATA.yaml')\n",
    "experimentconfig = load_config('config\\CONFIG_EXPERIMENT.yaml')\n",
    "methodconfig = load_config('config\\CONFIG_METHOD.yaml')\n",
    "evaluationconfig = load_config('config\\CONFIG_EVALUATION.yaml')\n",
    "\n"
   ],
   "metadata": {
    "collapsed": false,
    "ExecuteTime": {
     "end_time": "2025-03-12T14:44:17.853378Z",
     "start_time": "2025-03-12T14:44:17.809378Z"
    }
   },
   "id": "a08305fa84180327",
   "outputs": [],
   "execution_count": 4
  },
  {
   "cell_type": "code",
   "source": [
    "from src.classes.experiment import Experiment\n",
    "\n",
    "# Initialize experiment object\n",
    "experiment = Experiment(dataconfig=dataconfig,\n",
    "                        experimentconfig=experimentconfig,\n",
    "                        methodconfig=methodconfig,\n",
    "                        evaluationconfig=evaluationconfig)\n"
   ],
   "metadata": {
    "collapsed": false,
    "ExecuteTime": {
     "end_time": "2025-03-12T14:44:22.566410Z",
     "start_time": "2025-03-12T14:44:17.871379Z"
    }
   },
   "id": "d7ada7e1194abf9b",
   "outputs": [
    {
     "name": "stdout",
     "output_type": "stream",
     "text": [
      "\n",
      "Experiment created at:  2025-03-12-15-44\n",
      "Task: pd\n",
      "Dataset: 14_german_credit\n",
      "CV splits:  2\n"
     ]
    }
   ],
   "execution_count": 5
  },
  {
   "cell_type": "code",
   "source": [
    "experiment.run()"
   ],
   "metadata": {
    "collapsed": false,
    "ExecuteTime": {
     "end_time": "2025-03-12T14:44:22.719767Z",
     "start_time": "2025-03-12T14:44:22.642412Z"
    }
   },
   "id": "57033baf67309b3f",
   "outputs": [
    {
     "name": "stdout",
     "output_type": "stream",
     "text": [
      "14_german_credit loaded\n",
      "14_german_credit preprocessed\n",
      "x shape:  (999, 20)\n",
      "y shape:  (999,)\n"
     ]
    },
    {
     "name": "stderr",
     "output_type": "stream",
     "text": [
      "Cross-validation loop:: 100%|██████████| 2/2 [00:00<00:00, 41.67it/s]"
     ]
    },
    {
     "name": "stdout",
     "output_type": "stream",
     "text": [
      "- Imputed missing values with (num: median) and (cat: mode)\n",
      "*Best hyperparameters (dt)* {'ccp_alpha': 0.0, 'class_weight': None, 'criterion': 'gini', 'max_depth': 10, 'max_features': None, 'max_leaf_nodes': None, 'min_impurity_decrease': 0.0, 'min_samples_leaf': 1, 'min_samples_split': 2, 'min_weight_fraction_leaf': 0.0, 'monotonic_cst': None, 'random_state': None, 'splitter': 'best'}\n",
      "- Imputed missing values with (num: median) and (cat: mode)\n",
      "*Best hyperparameters (dt)* {'ccp_alpha': 0.0, 'class_weight': None, 'criterion': 'gini', 'max_depth': 10, 'max_features': None, 'max_leaf_nodes': None, 'min_impurity_decrease': 0.0, 'min_samples_leaf': 1, 'min_samples_split': 2, 'min_weight_fraction_leaf': 0.0, 'monotonic_cst': None, 'random_state': None, 'splitter': 'best'}\n"
     ]
    },
    {
     "name": "stderr",
     "output_type": "stream",
     "text": [
      "\n"
     ]
    }
   ],
   "execution_count": 6
  },
  {
   "cell_type": "code",
   "source": [
    "experiment.results"
   ],
   "metadata": {
    "collapsed": false,
    "ExecuteTime": {
     "end_time": "2025-03-12T14:44:22.749770Z",
     "start_time": "2025-03-12T14:44:22.736769Z"
    }
   },
   "id": "dc04285e5a4ef64",
   "outputs": [
    {
     "data": {
      "text/plain": [
       "{'dt': {0: {'accuracy': 0.656,\n",
       "   'brier': 0.33844,\n",
       "   'f1': 0.41497,\n",
       "   'precision': 0.4094,\n",
       "   'recall': 0.4094,\n",
       "   'h_measure': 0.04081,\n",
       "   'aucroc': 0.5864,\n",
       "   'aucpr': 0.34023},\n",
       "  1: {'accuracy': 0.66733,\n",
       "   'brier': 0.32682,\n",
       "   'f1': 0.45033,\n",
       "   'precision': 0.46259,\n",
       "   'recall': 0.46259,\n",
       "   'h_measure': 0.06044,\n",
       "   'aucroc': 0.60453,\n",
       "   'aucpr': 0.37729}}}"
      ]
     },
     "execution_count": 7,
     "metadata": {},
     "output_type": "execute_result"
    }
   ],
   "execution_count": 7
  },
  {
   "metadata": {
    "ExecuteTime": {
     "end_time": "2025-03-12T14:44:22.780766Z",
     "start_time": "2025-03-12T14:44:22.767767Z"
    }
   },
   "cell_type": "code",
   "source": "",
   "id": "850cc3c1189e1a94",
   "outputs": [],
   "execution_count": null
  }
 ],
 "metadata": {
  "kernelspec": {
   "display_name": "Python 3",
   "language": "python",
   "name": "python3"
  },
  "language_info": {
   "codemirror_mode": {
    "name": "ipython",
    "version": 2
   },
   "file_extension": ".py",
   "mimetype": "text/x-python",
   "name": "python",
   "nbconvert_exporter": "python",
   "pygments_lexer": "ipython2",
   "version": "2.7.6"
  }
 },
 "nbformat": 4,
 "nbformat_minor": 5
}
