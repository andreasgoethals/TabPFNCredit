{
 "cells": [
  {
   "cell_type": "code",
   "source": [
    "# code for autoreload of modules\n",
    "%load_ext autoreload\n",
    "%autoreload 2"
   ],
   "metadata": {
    "collapsed": false,
    "ExecuteTime": {
     "end_time": "2025-03-04T15:10:43.882018Z",
     "start_time": "2025-03-04T15:10:43.737667Z"
    }
   },
   "id": "20a284b51db49046",
   "outputs": [
    {
     "name": "stdout",
     "output_type": "stream",
     "text": [
      "The autoreload extension is already loaded. To reload it, use:\n",
      "  %reload_ext autoreload\n"
     ]
    }
   ],
   "execution_count": 82
  },
  {
   "cell_type": "code",
   "source": [
    "import os\n",
    "from src.utils import set_random_seed"
   ],
   "metadata": {
    "collapsed": false,
    "ExecuteTime": {
     "end_time": "2025-03-04T15:10:44.023360Z",
     "start_time": "2025-03-04T15:10:43.886961Z"
    }
   },
   "id": "initial_id",
   "outputs": [],
   "execution_count": 83
  },
  {
   "cell_type": "code",
   "source": [
    "\n",
    "\n",
    "DIR = r'C:\\Users\\u0148775\\PycharmProjects\\CreditScoring'\n",
    "os.chdir(DIR)\n",
    "\n",
    "set_random_seed(0)"
   ],
   "metadata": {
    "collapsed": false,
    "ExecuteTime": {
     "end_time": "2025-03-04T15:10:44.193313Z",
     "start_time": "2025-03-04T15:10:44.055842Z"
    }
   },
   "id": "3115e454e894e990",
   "outputs": [],
   "execution_count": 84
  },
  {
   "cell_type": "code",
   "source": [
    "from src.utils import load_config\n",
    "\n",
    "# read dataconfig from CONFIG_DATA.yaml file:\n",
    "\n",
    "dataconfig = load_config('config\\CONFIG_DATA.yaml')\n",
    "experimentconfig = load_config('config\\CONFIG_EXPERIMENT.yaml')\n",
    "methodconfig = load_config('config\\CONFIG_METHOD.yaml')\n",
    "evaluationconfig = load_config('config\\CONFIG_EVALUATION.yaml')\n",
    "\n"
   ],
   "metadata": {
    "collapsed": false,
    "ExecuteTime": {
     "end_time": "2025-03-04T15:10:44.379276Z",
     "start_time": "2025-03-04T15:10:44.226312Z"
    }
   },
   "id": "a08305fa84180327",
   "outputs": [],
   "execution_count": 85
  },
  {
   "cell_type": "code",
   "source": [
    "from src.classes.experiment import Experiment\n",
    "\n",
    "# Initialize experiment object\n",
    "experiment = Experiment(dataconfig=dataconfig,\n",
    "                        experimentconfig=experimentconfig,\n",
    "                        methodconfig=methodconfig,\n",
    "                        evaluationconfig=evaluationconfig)\n"
   ],
   "metadata": {
    "collapsed": false,
    "ExecuteTime": {
     "end_time": "2025-03-04T15:10:44.547337Z",
     "start_time": "2025-03-04T15:10:44.411274Z"
    }
   },
   "id": "d7ada7e1194abf9b",
   "outputs": [
    {
     "name": "stdout",
     "output_type": "stream",
     "text": [
      "\n",
      "Experiment created at:  2025-03-04-16-10\n",
      "Task: pd\n",
      "Dataset: 00_pd_toydata\n",
      "CV splits:  2\n"
     ]
    }
   ],
   "execution_count": 86
  },
  {
   "cell_type": "code",
   "source": [
    "experiment.run()"
   ],
   "metadata": {
    "collapsed": false,
    "ExecuteTime": {
     "end_time": "2025-03-04T15:10:45.749579Z",
     "start_time": "2025-03-04T15:10:44.581215Z"
    }
   },
   "id": "57033baf67309b3f",
   "outputs": [
    {
     "name": "stdout",
     "output_type": "stream",
     "text": [
      "00_pd_toydata loaded\n",
      "00_pd_toydata preprocessed\n",
      "x shape:  (569, 30)\n",
      "y shape:  (569,)\n"
     ]
    },
    {
     "name": "stderr",
     "output_type": "stream",
     "text": [
      "Cross-validation loop::   0%|          | 0/2 [00:00<?, ?it/s]"
     ]
    },
    {
     "name": "stdout",
     "output_type": "stream",
     "text": [
      "- Imputed missing values with mean\n"
     ]
    },
    {
     "name": "stderr",
     "output_type": "stream",
     "text": [
      "Cross-validation loop::  50%|█████     | 1/2 [00:00<00:00,  2.00it/s]"
     ]
    },
    {
     "name": "stdout",
     "output_type": "stream",
     "text": [
      "*Best hyperparameters (ann)* {'activation': 'relu', 'batch_size': 256, 'dropout_rate': 0.1, 'early_stopping_delay': 5, 'epochs': 50, 'hidden_layer_size': 32, 'learning_rate': 0.001, 'num_hidden_layers': 1, 'random_seed': 0, 'weight_decay': 0.01}\n",
      "- Imputed missing values with mean\n"
     ]
    },
    {
     "name": "stderr",
     "output_type": "stream",
     "text": [
      "Cross-validation loop:: 100%|██████████| 2/2 [00:01<00:00,  1.96it/s]"
     ]
    },
    {
     "name": "stdout",
     "output_type": "stream",
     "text": [
      "*Best hyperparameters (ann)* {'activation': 'relu', 'batch_size': 256, 'dropout_rate': 0.1, 'early_stopping_delay': 5, 'epochs': 50, 'hidden_layer_size': 32, 'learning_rate': 0.001, 'num_hidden_layers': 1, 'random_seed': 0, 'weight_decay': 0.01}\n"
     ]
    },
    {
     "name": "stderr",
     "output_type": "stream",
     "text": [
      "\n"
     ]
    }
   ],
   "execution_count": 87
  },
  {
   "cell_type": "code",
   "source": [
    "experiment.results"
   ],
   "metadata": {
    "collapsed": false,
    "ExecuteTime": {
     "end_time": "2025-03-04T15:10:46.000486Z",
     "start_time": "2025-03-04T15:10:45.844413Z"
    }
   },
   "id": "dc04285e5a4ef64",
   "outputs": [
    {
     "data": {
      "text/plain": [
       "{'ann': {0: {'accuracy': 0.87368,\n",
       "   'brier': 0.21303,\n",
       "   'f1': 0.89474,\n",
       "   'precision': 0.96835,\n",
       "   'recall': 0.96835,\n",
       "   'aucroc': 0.89101,\n",
       "   'aucpr': 0.91398},\n",
       "  1: {'accuracy': 0.80282,\n",
       "   'brier': 0.20598,\n",
       "   'f1': 0.81579,\n",
       "   'precision': 0.94656,\n",
       "   'recall': 0.94656,\n",
       "   'aucroc': 0.82685,\n",
       "   'aucpr': 0.851}}}"
      ]
     },
     "execution_count": 88,
     "metadata": {},
     "output_type": "execute_result"
    }
   ],
   "execution_count": 88
  },
  {
   "metadata": {
    "ExecuteTime": {
     "end_time": "2025-03-04T15:10:46.094779Z",
     "start_time": "2025-03-04T15:10:46.078144Z"
    }
   },
   "cell_type": "code",
   "source": "",
   "id": "850cc3c1189e1a94",
   "outputs": [],
   "execution_count": null
  }
 ],
 "metadata": {
  "kernelspec": {
   "display_name": "Python 3",
   "language": "python",
   "name": "python3"
  },
  "language_info": {
   "codemirror_mode": {
    "name": "ipython",
    "version": 2
   },
   "file_extension": ".py",
   "mimetype": "text/x-python",
   "name": "python",
   "nbconvert_exporter": "python",
   "pygments_lexer": "ipython2",
   "version": "2.7.6"
  }
 },
 "nbformat": 4,
 "nbformat_minor": 5
}
