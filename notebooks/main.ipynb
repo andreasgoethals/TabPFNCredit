{
 "cells": [
  {
   "cell_type": "code",
   "source": [
    "# code for autoreload of modules\n",
    "%load_ext autoreload\n",
    "%autoreload 2"
   ],
   "metadata": {
    "collapsed": false,
    "ExecuteTime": {
     "end_time": "2025-04-07T14:49:43.081512Z",
     "start_time": "2025-04-07T14:49:42.926685Z"
    }
   },
   "id": "20a284b51db49046",
   "outputs": [
    {
     "name": "stdout",
     "output_type": "stream",
     "text": [
      "The autoreload extension is already loaded. To reload it, use:\n",
      "  %reload_ext autoreload\n"
     ]
    }
   ],
   "execution_count": 8
  },
  {
   "cell_type": "code",
   "source": [
    "import os\n",
    "from src.utils import set_random_seed"
   ],
   "metadata": {
    "collapsed": false,
    "ExecuteTime": {
     "end_time": "2025-04-07T14:49:43.347540Z",
     "start_time": "2025-04-07T14:49:43.211538Z"
    }
   },
   "id": "initial_id",
   "outputs": [],
   "execution_count": 9
  },
  {
   "cell_type": "code",
   "source": [
    "\n",
    "# Set your custom working DIR:\n",
    "DIR = r'C:\\Users\\u0148775\\PycharmProjects\\CreditScoring'\n",
    "os.chdir(DIR)\n",
    "\n",
    "set_random_seed(0)"
   ],
   "metadata": {
    "collapsed": false,
    "ExecuteTime": {
     "end_time": "2025-04-07T14:49:43.580091Z",
     "start_time": "2025-04-07T14:49:43.441951Z"
    }
   },
   "id": "3115e454e894e990",
   "outputs": [],
   "execution_count": 10
  },
  {
   "cell_type": "code",
   "source": [
    "from src.utils import load_config\n",
    "\n",
    "# read dataconfig from CONFIG_DATA.yaml file:\n",
    "\n",
    "dataconfig = load_config('config\\CONFIG_DATA.yaml')\n",
    "experimentconfig = load_config('config\\CONFIG_EXPERIMENT.yaml')\n",
    "methodconfig = load_config('config\\CONFIG_METHOD.yaml')\n",
    "evaluationconfig = load_config('config\\CONFIG_EVALUATION.yaml')\n",
    "\n"
   ],
   "metadata": {
    "collapsed": false,
    "ExecuteTime": {
     "end_time": "2025-04-07T14:49:43.890346Z",
     "start_time": "2025-04-07T14:49:43.691094Z"
    }
   },
   "id": "a08305fa84180327",
   "outputs": [],
   "execution_count": 11
  },
  {
   "cell_type": "code",
   "source": [
    "from src.classes.experiment import Experiment\n",
    "\n",
    "# Initialize experiment object\n",
    "experiment = Experiment(dataconfig=dataconfig,\n",
    "                        experimentconfig=experimentconfig,\n",
    "                        methodconfig=methodconfig,\n",
    "                        evaluationconfig=evaluationconfig)\n"
   ],
   "metadata": {
    "collapsed": false,
    "ExecuteTime": {
     "end_time": "2025-04-07T14:49:44.138415Z",
     "start_time": "2025-04-07T14:49:43.987413Z"
    }
   },
   "id": "d7ada7e1194abf9b",
   "outputs": [
    {
     "name": "stdout",
     "output_type": "stream",
     "text": [
      "\n",
      "Experiment created at:  2025-04-07-16-49\n",
      "Task: pd\n",
      "Dataset: 00_pd_toydata\n",
      "CV splits:  3\n"
     ]
    }
   ],
   "execution_count": 12
  },
  {
   "cell_type": "code",
   "source": [
    "experiment.run()"
   ],
   "metadata": {
    "collapsed": false,
    "ExecuteTime": {
     "end_time": "2025-04-07T14:49:45.320803Z",
     "start_time": "2025-04-07T14:49:45.108805Z"
    }
   },
   "id": "57033baf67309b3f",
   "outputs": [
    {
     "name": "stdout",
     "output_type": "stream",
     "text": [
      "00_pd_toydata loaded\n",
      "00_pd_toydata preprocessed\n",
      "x shape:  (569, 30)\n",
      "y shape:  (569,)\n"
     ]
    },
    {
     "name": "stderr",
     "output_type": "stream",
     "text": [
      "Cross-validation loop:: 100%|██████████| 3/3 [00:00<00:00, 69.77it/s]"
     ]
    },
    {
     "name": "stdout",
     "output_type": "stream",
     "text": [
      "- Imputed missing values with (num: median) and (cat: mode)\n",
      "*Best hyperparameters (dt)* {'ccp_alpha': 0.0, 'class_weight': None, 'criterion': 'gini', 'max_depth': 10, 'max_features': None, 'max_leaf_nodes': None, 'min_impurity_decrease': 0.0, 'min_samples_leaf': 1, 'min_samples_split': 2, 'min_weight_fraction_leaf': 0.0, 'monotonic_cst': None, 'random_state': None, 'splitter': 'best'}\n",
      "- Imputed missing values with (num: median) and (cat: mode)\n",
      "*Best hyperparameters (dt)* {'ccp_alpha': 0.0, 'class_weight': None, 'criterion': 'gini', 'max_depth': 10, 'max_features': None, 'max_leaf_nodes': None, 'min_impurity_decrease': 0.0, 'min_samples_leaf': 1, 'min_samples_split': 2, 'min_weight_fraction_leaf': 0.0, 'monotonic_cst': None, 'random_state': None, 'splitter': 'best'}\n",
      "- Imputed missing values with (num: median) and (cat: mode)\n",
      "*Best hyperparameters (dt)* {'ccp_alpha': 0.0, 'class_weight': None, 'criterion': 'gini', 'max_depth': 10, 'max_features': None, 'max_leaf_nodes': None, 'min_impurity_decrease': 0.0, 'min_samples_leaf': 1, 'min_samples_split': 2, 'min_weight_fraction_leaf': 0.0, 'monotonic_cst': None, 'random_state': None, 'splitter': 'best'}\n"
     ]
    },
    {
     "name": "stderr",
     "output_type": "stream",
     "text": [
      "\n"
     ]
    }
   ],
   "execution_count": 13
  },
  {
   "cell_type": "code",
   "source": [
    "experiment.results"
   ],
   "metadata": {
    "collapsed": false,
    "ExecuteTime": {
     "end_time": "2025-04-07T14:49:56.355679Z",
     "start_time": "2025-04-07T14:49:56.204160Z"
    }
   },
   "id": "dc04285e5a4ef64",
   "outputs": [
    {
     "data": {
      "text/plain": [
       "{'dt': {0: {'accuracy': 0.93158,\n",
       "   'brier': 0.06842,\n",
       "   'f1': 0.94421,\n",
       "   'precision': 0.99099,\n",
       "   'recall': 0.90164,\n",
       "   'h_measure': 0.78844,\n",
       "   'aucroc': 0.94347,\n",
       "   'aucpr': 0.95667},\n",
       "  1: {'accuracy': 0.91579,\n",
       "   'brier': 0.08421,\n",
       "   'f1': 0.93388,\n",
       "   'precision': 0.92623,\n",
       "   'recall': 0.94167,\n",
       "   'h_measure': 0.70653,\n",
       "   'aucroc': 0.90655,\n",
       "   'aucpr': 0.90904},\n",
       "  2: {'accuracy': 0.96296,\n",
       "   'brier': 0.03704,\n",
       "   'f1': 0.96943,\n",
       "   'precision': 0.97368,\n",
       "   'recall': 0.96522,\n",
       "   'h_measure': 0.8754,\n",
       "   'aucroc': 0.96234,\n",
       "   'aucpr': 0.96098}}}"
      ]
     },
     "execution_count": 14,
     "metadata": {},
     "output_type": "execute_result"
    }
   ],
   "execution_count": 14
  },
  {
   "metadata": {
    "ExecuteTime": {
     "end_time": "2025-04-07T14:50:05.330008Z",
     "start_time": "2025-04-07T14:50:05.180009Z"
    }
   },
   "cell_type": "code",
   "source": [
    "\n",
    "# Todo: implement method that writes experiment.results to a csv file / connects with WandB / ...\n",
    "\n",
    "# Quick and dirty examplary code:\n",
    "\n",
    "import pandas as pd\n",
    "\n",
    "# Convert dictionary of dictionaries to a list of rows\n",
    "rows = []\n",
    "for model_name, splits_dict in experiment.results.items():\n",
    "    for split_idx, metrics_dict in splits_dict.items():\n",
    "        # Create a row dict with model and split identifiers\n",
    "        row = {\n",
    "            'model': model_name,\n",
    "            'split': split_idx,\n",
    "        }\n",
    "        # Update with all metrics in that split\n",
    "        row.update(metrics_dict)\n",
    "\n",
    "        rows.append(row)\n",
    "\n",
    "# Convert the list of row dictionaries into a DataFrame\n",
    "df = pd.DataFrame(rows)\n",
    "\n",
    "df"
   ],
   "id": "850cc3c1189e1a94",
   "outputs": [
    {
     "data": {
      "text/plain": [
       "  model  split  accuracy    brier       f1  precision   recall  h_measure  \\\n",
       "0    dt      0   0.93158  0.06842  0.94421    0.99099  0.90164    0.78844   \n",
       "1    dt      1   0.91579  0.08421  0.93388    0.92623  0.94167    0.70653   \n",
       "2    dt      2   0.96296  0.03704  0.96943    0.97368  0.96522    0.87540   \n",
       "\n",
       "    aucroc    aucpr  \n",
       "0  0.94347  0.95667  \n",
       "1  0.90655  0.90904  \n",
       "2  0.96234  0.96098  "
      ],
      "text/html": [
       "<div>\n",
       "<style scoped>\n",
       "    .dataframe tbody tr th:only-of-type {\n",
       "        vertical-align: middle;\n",
       "    }\n",
       "\n",
       "    .dataframe tbody tr th {\n",
       "        vertical-align: top;\n",
       "    }\n",
       "\n",
       "    .dataframe thead th {\n",
       "        text-align: right;\n",
       "    }\n",
       "</style>\n",
       "<table border=\"1\" class=\"dataframe\">\n",
       "  <thead>\n",
       "    <tr style=\"text-align: right;\">\n",
       "      <th></th>\n",
       "      <th>model</th>\n",
       "      <th>split</th>\n",
       "      <th>accuracy</th>\n",
       "      <th>brier</th>\n",
       "      <th>f1</th>\n",
       "      <th>precision</th>\n",
       "      <th>recall</th>\n",
       "      <th>h_measure</th>\n",
       "      <th>aucroc</th>\n",
       "      <th>aucpr</th>\n",
       "    </tr>\n",
       "  </thead>\n",
       "  <tbody>\n",
       "    <tr>\n",
       "      <th>0</th>\n",
       "      <td>dt</td>\n",
       "      <td>0</td>\n",
       "      <td>0.93158</td>\n",
       "      <td>0.06842</td>\n",
       "      <td>0.94421</td>\n",
       "      <td>0.99099</td>\n",
       "      <td>0.90164</td>\n",
       "      <td>0.78844</td>\n",
       "      <td>0.94347</td>\n",
       "      <td>0.95667</td>\n",
       "    </tr>\n",
       "    <tr>\n",
       "      <th>1</th>\n",
       "      <td>dt</td>\n",
       "      <td>1</td>\n",
       "      <td>0.91579</td>\n",
       "      <td>0.08421</td>\n",
       "      <td>0.93388</td>\n",
       "      <td>0.92623</td>\n",
       "      <td>0.94167</td>\n",
       "      <td>0.70653</td>\n",
       "      <td>0.90655</td>\n",
       "      <td>0.90904</td>\n",
       "    </tr>\n",
       "    <tr>\n",
       "      <th>2</th>\n",
       "      <td>dt</td>\n",
       "      <td>2</td>\n",
       "      <td>0.96296</td>\n",
       "      <td>0.03704</td>\n",
       "      <td>0.96943</td>\n",
       "      <td>0.97368</td>\n",
       "      <td>0.96522</td>\n",
       "      <td>0.87540</td>\n",
       "      <td>0.96234</td>\n",
       "      <td>0.96098</td>\n",
       "    </tr>\n",
       "  </tbody>\n",
       "</table>\n",
       "</div>"
      ]
     },
     "execution_count": 15,
     "metadata": {},
     "output_type": "execute_result"
    }
   ],
   "execution_count": 15
  },
  {
   "metadata": {},
   "cell_type": "code",
   "outputs": [],
   "execution_count": null,
   "source": "",
   "id": "f825351ddb76ef81"
  }
 ],
 "metadata": {
  "kernelspec": {
   "display_name": "Python 3",
   "language": "python",
   "name": "python3"
  },
  "language_info": {
   "codemirror_mode": {
    "name": "ipython",
    "version": 2
   },
   "file_extension": ".py",
   "mimetype": "text/x-python",
   "name": "python",
   "nbconvert_exporter": "python",
   "pygments_lexer": "ipython2",
   "version": "2.7.6"
  }
 },
 "nbformat": 4,
 "nbformat_minor": 5
}
