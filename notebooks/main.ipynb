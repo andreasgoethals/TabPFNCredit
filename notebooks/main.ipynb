{
 "cells": [
  {
   "cell_type": "code",
   "id": "20a284b51db49046",
   "metadata": {
    "collapsed": false,
    "ExecuteTime": {
     "end_time": "2025-06-15T18:21:21.806233Z",
     "start_time": "2025-06-15T18:21:21.719544Z"
    }
   },
   "source": [
    "# code for autoreload of modules\n",
    "%load_ext autoreload\n",
    "%autoreload 2"
   ],
   "outputs": [],
   "execution_count": 2
  },
  {
   "cell_type": "code",
   "id": "3115e454e894e990",
   "metadata": {
    "collapsed": false,
    "ExecuteTime": {
     "end_time": "2025-06-15T18:21:22.544264Z",
     "start_time": "2025-06-15T18:21:22.520137Z"
    }
   },
   "source": [
    "import os\n",
    "# Set your custom working DIR:\n",
    "DIR = '/Users/jannispoltier/Documents/Studium/3. Semester/tabpfn_credit_codebase'\n",
    "# DIR = r'C:\\Users\\u0148775\\PycharmProjects\\CreditScoring'\n",
    "os.chdir(DIR)\n",
    "\n"
   ],
   "outputs": [],
   "execution_count": 3
  },
  {
   "cell_type": "code",
   "id": "initial_id",
   "metadata": {
    "collapsed": false,
    "ExecuteTime": {
     "end_time": "2025-06-15T18:21:23.793742Z",
     "start_time": "2025-06-15T18:21:23.749219Z"
    }
   },
   "source": [
    "from src.utils import set_random_seed\n",
    "set_random_seed(0)"
   ],
   "outputs": [],
   "execution_count": 4
  },
  {
   "cell_type": "code",
   "id": "a08305fa84180327",
   "metadata": {
    "collapsed": false,
    "ExecuteTime": {
     "end_time": "2025-06-15T18:21:24.821224Z",
     "start_time": "2025-06-15T18:21:24.783587Z"
    }
   },
   "source": [
    "from src.utils import load_config\n",
    "from pathlib import Path\n",
    "\n",
    "dataconfig = load_config(Path('config') / 'CONFIG_DATA.yaml')\n",
    "experimentconfig = load_config(Path('config') / 'CONFIG_EXPERIMENT.yaml')\n",
    "methodconfig = load_config(Path('config') / 'CONFIG_METHOD.yaml')\n",
    "evaluationconfig = load_config(Path('config') / 'CONFIG_EVALUATION.yaml')\n",
    "tuningconfig = load_config(Path('config') / 'CONFIG_TUNING.yaml')\n",
    "paramconfig = load_config(Path('config') / 'datasets' / 'OPTIMAL_HYPERPARAS.yaml')\n"
   ],
   "outputs": [],
   "execution_count": 5
  },
  {
   "metadata": {
    "ExecuteTime": {
     "end_time": "2025-06-15T18:25:31.427481Z",
     "start_time": "2025-06-15T18:25:31.398880Z"
    }
   },
   "cell_type": "code",
   "source": [
    "from src.classes.experiment import Experiment\n",
    "\n",
    "experiment = Experiment(dataconfig=dataconfig,\n",
    "                        experimentconfig=experimentconfig,\n",
    "                        methodconfig=methodconfig,\n",
    "                        evaluationconfig=evaluationconfig,\n",
    "                        tuningconfig=tuningconfig,\n",
    "                        paramconfig=paramconfig)"
   ],
   "id": "33446f919592010d",
   "outputs": [
    {
     "name": "stderr",
     "output_type": "stream",
     "text": [
      "2025-06-15 20:25:31,424 | INFO | Experiment created at: 2025-06-15-20-25\n",
      "2025-06-15 20:25:31,425 | INFO | Task: pd\n",
      "2025-06-15 20:25:31,425 | INFO | Dataset: 01_gmsc\n",
      "2025-06-15 20:25:31,425 | INFO | CV splits: 3\n"
     ]
    }
   ],
   "execution_count": 8
  },
  {
   "cell_type": "code",
   "id": "57033baf67309b3f",
   "metadata": {
    "collapsed": false,
    "ExecuteTime": {
     "end_time": "2025-06-15T18:25:44.594095Z",
     "start_time": "2025-06-15T18:25:44.478003Z"
    }
   },
   "source": [
    "experiment.run()"
   ],
   "outputs": [
    {
     "name": "stderr",
     "output_type": "stream",
     "text": [
      "2025-06-15 20:25:44,543 | INFO | 01_gmsc loaded\n",
      "2025-06-15 20:25:44,544 | INFO | Dataset has 150000 rows. Subsampling to 30000 rows.\n",
      "2025-06-15 20:25:44,548 | INFO | Inducing class imbalance with ratio 0.1 ...\n",
      "2025-06-15 20:25:44,548 | INFO | Class distribution BEFORE imbalance: {0: 935, 1: 65}\n",
      "2025-06-15 20:25:44,549 | INFO | Majority class: 0, Minority class: 1\n",
      "2025-06-15 20:25:44,549 | INFO | Will keep 65 of 65 minority samples (ratio 0.1)\n",
      "2025-06-15 20:25:44,550 | INFO | Class distribution AFTER imbalance: {0: 935, 1: 65}\n",
      "2025-06-15 20:25:44,550 | INFO | Total samples: 1000\n",
      "\n"
     ]
    },
    {
     "name": "stdout",
     "output_type": "stream",
     "text": [
      "01_gmsc preprocessed\n",
      "x shape:  (1000, 10)\n",
      "y shape:  (1000,)\n"
     ]
    },
    {
     "name": "stderr",
     "output_type": "stream",
     "text": [
      "Cross-validation loop::   0%|          | 0/3 [00:00<?, ?it/s]2025-06-15 20:25:44,554 | INFO | Imputed missing values with (num: median) and (cat: mode)\n",
      "Cross-validation loop::   0%|          | 0/3 [00:00<?, ?it/s]\n"
     ]
    },
    {
     "ename": "NameError",
     "evalue": "name 'logger' is not defined",
     "output_type": "error",
     "traceback": [
      "\u001B[31m---------------------------------------------------------------------------\u001B[39m",
      "\u001B[31mNameError\u001B[39m                                 Traceback (most recent call last)",
      "\u001B[36mCell\u001B[39m\u001B[36m \u001B[39m\u001B[32mIn[10]\u001B[39m\u001B[32m, line 1\u001B[39m\n\u001B[32m----> \u001B[39m\u001B[32m1\u001B[39m experiment.run()\n",
      "\u001B[36mFile \u001B[39m\u001B[32m~/Documents/Studium/3. Semester/tabpfn_credit_codebase/src/classes/experiment.py:117\u001B[39m, in \u001B[36mrun\u001B[39m\u001B[34m(self)\u001B[39m\n\u001B[32m    114\u001B[39m     \u001B[38;5;28mself\u001B[39m.data.split_data()\n\u001B[32m    115\u001B[39m     \u001B[38;5;28mself\u001B[39m.train_evaluate()\n\u001B[32m--> \u001B[39m\u001B[32m117\u001B[39m \u001B[38;5;28;01mdef\u001B[39;00m\u001B[38;5;250m \u001B[39m\u001B[34mtrain_evaluate\u001B[39m(\u001B[38;5;28mself\u001B[39m):\n\u001B[32m    118\u001B[39m     results = {}\n\u001B[32m    119\u001B[39m     tuned_hyperparams = {}\n",
      "\u001B[36mFile \u001B[39m\u001B[32m~/Documents/Studium/3. Semester/tabpfn_credit_codebase/src/classes/experiment.py:131\u001B[39m, in \u001B[36mtrain_evaluate\u001B[39m\u001B[34m(self)\u001B[39m\n\u001B[32m      0\u001B[39m <Error retrieving source code with stack_data see ipython/ipython#13598>\n",
      "\u001B[36mFile \u001B[39m\u001B[32m~/Documents/Studium/3. Semester/tabpfn_credit_codebase/src/classes/experiment.py:218\u001B[39m, in \u001B[36m_preprocess_data\u001B[39m\u001B[34m(self, x_train, x_val, x_test, y_train, y_val, y_test)\u001B[39m\n\u001B[32m    213\u001B[39m x_train, x_val, x_test, y_train, y_val, y_test = standardize_data(\n\u001B[32m    214\u001B[39m     x_train, x_val, x_test, y_train, y_val, y_test, \u001B[38;5;28mself\u001B[39m.methodconfig)\n\u001B[32m    216\u001B[39m logger.info(\u001B[33mf\u001B[39m\u001B[33m'\u001B[39m\u001B[33mData preprocessing finished\u001B[39m\u001B[33m'\u001B[39m)\n\u001B[32m--> \u001B[39m\u001B[32m218\u001B[39m \u001B[38;5;28;01mreturn\u001B[39;00m x_train, x_val, x_test, y_train, y_val, y_test\n",
      "\u001B[31mNameError\u001B[39m: name 'logger' is not defined"
     ]
    }
   ],
   "execution_count": 10
  },
  {
   "cell_type": "code",
   "id": "dc04285e5a4ef64",
   "metadata": {
    "collapsed": false
   },
   "source": [
    "experiment.results"
   ],
   "outputs": [],
   "execution_count": null
  },
  {
   "cell_type": "code",
   "id": "850cc3c1189e1a94",
   "metadata": {},
   "source": [
    "\n",
    "# Todo: implement method that writes experiment.results to a csv file / connects with WandB / ...\n",
    "\n",
    "# Quick and dirty examplary code:\n",
    "\n",
    "import pandas as pd\n",
    "\n",
    "# Convert dictionary of dictionaries to a list of rows\n",
    "rows = []\n",
    "for model_name, splits_dict in experiment.results.items():\n",
    "    for split_idx, metrics_dict in splits_dict.items():\n",
    "        # Create a row dict with model and split identifiers\n",
    "        row = {\n",
    "            'model': model_name,\n",
    "            'split': split_idx,\n",
    "        }\n",
    "        # Update with all metrics in that split\n",
    "        row.update(metrics_dict)\n",
    "\n",
    "        rows.append(row)\n",
    "\n",
    "# Convert the list of row dictionaries into a DataFrame\n",
    "df = pd.DataFrame(rows)\n",
    "\n",
    "df\n",
    "\n",
    "# Summarise df by model (along split) and get the mean and sd of all the metrics, discarding the split and sorting by mean of aucroc\n",
    "df_summary = df.groupby('model').agg(['mean', 'std']).reset_index()\n",
    "# df_summary = df_summary.loc[:, ~df_summary.columns.str.contains('split')]\n",
    "df_summary\n",
    "\n",
    "\n"
   ],
   "outputs": [],
   "execution_count": null
  },
  {
   "cell_type": "code",
   "id": "cbab971e",
   "metadata": {},
   "source": [],
   "outputs": [],
   "execution_count": null
  }
 ],
 "metadata": {
  "kernelspec": {
   "display_name": "tabpfn",
   "language": "python",
   "name": "python3"
  },
  "language_info": {
   "codemirror_mode": {
    "name": "ipython",
    "version": 3
   },
   "file_extension": ".py",
   "mimetype": "text/x-python",
   "name": "python",
   "nbconvert_exporter": "python",
   "pygments_lexer": "ipython3",
   "version": "3.10.16"
  }
 },
 "nbformat": 4,
 "nbformat_minor": 5
}
