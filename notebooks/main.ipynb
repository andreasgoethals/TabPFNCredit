{
 "cells": [
  {
   "cell_type": "code",
   "execution_count": 368,
   "outputs": [
    {
     "name": "stdout",
     "output_type": "stream",
     "text": [
      "The autoreload extension is already loaded. To reload it, use:\n",
      "  %reload_ext autoreload\n"
     ]
    }
   ],
   "source": [
    "# code for autoreload of modules\n",
    "%load_ext autoreload\n",
    "%autoreload 2"
   ],
   "metadata": {
    "collapsed": false,
    "ExecuteTime": {
     "end_time": "2025-02-05T17:19:57.388987100Z",
     "start_time": "2025-02-05T17:19:56.529070200Z"
    }
   },
   "id": "20a284b51db49046"
  },
  {
   "cell_type": "code",
   "execution_count": 369,
   "outputs": [],
   "source": [
    "import os\n"
   ],
   "metadata": {
    "collapsed": false,
    "ExecuteTime": {
     "end_time": "2025-02-05T17:19:57.485004Z",
     "start_time": "2025-02-05T17:19:57.391987700Z"
    }
   },
   "id": "initial_id"
  },
  {
   "cell_type": "code",
   "execution_count": 370,
   "outputs": [],
   "source": [
    "DIR = r'C:\\Users\\u0148775\\PycharmProjects\\CreditScoring'\n",
    "os.chdir(DIR)\n"
   ],
   "metadata": {
    "collapsed": false,
    "ExecuteTime": {
     "end_time": "2025-02-05T17:19:57.577005700Z",
     "start_time": "2025-02-05T17:19:57.486005800Z"
    }
   },
   "id": "3115e454e894e990"
  },
  {
   "cell_type": "code",
   "execution_count": 371,
   "outputs": [],
   "source": [
    "from src.utils import load_config\n",
    "\n",
    "# read dataconfig from CONFIG_DATA.yaml file:\n",
    "\n",
    "dataconfig = load_config('config\\CONFIG_DATA.yaml')\n",
    "experimentconfig = load_config('config\\CONFIG_EXPERIMENT.yaml')\n",
    "methodconfig = load_config('config\\CONFIG_METHOD.yaml')\n",
    "evaluationconfig = load_config('config\\CONFIG_EVALUATION.yaml')\n",
    "\n",
    "\n"
   ],
   "metadata": {
    "collapsed": false,
    "ExecuteTime": {
     "end_time": "2025-02-05T17:19:57.670202400Z",
     "start_time": "2025-02-05T17:19:57.579005Z"
    }
   },
   "id": "a08305fa84180327"
  },
  {
   "cell_type": "code",
   "execution_count": 372,
   "outputs": [
    {
     "name": "stdout",
     "output_type": "stream",
     "text": [
      "\n",
      "Experiment created at:  2025-02-05-18-19\n",
      "Task: pd\n",
      "Dataset: 00_pd_toydata\n",
      "CV splits:  2\n"
     ]
    }
   ],
   "source": [
    "from src.classes.experiment import Experiment\n",
    "\n",
    "# Initialize experiment object\n",
    "experiment = Experiment(dataconfig=dataconfig,\n",
    "                        experimentconfig=experimentconfig,\n",
    "                        methodconfig=methodconfig,\n",
    "                        evaluationconfig=evaluationconfig)\n"
   ],
   "metadata": {
    "collapsed": false,
    "ExecuteTime": {
     "end_time": "2025-02-05T17:19:57.765243300Z",
     "start_time": "2025-02-05T17:19:57.672243900Z"
    }
   },
   "id": "d7ada7e1194abf9b"
  },
  {
   "cell_type": "code",
   "execution_count": 373,
   "outputs": [
    {
     "name": "stdout",
     "output_type": "stream",
     "text": [
      "00_pd_toydata loaded\n",
      "00_pd_toydata preprocessed\n",
      "x shape:  (569, 30)\n",
      "y shape:  (569,)\n",
      "Best hyperparameters: {'ccp_alpha': 0.0, 'class_weight': None, 'criterion': 'entropy', 'max_depth': 5, 'max_features': None, 'max_leaf_nodes': None, 'min_impurity_decrease': 0.0, 'min_samples_leaf': 1, 'min_samples_split': 2, 'min_weight_fraction_leaf': 0.0, 'monotonic_cst': None, 'random_state': None, 'splitter': 'best'}\n",
      "Best hyperparameters: {'C': 0.1, 'break_ties': False, 'cache_size': 200, 'class_weight': None, 'coef0': 0.0, 'decision_function_shape': 'ovr', 'degree': 3, 'gamma': 'scale', 'kernel': 'linear', 'max_iter': -1, 'probability': True, 'random_state': None, 'shrinking': True, 'tol': 0.001, 'verbose': False}\n",
      "Best hyperparameters: {'ccp_alpha': 0.0, 'class_weight': None, 'criterion': 'gini', 'max_depth': 3, 'max_features': None, 'max_leaf_nodes': None, 'min_impurity_decrease': 0.0, 'min_samples_leaf': 1, 'min_samples_split': 2, 'min_weight_fraction_leaf': 0.0, 'monotonic_cst': None, 'random_state': None, 'splitter': 'best'}\n",
      "Best hyperparameters: {'C': 1, 'break_ties': False, 'cache_size': 200, 'class_weight': None, 'coef0': 0.0, 'decision_function_shape': 'ovr', 'degree': 3, 'gamma': 'scale', 'kernel': 'linear', 'max_iter': -1, 'probability': True, 'random_state': None, 'shrinking': True, 'tol': 0.001, 'verbose': False}\n"
     ]
    }
   ],
   "source": [
    "experiment.run()"
   ],
   "metadata": {
    "collapsed": false,
    "ExecuteTime": {
     "end_time": "2025-02-05T17:19:58.515462Z",
     "start_time": "2025-02-05T17:19:57.767240900Z"
    }
   },
   "id": "57033baf67309b3f"
  },
  {
   "cell_type": "code",
   "execution_count": 373,
   "outputs": [],
   "source": [],
   "metadata": {
    "collapsed": false,
    "ExecuteTime": {
     "end_time": "2025-02-05T17:19:58.543462900Z",
     "start_time": "2025-02-05T17:19:58.517461300Z"
    }
   },
   "id": "6475c534954ccfa0"
  },
  {
   "cell_type": "code",
   "execution_count": 373,
   "outputs": [],
   "source": [],
   "metadata": {
    "collapsed": false,
    "ExecuteTime": {
     "end_time": "2025-02-05T17:19:58.551458800Z",
     "start_time": "2025-02-05T17:19:58.531461300Z"
    }
   },
   "id": "71445e2be1c90565"
  },
  {
   "cell_type": "code",
   "execution_count": 374,
   "outputs": [
    {
     "name": "stdout",
     "output_type": "stream",
     "text": [
      "00_pd_toydata loaded\n",
      "00_pd_toydata preprocessed\n",
      "x shape:  (569, 30)\n",
      "y shape:  (569,)\n"
     ]
    }
   ],
   "source": [
    "experiment.data.load_preprocess_data()\n"
   ],
   "metadata": {
    "collapsed": false,
    "ExecuteTime": {
     "end_time": "2025-02-05T17:19:58.641460500Z",
     "start_time": "2025-02-05T17:19:58.547459600Z"
    }
   },
   "id": "2e2e71a76b87f9d3"
  },
  {
   "cell_type": "code",
   "execution_count": 375,
   "outputs": [
    {
     "name": "stdout",
     "output_type": "stream",
     "text": [
      "<src.classes.data.Data object at 0x00000164CFD5F100>\n",
      "debug\n"
     ]
    }
   ],
   "source": [
    "print(experiment.data)\n",
    "print('debug')"
   ],
   "metadata": {
    "collapsed": false,
    "ExecuteTime": {
     "end_time": "2025-02-05T17:19:58.732159100Z",
     "start_time": "2025-02-05T17:19:58.639459100Z"
    }
   },
   "id": "59f55d0a2256248a"
  },
  {
   "cell_type": "code",
   "execution_count": 376,
   "outputs": [
    {
     "data": {
      "text/plain": "{0: {'train': [161,\n   104,\n   3,\n   433,\n   209,\n   462,\n   176,\n   25,\n   513,\n   119,\n   83,\n   32,\n   99,\n   498,\n   430,\n   251,\n   128,\n   568,\n   411,\n   259,\n   383,\n   328,\n   86,\n   480,\n   274,\n   399,\n   397,\n   292,\n   222,\n   450,\n   198,\n   396,\n   187,\n   375,\n   317,\n   73,\n   362,\n   223,\n   0,\n   189,\n   192,\n   511,\n   444,\n   139,\n   98,\n   95,\n   174,\n   558,\n   279,\n   44,\n   449,\n   291,\n   286,\n   152,\n   365,\n   201,\n   260,\n   495,\n   559,\n   394,\n   16,\n   138,\n   543,\n   169,\n   335,\n   244,\n   277,\n   461,\n   520,\n   507,\n   467,\n   183,\n   166,\n   533,\n   27,\n   237,\n   204,\n   72,\n   117,\n   331,\n   131,\n   2,\n   241,\n   493,\n   374,\n   84,\n   212,\n   265,\n   156,\n   36,\n   79,\n   266,\n   110,\n   323,\n   470,\n   257,\n   70,\n   57,\n   370,\n   226,\n   404,\n   321,\n   295,\n   486,\n   402,\n   62,\n   501,\n   256,\n   373,\n   545,\n   537,\n   67,\n   327,\n   280,\n   510,\n   290,\n   522,\n   360,\n   199,\n   395,\n   485,\n   227,\n   146,\n   48,\n   324,\n   539,\n   351,\n   541,\n   80,\n   387,\n   178,\n   143,\n   177,\n   483,\n   423,\n   24,\n   393,\n   497,\n   386,\n   232,\n   94,\n   342],\n  'val': [234,\n   130,\n   182,\n   491,\n   488,\n   431,\n   407,\n   556,\n   33,\n   43,\n   163,\n   530,\n   28,\n   445,\n   121,\n   307,\n   532,\n   267,\n   88,\n   273,\n   300,\n   456,\n   551,\n   435,\n   289,\n   294,\n   180,\n   311,\n   405,\n   506,\n   255,\n   23,\n   13,\n   150,\n   472,\n   248,\n   203,\n   19,\n   309,\n   214,\n   129,\n   426,\n   418,\n   447,\n   114,\n   443,\n   184,\n   352,\n   552,\n   536,\n   147,\n   148,\n   438,\n   41,\n   91,\n   388,\n   419,\n   359,\n   521,\n   305,\n   53,\n   349,\n   363,\n   398,\n   475,\n   77,\n   304,\n   371,\n   422,\n   258,\n   509,\n   496,\n   197,\n   442,\n   314,\n   221,\n   535,\n   87,\n   446,\n   275,\n   218,\n   228,\n   111,\n   452,\n   39,\n   296,\n   455,\n   207,\n   451,\n   145,\n   476,\n   448,\n   376,\n   540,\n   381,\n   69,\n   168,\n   270,\n   123,\n   544,\n   529,\n   42,\n   58,\n   460,\n   35,\n   115,\n   149,\n   269,\n   302,\n   288,\n   217,\n   377,\n   11,\n   193,\n   297,\n   125,\n   216,\n   136,\n   109,\n   133,\n   50,\n   253,\n   369,\n   326,\n   528,\n   82,\n   410,\n   29,\n   215,\n   368,\n   9,\n   287,\n   254,\n   47,\n   61,\n   151,\n   524,\n   341,\n   40,\n   459,\n   424,\n   494],\n  'test': [1,\n   4,\n   5,\n   6,\n   7,\n   8,\n   10,\n   12,\n   14,\n   15,\n   17,\n   18,\n   20,\n   21,\n   22,\n   26,\n   30,\n   31,\n   34,\n   37,\n   38,\n   45,\n   46,\n   49,\n   51,\n   52,\n   54,\n   55,\n   56,\n   59,\n   60,\n   63,\n   64,\n   65,\n   66,\n   68,\n   71,\n   74,\n   75,\n   76,\n   78,\n   81,\n   85,\n   89,\n   90,\n   92,\n   93,\n   96,\n   97,\n   100,\n   101,\n   102,\n   103,\n   105,\n   106,\n   107,\n   108,\n   112,\n   113,\n   116,\n   118,\n   120,\n   122,\n   124,\n   126,\n   127,\n   132,\n   134,\n   135,\n   137,\n   140,\n   141,\n   142,\n   144,\n   153,\n   154,\n   155,\n   157,\n   158,\n   159,\n   160,\n   162,\n   164,\n   165,\n   167,\n   170,\n   171,\n   172,\n   173,\n   175,\n   179,\n   181,\n   185,\n   186,\n   188,\n   190,\n   191,\n   194,\n   195,\n   196,\n   200,\n   202,\n   205,\n   206,\n   208,\n   210,\n   211,\n   213,\n   219,\n   220,\n   224,\n   225,\n   229,\n   230,\n   231,\n   233,\n   235,\n   236,\n   238,\n   239,\n   240,\n   242,\n   243,\n   245,\n   246,\n   247,\n   249,\n   250,\n   252,\n   261,\n   262,\n   263,\n   264,\n   268,\n   271,\n   272,\n   276,\n   278,\n   281,\n   282,\n   283,\n   284,\n   285,\n   293,\n   298,\n   299,\n   301,\n   303,\n   306,\n   308,\n   310,\n   312,\n   313,\n   315,\n   316,\n   318,\n   319,\n   320,\n   322,\n   325,\n   329,\n   330,\n   332,\n   333,\n   334,\n   336,\n   337,\n   338,\n   339,\n   340,\n   343,\n   344,\n   345,\n   346,\n   347,\n   348,\n   350,\n   353,\n   354,\n   355,\n   356,\n   357,\n   358,\n   361,\n   364,\n   366,\n   367,\n   372,\n   378,\n   379,\n   380,\n   382,\n   384,\n   385,\n   389,\n   390,\n   391,\n   392,\n   400,\n   401,\n   403,\n   406,\n   408,\n   409,\n   412,\n   413,\n   414,\n   415,\n   416,\n   417,\n   420,\n   421,\n   425,\n   427,\n   428,\n   429,\n   432,\n   434,\n   436,\n   437,\n   439,\n   440,\n   441,\n   453,\n   454,\n   457,\n   458,\n   463,\n   464,\n   465,\n   466,\n   468,\n   469,\n   471,\n   473,\n   474,\n   477,\n   478,\n   479,\n   481,\n   482,\n   484,\n   487,\n   489,\n   490,\n   492,\n   499,\n   500,\n   502,\n   503,\n   504,\n   505,\n   508,\n   512,\n   514,\n   515,\n   516,\n   517,\n   518,\n   519,\n   523,\n   525,\n   526,\n   527,\n   531,\n   534,\n   538,\n   542,\n   546,\n   547,\n   548,\n   549,\n   550,\n   553,\n   554,\n   555,\n   557,\n   560,\n   561,\n   562,\n   563,\n   564,\n   565,\n   566,\n   567]},\n 1: {'train': [479,\n   434,\n   514,\n   160,\n   102,\n   5,\n   440,\n   208,\n   379,\n   171,\n   17,\n   358,\n   113,\n   81,\n   22,\n   318,\n   101,\n   400,\n   437,\n   245,\n   122,\n   523,\n   425,\n   262,\n   414,\n   346,\n   89,\n   500,\n   281,\n   516,\n   412,\n   308,\n   229,\n   478,\n   195,\n   417,\n   186,\n   564,\n   332,\n   71,\n   354,\n   230,\n   1,\n   188,\n   190,\n   503,\n   458,\n   137,\n   100,\n   97,\n   170,\n   565,\n   284,\n   49,\n   468,\n   306,\n   293,\n   158,\n   356,\n   200,\n   263,\n   515,\n   566,\n   391,\n   10,\n   135,\n   502,\n   167,\n   343,\n   242,\n   283,\n   482,\n   525,\n   285,\n   557,\n   181,\n   164,\n   547,\n   18,\n   239,\n   205,\n   68,\n   112,\n   340,\n   127,\n   4,\n   240,\n   512,\n   367,\n   85,\n   210,\n   264,\n   159,\n   31,\n   469,\n   75,\n   268,\n   105,\n   334,\n   519,\n   252,\n   66,\n   56,\n   361,\n   231,\n   409,\n   333,\n   312,\n   490,\n   408,\n   63,\n   64,\n   250,\n   366,\n   518,\n   303,\n   527,\n   353,\n   196,\n   392,\n   489,\n   233,\n   142,\n   52,\n   336,\n   553,\n   347,\n   555,\n   76,\n   385,\n   173,\n   140,\n   172,\n   487,\n   421,\n   15,\n   390,\n   505,\n   384,\n   236,\n   96,\n   345],\n  'val': [107,\n   357,\n   185,\n   415,\n   378,\n   92,\n   225,\n   481,\n   26,\n   46,\n   542,\n   389,\n   20,\n   162,\n   124,\n   382,\n   457,\n   344,\n   406,\n   276,\n   316,\n   477,\n   202,\n   562,\n   211,\n   224,\n   436,\n   463,\n   249,\n   567,\n   427,\n   14,\n   8,\n   403,\n   179,\n   563,\n   194,\n   206,\n   12,\n   126,\n   144,\n   325,\n   355,\n   413,\n   484,\n   246,\n   322,\n   416,\n   153,\n   548,\n   116,\n   561,\n   549,\n   441,\n   155,\n   310,\n   508,\n   38,\n   93,\n   517,\n   428,\n   338,\n   453,\n   339,\n   55,\n   272,\n   492,\n   74,\n   420,\n   315,\n   330,\n   235,\n   504,\n   380,\n   429,\n   454,\n   271,\n   560,\n   175,\n   90,\n   464,\n   401,\n   337,\n   546,\n   106,\n   261,\n   34,\n   319,\n   474,\n   471,\n   473,\n   141,\n   499,\n   466,\n   550,\n   554,\n   299,\n   65,\n   165,\n   238,\n   118,\n   301,\n   538,\n   45,\n   59,\n   278,\n   30,\n   108,\n   154,\n   364,\n   282,\n   313,\n   439,\n   220,\n   243,\n   7,\n   191,\n   320,\n   120,\n   219,\n   134,\n   103,\n   465,\n   132,\n   54,\n   298,\n   372,\n   432,\n   534,\n   78,\n   348,\n   21,\n   213,\n   526,\n   6,\n   329,\n   247,\n   51,\n   60,\n   157,\n   531,\n   350,\n   37],\n  'test': [0,\n   2,\n   3,\n   9,\n   11,\n   13,\n   16,\n   19,\n   23,\n   24,\n   25,\n   27,\n   28,\n   29,\n   32,\n   33,\n   35,\n   36,\n   39,\n   40,\n   41,\n   42,\n   43,\n   44,\n   47,\n   48,\n   50,\n   53,\n   57,\n   58,\n   61,\n   62,\n   67,\n   69,\n   70,\n   72,\n   73,\n   77,\n   79,\n   80,\n   82,\n   83,\n   84,\n   86,\n   87,\n   88,\n   91,\n   94,\n   95,\n   98,\n   99,\n   104,\n   109,\n   110,\n   111,\n   114,\n   115,\n   117,\n   119,\n   121,\n   123,\n   125,\n   128,\n   129,\n   130,\n   131,\n   133,\n   136,\n   138,\n   139,\n   143,\n   145,\n   146,\n   147,\n   148,\n   149,\n   150,\n   151,\n   152,\n   156,\n   161,\n   163,\n   166,\n   168,\n   169,\n   174,\n   176,\n   177,\n   178,\n   180,\n   182,\n   183,\n   184,\n   187,\n   189,\n   192,\n   193,\n   197,\n   198,\n   199,\n   201,\n   203,\n   204,\n   207,\n   209,\n   212,\n   214,\n   215,\n   216,\n   217,\n   218,\n   221,\n   222,\n   223,\n   226,\n   227,\n   228,\n   232,\n   234,\n   237,\n   241,\n   244,\n   248,\n   251,\n   253,\n   254,\n   255,\n   256,\n   257,\n   258,\n   259,\n   260,\n   265,\n   266,\n   267,\n   269,\n   270,\n   273,\n   274,\n   275,\n   277,\n   279,\n   280,\n   286,\n   287,\n   288,\n   289,\n   290,\n   291,\n   292,\n   294,\n   295,\n   296,\n   297,\n   300,\n   302,\n   304,\n   305,\n   307,\n   309,\n   311,\n   314,\n   317,\n   321,\n   323,\n   324,\n   326,\n   327,\n   328,\n   331,\n   335,\n   341,\n   342,\n   349,\n   351,\n   352,\n   359,\n   360,\n   362,\n   363,\n   365,\n   368,\n   369,\n   370,\n   371,\n   373,\n   374,\n   375,\n   376,\n   377,\n   381,\n   383,\n   386,\n   387,\n   388,\n   393,\n   394,\n   395,\n   396,\n   397,\n   398,\n   399,\n   402,\n   404,\n   405,\n   407,\n   410,\n   411,\n   418,\n   419,\n   422,\n   423,\n   424,\n   426,\n   430,\n   431,\n   433,\n   435,\n   438,\n   442,\n   443,\n   444,\n   445,\n   446,\n   447,\n   448,\n   449,\n   450,\n   451,\n   452,\n   455,\n   456,\n   459,\n   460,\n   461,\n   462,\n   467,\n   470,\n   472,\n   475,\n   476,\n   480,\n   483,\n   485,\n   486,\n   488,\n   491,\n   493,\n   494,\n   495,\n   496,\n   497,\n   498,\n   501,\n   506,\n   507,\n   509,\n   510,\n   511,\n   513,\n   520,\n   521,\n   522,\n   524,\n   528,\n   529,\n   530,\n   532,\n   533,\n   535,\n   536,\n   537,\n   539,\n   540,\n   541,\n   543,\n   544,\n   545,\n   551,\n   552,\n   556,\n   558,\n   559,\n   568]}}"
     },
     "execution_count": 376,
     "metadata": {},
     "output_type": "execute_result"
    }
   ],
   "source": [
    "experiment.data.split_data()"
   ],
   "metadata": {
    "collapsed": false,
    "ExecuteTime": {
     "end_time": "2025-02-05T17:19:58.840157900Z",
     "start_time": "2025-02-05T17:19:58.733158300Z"
    }
   },
   "id": "de199898eb887428"
  },
  {
   "cell_type": "code",
   "execution_count": 377,
   "outputs": [
    {
     "name": "stdout",
     "output_type": "stream",
     "text": [
      "Best hyperparameters: {'ccp_alpha': 0.0, 'class_weight': None, 'criterion': 'gini', 'max_depth': 5, 'max_features': None, 'max_leaf_nodes': None, 'min_impurity_decrease': 0.0, 'min_samples_leaf': 1, 'min_samples_split': 2, 'min_weight_fraction_leaf': 0.0, 'monotonic_cst': None, 'random_state': None, 'splitter': 'best'}\n",
      "Best hyperparameters: {'C': 0.1, 'break_ties': False, 'cache_size': 200, 'class_weight': None, 'coef0': 0.0, 'decision_function_shape': 'ovr', 'degree': 3, 'gamma': 'scale', 'kernel': 'linear', 'max_iter': -1, 'probability': True, 'random_state': None, 'shrinking': True, 'tol': 0.001, 'verbose': False}\n",
      "Best hyperparameters: {'ccp_alpha': 0.0, 'class_weight': None, 'criterion': 'entropy', 'max_depth': 3, 'max_features': None, 'max_leaf_nodes': None, 'min_impurity_decrease': 0.0, 'min_samples_leaf': 1, 'min_samples_split': 2, 'min_weight_fraction_leaf': 0.0, 'monotonic_cst': None, 'random_state': None, 'splitter': 'best'}\n",
      "Best hyperparameters: {'C': 1, 'break_ties': False, 'cache_size': 200, 'class_weight': None, 'coef0': 0.0, 'decision_function_shape': 'ovr', 'degree': 3, 'gamma': 'scale', 'kernel': 'linear', 'max_iter': -1, 'probability': True, 'random_state': None, 'shrinking': True, 'tol': 0.001, 'verbose': False}\n"
     ]
    }
   ],
   "source": [
    "experiment.train_evaluate()"
   ],
   "metadata": {
    "collapsed": false,
    "ExecuteTime": {
     "end_time": "2025-02-05T17:19:59.638480400Z",
     "start_time": "2025-02-05T17:19:58.841164600Z"
    }
   },
   "id": "a28eb45e7cfe0d3c"
  },
  {
   "cell_type": "code",
   "execution_count": 378,
   "outputs": [
    {
     "data": {
      "text/plain": "{'dt': {0: {'accuracy': 0.93333,\n   'brier': 0.06667,\n   'f1': 0.94933,\n   'precision': 0.93194,\n   'recall': 0.93194,\n   'aucroc': 0.91934,\n   'aucpr': 0.9226},\n  1: {'accuracy': 0.91549,\n   'brier': 0.07185,\n   'f1': 0.93333,\n   'precision': 0.8984,\n   'recall': 0.8984,\n   'aucroc': 0.89996,\n   'aucpr': 0.89004}},\n 'svm': {0: {'accuracy': 0.94737,\n   'brier': 0.03526,\n   'f1': 0.95935,\n   'precision': 0.95676,\n   'recall': 0.95676,\n   'aucroc': 0.94137,\n   'aucpr': 0.94492},\n  1: {'accuracy': 0.94366,\n   'brier': 0.04283,\n   'f1': 0.95376,\n   'precision': 0.95376,\n   'recall': 0.95376,\n   'aucroc': 0.94084,\n   'aucpr': 0.93782}}}"
     },
     "execution_count": 378,
     "metadata": {},
     "output_type": "execute_result"
    }
   ],
   "source": [
    "experiment.results"
   ],
   "metadata": {
    "collapsed": false,
    "ExecuteTime": {
     "end_time": "2025-02-05T17:19:59.750214800Z",
     "start_time": "2025-02-05T17:19:59.640481400Z"
    }
   },
   "id": "dc04285e5a4ef64"
  },
  {
   "cell_type": "code",
   "execution_count": 378,
   "outputs": [],
   "source": [],
   "metadata": {
    "collapsed": false,
    "ExecuteTime": {
     "end_time": "2025-02-05T17:19:59.756216300Z",
     "start_time": "2025-02-05T17:19:59.735217900Z"
    }
   },
   "id": "a0eb618299c82b3a"
  }
 ],
 "metadata": {
  "kernelspec": {
   "display_name": "Python 3",
   "language": "python",
   "name": "python3"
  },
  "language_info": {
   "codemirror_mode": {
    "name": "ipython",
    "version": 2
   },
   "file_extension": ".py",
   "mimetype": "text/x-python",
   "name": "python",
   "nbconvert_exporter": "python",
   "pygments_lexer": "ipython2",
   "version": "2.7.6"
  }
 },
 "nbformat": 4,
 "nbformat_minor": 5
}
