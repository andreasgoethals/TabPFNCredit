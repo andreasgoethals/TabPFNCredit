{
 "cells": [
  {
   "cell_type": "code",
   "source": [
    "# code for autoreload of modules\n",
    "%load_ext autoreload\n",
    "%autoreload 2"
   ],
   "metadata": {
    "collapsed": false,
    "ExecuteTime": {
     "end_time": "2025-03-05T13:20:40.851372Z",
     "start_time": "2025-03-05T13:20:40.691458Z"
    }
   },
   "id": "20a284b51db49046",
   "outputs": [
    {
     "name": "stdout",
     "output_type": "stream",
     "text": [
      "The autoreload extension is already loaded. To reload it, use:\n",
      "  %reload_ext autoreload\n"
     ]
    }
   ],
   "execution_count": 109
  },
  {
   "cell_type": "code",
   "source": [
    "import os\n",
    "from src.utils import set_random_seed"
   ],
   "metadata": {
    "collapsed": false,
    "ExecuteTime": {
     "end_time": "2025-03-05T13:20:41.022625Z",
     "start_time": "2025-03-05T13:20:40.861919Z"
    }
   },
   "id": "initial_id",
   "outputs": [],
   "execution_count": 110
  },
  {
   "cell_type": "code",
   "source": [
    "\n",
    "\n",
    "DIR = r'C:\\Users\\u0148775\\PycharmProjects\\CreditScoring'\n",
    "os.chdir(DIR)\n",
    "\n",
    "set_random_seed(0)"
   ],
   "metadata": {
    "collapsed": false,
    "ExecuteTime": {
     "end_time": "2025-03-05T13:20:41.222549Z",
     "start_time": "2025-03-05T13:20:41.056090Z"
    }
   },
   "id": "3115e454e894e990",
   "outputs": [],
   "execution_count": 111
  },
  {
   "cell_type": "code",
   "source": [
    "from src.utils import load_config\n",
    "\n",
    "# read dataconfig from CONFIG_DATA.yaml file:\n",
    "\n",
    "dataconfig = load_config('config\\CONFIG_DATA.yaml')\n",
    "experimentconfig = load_config('config\\CONFIG_EXPERIMENT.yaml')\n",
    "methodconfig = load_config('config\\CONFIG_METHOD.yaml')\n",
    "evaluationconfig = load_config('config\\CONFIG_EVALUATION.yaml')\n",
    "\n"
   ],
   "metadata": {
    "collapsed": false,
    "ExecuteTime": {
     "end_time": "2025-03-05T13:20:41.471470Z",
     "start_time": "2025-03-05T13:20:41.285321Z"
    }
   },
   "id": "a08305fa84180327",
   "outputs": [],
   "execution_count": 112
  },
  {
   "cell_type": "code",
   "source": [
    "from src.classes.experiment import Experiment\n",
    "\n",
    "# Initialize experiment object\n",
    "experiment = Experiment(dataconfig=dataconfig,\n",
    "                        experimentconfig=experimentconfig,\n",
    "                        methodconfig=methodconfig,\n",
    "                        evaluationconfig=evaluationconfig)\n"
   ],
   "metadata": {
    "collapsed": false,
    "ExecuteTime": {
     "end_time": "2025-03-05T13:20:41.641575Z",
     "start_time": "2025-03-05T13:20:41.477704Z"
    }
   },
   "id": "d7ada7e1194abf9b",
   "outputs": [
    {
     "name": "stdout",
     "output_type": "stream",
     "text": [
      "\n",
      "Experiment created at:  2025-03-05-14-20\n",
      "Task: lgd\n",
      "Dataset: 00_lgd_toydata\n",
      "CV splits:  2\n"
     ]
    }
   ],
   "execution_count": 113
  },
  {
   "cell_type": "code",
   "source": [
    "experiment.run()"
   ],
   "metadata": {
    "collapsed": false,
    "ExecuteTime": {
     "end_time": "2025-03-05T13:21:01.075882Z",
     "start_time": "2025-03-05T13:20:41.674577Z"
    }
   },
   "id": "57033baf67309b3f",
   "outputs": [
    {
     "name": "stdout",
     "output_type": "stream",
     "text": [
      "00_lgd_toydata loaded\n",
      "00_lgd_toydata preprocessed\n",
      "x shape:  (442, 10)\n",
      "y shape:  (442,)\n"
     ]
    },
    {
     "name": "stderr",
     "output_type": "stream",
     "text": [
      "Cross-validation loop::   0%|          | 0/2 [00:00<?, ?it/s]"
     ]
    },
    {
     "name": "stdout",
     "output_type": "stream",
     "text": [
      "*Best hyperparameters (ab)* {'estimator': None, 'learning_rate': 0.01, 'loss': 'linear', 'n_estimators': 50, 'random_state': None}\n",
      "*Best hyperparameters (ann)* {'activation': 'relu', 'batch_size': 256, 'dropout_rate': 0.1, 'early_stopping_delay': 5, 'epochs': 50, 'hidden_layer_size': 32, 'learning_rate': 0.001, 'num_hidden_layers': 1, 'random_seed': 0, 'weight_decay': 0.01}\n",
      "*Best hyperparameters (cb)* {'iterations': 100, 'depth': 6, 'loss_function': 'RMSE', 'verbose': False}\n",
      "*Best hyperparameters (dt)* {'ccp_alpha': 0.0, 'criterion': 'absolute_error', 'max_depth': 10, 'max_features': None, 'max_leaf_nodes': None, 'min_impurity_decrease': 0.0, 'min_samples_leaf': 1, 'min_samples_split': 2, 'min_weight_fraction_leaf': 0.0, 'monotonic_cst': None, 'random_state': None, 'splitter': 'best'}\n",
      "*Best hyperparameters (en)* {'alpha': 0.5, 'copy_X': True, 'fit_intercept': True, 'l1_ratio': 0.1, 'max_iter': 1000, 'positive': False, 'precompute': False, 'random_state': None, 'selection': 'cyclic', 'tol': 0.0001, 'warm_start': False}\n",
      "*Best hyperparameters (knn)* {'algorithm': 'auto', 'leaf_size': 30, 'metric': 'minkowski', 'metric_params': None, 'n_jobs': None, 'n_neighbors': 3, 'p': 2, 'weights': 'uniform'}\n",
      "*Best hyperparameters (lgbm)* {'boosting_type': 'gbdt', 'class_weight': None, 'colsample_bytree': 1.0, 'importance_type': 'split', 'learning_rate': 0.01, 'max_depth': -1, 'min_child_samples': 20, 'min_child_weight': 0.001, 'min_split_gain': 0.0, 'n_estimators': 50, 'n_jobs': None, 'num_leaves': 31, 'objective': None, 'random_state': None, 'reg_alpha': 0.0, 'reg_lambda': 0.0, 'subsample': 1.0, 'subsample_for_bin': 200000, 'subsample_freq': 0, 'verbose': -1}\n",
      "*Best hyperparameters (lr)* {'copy_X': True, 'fit_intercept': True, 'n_jobs': None, 'positive': False}\n",
      "*Best hyperparameters (rf)* {'bootstrap': True, 'ccp_alpha': 0.0, 'criterion': 'squared_error', 'max_depth': 5, 'max_features': 1.0, 'max_leaf_nodes': None, 'max_samples': None, 'min_impurity_decrease': 0.0, 'min_samples_leaf': 1, 'min_samples_split': 2, 'min_weight_fraction_leaf': 0.0, 'monotonic_cst': None, 'n_estimators': 200, 'n_jobs': None, 'oob_score': False, 'random_state': None, 'verbose': 0, 'warm_start': False}\n",
      "*Best hyperparameters (svr)* {'C': 0.1, 'cache_size': 200, 'coef0': 0.0, 'degree': 3, 'epsilon': 0.1, 'gamma': 'scale', 'kernel': 'linear', 'max_iter': -1, 'shrinking': True, 'tol': 0.001, 'verbose': False}\n",
      "*Best hyperparameters (tabpfn)* {'average_before_softmax': False, 'categorical_features_indices': None, 'device': 'auto', 'fit_mode': 'fit_preprocessors', 'ignore_pretraining_limits': False, 'inference_config': None, 'inference_precision': 'auto', 'memory_saving_mode': 'auto', 'model_path': 'auto', 'n_estimators': 8, 'n_jobs': -1, 'random_state': 0, 'softmax_temperature': 0.9}\n"
     ]
    },
    {
     "name": "stderr",
     "output_type": "stream",
     "text": [
      "Cross-validation loop::  50%|█████     | 1/2 [00:09<00:09,  9.14s/it]"
     ]
    },
    {
     "name": "stdout",
     "output_type": "stream",
     "text": [
      "*Best hyperparameters (xgb)* {'objective': 'reg:squarederror', 'base_score': None, 'booster': None, 'callbacks': None, 'colsample_bylevel': None, 'colsample_bynode': None, 'colsample_bytree': None, 'device': None, 'early_stopping_rounds': None, 'enable_categorical': False, 'eval_metric': None, 'feature_types': None, 'gamma': None, 'grow_policy': None, 'importance_type': None, 'interaction_constraints': None, 'learning_rate': 0.01, 'max_bin': None, 'max_cat_threshold': None, 'max_cat_to_onehot': None, 'max_delta_step': None, 'max_depth': 5, 'max_leaves': None, 'min_child_weight': None, 'missing': nan, 'monotone_constraints': None, 'multi_strategy': None, 'n_estimators': 50, 'n_jobs': None, 'num_parallel_tree': None, 'random_state': None, 'reg_alpha': None, 'reg_lambda': None, 'sampling_method': None, 'scale_pos_weight': None, 'subsample': None, 'tree_method': None, 'validate_parameters': None, 'verbosity': None}\n",
      "*Best hyperparameters (ab)* {'estimator': None, 'learning_rate': 0.01, 'loss': 'linear', 'n_estimators': 50, 'random_state': None}\n",
      "*Best hyperparameters (ann)* {'activation': 'relu', 'batch_size': 256, 'dropout_rate': 0, 'early_stopping_delay': 5, 'epochs': 50, 'hidden_layer_size': 32, 'learning_rate': 0.001, 'num_hidden_layers': 1, 'random_seed': 0, 'weight_decay': 0.01}\n",
      "*Best hyperparameters (cb)* {'iterations': 100, 'depth': 6, 'loss_function': 'RMSE', 'verbose': False}\n",
      "*Best hyperparameters (dt)* {'ccp_alpha': 0.0, 'criterion': 'absolute_error', 'max_depth': 10, 'max_features': None, 'max_leaf_nodes': None, 'min_impurity_decrease': 0.0, 'min_samples_leaf': 1, 'min_samples_split': 2, 'min_weight_fraction_leaf': 0.0, 'monotonic_cst': None, 'random_state': None, 'splitter': 'best'}\n",
      "*Best hyperparameters (en)* {'alpha': 0.5, 'copy_X': True, 'fit_intercept': True, 'l1_ratio': 0.1, 'max_iter': 1000, 'positive': False, 'precompute': False, 'random_state': None, 'selection': 'cyclic', 'tol': 0.0001, 'warm_start': False}\n",
      "*Best hyperparameters (knn)* {'algorithm': 'auto', 'leaf_size': 30, 'metric': 'minkowski', 'metric_params': None, 'n_jobs': None, 'n_neighbors': 3, 'p': 2, 'weights': 'uniform'}\n",
      "*Best hyperparameters (lgbm)* {'boosting_type': 'gbdt', 'class_weight': None, 'colsample_bytree': 1.0, 'importance_type': 'split', 'learning_rate': 0.01, 'max_depth': -1, 'min_child_samples': 20, 'min_child_weight': 0.001, 'min_split_gain': 0.0, 'n_estimators': 50, 'n_jobs': None, 'num_leaves': 31, 'objective': None, 'random_state': None, 'reg_alpha': 0.0, 'reg_lambda': 0.0, 'subsample': 1.0, 'subsample_for_bin': 200000, 'subsample_freq': 0, 'verbose': -1}\n",
      "*Best hyperparameters (lr)* {'copy_X': True, 'fit_intercept': True, 'n_jobs': None, 'positive': False}\n",
      "*Best hyperparameters (rf)* {'bootstrap': True, 'ccp_alpha': 0.0, 'criterion': 'squared_error', 'max_depth': 3, 'max_features': 1.0, 'max_leaf_nodes': None, 'max_samples': None, 'min_impurity_decrease': 0.0, 'min_samples_leaf': 1, 'min_samples_split': 2, 'min_weight_fraction_leaf': 0.0, 'monotonic_cst': None, 'n_estimators': 100, 'n_jobs': None, 'oob_score': False, 'random_state': None, 'verbose': 0, 'warm_start': False}\n",
      "*Best hyperparameters (svr)* {'C': 0.1, 'cache_size': 200, 'coef0': 0.0, 'degree': 3, 'epsilon': 0.1, 'gamma': 'scale', 'kernel': 'linear', 'max_iter': -1, 'shrinking': True, 'tol': 0.001, 'verbose': False}\n",
      "*Best hyperparameters (tabpfn)* {'average_before_softmax': False, 'categorical_features_indices': None, 'device': 'auto', 'fit_mode': 'fit_preprocessors', 'ignore_pretraining_limits': False, 'inference_config': None, 'inference_precision': 'auto', 'memory_saving_mode': 'auto', 'model_path': 'auto', 'n_estimators': 8, 'n_jobs': -1, 'random_state': 0, 'softmax_temperature': 0.9}\n"
     ]
    },
    {
     "name": "stderr",
     "output_type": "stream",
     "text": [
      "Cross-validation loop:: 100%|██████████| 2/2 [00:19<00:00,  9.62s/it]"
     ]
    },
    {
     "name": "stdout",
     "output_type": "stream",
     "text": [
      "*Best hyperparameters (xgb)* {'objective': 'reg:squarederror', 'base_score': None, 'booster': None, 'callbacks': None, 'colsample_bylevel': None, 'colsample_bynode': None, 'colsample_bytree': None, 'device': None, 'early_stopping_rounds': None, 'enable_categorical': False, 'eval_metric': None, 'feature_types': None, 'gamma': None, 'grow_policy': None, 'importance_type': None, 'interaction_constraints': None, 'learning_rate': 0.01, 'max_bin': None, 'max_cat_threshold': None, 'max_cat_to_onehot': None, 'max_delta_step': None, 'max_depth': 3, 'max_leaves': None, 'min_child_weight': None, 'missing': nan, 'monotone_constraints': None, 'multi_strategy': None, 'n_estimators': 50, 'n_jobs': None, 'num_parallel_tree': None, 'random_state': None, 'reg_alpha': None, 'reg_lambda': None, 'sampling_method': None, 'scale_pos_weight': None, 'subsample': None, 'tree_method': None, 'validate_parameters': None, 'verbosity': None}\n"
     ]
    },
    {
     "name": "stderr",
     "output_type": "stream",
     "text": [
      "\n"
     ]
    }
   ],
   "execution_count": 114
  },
  {
   "cell_type": "code",
   "source": [
    "experiment.results"
   ],
   "metadata": {
    "collapsed": false,
    "ExecuteTime": {
     "end_time": "2025-03-05T13:21:01.353241Z",
     "start_time": "2025-03-05T13:21:01.127938Z"
    }
   },
   "id": "dc04285e5a4ef64",
   "outputs": [
    {
     "data": {
      "text/plain": [
       "{'ab': {0: {'mse': 4508.85574, 'mae': 52.2401, 'r2': 0.17566},\n",
       "  1: {'mse': 3690.23805, 'mae': 49.9091, 'r2': 0.42206}},\n",
       " 'ann': {0: {'mse': 28906.11753, 'mae': 153.09135, 'r2': -4.28479},\n",
       "  1: {'mse': 28868.65715, 'mae': 149.94648, 'r2': -3.52122}},\n",
       " 'cb': {0: {'mse': 3877.10048, 'mae': 49.43362, 'r2': 0.29117},\n",
       "  1: {'mse': 3909.16342, 'mae': 51.32465, 'r2': 0.38777}},\n",
       " 'dt': {0: {'mse': 8032.01018, 'mae': 71.46833, 'r2': -0.46846},\n",
       "  1: {'mse': 6606.68326, 'mae': 64.42081, 'r2': -0.0347}},\n",
       " 'en': {0: {'mse': 5399.57205, 'mae': 62.06747, 'r2': 0.01282},\n",
       "  1: {'mse': 6321.24265, 'mae': 68.47216, 'r2': 0.01001}},\n",
       " 'knn': {0: {'mse': 4195.62494, 'mae': 49.67119, 'r2': 0.23293},\n",
       "  1: {'mse': 4374.62795, 'mae': 52.67421, 'r2': 0.31487}},\n",
       " 'lgbm': {0: {'mse': 4194.23391, 'mae': 53.78811, 'r2': 0.23319},\n",
       "  1: {'mse': 4955.82956, 'mae': 60.72692, 'r2': 0.22385}},\n",
       " 'lr': {0: {'mse': 3093.66378, 'mae': 44.83555, 'r2': 0.4344},\n",
       "  1: {'mse': 3098.71399, 'mae': 46.36557, 'r2': 0.5147}},\n",
       " 'rf': {0: {'mse': 4096.46731, 'mae': 50.63654, 'r2': 0.25106},\n",
       "  1: {'mse': 3569.14102, 'mae': 49.90991, 'r2': 0.44102}},\n",
       " 'svr': {0: {'mse': 5780.02332, 'mae': 62.12876, 'r2': -0.05674},\n",
       "  1: {'mse': 6492.61901, 'mae': 68.03498, 'r2': -0.01683}},\n",
       " 'tabpfn': {0: {'mse': 3075.45815, 'mae': 44.50048, 'r2': 0.43773},\n",
       "  1: {'mse': 3290.08164, 'mae': 48.74222, 'r2': 0.48473}},\n",
       " 'xgb': {0: {'mse': 4222.42365, 'mae': 54.60684, 'r2': 0.22803},\n",
       "  1: {'mse': 4947.38469, 'mae': 61.16601, 'r2': 0.22517}}}"
      ]
     },
     "execution_count": 115,
     "metadata": {},
     "output_type": "execute_result"
    }
   ],
   "execution_count": 115
  },
  {
   "metadata": {
    "ExecuteTime": {
     "end_time": "2025-03-05T13:21:01.399422Z",
     "start_time": "2025-03-05T13:21:01.386274Z"
    }
   },
   "cell_type": "code",
   "source": "",
   "id": "850cc3c1189e1a94",
   "outputs": [],
   "execution_count": null
  }
 ],
 "metadata": {
  "kernelspec": {
   "display_name": "Python 3",
   "language": "python",
   "name": "python3"
  },
  "language_info": {
   "codemirror_mode": {
    "name": "ipython",
    "version": 2
   },
   "file_extension": ".py",
   "mimetype": "text/x-python",
   "name": "python",
   "nbconvert_exporter": "python",
   "pygments_lexer": "ipython2",
   "version": "2.7.6"
  }
 },
 "nbformat": 4,
 "nbformat_minor": 5
}
