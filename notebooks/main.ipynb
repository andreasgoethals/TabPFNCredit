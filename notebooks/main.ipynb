{
 "cells": [
  {
   "cell_type": "code",
   "id": "20a284b51db49046",
   "metadata": {
    "collapsed": false,
    "ExecuteTime": {
     "end_time": "2025-06-02T21:11:15.187491Z",
     "start_time": "2025-06-02T21:11:15.138907Z"
    }
   },
   "source": [
    "# code for autoreload of modules\n",
    "%load_ext autoreload\n",
    "%autoreload 2"
   ],
   "outputs": [],
   "execution_count": 1
  },
  {
   "cell_type": "code",
   "id": "3115e454e894e990",
   "metadata": {
    "collapsed": false,
    "ExecuteTime": {
     "end_time": "2025-06-02T21:11:16.931162Z",
     "start_time": "2025-06-02T21:11:16.867143Z"
    }
   },
   "source": [
    "import os\n",
    "# Set your custom working DIR:\n",
    "DIR = '/Users/jannispoltier/Documents/Studium/3. Semester/tabpfn_credit_codebase'\n",
    "# DIR = r'C:\\Users\\u0148775\\PycharmProjects\\CreditScoring'\n",
    "os.chdir(DIR)\n",
    "\n"
   ],
   "outputs": [],
   "execution_count": 2
  },
  {
   "cell_type": "code",
   "id": "initial_id",
   "metadata": {
    "collapsed": false,
    "ExecuteTime": {
     "end_time": "2025-06-02T21:11:19.171123Z",
     "start_time": "2025-06-02T21:11:18.316420Z"
    }
   },
   "source": [
    "\n",
    "from src.utils import set_random_seed\n",
    "set_random_seed(0)"
   ],
   "outputs": [],
   "execution_count": 3
  },
  {
   "cell_type": "code",
   "id": "a08305fa84180327",
   "metadata": {
    "collapsed": false,
    "ExecuteTime": {
     "end_time": "2025-06-02T21:11:19.797097Z",
     "start_time": "2025-06-02T21:11:19.767569Z"
    }
   },
   "source": [
    "from src.utils import load_config\n",
    "from pathlib import Path\n",
    "\n",
    "# read dataconfig from CONFIG_DATA.yaml file:\n",
    "\n",
    "# dataconfig = load_config('config\\CONFIG_DATA.yaml')\n",
    "# experimentconfig = load_config('config\\CONFIG_EXPERIMENT.yaml')\n",
    "# methodconfig = load_config('config\\CONFIG_METHOD.yaml')\n",
    "# evaluationconfig = load_config('config\\CONFIG_EVALUATION.yaml')\n",
    "dataconfig = load_config(Path('config') / 'CONFIG_DATA.yaml')\n",
    "experimentconfig = load_config(Path('config') / 'CONFIG_EXPERIMENT.yaml')\n",
    "methodconfig = load_config(Path('config') / 'CONFIG_METHOD.yaml')\n",
    "evaluationconfig = load_config(Path('config') / 'CONFIG_EVALUATION.yaml')\n",
    "tuningconfig = load_config(Path('config') / 'CONFIG_TUNING.yaml')\n"
   ],
   "outputs": [],
   "execution_count": 4
  },
  {
   "metadata": {},
   "cell_type": "code",
   "outputs": [],
   "execution_count": null,
   "source": "",
   "id": "722be1afbd36901d"
  },
  {
   "cell_type": "code",
   "id": "d7ada7e1194abf9b",
   "metadata": {
    "collapsed": false,
    "ExecuteTime": {
     "end_time": "2025-05-26T18:23:53.353864Z",
     "start_time": "2025-05-26T18:23:53.329466Z"
    }
   },
   "source": [
    "from src.classes.deprecated.experiment_deprecated import Experiment\n",
    "\n",
    "# Initialize experiment object\n",
    "experiment = Experiment(dataconfig=dataconfig,\n",
    "                        experimentconfig=experimentconfig,\n",
    "                        methodconfig=methodconfig,\n",
    "                        evaluationconfig=evaluationconfig)\n"
   ],
   "outputs": [
    {
     "name": "stdout",
     "output_type": "stream",
     "text": [
      "\n",
      "Experiment created at:  2025-05-26-20-23\n",
      "Task: pd\n",
      "Dataset: 01_gmsc\n",
      "CV splits:  3\n"
     ]
    }
   ],
   "execution_count": 11
  },
  {
   "metadata": {
    "ExecuteTime": {
     "end_time": "2025-06-02T21:12:24.191090Z",
     "start_time": "2025-06-02T21:12:24.163719Z"
    }
   },
   "cell_type": "code",
   "source": [
    "from src.classes.experiment import Experiment\n",
    "\n",
    "# Initialize experiment object\n",
    "experiment = Experiment(dataconfig=dataconfig,\n",
    "                        experimentconfig=experimentconfig,\n",
    "                        methodconfig=methodconfig,\n",
    "                        evaluationconfig=evaluationconfig,\n",
    "                        tuningconfig=tuningconfig)"
   ],
   "id": "33446f919592010d",
   "outputs": [
    {
     "name": "stdout",
     "output_type": "stream",
     "text": [
      "\n",
      "Experiment created at:  2025-06-02-23-12\n",
      "Task: pd\n",
      "Dataset: 01_gmsc\n",
      "CV splits:  3\n"
     ]
    }
   ],
   "execution_count": 7
  },
  {
   "cell_type": "code",
   "id": "57033baf67309b3f",
   "metadata": {
    "collapsed": false,
    "ExecuteTime": {
     "end_time": "2025-06-02T21:12:25.881318Z",
     "start_time": "2025-06-02T21:12:25.624347Z"
    }
   },
   "source": [
    "experiment.run()"
   ],
   "outputs": [
    {
     "name": "stdout",
     "output_type": "stream",
     "text": [
      "01_gmsc loaded\n",
      "- Dataset has 150000 rows. Subsampling to 30000 rows.\n",
      "01_gmsc preprocessed\n",
      "x shape:  (30000, 10)\n",
      "y shape:  (30000,)\n"
     ]
    },
    {
     "name": "stderr",
     "output_type": "stream",
     "text": [
      "Cross-validation loop:: 100%|██████████| 3/3 [00:00<00:00, 17.44it/s]"
     ]
    },
    {
     "name": "stdout",
     "output_type": "stream",
     "text": [
      "- Omitting rows with missing values: 6042 rows left out\n",
      "---- Tuning dt ----\n",
      "*Selected hyperparameters (dt)* {'criterion': 'gini', 'max_depth': 10}\n",
      "---- Tuning lr ----\n",
      "*Selected hyperparameters (lr)* {'penalty': 'l2', 'C': 0.1}\n",
      "- Omitting rows with missing values: 6042 rows left out\n",
      "- Omitting rows with missing values: 6042 rows left out\n"
     ]
    },
    {
     "name": "stderr",
     "output_type": "stream",
     "text": [
      "\n"
     ]
    }
   ],
   "execution_count": 8
  },
  {
   "cell_type": "code",
   "id": "dc04285e5a4ef64",
   "metadata": {
    "collapsed": false,
    "ExecuteTime": {
     "end_time": "2025-06-02T21:12:30.165266Z",
     "start_time": "2025-06-02T21:12:30.139960Z"
    }
   },
   "source": [
    "experiment.results"
   ],
   "outputs": [
    {
     "data": {
      "text/plain": [
       "{'dt': {0: {'accuracy': 0.92622,\n",
       "   'brier': 0.06837,\n",
       "   'f1': 0.3046,\n",
       "   'precision': 0.39938,\n",
       "   'recall': 0.24618,\n",
       "   'h_measure': 0.23231,\n",
       "   'aucroc': 0.65479,\n",
       "   'aucpr': 0.21359},\n",
       "  1: {'accuracy': 0.92191,\n",
       "   'brier': 0.07259,\n",
       "   'f1': 0.27945,\n",
       "   'precision': 0.42308,\n",
       "   'recall': 0.20862,\n",
       "   'h_measure': 0.24365,\n",
       "   'aucroc': 0.66588,\n",
       "   'aucpr': 0.23008},\n",
       "  2: {'accuracy': 0.92598,\n",
       "   'brier': 0.06779,\n",
       "   'f1': 0.29893,\n",
       "   'precision': 0.38066,\n",
       "   'recall': 0.24609,\n",
       "   'h_measure': 0.22213,\n",
       "   'aucroc': 0.65239,\n",
       "   'aucpr': 0.20387}},\n",
       " 'lr': {0: {'accuracy': 0.93436,\n",
       "   'brier': 0.06053,\n",
       "   'f1': 0.0,\n",
       "   'precision': 0.0,\n",
       "   'recall': 0.0,\n",
       "   'h_measure': 0.05902,\n",
       "   'aucroc': 0.62487,\n",
       "   'aucpr': 0.10811},\n",
       "  1: {'accuracy': 0.92742,\n",
       "   'brier': 0.06654,\n",
       "   'f1': 0.0,\n",
       "   'precision': 0.0,\n",
       "   'recall': 0.0,\n",
       "   'h_measure': 0.05911,\n",
       "   'aucroc': 0.63109,\n",
       "   'aucpr': 0.1199},\n",
       "  2: {'accuracy': 0.93587,\n",
       "   'brier': 0.05915,\n",
       "   'f1': 0.0,\n",
       "   'precision': 0.0,\n",
       "   'recall': 0.0,\n",
       "   'h_measure': 0.08102,\n",
       "   'aucroc': 0.64566,\n",
       "   'aucpr': 0.12294}}}"
      ]
     },
     "execution_count": 9,
     "metadata": {},
     "output_type": "execute_result"
    }
   ],
   "execution_count": 9
  },
  {
   "cell_type": "code",
   "id": "850cc3c1189e1a94",
   "metadata": {
    "ExecuteTime": {
     "end_time": "2025-05-26T19:08:41.455240Z",
     "start_time": "2025-05-26T19:08:41.393519Z"
    }
   },
   "source": [
    "\n",
    "# Todo: implement method that writes experiment.results to a csv file / connects with WandB / ...\n",
    "\n",
    "# Quick and dirty examplary code:\n",
    "\n",
    "import pandas as pd\n",
    "\n",
    "# Convert dictionary of dictionaries to a list of rows\n",
    "rows = []\n",
    "for model_name, splits_dict in experiment.results.items():\n",
    "    for split_idx, metrics_dict in splits_dict.items():\n",
    "        # Create a row dict with model and split identifiers\n",
    "        row = {\n",
    "            'model': model_name,\n",
    "            'split': split_idx,\n",
    "        }\n",
    "        # Update with all metrics in that split\n",
    "        row.update(metrics_dict)\n",
    "\n",
    "        rows.append(row)\n",
    "\n",
    "# Convert the list of row dictionaries into a DataFrame\n",
    "df = pd.DataFrame(rows)\n",
    "\n",
    "df\n",
    "\n",
    "# Summarise df by model (along split) and get the mean and sd of all the metrics, discarding the split and sorting by mean of aucroc\n",
    "df_summary = df.groupby('model').agg(['mean', 'std']).reset_index()\n",
    "# df_summary = df_summary.loc[:, ~df_summary.columns.str.contains('split')]\n",
    "df_summary\n",
    "\n",
    "\n"
   ],
   "outputs": [
    {
     "data": {
      "text/plain": [
       "    model split       accuracy               brier                  f1  \\\n",
       "           mean  std      mean       std      mean       std      mean   \n",
       "0     ann   1.0  1.0  0.932550  0.004506  0.062403  0.003812  0.000000   \n",
       "1      dt   1.0  1.0  0.924703  0.002422  0.069583  0.002620  0.294327   \n",
       "2     knn   1.0  1.0  0.926080  0.003625  0.073033  0.004091  0.080363   \n",
       "3     lda   1.0  1.0  0.931507  0.003544  0.059013  0.002887  0.126527   \n",
       "4      lr   1.0  1.0  0.932550  0.004506  0.062073  0.003929  0.000000   \n",
       "5      rf   1.0  1.0  0.934263  0.003703  0.052610  0.003113  0.262270   \n",
       "6     svm   1.0  1.0  0.932843  0.004464  0.061293  0.001939  0.021743   \n",
       "7  tabpfn   1.0  1.0  0.936470  0.003940  0.050707  0.003045  0.293770   \n",
       "8     xgb   1.0  1.0  0.932550  0.004506  0.058713  0.003197  0.000000   \n",
       "\n",
       "            precision              recall           h_measure            \\\n",
       "        std      mean       std      mean       std      mean       std   \n",
       "0  0.000000  0.000000  0.000000  0.000000  0.000000  0.054427  0.010668   \n",
       "1  0.013192  0.401040  0.021259  0.233630  0.021659  0.232697  0.010765   \n",
       "2  0.019890  0.247737  0.015965  0.048247  0.013428  0.042327  0.011653   \n",
       "3  0.025267  0.451177  0.044127  0.073877  0.016343  0.198710  0.018246   \n",
       "4  0.000000  0.000000  0.000000  0.000000  0.000000  0.066383  0.012676   \n",
       "5  0.027888  0.541087  0.023853  0.174070  0.026391  0.368213  0.006976   \n",
       "6  0.005562  0.658273  0.132140  0.011080  0.002904  0.356070  0.016592   \n",
       "7  0.043818  0.589647  0.030372  0.197573  0.040826  0.402200  0.014832   \n",
       "8  0.000000  0.000000  0.000000  0.000000  0.000000  0.377150  0.005420   \n",
       "\n",
       "     aucroc               aucpr            \n",
       "       mean       std      mean       std  \n",
       "0  0.621487  0.009011  0.104617  0.006050  \n",
       "1  0.657687  0.007196  0.215847  0.013250  \n",
       "2  0.570407  0.012304  0.091307  0.001651  \n",
       "3  0.684440  0.012835  0.221907  0.024543  \n",
       "4  0.633873  0.010671  0.116983  0.007833  \n",
       "5  0.827767  0.006686  0.342080  0.009941  \n",
       "6  0.800450  0.007351  0.348927  0.010933  \n",
       "7  0.843273  0.006407  0.386983  0.011910  \n",
       "8  0.822090  0.007808  0.334273  0.005463  "
      ],
      "text/html": [
       "<div>\n",
       "<style scoped>\n",
       "    .dataframe tbody tr th:only-of-type {\n",
       "        vertical-align: middle;\n",
       "    }\n",
       "\n",
       "    .dataframe tbody tr th {\n",
       "        vertical-align: top;\n",
       "    }\n",
       "\n",
       "    .dataframe thead tr th {\n",
       "        text-align: left;\n",
       "    }\n",
       "</style>\n",
       "<table border=\"1\" class=\"dataframe\">\n",
       "  <thead>\n",
       "    <tr>\n",
       "      <th></th>\n",
       "      <th>model</th>\n",
       "      <th colspan=\"2\" halign=\"left\">split</th>\n",
       "      <th colspan=\"2\" halign=\"left\">accuracy</th>\n",
       "      <th colspan=\"2\" halign=\"left\">brier</th>\n",
       "      <th colspan=\"2\" halign=\"left\">f1</th>\n",
       "      <th colspan=\"2\" halign=\"left\">precision</th>\n",
       "      <th colspan=\"2\" halign=\"left\">recall</th>\n",
       "      <th colspan=\"2\" halign=\"left\">h_measure</th>\n",
       "      <th colspan=\"2\" halign=\"left\">aucroc</th>\n",
       "      <th colspan=\"2\" halign=\"left\">aucpr</th>\n",
       "    </tr>\n",
       "    <tr>\n",
       "      <th></th>\n",
       "      <th></th>\n",
       "      <th>mean</th>\n",
       "      <th>std</th>\n",
       "      <th>mean</th>\n",
       "      <th>std</th>\n",
       "      <th>mean</th>\n",
       "      <th>std</th>\n",
       "      <th>mean</th>\n",
       "      <th>std</th>\n",
       "      <th>mean</th>\n",
       "      <th>std</th>\n",
       "      <th>mean</th>\n",
       "      <th>std</th>\n",
       "      <th>mean</th>\n",
       "      <th>std</th>\n",
       "      <th>mean</th>\n",
       "      <th>std</th>\n",
       "      <th>mean</th>\n",
       "      <th>std</th>\n",
       "    </tr>\n",
       "  </thead>\n",
       "  <tbody>\n",
       "    <tr>\n",
       "      <th>0</th>\n",
       "      <td>ann</td>\n",
       "      <td>1.0</td>\n",
       "      <td>1.0</td>\n",
       "      <td>0.932550</td>\n",
       "      <td>0.004506</td>\n",
       "      <td>0.062403</td>\n",
       "      <td>0.003812</td>\n",
       "      <td>0.000000</td>\n",
       "      <td>0.000000</td>\n",
       "      <td>0.000000</td>\n",
       "      <td>0.000000</td>\n",
       "      <td>0.000000</td>\n",
       "      <td>0.000000</td>\n",
       "      <td>0.054427</td>\n",
       "      <td>0.010668</td>\n",
       "      <td>0.621487</td>\n",
       "      <td>0.009011</td>\n",
       "      <td>0.104617</td>\n",
       "      <td>0.006050</td>\n",
       "    </tr>\n",
       "    <tr>\n",
       "      <th>1</th>\n",
       "      <td>dt</td>\n",
       "      <td>1.0</td>\n",
       "      <td>1.0</td>\n",
       "      <td>0.924703</td>\n",
       "      <td>0.002422</td>\n",
       "      <td>0.069583</td>\n",
       "      <td>0.002620</td>\n",
       "      <td>0.294327</td>\n",
       "      <td>0.013192</td>\n",
       "      <td>0.401040</td>\n",
       "      <td>0.021259</td>\n",
       "      <td>0.233630</td>\n",
       "      <td>0.021659</td>\n",
       "      <td>0.232697</td>\n",
       "      <td>0.010765</td>\n",
       "      <td>0.657687</td>\n",
       "      <td>0.007196</td>\n",
       "      <td>0.215847</td>\n",
       "      <td>0.013250</td>\n",
       "    </tr>\n",
       "    <tr>\n",
       "      <th>2</th>\n",
       "      <td>knn</td>\n",
       "      <td>1.0</td>\n",
       "      <td>1.0</td>\n",
       "      <td>0.926080</td>\n",
       "      <td>0.003625</td>\n",
       "      <td>0.073033</td>\n",
       "      <td>0.004091</td>\n",
       "      <td>0.080363</td>\n",
       "      <td>0.019890</td>\n",
       "      <td>0.247737</td>\n",
       "      <td>0.015965</td>\n",
       "      <td>0.048247</td>\n",
       "      <td>0.013428</td>\n",
       "      <td>0.042327</td>\n",
       "      <td>0.011653</td>\n",
       "      <td>0.570407</td>\n",
       "      <td>0.012304</td>\n",
       "      <td>0.091307</td>\n",
       "      <td>0.001651</td>\n",
       "    </tr>\n",
       "    <tr>\n",
       "      <th>3</th>\n",
       "      <td>lda</td>\n",
       "      <td>1.0</td>\n",
       "      <td>1.0</td>\n",
       "      <td>0.931507</td>\n",
       "      <td>0.003544</td>\n",
       "      <td>0.059013</td>\n",
       "      <td>0.002887</td>\n",
       "      <td>0.126527</td>\n",
       "      <td>0.025267</td>\n",
       "      <td>0.451177</td>\n",
       "      <td>0.044127</td>\n",
       "      <td>0.073877</td>\n",
       "      <td>0.016343</td>\n",
       "      <td>0.198710</td>\n",
       "      <td>0.018246</td>\n",
       "      <td>0.684440</td>\n",
       "      <td>0.012835</td>\n",
       "      <td>0.221907</td>\n",
       "      <td>0.024543</td>\n",
       "    </tr>\n",
       "    <tr>\n",
       "      <th>4</th>\n",
       "      <td>lr</td>\n",
       "      <td>1.0</td>\n",
       "      <td>1.0</td>\n",
       "      <td>0.932550</td>\n",
       "      <td>0.004506</td>\n",
       "      <td>0.062073</td>\n",
       "      <td>0.003929</td>\n",
       "      <td>0.000000</td>\n",
       "      <td>0.000000</td>\n",
       "      <td>0.000000</td>\n",
       "      <td>0.000000</td>\n",
       "      <td>0.000000</td>\n",
       "      <td>0.000000</td>\n",
       "      <td>0.066383</td>\n",
       "      <td>0.012676</td>\n",
       "      <td>0.633873</td>\n",
       "      <td>0.010671</td>\n",
       "      <td>0.116983</td>\n",
       "      <td>0.007833</td>\n",
       "    </tr>\n",
       "    <tr>\n",
       "      <th>5</th>\n",
       "      <td>rf</td>\n",
       "      <td>1.0</td>\n",
       "      <td>1.0</td>\n",
       "      <td>0.934263</td>\n",
       "      <td>0.003703</td>\n",
       "      <td>0.052610</td>\n",
       "      <td>0.003113</td>\n",
       "      <td>0.262270</td>\n",
       "      <td>0.027888</td>\n",
       "      <td>0.541087</td>\n",
       "      <td>0.023853</td>\n",
       "      <td>0.174070</td>\n",
       "      <td>0.026391</td>\n",
       "      <td>0.368213</td>\n",
       "      <td>0.006976</td>\n",
       "      <td>0.827767</td>\n",
       "      <td>0.006686</td>\n",
       "      <td>0.342080</td>\n",
       "      <td>0.009941</td>\n",
       "    </tr>\n",
       "    <tr>\n",
       "      <th>6</th>\n",
       "      <td>svm</td>\n",
       "      <td>1.0</td>\n",
       "      <td>1.0</td>\n",
       "      <td>0.932843</td>\n",
       "      <td>0.004464</td>\n",
       "      <td>0.061293</td>\n",
       "      <td>0.001939</td>\n",
       "      <td>0.021743</td>\n",
       "      <td>0.005562</td>\n",
       "      <td>0.658273</td>\n",
       "      <td>0.132140</td>\n",
       "      <td>0.011080</td>\n",
       "      <td>0.002904</td>\n",
       "      <td>0.356070</td>\n",
       "      <td>0.016592</td>\n",
       "      <td>0.800450</td>\n",
       "      <td>0.007351</td>\n",
       "      <td>0.348927</td>\n",
       "      <td>0.010933</td>\n",
       "    </tr>\n",
       "    <tr>\n",
       "      <th>7</th>\n",
       "      <td>tabpfn</td>\n",
       "      <td>1.0</td>\n",
       "      <td>1.0</td>\n",
       "      <td>0.936470</td>\n",
       "      <td>0.003940</td>\n",
       "      <td>0.050707</td>\n",
       "      <td>0.003045</td>\n",
       "      <td>0.293770</td>\n",
       "      <td>0.043818</td>\n",
       "      <td>0.589647</td>\n",
       "      <td>0.030372</td>\n",
       "      <td>0.197573</td>\n",
       "      <td>0.040826</td>\n",
       "      <td>0.402200</td>\n",
       "      <td>0.014832</td>\n",
       "      <td>0.843273</td>\n",
       "      <td>0.006407</td>\n",
       "      <td>0.386983</td>\n",
       "      <td>0.011910</td>\n",
       "    </tr>\n",
       "    <tr>\n",
       "      <th>8</th>\n",
       "      <td>xgb</td>\n",
       "      <td>1.0</td>\n",
       "      <td>1.0</td>\n",
       "      <td>0.932550</td>\n",
       "      <td>0.004506</td>\n",
       "      <td>0.058713</td>\n",
       "      <td>0.003197</td>\n",
       "      <td>0.000000</td>\n",
       "      <td>0.000000</td>\n",
       "      <td>0.000000</td>\n",
       "      <td>0.000000</td>\n",
       "      <td>0.000000</td>\n",
       "      <td>0.000000</td>\n",
       "      <td>0.377150</td>\n",
       "      <td>0.005420</td>\n",
       "      <td>0.822090</td>\n",
       "      <td>0.007808</td>\n",
       "      <td>0.334273</td>\n",
       "      <td>0.005463</td>\n",
       "    </tr>\n",
       "  </tbody>\n",
       "</table>\n",
       "</div>"
      ]
     },
     "execution_count": 14,
     "metadata": {},
     "output_type": "execute_result"
    }
   ],
   "execution_count": 14
  },
  {
   "cell_type": "code",
   "execution_count": null,
   "id": "cbab971e",
   "metadata": {},
   "outputs": [],
   "source": []
  }
 ],
 "metadata": {
  "kernelspec": {
   "display_name": "tabpfn",
   "language": "python",
   "name": "python3"
  },
  "language_info": {
   "codemirror_mode": {
    "name": "ipython",
    "version": 3
   },
   "file_extension": ".py",
   "mimetype": "text/x-python",
   "name": "python",
   "nbconvert_exporter": "python",
   "pygments_lexer": "ipython3",
   "version": "3.10.16"
  }
 },
 "nbformat": 4,
 "nbformat_minor": 5
}
