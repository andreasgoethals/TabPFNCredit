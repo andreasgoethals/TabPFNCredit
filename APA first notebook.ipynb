{
 "cells": [
  {
   "cell_type": "code",
   "execution_count": 1,
   "id": "598c95d8",
   "metadata": {
    "ExecuteTime": {
     "end_time": "2025-05-27T08:25:34.448587Z",
     "start_time": "2025-05-27T08:25:34.430990Z"
    }
   },
   "outputs": [
    {
     "ename": "SystemError",
     "evalue": "GPU device not found. For fast training, please enable GPU. See section above for instructions.",
     "output_type": "error",
     "traceback": [
      "\u001b[1;31m---------------------------------------------------------------------------\u001b[0m",
      "\u001b[1;31mSystemError\u001b[0m                               Traceback (most recent call last)",
      "Cell \u001b[1;32mIn[1], line 42\u001b[0m\n\u001b[0;32m     39\u001b[0m \u001b[38;5;28;01mfrom\u001b[39;00m\u001b[38;5;250m \u001b[39m\u001b[38;5;21;01mtabpfn_extensions\u001b[39;00m\u001b[38;5;21;01m.\u001b[39;00m\u001b[38;5;21;01mpost_hoc_ensembles\u001b[39;00m\u001b[38;5;21;01m.\u001b[39;00m\u001b[38;5;21;01msklearn_interface\u001b[39;00m\u001b[38;5;250m \u001b[39m\u001b[38;5;28;01mimport\u001b[39;00m AutoTabPFNClassifier, AutoTabPFNRegressor\n\u001b[0;32m     41\u001b[0m \u001b[38;5;28;01mif\u001b[39;00m \u001b[38;5;129;01mnot\u001b[39;00m torch\u001b[38;5;241m.\u001b[39mmps\u001b[38;5;241m.\u001b[39mis_available():\n\u001b[1;32m---> 42\u001b[0m     \u001b[38;5;28;01mraise\u001b[39;00m \u001b[38;5;167;01mSystemError\u001b[39;00m(\u001b[38;5;124m'\u001b[39m\u001b[38;5;124mGPU device not found. For fast training, please enable GPU. See section above for instructions.\u001b[39m\u001b[38;5;124m'\u001b[39m)\n",
      "\u001b[1;31mSystemError\u001b[0m: GPU device not found. For fast training, please enable GPU. See section above for instructions."
     ]
    }
   ],
   "source": [
    "import os\n",
    "\n",
    "# Setup Imports\n",
    "import pandas as pd\n",
    "import numpy as np\n",
    "\n",
    "from sklearn.datasets import load_breast_cancer, load_diabetes, load_iris\n",
    "from sklearn.model_selection import train_test_split\n",
    "from sklearn.model_selection import cross_val_score\n",
    "from sklearn.model_selection import KFold\n",
    "from sklearn.metrics import (\n",
    "    accuracy_score,\n",
    "    mean_absolute_error,\n",
    "    mean_squared_error,\n",
    "    root_mean_squared_error,\n",
    "    r2_score,\n",
    "    roc_auc_score,\n",
    ")\n",
    "from sklearn.model_selection import train_test_split\n",
    "\n",
    "import matplotlib.pyplot as plt\n",
    "from matplotlib.colors import ListedColormap\n",
    "from sklearn.inspection import DecisionBoundaryDisplay\n",
    "\n",
    "from sklearn.datasets import fetch_openml\n",
    "from sklearn.preprocessing import LabelEncoder\n",
    "from IPython.display import display, Markdown, Latex\n",
    "\n",
    "# Baseline Imports\n",
    "from xgboost import XGBClassifier, XGBRegressor\n",
    "from sklearn.ensemble import RandomForestClassifier, RandomForestRegressor\n",
    "from catboost import CatBoostClassifier, CatBoostRegressor\n",
    "\n",
    "import torch\n",
    "\n",
    "import time\n",
    "\n",
    "from tabpfn import TabPFNClassifier, TabPFNRegressor\n",
    "from tabpfn_extensions.post_hoc_ensembles.sklearn_interface import AutoTabPFNClassifier, AutoTabPFNRegressor\n",
    "\n",
    "if not torch.mps.is_available():\n",
    "    raise SystemError('GPU device not found. For fast training, please enable GPU. See section above for instructions.')"
   ]
  },
  {
   "cell_type": "code",
   "execution_count": 2,
   "id": "72bb6d64",
   "metadata": {
    "ExecuteTime": {
     "end_time": "2025-05-27T08:25:35.862155Z",
     "start_time": "2025-05-27T08:25:35.828010Z"
    }
   },
   "outputs": [],
   "source": [
    "df = pd.read_csv(r'C:\\Users\\Hovsep\\Desktop\\Hovsep\\German\\HU studies\\Semester 3\\Applied Predictive Analytics\\TABPFNCredit-APA25\\data\\pd\\02 taiwan creditcard\\taiwan_creditcard.csv')"
   ]
  },
  {
   "cell_type": "code",
   "execution_count": 3,
   "id": "f93abafd",
   "metadata": {
    "ExecuteTime": {
     "end_time": "2025-05-27T08:25:41.256710Z",
     "start_time": "2025-05-27T08:25:41.246816Z"
    }
   },
   "outputs": [
    {
     "name": "stdout",
     "output_type": "stream",
     "text": [
      "02_taiwan_creditcard preprocessed\n",
      "x shape:  (30000, 23)\n",
      "y shape:  (30000,)\n"
     ]
    }
   ],
   "source": [
    "def _preprocess_02_taiwan_creditcard(_data):\n",
    "\n",
    "    # Drop ID and useless columns\n",
    "    _data = _data.drop('ID', axis=1)\n",
    "\n",
    "    # Transform\n",
    "    _data['SEX'] = _data['SEX'].replace({'2': 1, '1': 0})\n",
    "\n",
    "    # Split into covariates, labels\n",
    "    y = _data['default.payment.next.month'].values.astype(int)\n",
    "    x = _data.drop('default.payment.next.month', axis=1).values\n",
    "\n",
    "    cols = list(_data.drop('default.payment.next.month', axis=1).columns)\n",
    "\n",
    "    cols_cat = []\n",
    "    cols_num = cols\n",
    "\n",
    "    cols_cat_idx = [cols.index(col) for col in cols_cat if col in cols]\n",
    "    cols_num_idx = [cols.index(col) for col in cols_num if col in cols]\n",
    "\n",
    "    print(\"02_taiwan_creditcard preprocessed\")\n",
    "    print(\"x shape: \", x.shape)\n",
    "    print(\"y shape: \", y.shape)\n",
    "\n",
    "    return x, y, cols, cols_cat, cols_num, cols_cat_idx, cols_num_idx\n",
    "\n",
    "X, y, cols, cols_cat, cols_num, cols_cat_idx, cols_num_idx = _preprocess_02_taiwan_creditcard(df)"
   ]
  },
  {
   "cell_type": "code",
   "execution_count": 4,
   "id": "9346bfe3",
   "metadata": {},
   "outputs": [],
   "source": [
    "X = X[:1000]\n",
    "y = y[:1000]"
   ]
  },
  {
   "cell_type": "code",
   "execution_count": 5,
   "id": "4414aaf6",
   "metadata": {
    "ExecuteTime": {
     "end_time": "2025-05-27T08:25:43.446510Z",
     "start_time": "2025-05-27T08:25:43.441222Z"
    }
   },
   "outputs": [],
   "source": [
    "X_train, X_test, y_train, y_test = train_test_split(X, y, test_size=0.33, random_state=42)"
   ]
  },
  {
   "cell_type": "code",
   "execution_count": 9,
   "id": "b249e253",
   "metadata": {
    "ExecuteTime": {
     "end_time": "2025-05-27T08:25:46.725139Z",
     "start_time": "2025-05-27T08:25:46.721408Z"
    }
   },
   "outputs": [],
   "source": [
    "from tabpfn_extensions.rf_pfn import (\n",
    "    RandomForestTabPFNClassifier,\n",
    "    RandomForestTabPFNRegressor,\n",
    ")\n",
    "\n",
    "from tabpfn_extensions import TabPFNClassifier, TabPFNRegressor\n",
    "\n",
    "# ----------------------------\n",
    "# Classification - Strategy 1: Random Forest Preprocessing\n",
    "# ----------------------------\n",
    "\n",
    "clf_base = TabPFNClassifier(\n",
    "    ignore_pretraining_limits=False,\n",
    "    inference_config = {\"SUBSAMPLE_SAMPLES\": 10000} # Needs to be set low so that not OOM on fitting intermediate nodes\n",
    ")\n",
    "\n",
    "tabpfn_tree_clf = RandomForestTabPFNClassifier(\n",
    "    tabpfn=clf_base,\n",
    "    verbose=1,\n",
    "    max_predict_time=60, # Will fit for one minute\n",
    "    fit_nodes=True, # Wheather or not to fit intermediate nodes\n",
    "    adaptive_tree=True, # Whather or not to validate if adding a leaf helps or not\n",
    "  )"
   ]
  },
  {
   "cell_type": "code",
   "execution_count": 7,
   "id": "fcbafe70",
   "metadata": {
    "ExecuteTime": {
     "end_time": "2025-05-27T08:25:51.634008Z",
     "start_time": "2025-05-27T08:25:51.630455Z"
    }
   },
   "outputs": [
    {
     "name": "stdout",
     "output_type": "stream",
     "text": [
      "\n",
      "--- Classification: Strategy 1 (Subsampled Ensemble) ---\n"
     ]
    }
   ],
   "source": [
    "# ----------------------------\n",
    "# Classification - Strategy 2: Subsampled Ensemble using TabPFNClassifier\n",
    "# ----------------------------\n",
    "print(\"\\n--- Classification: Strategy 1 (Subsampled Ensemble) ---\")\n",
    "tabpfn_subsample_clf = TabPFNClassifier(\n",
    "    ignore_pretraining_limits=True,  # (bool) Allows the use of datasets larger than pretraining limits.\n",
    "    n_estimators=32,                 # (int) Number of estimators for ensembling; improves accuracy with higher values.\n",
    "    inference_config={\n",
    "        \"SUBSAMPLE_SAMPLES\": 10000  # (int) Maximum number of samples per inference step to manage memory usage.\n",
    "    },\n",
    ")"
   ]
  },
  {
   "cell_type": "code",
   "execution_count": 8,
   "id": "5ea19edd",
   "metadata": {
    "ExecuteTime": {
     "end_time": "2025-05-27T09:43:50.587885Z",
     "start_time": "2025-05-27T08:25:56.577665Z"
    }
   },
   "outputs": [
    {
     "name": "stdout",
     "output_type": "stream",
     "text": [
      "\n",
      " Starting Training...\n",
      "\n",
      " Training done in 3.19 minutes.\n"
     ]
    }
   ],
   "source": [
    "# Compare different machine learning models by training each one multiple times\n",
    "# on different parts of the data and averaging their performance scores for a\n",
    "# more reliable performance estimate\n",
    "\n",
    "assert len(np.unique(y)) <= 10 # Is classification?\n",
    "\n",
    "print(\"\\n Starting Training...\")\n",
    "start_time = time.time()\n",
    "\n",
    "\n",
    "# Define models\n",
    "models_class = [\n",
    "    ('TabPFN RF', tabpfn_tree_clf),\n",
    "#     ('TabPFN Subsample', tabpfn_subsample_clf),\n",
    "#     ('XGBoost', XGBClassifier()),\n",
    "#     ('CatBoost', CatBoostClassifier(random_state=42, verbose=0)),\n",
    "#     ('RandomForest', RandomForestClassifier(random_state=42)),\n",
    "]\n",
    "\n",
    "# Calculate scores\n",
    "cv = KFold(random_state=42, n_splits=3, shuffle=True)\n",
    "scoring = 'roc_auc_ovr' if len(np.unique(y)) > 2 else 'roc_auc'\n",
    "scores_raw_class = {name: cross_val_score(model, X, y, cv=cv, scoring=scoring, verbose=1)\n",
    "          for name, model in models_class}\n",
    "scores_class = {name: scores_raw_class[name].mean()\n",
    "          for name, model in models_class}\n",
    "\n",
    "\n",
    "end_time = time.time()\n",
    "print(f\"\\n Training done in {(end_time - start_time)/60:.2f} minutes.\")"
   ]
  },
  {
   "cell_type": "code",
   "execution_count": null,
   "id": "1c33d952",
   "metadata": {},
   "outputs": [],
   "source": [
    "# Plot results\n",
    "df = pd.DataFrame(list(scores_class.items()), columns=['Model', 'ROC AUC'])\n",
    "colors = ['tab:blue' if 'RF' in name else ('tab:red' if 'sample' in name else 'tab:gray') for (name, _) in models_class]\n",
    "ax = df.plot(x='Model', y='ROC AUC', kind='bar', figsize=(10, 6), color=colors)\n",
    "ax.set_ylim(df['ROC AUC'].min() * 0.995, min(1.0, df['ROC AUC'].max() * 1.005))\n",
    "ax.set_title('Model Comparison - 5-fold Cross-validation')"
   ]
  },
  {
   "cell_type": "markdown",
   "id": "e584ae59",
   "metadata": {},
   "source": [
    "trying the tabpfn tuner with autotuning"
   ]
  },
  {
   "cell_type": "code",
   "execution_count": 12,
   "id": "29d18f2b",
   "metadata": {
    "scrolled": true
   },
   "outputs": [
    {
     "name": "stdout",
     "output_type": "stream",
     "text": [
      "\r",
      "  0%|                                                                           | 0/50 [00:00<?, ?trial/s, best loss=?]"
     ]
    },
    {
     "name": "stderr",
     "output_type": "stream",
     "text": [
      "C:\\Users\\Hovsep\\AppData\\Roaming\\mamba\\envs\\tabpfn\\lib\\site-packages\\tabpfn\\base.py:89: UserWarning: Downloading model to C:\\Users\\Hovsep\\AppData\\Roaming\\mamba\\envs\\tabpfn\\Lib\\site-packages\\tabpfn_extensions\\hpo\\hpo_models\\tabpfn-v2-classifier-vutqq28w.ckpt.\n",
      "  model, _, config_ = load_model_criterion_config(\n",
      "\n",
      "C:\\Users\\Hovsep\\AppData\\Roaming\\mamba\\envs\\tabpfn\\lib\\site-packages\\tqdm\\auto.py:21: TqdmWarning: IProgress not found. Please update jupyter and ipywidgets. See https://ipywidgets.readthedocs.io/en/stable/user_install.html\n",
      "  from .autonotebook import tqdm as notebook_tqdm\n",
      "\n",
      "C:\\Users\\Hovsep\\AppData\\Roaming\\mamba\\envs\\tabpfn\\lib\\site-packages\\tabpfn\\classifier.py:431: UserWarning: Running on CPU with more than 200 samples may be slow.\n",
      "Consider using a GPU or the tabpfn-client API: https://github.com/PriorLabs/tabpfn-client\n",
      "  check_cpu_warning(self.device, X)\n",
      "\n",
      "C:\\Users\\Hovsep\\AppData\\Roaming\\mamba\\envs\\tabpfn\\lib\\site-packages\\sklearn\\preprocessing\\_encoders.py:242: UserWarning: Found unknown categories in columns [0] during transform. These unknown categories will be encoded as all zeros\n",
      "  warnings.warn(\n",
      "\n",
      "C:\\Users\\Hovsep\\AppData\\Roaming\\mamba\\envs\\tabpfn\\lib\\site-packages\\sklearn\\preprocessing\\_encoders.py:242: UserWarning: Found unknown categories in columns [0] during transform. These unknown categories will be encoded as all zeros\n",
      "  warnings.warn(\n",
      "\n",
      "C:\\Users\\Hovsep\\AppData\\Roaming\\mamba\\envs\\tabpfn\\lib\\site-packages\\sklearn\\preprocessing\\_encoders.py:242: UserWarning: Found unknown categories in columns [1] during transform. These unknown categories will be encoded as all zeros\n",
      "  warnings.warn(\n",
      "\n",
      "C:\\Users\\Hovsep\\AppData\\Roaming\\mamba\\envs\\tabpfn\\lib\\site-packages\\sklearn\\preprocessing\\_encoders.py:242: UserWarning: Found unknown categories in columns [0] during transform. These unknown categories will be encoded as all zeros\n",
      "  warnings.warn(\n",
      "\n",
      "C:\\Users\\Hovsep\\AppData\\Roaming\\mamba\\envs\\tabpfn\\lib\\site-packages\\tabpfn\\classifier.py:431: UserWarning: Running on CPU with more than 200 samples may be slow.\n",
      "Consider using a GPU or the tabpfn-client API: https://github.com/PriorLabs/tabpfn-client\n",
      "  check_cpu_warning(self.device, X)\n",
      "\n"
     ]
    },
    {
     "name": "stdout",
     "output_type": "stream",
     "text": [
      "\r",
      "  2%|▉                                             | 1/50 [01:30<1:13:59, 90.60s/trial, best loss: -0.8283582089552238]"
     ]
    },
    {
     "name": "stderr",
     "output_type": "stream",
     "text": [
      "C:\\Users\\Hovsep\\AppData\\Roaming\\mamba\\envs\\tabpfn\\lib\\site-packages\\tabpfn\\classifier.py:431: UserWarning: Running on CPU with more than 200 samples may be slow.\n",
      "Consider using a GPU or the tabpfn-client API: https://github.com/PriorLabs/tabpfn-client\n",
      "  check_cpu_warning(self.device, X)\n",
      "\n"
     ]
    },
    {
     "name": "stdout",
     "output_type": "stream",
     "text": [
      "\r",
      "  4%|█▉                                              | 2/50 [02:28<57:15, 71.58s/trial, best loss: -0.8283582089552238]"
     ]
    },
    {
     "name": "stderr",
     "output_type": "stream",
     "text": [
      "C:\\Users\\Hovsep\\AppData\\Roaming\\mamba\\envs\\tabpfn\\lib\\site-packages\\tabpfn\\classifier.py:431: UserWarning: Running on CPU with more than 200 samples may be slow.\n",
      "Consider using a GPU or the tabpfn-client API: https://github.com/PriorLabs/tabpfn-client\n",
      "  check_cpu_warning(self.device, X)\n",
      "\n"
     ]
    },
    {
     "name": "stdout",
     "output_type": "stream",
     "text": [
      "\r",
      "  6%|██▉                                             | 3/50 [03:12<46:12, 59.00s/trial, best loss: -0.8283582089552238]"
     ]
    },
    {
     "name": "stderr",
     "output_type": "stream",
     "text": [
      "C:\\Users\\Hovsep\\AppData\\Roaming\\mamba\\envs\\tabpfn\\lib\\site-packages\\tabpfn\\base.py:89: UserWarning: Downloading model to C:\\Users\\Hovsep\\AppData\\Roaming\\mamba\\envs\\tabpfn\\Lib\\site-packages\\tabpfn_extensions\\hpo\\hpo_models\\tabpfn-v2-classifier-llderlii.ckpt.\n",
      "  model, _, config_ = load_model_criterion_config(\n",
      "\n",
      "C:\\Users\\Hovsep\\AppData\\Roaming\\mamba\\envs\\tabpfn\\lib\\site-packages\\tabpfn\\classifier.py:431: UserWarning: Running on CPU with more than 200 samples may be slow.\n",
      "Consider using a GPU or the tabpfn-client API: https://github.com/PriorLabs/tabpfn-client\n",
      "  check_cpu_warning(self.device, X)\n",
      "\n",
      "C:\\Users\\Hovsep\\AppData\\Roaming\\mamba\\envs\\tabpfn\\lib\\site-packages\\tabpfn\\classifier.py:431: UserWarning: Running on CPU with more than 200 samples may be slow.\n",
      "Consider using a GPU or the tabpfn-client API: https://github.com/PriorLabs/tabpfn-client\n",
      "  check_cpu_warning(self.device, X)\n",
      "\n"
     ]
    },
    {
     "name": "stdout",
     "output_type": "stream",
     "text": [
      "\r",
      "  8%|███▉                                             | 4/50 [04:20<47:52, 62.46s/trial, best loss: -0.835820895522388]"
     ]
    },
    {
     "name": "stderr",
     "output_type": "stream",
     "text": [
      "C:\\Users\\Hovsep\\AppData\\Roaming\\mamba\\envs\\tabpfn\\lib\\site-packages\\tabpfn\\base.py:89: UserWarning: Downloading model to C:\\Users\\Hovsep\\AppData\\Roaming\\mamba\\envs\\tabpfn\\Lib\\site-packages\\tabpfn_extensions\\hpo\\hpo_models\\tabpfn-v2-classifier-gn2p4bpt.ckpt.\n",
      "  model, _, config_ = load_model_criterion_config(\n",
      "\n",
      "C:\\Users\\Hovsep\\AppData\\Roaming\\mamba\\envs\\tabpfn\\lib\\site-packages\\tabpfn\\classifier.py:431: UserWarning: Running on CPU with more than 200 samples may be slow.\n",
      "Consider using a GPU or the tabpfn-client API: https://github.com/PriorLabs/tabpfn-client\n",
      "  check_cpu_warning(self.device, X)\n",
      "\n",
      "C:\\Users\\Hovsep\\AppData\\Roaming\\mamba\\envs\\tabpfn\\lib\\site-packages\\sklearn\\preprocessing\\_encoders.py:242: UserWarning: Found unknown categories in columns [1] during transform. These unknown categories will be encoded as all zeros\n",
      "  warnings.warn(\n",
      "\n",
      "C:\\Users\\Hovsep\\AppData\\Roaming\\mamba\\envs\\tabpfn\\lib\\site-packages\\sklearn\\preprocessing\\_encoders.py:242: UserWarning: Found unknown categories in columns [1] during transform. These unknown categories will be encoded as all zeros\n",
      "  warnings.warn(\n",
      "\n",
      "C:\\Users\\Hovsep\\AppData\\Roaming\\mamba\\envs\\tabpfn\\lib\\site-packages\\sklearn\\preprocessing\\_encoders.py:242: UserWarning: Found unknown categories in columns [0] during transform. These unknown categories will be encoded as all zeros\n",
      "  warnings.warn(\n",
      "\n",
      "C:\\Users\\Hovsep\\AppData\\Roaming\\mamba\\envs\\tabpfn\\lib\\site-packages\\sklearn\\preprocessing\\_encoders.py:242: UserWarning: Found unknown categories in columns [0] during transform. These unknown categories will be encoded as all zeros\n",
      "  warnings.warn(\n",
      "\n",
      "C:\\Users\\Hovsep\\AppData\\Roaming\\mamba\\envs\\tabpfn\\lib\\site-packages\\tabpfn\\classifier.py:431: UserWarning: Running on CPU with more than 200 samples may be slow.\n",
      "Consider using a GPU or the tabpfn-client API: https://github.com/PriorLabs/tabpfn-client\n",
      "  check_cpu_warning(self.device, X)\n",
      "\n"
     ]
    },
    {
     "name": "stdout",
     "output_type": "stream",
     "text": [
      "\r",
      " 10%|████▉                                            | 5/50 [05:00<40:39, 54.20s/trial, best loss: -0.835820895522388]"
     ]
    },
    {
     "name": "stderr",
     "output_type": "stream",
     "text": [
      "C:\\Users\\Hovsep\\AppData\\Roaming\\mamba\\envs\\tabpfn\\lib\\site-packages\\tabpfn\\classifier.py:431: UserWarning: Running on CPU with more than 200 samples may be slow.\n",
      "Consider using a GPU or the tabpfn-client API: https://github.com/PriorLabs/tabpfn-client\n",
      "  check_cpu_warning(self.device, X)\n",
      "\n"
     ]
    },
    {
     "name": "stdout",
     "output_type": "stream",
     "text": [
      "\r",
      " 12%|█████▉                                           | 6/50 [05:34<34:50, 47.51s/trial, best loss: -0.835820895522388]"
     ]
    },
    {
     "name": "stderr",
     "output_type": "stream",
     "text": [
      "C:\\Users\\Hovsep\\AppData\\Roaming\\mamba\\envs\\tabpfn\\lib\\site-packages\\tabpfn\\classifier.py:431: UserWarning: Running on CPU with more than 200 samples may be slow.\n",
      "Consider using a GPU or the tabpfn-client API: https://github.com/PriorLabs/tabpfn-client\n",
      "  check_cpu_warning(self.device, X)\n",
      "\n",
      "C:\\Users\\Hovsep\\AppData\\Roaming\\mamba\\envs\\tabpfn\\lib\\site-packages\\tabpfn\\classifier.py:431: UserWarning: Running on CPU with more than 200 samples may be slow.\n",
      "Consider using a GPU or the tabpfn-client API: https://github.com/PriorLabs/tabpfn-client\n",
      "  check_cpu_warning(self.device, X)\n",
      "\n"
     ]
    },
    {
     "name": "stdout",
     "output_type": "stream",
     "text": [
      "\r",
      " 14%|██████▊                                          | 7/50 [06:31<36:12, 50.53s/trial, best loss: -0.835820895522388]"
     ]
    },
    {
     "name": "stderr",
     "output_type": "stream",
     "text": [
      "C:\\Users\\Hovsep\\AppData\\Roaming\\mamba\\envs\\tabpfn\\lib\\site-packages\\tabpfn\\base.py:89: UserWarning: Downloading model to C:\\Users\\Hovsep\\AppData\\Roaming\\mamba\\envs\\tabpfn\\Lib\\site-packages\\tabpfn_extensions\\hpo\\hpo_models\\tabpfn-v2-classifier-znskzxi4.ckpt.\n",
      "  model, _, config_ = load_model_criterion_config(\n",
      "\n",
      "C:\\Users\\Hovsep\\AppData\\Roaming\\mamba\\envs\\tabpfn\\lib\\site-packages\\tabpfn\\classifier.py:431: UserWarning: Running on CPU with more than 200 samples may be slow.\n",
      "Consider using a GPU or the tabpfn-client API: https://github.com/PriorLabs/tabpfn-client\n",
      "  check_cpu_warning(self.device, X)\n",
      "\n",
      "C:\\Users\\Hovsep\\AppData\\Roaming\\mamba\\envs\\tabpfn\\lib\\site-packages\\tabpfn\\classifier.py:431: UserWarning: Running on CPU with more than 200 samples may be slow.\n",
      "Consider using a GPU or the tabpfn-client API: https://github.com/PriorLabs/tabpfn-client\n",
      "  check_cpu_warning(self.device, X)\n",
      "\n"
     ]
    },
    {
     "name": "stdout",
     "output_type": "stream",
     "text": [
      "\r",
      " 16%|███████▊                                         | 8/50 [07:12<33:17, 47.57s/trial, best loss: -0.835820895522388]"
     ]
    },
    {
     "name": "stderr",
     "output_type": "stream",
     "text": [
      "C:\\Users\\Hovsep\\AppData\\Roaming\\mamba\\envs\\tabpfn\\lib\\site-packages\\tabpfn\\classifier.py:431: UserWarning: Running on CPU with more than 200 samples may be slow.\n",
      "Consider using a GPU or the tabpfn-client API: https://github.com/PriorLabs/tabpfn-client\n",
      "  check_cpu_warning(self.device, X)\n",
      "\n",
      "C:\\Users\\Hovsep\\AppData\\Roaming\\mamba\\envs\\tabpfn\\lib\\site-packages\\tabpfn\\classifier.py:431: UserWarning: Running on CPU with more than 200 samples may be slow.\n",
      "Consider using a GPU or the tabpfn-client API: https://github.com/PriorLabs/tabpfn-client\n",
      "  check_cpu_warning(self.device, X)\n",
      "\n"
     ]
    },
    {
     "name": "stdout",
     "output_type": "stream",
     "text": [
      "\r",
      " 18%|████████▊                                        | 9/50 [08:42<41:27, 60.68s/trial, best loss: -0.835820895522388]"
     ]
    },
    {
     "name": "stderr",
     "output_type": "stream",
     "text": [
      "C:\\Users\\Hovsep\\AppData\\Roaming\\mamba\\envs\\tabpfn\\lib\\site-packages\\tabpfn\\classifier.py:431: UserWarning: Running on CPU with more than 200 samples may be slow.\n",
      "Consider using a GPU or the tabpfn-client API: https://github.com/PriorLabs/tabpfn-client\n",
      "  check_cpu_warning(self.device, X)\n",
      "\n",
      "C:\\Users\\Hovsep\\AppData\\Roaming\\mamba\\envs\\tabpfn\\lib\\site-packages\\tabpfn\\classifier.py:431: UserWarning: Running on CPU with more than 200 samples may be slow.\n",
      "Consider using a GPU or the tabpfn-client API: https://github.com/PriorLabs/tabpfn-client\n",
      "  check_cpu_warning(self.device, X)\n",
      "\n"
     ]
    },
    {
     "name": "stdout",
     "output_type": "stream",
     "text": [
      "\r",
      " 20%|█████████▌                                      | 10/50 [09:54<42:53, 64.35s/trial, best loss: -0.835820895522388]"
     ]
    },
    {
     "name": "stderr",
     "output_type": "stream",
     "text": [
      "C:\\Users\\Hovsep\\AppData\\Roaming\\mamba\\envs\\tabpfn\\lib\\site-packages\\tabpfn\\classifier.py:431: UserWarning: Running on CPU with more than 200 samples may be slow.\n",
      "Consider using a GPU or the tabpfn-client API: https://github.com/PriorLabs/tabpfn-client\n",
      "  check_cpu_warning(self.device, X)\n",
      "\n",
      "C:\\Users\\Hovsep\\AppData\\Roaming\\mamba\\envs\\tabpfn\\lib\\site-packages\\sklearn\\preprocessing\\_encoders.py:242: UserWarning: Found unknown categories in columns [0] during transform. These unknown categories will be encoded as all zeros\n",
      "  warnings.warn(\n",
      "\n",
      "C:\\Users\\Hovsep\\AppData\\Roaming\\mamba\\envs\\tabpfn\\lib\\site-packages\\sklearn\\preprocessing\\_encoders.py:242: UserWarning: Found unknown categories in columns [0] during transform. These unknown categories will be encoded as all zeros\n",
      "  warnings.warn(\n",
      "\n",
      "C:\\Users\\Hovsep\\AppData\\Roaming\\mamba\\envs\\tabpfn\\lib\\site-packages\\sklearn\\preprocessing\\_encoders.py:242: UserWarning: Found unknown categories in columns [1] during transform. These unknown categories will be encoded as all zeros\n",
      "  warnings.warn(\n",
      "\n",
      "C:\\Users\\Hovsep\\AppData\\Roaming\\mamba\\envs\\tabpfn\\lib\\site-packages\\tabpfn\\classifier.py:431: UserWarning: Running on CPU with more than 200 samples may be slow.\n",
      "Consider using a GPU or the tabpfn-client API: https://github.com/PriorLabs/tabpfn-client\n",
      "  check_cpu_warning(self.device, X)\n",
      "\n"
     ]
    },
    {
     "name": "stdout",
     "output_type": "stream",
     "text": [
      "\r",
      " 22%|██████████▌                                     | 11/50 [10:28<35:44, 54.98s/trial, best loss: -0.835820895522388]"
     ]
    },
    {
     "name": "stderr",
     "output_type": "stream",
     "text": [
      "C:\\Users\\Hovsep\\AppData\\Roaming\\mamba\\envs\\tabpfn\\lib\\site-packages\\tabpfn\\classifier.py:431: UserWarning: Running on CPU with more than 200 samples may be slow.\n",
      "Consider using a GPU or the tabpfn-client API: https://github.com/PriorLabs/tabpfn-client\n",
      "  check_cpu_warning(self.device, X)\n",
      "\n"
     ]
    },
    {
     "name": "stdout",
     "output_type": "stream",
     "text": [
      "\r",
      " 24%|███████████▌                                    | 12/50 [10:53<28:56, 45.70s/trial, best loss: -0.835820895522388]"
     ]
    },
    {
     "name": "stderr",
     "output_type": "stream",
     "text": [
      "C:\\Users\\Hovsep\\AppData\\Roaming\\mamba\\envs\\tabpfn\\lib\\site-packages\\tabpfn\\classifier.py:431: UserWarning: Running on CPU with more than 200 samples may be slow.\n",
      "Consider using a GPU or the tabpfn-client API: https://github.com/PriorLabs/tabpfn-client\n",
      "  check_cpu_warning(self.device, X)\n",
      "\n"
     ]
    },
    {
     "name": "stdout",
     "output_type": "stream",
     "text": [
      "\r",
      " 26%|████████████▍                                   | 13/50 [11:40<28:33, 46.30s/trial, best loss: -0.835820895522388]"
     ]
    },
    {
     "name": "stderr",
     "output_type": "stream",
     "text": [
      "C:\\Users\\Hovsep\\AppData\\Roaming\\mamba\\envs\\tabpfn\\lib\\site-packages\\tabpfn\\classifier.py:431: UserWarning: Running on CPU with more than 200 samples may be slow.\n",
      "Consider using a GPU or the tabpfn-client API: https://github.com/PriorLabs/tabpfn-client\n",
      "  check_cpu_warning(self.device, X)\n",
      "\n",
      "C:\\Users\\Hovsep\\AppData\\Roaming\\mamba\\envs\\tabpfn\\lib\\site-packages\\tabpfn\\classifier.py:431: UserWarning: Running on CPU with more than 200 samples may be slow.\n",
      "Consider using a GPU or the tabpfn-client API: https://github.com/PriorLabs/tabpfn-client\n",
      "  check_cpu_warning(self.device, X)\n",
      "\n"
     ]
    },
    {
     "name": "stdout",
     "output_type": "stream",
     "text": [
      "\r",
      " 28%|█████████████▍                                  | 14/50 [12:18<26:15, 43.77s/trial, best loss: -0.835820895522388]"
     ]
    },
    {
     "name": "stderr",
     "output_type": "stream",
     "text": [
      "C:\\Users\\Hovsep\\AppData\\Roaming\\mamba\\envs\\tabpfn\\lib\\site-packages\\tabpfn\\classifier.py:431: UserWarning: Running on CPU with more than 200 samples may be slow.\n",
      "Consider using a GPU or the tabpfn-client API: https://github.com/PriorLabs/tabpfn-client\n",
      "  check_cpu_warning(self.device, X)\n",
      "\n",
      "C:\\Users\\Hovsep\\AppData\\Roaming\\mamba\\envs\\tabpfn\\lib\\site-packages\\tabpfn\\classifier.py:431: UserWarning: Running on CPU with more than 200 samples may be slow.\n",
      "Consider using a GPU or the tabpfn-client API: https://github.com/PriorLabs/tabpfn-client\n",
      "  check_cpu_warning(self.device, X)\n",
      "\n"
     ]
    },
    {
     "name": "stdout",
     "output_type": "stream",
     "text": [
      "\r",
      " 30%|██████████████▍                                 | 15/50 [13:18<28:25, 48.72s/trial, best loss: -0.835820895522388]"
     ]
    },
    {
     "name": "stderr",
     "output_type": "stream",
     "text": [
      "C:\\Users\\Hovsep\\AppData\\Roaming\\mamba\\envs\\tabpfn\\lib\\site-packages\\tabpfn\\classifier.py:431: UserWarning: Running on CPU with more than 200 samples may be slow.\n",
      "Consider using a GPU or the tabpfn-client API: https://github.com/PriorLabs/tabpfn-client\n",
      "  check_cpu_warning(self.device, X)\n",
      "\n",
      "C:\\Users\\Hovsep\\AppData\\Roaming\\mamba\\envs\\tabpfn\\lib\\site-packages\\tabpfn\\classifier.py:431: UserWarning: Running on CPU with more than 200 samples may be slow.\n",
      "Consider using a GPU or the tabpfn-client API: https://github.com/PriorLabs/tabpfn-client\n",
      "  check_cpu_warning(self.device, X)\n",
      "\n"
     ]
    },
    {
     "name": "stdout",
     "output_type": "stream",
     "text": [
      "\r",
      " 32%|███████████████▎                                | 16/50 [13:53<25:16, 44.59s/trial, best loss: -0.835820895522388]"
     ]
    },
    {
     "name": "stderr",
     "output_type": "stream",
     "text": [
      "C:\\Users\\Hovsep\\AppData\\Roaming\\mamba\\envs\\tabpfn\\lib\\site-packages\\tabpfn\\classifier.py:431: UserWarning: Running on CPU with more than 200 samples may be slow.\n",
      "Consider using a GPU or the tabpfn-client API: https://github.com/PriorLabs/tabpfn-client\n",
      "  check_cpu_warning(self.device, X)\n",
      "\n",
      "C:\\Users\\Hovsep\\AppData\\Roaming\\mamba\\envs\\tabpfn\\lib\\site-packages\\tabpfn\\classifier.py:431: UserWarning: Running on CPU with more than 200 samples may be slow.\n",
      "Consider using a GPU or the tabpfn-client API: https://github.com/PriorLabs/tabpfn-client\n",
      "  check_cpu_warning(self.device, X)\n",
      "\n"
     ]
    },
    {
     "name": "stdout",
     "output_type": "stream",
     "text": [
      "\r",
      " 34%|████████████████▎                               | 17/50 [14:43<25:24, 46.20s/trial, best loss: -0.835820895522388]"
     ]
    },
    {
     "name": "stderr",
     "output_type": "stream",
     "text": [
      "C:\\Users\\Hovsep\\AppData\\Roaming\\mamba\\envs\\tabpfn\\lib\\site-packages\\tabpfn\\classifier.py:431: UserWarning: Running on CPU with more than 200 samples may be slow.\n",
      "Consider using a GPU or the tabpfn-client API: https://github.com/PriorLabs/tabpfn-client\n",
      "  check_cpu_warning(self.device, X)\n",
      "\n",
      "C:\\Users\\Hovsep\\AppData\\Roaming\\mamba\\envs\\tabpfn\\lib\\site-packages\\tabpfn\\classifier.py:431: UserWarning: Running on CPU with more than 200 samples may be slow.\n",
      "Consider using a GPU or the tabpfn-client API: https://github.com/PriorLabs/tabpfn-client\n",
      "  check_cpu_warning(self.device, X)\n",
      "\n"
     ]
    },
    {
     "name": "stdout",
     "output_type": "stream",
     "text": [
      "\r",
      " 36%|█████████████████▎                              | 18/50 [16:01<29:45, 55.81s/trial, best loss: -0.835820895522388]"
     ]
    },
    {
     "name": "stderr",
     "output_type": "stream",
     "text": [
      "C:\\Users\\Hovsep\\AppData\\Roaming\\mamba\\envs\\tabpfn\\lib\\site-packages\\tabpfn\\classifier.py:431: UserWarning: Running on CPU with more than 200 samples may be slow.\n",
      "Consider using a GPU or the tabpfn-client API: https://github.com/PriorLabs/tabpfn-client\n",
      "  check_cpu_warning(self.device, X)\n",
      "\n"
     ]
    },
    {
     "name": "stdout",
     "output_type": "stream",
     "text": [
      "\r",
      " 38%|██████████████████▏                             | 19/50 [16:33<25:01, 48.43s/trial, best loss: -0.835820895522388]"
     ]
    },
    {
     "name": "stderr",
     "output_type": "stream",
     "text": [
      "C:\\Users\\Hovsep\\AppData\\Roaming\\mamba\\envs\\tabpfn\\lib\\site-packages\\tabpfn\\base.py:89: UserWarning: Downloading model to C:\\Users\\Hovsep\\AppData\\Roaming\\mamba\\envs\\tabpfn\\Lib\\site-packages\\tabpfn_extensions\\hpo\\hpo_models\\tabpfn-v2-classifier.ckpt.\n",
      "  model, _, config_ = load_model_criterion_config(\n",
      "\n",
      "WARNING:tabpfn.model.loading:HuggingFace downloads failed: HuggingFace download failed!\n",
      "C:\\Users\\Hovsep\\AppData\\Roaming\\mamba\\envs\\tabpfn\\lib\\site-packages\\tabpfn\\classifier.py:431: UserWarning: Running on CPU with more than 200 samples may be slow.\n",
      "Consider using a GPU or the tabpfn-client API: https://github.com/PriorLabs/tabpfn-client\n",
      "  check_cpu_warning(self.device, X)\n",
      "\n"
     ]
    },
    {
     "name": "stdout",
     "output_type": "stream",
     "text": [
      "\r",
      " 40%|███████████████████▏                            | 20/50 [17:18<23:41, 47.38s/trial, best loss: -0.835820895522388]"
     ]
    },
    {
     "name": "stderr",
     "output_type": "stream",
     "text": [
      "C:\\Users\\Hovsep\\AppData\\Roaming\\mamba\\envs\\tabpfn\\lib\\site-packages\\tabpfn\\classifier.py:431: UserWarning: Running on CPU with more than 200 samples may be slow.\n",
      "Consider using a GPU or the tabpfn-client API: https://github.com/PriorLabs/tabpfn-client\n",
      "  check_cpu_warning(self.device, X)\n",
      "\n",
      "C:\\Users\\Hovsep\\AppData\\Roaming\\mamba\\envs\\tabpfn\\lib\\site-packages\\tabpfn\\classifier.py:431: UserWarning: Running on CPU with more than 200 samples may be slow.\n",
      "Consider using a GPU or the tabpfn-client API: https://github.com/PriorLabs/tabpfn-client\n",
      "  check_cpu_warning(self.device, X)\n",
      "\n"
     ]
    },
    {
     "name": "stdout",
     "output_type": "stream",
     "text": [
      "\r",
      " 42%|████████████████████▏                           | 21/50 [17:59<21:58, 45.48s/trial, best loss: -0.835820895522388]"
     ]
    },
    {
     "name": "stderr",
     "output_type": "stream",
     "text": [
      "C:\\Users\\Hovsep\\AppData\\Roaming\\mamba\\envs\\tabpfn\\lib\\site-packages\\tabpfn\\classifier.py:431: UserWarning: Running on CPU with more than 200 samples may be slow.\n",
      "Consider using a GPU or the tabpfn-client API: https://github.com/PriorLabs/tabpfn-client\n",
      "  check_cpu_warning(self.device, X)\n",
      "\n",
      "C:\\Users\\Hovsep\\AppData\\Roaming\\mamba\\envs\\tabpfn\\lib\\site-packages\\tabpfn\\classifier.py:431: UserWarning: Running on CPU with more than 200 samples may be slow.\n",
      "Consider using a GPU or the tabpfn-client API: https://github.com/PriorLabs/tabpfn-client\n",
      "  check_cpu_warning(self.device, X)\n",
      "\n"
     ]
    },
    {
     "name": "stdout",
     "output_type": "stream",
     "text": [
      "\r",
      " 44%|█████████████████████                           | 22/50 [19:19<26:05, 55.92s/trial, best loss: -0.835820895522388]"
     ]
    },
    {
     "name": "stderr",
     "output_type": "stream",
     "text": [
      "C:\\Users\\Hovsep\\AppData\\Roaming\\mamba\\envs\\tabpfn\\lib\\site-packages\\tabpfn\\classifier.py:431: UserWarning: Running on CPU with more than 200 samples may be slow.\n",
      "Consider using a GPU or the tabpfn-client API: https://github.com/PriorLabs/tabpfn-client\n",
      "  check_cpu_warning(self.device, X)\n",
      "\n"
     ]
    },
    {
     "name": "stdout",
     "output_type": "stream",
     "text": [
      "\r",
      " 46%|██████████████████████                          | 23/50 [19:47<21:26, 47.65s/trial, best loss: -0.835820895522388]"
     ]
    },
    {
     "name": "stderr",
     "output_type": "stream",
     "text": [
      "C:\\Users\\Hovsep\\AppData\\Roaming\\mamba\\envs\\tabpfn\\lib\\site-packages\\tabpfn\\classifier.py:431: UserWarning: Running on CPU with more than 200 samples may be slow.\n",
      "Consider using a GPU or the tabpfn-client API: https://github.com/PriorLabs/tabpfn-client\n",
      "  check_cpu_warning(self.device, X)\n",
      "\n"
     ]
    },
    {
     "name": "stdout",
     "output_type": "stream",
     "text": [
      "\r",
      " 48%|███████████████████████                         | 24/50 [20:44<21:48, 50.34s/trial, best loss: -0.835820895522388]"
     ]
    },
    {
     "name": "stderr",
     "output_type": "stream",
     "text": [
      "C:\\Users\\Hovsep\\AppData\\Roaming\\mamba\\envs\\tabpfn\\lib\\site-packages\\tabpfn\\classifier.py:431: UserWarning: Running on CPU with more than 200 samples may be slow.\n",
      "Consider using a GPU or the tabpfn-client API: https://github.com/PriorLabs/tabpfn-client\n",
      "  check_cpu_warning(self.device, X)\n",
      "\n"
     ]
    },
    {
     "name": "stdout",
     "output_type": "stream",
     "text": [
      "\r",
      " 50%|████████████████████████                        | 25/50 [21:30<20:30, 49.20s/trial, best loss: -0.835820895522388]"
     ]
    },
    {
     "name": "stderr",
     "output_type": "stream",
     "text": [
      "C:\\Users\\Hovsep\\AppData\\Roaming\\mamba\\envs\\tabpfn\\lib\\site-packages\\tabpfn\\classifier.py:431: UserWarning: Running on CPU with more than 200 samples may be slow.\n",
      "Consider using a GPU or the tabpfn-client API: https://github.com/PriorLabs/tabpfn-client\n",
      "  check_cpu_warning(self.device, X)\n",
      "\n"
     ]
    },
    {
     "name": "stdout",
     "output_type": "stream",
     "text": [
      "\r",
      " 52%|████████████████████████▉                       | 26/50 [22:12<18:47, 46.98s/trial, best loss: -0.835820895522388]"
     ]
    },
    {
     "name": "stderr",
     "output_type": "stream",
     "text": [
      "C:\\Users\\Hovsep\\AppData\\Roaming\\mamba\\envs\\tabpfn\\lib\\site-packages\\tabpfn\\classifier.py:431: UserWarning: Running on CPU with more than 200 samples may be slow.\n",
      "Consider using a GPU or the tabpfn-client API: https://github.com/PriorLabs/tabpfn-client\n",
      "  check_cpu_warning(self.device, X)\n",
      "\n",
      "C:\\Users\\Hovsep\\AppData\\Roaming\\mamba\\envs\\tabpfn\\lib\\site-packages\\tabpfn\\classifier.py:431: UserWarning: Running on CPU with more than 200 samples may be slow.\n",
      "Consider using a GPU or the tabpfn-client API: https://github.com/PriorLabs/tabpfn-client\n",
      "  check_cpu_warning(self.device, X)\n",
      "\n"
     ]
    },
    {
     "name": "stdout",
     "output_type": "stream",
     "text": [
      "\r",
      " 54%|█████████████████████████▉                      | 27/50 [23:23<20:44, 54.10s/trial, best loss: -0.835820895522388]"
     ]
    },
    {
     "name": "stderr",
     "output_type": "stream",
     "text": [
      "C:\\Users\\Hovsep\\AppData\\Roaming\\mamba\\envs\\tabpfn\\lib\\site-packages\\tabpfn\\classifier.py:431: UserWarning: Running on CPU with more than 200 samples may be slow.\n",
      "Consider using a GPU or the tabpfn-client API: https://github.com/PriorLabs/tabpfn-client\n",
      "  check_cpu_warning(self.device, X)\n",
      "\n"
     ]
    },
    {
     "name": "stdout",
     "output_type": "stream",
     "text": [
      "\r",
      " 56%|██████████████████████████▉                     | 28/50 [24:05<18:33, 50.61s/trial, best loss: -0.835820895522388]"
     ]
    },
    {
     "name": "stderr",
     "output_type": "stream",
     "text": [
      "C:\\Users\\Hovsep\\AppData\\Roaming\\mamba\\envs\\tabpfn\\lib\\site-packages\\tabpfn\\classifier.py:431: UserWarning: Running on CPU with more than 200 samples may be slow.\n",
      "Consider using a GPU or the tabpfn-client API: https://github.com/PriorLabs/tabpfn-client\n",
      "  check_cpu_warning(self.device, X)\n",
      "\n"
     ]
    },
    {
     "name": "stdout",
     "output_type": "stream",
     "text": [
      "\r",
      " 58%|███████████████████████████▊                    | 29/50 [24:26<14:31, 41.52s/trial, best loss: -0.835820895522388]"
     ]
    },
    {
     "name": "stderr",
     "output_type": "stream",
     "text": [
      "C:\\Users\\Hovsep\\AppData\\Roaming\\mamba\\envs\\tabpfn\\lib\\site-packages\\tabpfn\\classifier.py:431: UserWarning: Running on CPU with more than 200 samples may be slow.\n",
      "Consider using a GPU or the tabpfn-client API: https://github.com/PriorLabs/tabpfn-client\n",
      "  check_cpu_warning(self.device, X)\n",
      "\n"
     ]
    },
    {
     "name": "stdout",
     "output_type": "stream",
     "text": [
      "\r",
      " 60%|████████████████████████████▊                   | 30/50 [24:40<11:06, 33.34s/trial, best loss: -0.835820895522388]"
     ]
    },
    {
     "name": "stderr",
     "output_type": "stream",
     "text": [
      "C:\\Users\\Hovsep\\AppData\\Roaming\\mamba\\envs\\tabpfn\\lib\\site-packages\\tabpfn\\classifier.py:431: UserWarning: Running on CPU with more than 200 samples may be slow.\n",
      "Consider using a GPU or the tabpfn-client API: https://github.com/PriorLabs/tabpfn-client\n",
      "  check_cpu_warning(self.device, X)\n",
      "\n"
     ]
    },
    {
     "name": "stdout",
     "output_type": "stream",
     "text": [
      "\r",
      " 62%|█████████████████████████████▊                  | 31/50 [25:12<10:28, 33.08s/trial, best loss: -0.835820895522388]"
     ]
    },
    {
     "name": "stderr",
     "output_type": "stream",
     "text": [
      "C:\\Users\\Hovsep\\AppData\\Roaming\\mamba\\envs\\tabpfn\\lib\\site-packages\\tabpfn\\classifier.py:431: UserWarning: Running on CPU with more than 200 samples may be slow.\n",
      "Consider using a GPU or the tabpfn-client API: https://github.com/PriorLabs/tabpfn-client\n",
      "  check_cpu_warning(self.device, X)\n",
      "\n",
      "C:\\Users\\Hovsep\\AppData\\Roaming\\mamba\\envs\\tabpfn\\lib\\site-packages\\sklearn\\preprocessing\\_encoders.py:242: UserWarning: Found unknown categories in columns [1] during transform. These unknown categories will be encoded as all zeros\n",
      "  warnings.warn(\n",
      "\n",
      "C:\\Users\\Hovsep\\AppData\\Roaming\\mamba\\envs\\tabpfn\\lib\\site-packages\\sklearn\\preprocessing\\_encoders.py:242: UserWarning: Found unknown categories in columns [1] during transform. These unknown categories will be encoded as all zeros\n",
      "  warnings.warn(\n",
      "\n",
      "C:\\Users\\Hovsep\\AppData\\Roaming\\mamba\\envs\\tabpfn\\lib\\site-packages\\sklearn\\preprocessing\\_encoders.py:242: UserWarning: Found unknown categories in columns [0] during transform. These unknown categories will be encoded as all zeros\n",
      "  warnings.warn(\n",
      "\n",
      "C:\\Users\\Hovsep\\AppData\\Roaming\\mamba\\envs\\tabpfn\\lib\\site-packages\\sklearn\\preprocessing\\_encoders.py:242: UserWarning: Found unknown categories in columns [1] during transform. These unknown categories will be encoded as all zeros\n",
      "  warnings.warn(\n",
      "\n",
      "C:\\Users\\Hovsep\\AppData\\Roaming\\mamba\\envs\\tabpfn\\lib\\site-packages\\tabpfn\\classifier.py:431: UserWarning: Running on CPU with more than 200 samples may be slow.\n",
      "Consider using a GPU or the tabpfn-client API: https://github.com/PriorLabs/tabpfn-client\n",
      "  check_cpu_warning(self.device, X)\n",
      "\n"
     ]
    },
    {
     "name": "stdout",
     "output_type": "stream",
     "text": [
      "\r",
      " 64%|██████████████████████████████▋                 | 32/50 [25:46<09:59, 33.28s/trial, best loss: -0.835820895522388]"
     ]
    },
    {
     "name": "stderr",
     "output_type": "stream",
     "text": [
      "C:\\Users\\Hovsep\\AppData\\Roaming\\mamba\\envs\\tabpfn\\lib\\site-packages\\tabpfn\\classifier.py:431: UserWarning: Running on CPU with more than 200 samples may be slow.\n",
      "Consider using a GPU or the tabpfn-client API: https://github.com/PriorLabs/tabpfn-client\n",
      "  check_cpu_warning(self.device, X)\n",
      "\n"
     ]
    },
    {
     "name": "stdout",
     "output_type": "stream",
     "text": [
      "\r",
      " 66%|███████████████████████████████▋                | 33/50 [26:05<08:13, 29.04s/trial, best loss: -0.835820895522388]"
     ]
    },
    {
     "name": "stderr",
     "output_type": "stream",
     "text": [
      "C:\\Users\\Hovsep\\AppData\\Roaming\\mamba\\envs\\tabpfn\\lib\\site-packages\\tabpfn\\classifier.py:431: UserWarning: Running on CPU with more than 200 samples may be slow.\n",
      "Consider using a GPU or the tabpfn-client API: https://github.com/PriorLabs/tabpfn-client\n",
      "  check_cpu_warning(self.device, X)\n",
      "\n"
     ]
    },
    {
     "name": "stdout",
     "output_type": "stream",
     "text": [
      "\r",
      " 68%|████████████████████████████████▋               | 34/50 [26:18<06:27, 24.22s/trial, best loss: -0.835820895522388]"
     ]
    },
    {
     "name": "stderr",
     "output_type": "stream",
     "text": [
      "C:\\Users\\Hovsep\\AppData\\Roaming\\mamba\\envs\\tabpfn\\lib\\site-packages\\tabpfn\\classifier.py:431: UserWarning: Running on CPU with more than 200 samples may be slow.\n",
      "Consider using a GPU or the tabpfn-client API: https://github.com/PriorLabs/tabpfn-client\n",
      "  check_cpu_warning(self.device, X)\n",
      "\n",
      "C:\\Users\\Hovsep\\AppData\\Roaming\\mamba\\envs\\tabpfn\\lib\\site-packages\\tabpfn\\classifier.py:431: UserWarning: Running on CPU with more than 200 samples may be slow.\n",
      "Consider using a GPU or the tabpfn-client API: https://github.com/PriorLabs/tabpfn-client\n",
      "  check_cpu_warning(self.device, X)\n",
      "\n"
     ]
    },
    {
     "name": "stdout",
     "output_type": "stream",
     "text": [
      "\r",
      " 70%|█████████████████████████████████▌              | 35/50 [27:14<08:24, 33.65s/trial, best loss: -0.835820895522388]"
     ]
    },
    {
     "name": "stderr",
     "output_type": "stream",
     "text": [
      "C:\\Users\\Hovsep\\AppData\\Roaming\\mamba\\envs\\tabpfn\\lib\\site-packages\\tabpfn\\classifier.py:431: UserWarning: Running on CPU with more than 200 samples may be slow.\n",
      "Consider using a GPU or the tabpfn-client API: https://github.com/PriorLabs/tabpfn-client\n",
      "  check_cpu_warning(self.device, X)\n",
      "\n",
      "C:\\Users\\Hovsep\\AppData\\Roaming\\mamba\\envs\\tabpfn\\lib\\site-packages\\tabpfn\\classifier.py:431: UserWarning: Running on CPU with more than 200 samples may be slow.\n",
      "Consider using a GPU or the tabpfn-client API: https://github.com/PriorLabs/tabpfn-client\n",
      "  check_cpu_warning(self.device, X)\n",
      "\n"
     ]
    },
    {
     "name": "stdout",
     "output_type": "stream",
     "text": [
      "\r",
      " 72%|██████████████████████████████████▌             | 36/50 [28:33<11:00, 47.18s/trial, best loss: -0.835820895522388]"
     ]
    },
    {
     "name": "stderr",
     "output_type": "stream",
     "text": [
      "C:\\Users\\Hovsep\\AppData\\Roaming\\mamba\\envs\\tabpfn\\lib\\site-packages\\tabpfn\\classifier.py:431: UserWarning: Running on CPU with more than 200 samples may be slow.\n",
      "Consider using a GPU or the tabpfn-client API: https://github.com/PriorLabs/tabpfn-client\n",
      "  check_cpu_warning(self.device, X)\n",
      "\n"
     ]
    },
    {
     "name": "stdout",
     "output_type": "stream",
     "text": [
      "\r",
      " 74%|███████████████████████████████████▌            | 37/50 [29:09<09:29, 43.81s/trial, best loss: -0.835820895522388]"
     ]
    },
    {
     "name": "stderr",
     "output_type": "stream",
     "text": [
      "C:\\Users\\Hovsep\\AppData\\Roaming\\mamba\\envs\\tabpfn\\lib\\site-packages\\tabpfn\\classifier.py:431: UserWarning: Running on CPU with more than 200 samples may be slow.\n",
      "Consider using a GPU or the tabpfn-client API: https://github.com/PriorLabs/tabpfn-client\n",
      "  check_cpu_warning(self.device, X)\n",
      "\n"
     ]
    },
    {
     "name": "stdout",
     "output_type": "stream",
     "text": [
      "\r",
      " 76%|████████████████████████████████████▍           | 38/50 [29:52<08:43, 43.59s/trial, best loss: -0.835820895522388]"
     ]
    },
    {
     "name": "stderr",
     "output_type": "stream",
     "text": [
      "C:\\Users\\Hovsep\\AppData\\Roaming\\mamba\\envs\\tabpfn\\lib\\site-packages\\tabpfn\\classifier.py:431: UserWarning: Running on CPU with more than 200 samples may be slow.\n",
      "Consider using a GPU or the tabpfn-client API: https://github.com/PriorLabs/tabpfn-client\n",
      "  check_cpu_warning(self.device, X)\n",
      "\n"
     ]
    },
    {
     "name": "stdout",
     "output_type": "stream",
     "text": [
      "\r",
      " 78%|█████████████████████████████████████▍          | 39/50 [30:41<08:16, 45.18s/trial, best loss: -0.835820895522388]"
     ]
    },
    {
     "name": "stderr",
     "output_type": "stream",
     "text": [
      "C:\\Users\\Hovsep\\AppData\\Roaming\\mamba\\envs\\tabpfn\\lib\\site-packages\\tabpfn\\classifier.py:431: UserWarning: Running on CPU with more than 200 samples may be slow.\n",
      "Consider using a GPU or the tabpfn-client API: https://github.com/PriorLabs/tabpfn-client\n",
      "  check_cpu_warning(self.device, X)\n",
      "\n",
      "C:\\Users\\Hovsep\\AppData\\Roaming\\mamba\\envs\\tabpfn\\lib\\site-packages\\tabpfn\\classifier.py:431: UserWarning: Running on CPU with more than 200 samples may be slow.\n",
      "Consider using a GPU or the tabpfn-client API: https://github.com/PriorLabs/tabpfn-client\n",
      "  check_cpu_warning(self.device, X)\n",
      "\n"
     ]
    },
    {
     "name": "stdout",
     "output_type": "stream",
     "text": [
      "\r",
      " 80%|██████████████████████████████████████▍         | 40/50 [32:17<10:04, 60.48s/trial, best loss: -0.835820895522388]"
     ]
    },
    {
     "name": "stderr",
     "output_type": "stream",
     "text": [
      "C:\\Users\\Hovsep\\AppData\\Roaming\\mamba\\envs\\tabpfn\\lib\\site-packages\\tabpfn\\classifier.py:431: UserWarning: Running on CPU with more than 200 samples may be slow.\n",
      "Consider using a GPU or the tabpfn-client API: https://github.com/PriorLabs/tabpfn-client\n",
      "  check_cpu_warning(self.device, X)\n",
      "\n",
      "C:\\Users\\Hovsep\\AppData\\Roaming\\mamba\\envs\\tabpfn\\lib\\site-packages\\sklearn\\preprocessing\\_encoders.py:242: UserWarning: Found unknown categories in columns [1] during transform. These unknown categories will be encoded as all zeros\n",
      "  warnings.warn(\n",
      "\n",
      "C:\\Users\\Hovsep\\AppData\\Roaming\\mamba\\envs\\tabpfn\\lib\\site-packages\\sklearn\\preprocessing\\_encoders.py:242: UserWarning: Found unknown categories in columns [1] during transform. These unknown categories will be encoded as all zeros\n",
      "  warnings.warn(\n",
      "\n",
      "C:\\Users\\Hovsep\\AppData\\Roaming\\mamba\\envs\\tabpfn\\lib\\site-packages\\sklearn\\preprocessing\\_encoders.py:242: UserWarning: Found unknown categories in columns [1] during transform. These unknown categories will be encoded as all zeros\n",
      "  warnings.warn(\n",
      "\n",
      "C:\\Users\\Hovsep\\AppData\\Roaming\\mamba\\envs\\tabpfn\\lib\\site-packages\\sklearn\\preprocessing\\_encoders.py:242: UserWarning: Found unknown categories in columns [1] during transform. These unknown categories will be encoded as all zeros\n",
      "  warnings.warn(\n",
      "\n",
      "C:\\Users\\Hovsep\\AppData\\Roaming\\mamba\\envs\\tabpfn\\lib\\site-packages\\tabpfn\\classifier.py:431: UserWarning: Running on CPU with more than 200 samples may be slow.\n",
      "Consider using a GPU or the tabpfn-client API: https://github.com/PriorLabs/tabpfn-client\n",
      "  check_cpu_warning(self.device, X)\n",
      "\n"
     ]
    },
    {
     "name": "stdout",
     "output_type": "stream",
     "text": [
      "\r",
      " 82%|███████████████████████████████████████▎        | 41/50 [32:52<07:55, 52.79s/trial, best loss: -0.835820895522388]"
     ]
    },
    {
     "name": "stderr",
     "output_type": "stream",
     "text": [
      "C:\\Users\\Hovsep\\AppData\\Roaming\\mamba\\envs\\tabpfn\\lib\\site-packages\\tabpfn\\classifier.py:431: UserWarning: Running on CPU with more than 200 samples may be slow.\n",
      "Consider using a GPU or the tabpfn-client API: https://github.com/PriorLabs/tabpfn-client\n",
      "  check_cpu_warning(self.device, X)\n",
      "\n",
      "C:\\Users\\Hovsep\\AppData\\Roaming\\mamba\\envs\\tabpfn\\lib\\site-packages\\tabpfn\\classifier.py:431: UserWarning: Running on CPU with more than 200 samples may be slow.\n",
      "Consider using a GPU or the tabpfn-client API: https://github.com/PriorLabs/tabpfn-client\n",
      "  check_cpu_warning(self.device, X)\n",
      "\n"
     ]
    },
    {
     "name": "stdout",
     "output_type": "stream",
     "text": [
      "\r",
      " 84%|████████████████████████████████████████▎       | 42/50 [34:02<07:44, 58.05s/trial, best loss: -0.835820895522388]"
     ]
    },
    {
     "name": "stderr",
     "output_type": "stream",
     "text": [
      "C:\\Users\\Hovsep\\AppData\\Roaming\\mamba\\envs\\tabpfn\\lib\\site-packages\\tabpfn\\classifier.py:431: UserWarning: Running on CPU with more than 200 samples may be slow.\n",
      "Consider using a GPU or the tabpfn-client API: https://github.com/PriorLabs/tabpfn-client\n",
      "  check_cpu_warning(self.device, X)\n",
      "\n",
      "C:\\Users\\Hovsep\\AppData\\Roaming\\mamba\\envs\\tabpfn\\lib\\site-packages\\tabpfn\\classifier.py:431: UserWarning: Running on CPU with more than 200 samples may be slow.\n",
      "Consider using a GPU or the tabpfn-client API: https://github.com/PriorLabs/tabpfn-client\n",
      "  check_cpu_warning(self.device, X)\n",
      "\n"
     ]
    },
    {
     "name": "stdout",
     "output_type": "stream",
     "text": [
      "\r",
      " 86%|█████████████████████████████████████████▎      | 43/50 [35:38<08:05, 69.35s/trial, best loss: -0.835820895522388]"
     ]
    },
    {
     "name": "stderr",
     "output_type": "stream",
     "text": [
      "C:\\Users\\Hovsep\\AppData\\Roaming\\mamba\\envs\\tabpfn\\lib\\site-packages\\tabpfn\\classifier.py:431: UserWarning: Running on CPU with more than 200 samples may be slow.\n",
      "Consider using a GPU or the tabpfn-client API: https://github.com/PriorLabs/tabpfn-client\n",
      "  check_cpu_warning(self.device, X)\n",
      "\n",
      "C:\\Users\\Hovsep\\AppData\\Roaming\\mamba\\envs\\tabpfn\\lib\\site-packages\\tabpfn\\classifier.py:431: UserWarning: Running on CPU with more than 200 samples may be slow.\n",
      "Consider using a GPU or the tabpfn-client API: https://github.com/PriorLabs/tabpfn-client\n",
      "  check_cpu_warning(self.device, X)\n",
      "\n"
     ]
    },
    {
     "name": "stdout",
     "output_type": "stream",
     "text": [
      "\r",
      " 88%|██████████████████████████████████████████▏     | 44/50 [36:31<06:26, 64.40s/trial, best loss: -0.835820895522388]"
     ]
    },
    {
     "name": "stderr",
     "output_type": "stream",
     "text": [
      "C:\\Users\\Hovsep\\AppData\\Roaming\\mamba\\envs\\tabpfn\\lib\\site-packages\\tabpfn\\classifier.py:431: UserWarning: Running on CPU with more than 200 samples may be slow.\n",
      "Consider using a GPU or the tabpfn-client API: https://github.com/PriorLabs/tabpfn-client\n",
      "  check_cpu_warning(self.device, X)\n",
      "\n",
      "C:\\Users\\Hovsep\\AppData\\Roaming\\mamba\\envs\\tabpfn\\lib\\site-packages\\sklearn\\preprocessing\\_encoders.py:242: UserWarning: Found unknown categories in columns [0] during transform. These unknown categories will be encoded as all zeros\n",
      "  warnings.warn(\n",
      "\n",
      "C:\\Users\\Hovsep\\AppData\\Roaming\\mamba\\envs\\tabpfn\\lib\\site-packages\\sklearn\\preprocessing\\_encoders.py:242: UserWarning: Found unknown categories in columns [0] during transform. These unknown categories will be encoded as all zeros\n",
      "  warnings.warn(\n",
      "\n",
      "C:\\Users\\Hovsep\\AppData\\Roaming\\mamba\\envs\\tabpfn\\lib\\site-packages\\sklearn\\preprocessing\\_encoders.py:242: UserWarning: Found unknown categories in columns [0] during transform. These unknown categories will be encoded as all zeros\n",
      "  warnings.warn(\n",
      "\n",
      "C:\\Users\\Hovsep\\AppData\\Roaming\\mamba\\envs\\tabpfn\\lib\\site-packages\\sklearn\\preprocessing\\_encoders.py:242: UserWarning: Found unknown categories in columns [0] during transform. These unknown categories will be encoded as all zeros\n",
      "  warnings.warn(\n",
      "\n",
      "C:\\Users\\Hovsep\\AppData\\Roaming\\mamba\\envs\\tabpfn\\lib\\site-packages\\tabpfn\\classifier.py:431: UserWarning: Running on CPU with more than 200 samples may be slow.\n",
      "Consider using a GPU or the tabpfn-client API: https://github.com/PriorLabs/tabpfn-client\n",
      "  check_cpu_warning(self.device, X)\n",
      "\n"
     ]
    },
    {
     "name": "stdout",
     "output_type": "stream",
     "text": [
      "\r",
      " 90%|███████████████████████████████████████████▏    | 45/50 [37:51<05:45, 69.09s/trial, best loss: -0.835820895522388]"
     ]
    },
    {
     "name": "stderr",
     "output_type": "stream",
     "text": [
      "C:\\Users\\Hovsep\\AppData\\Roaming\\mamba\\envs\\tabpfn\\lib\\site-packages\\tabpfn\\classifier.py:431: UserWarning: Running on CPU with more than 200 samples may be slow.\n",
      "Consider using a GPU or the tabpfn-client API: https://github.com/PriorLabs/tabpfn-client\n",
      "  check_cpu_warning(self.device, X)\n",
      "\n",
      "C:\\Users\\Hovsep\\AppData\\Roaming\\mamba\\envs\\tabpfn\\lib\\site-packages\\tabpfn\\classifier.py:431: UserWarning: Running on CPU with more than 200 samples may be slow.\n",
      "Consider using a GPU or the tabpfn-client API: https://github.com/PriorLabs/tabpfn-client\n",
      "  check_cpu_warning(self.device, X)\n",
      "\n"
     ]
    },
    {
     "name": "stdout",
     "output_type": "stream",
     "text": [
      "\r",
      " 92%|████████████████████████████████████████████▏   | 46/50 [39:15<04:54, 73.56s/trial, best loss: -0.835820895522388]"
     ]
    },
    {
     "name": "stderr",
     "output_type": "stream",
     "text": [
      "C:\\Users\\Hovsep\\AppData\\Roaming\\mamba\\envs\\tabpfn\\lib\\site-packages\\tabpfn\\classifier.py:431: UserWarning: Running on CPU with more than 200 samples may be slow.\n",
      "Consider using a GPU or the tabpfn-client API: https://github.com/PriorLabs/tabpfn-client\n",
      "  check_cpu_warning(self.device, X)\n",
      "\n",
      "C:\\Users\\Hovsep\\AppData\\Roaming\\mamba\\envs\\tabpfn\\lib\\site-packages\\tabpfn\\classifier.py:431: UserWarning: Running on CPU with more than 200 samples may be slow.\n",
      "Consider using a GPU or the tabpfn-client API: https://github.com/PriorLabs/tabpfn-client\n",
      "  check_cpu_warning(self.device, X)\n",
      "\n"
     ]
    },
    {
     "name": "stdout",
     "output_type": "stream",
     "text": [
      "\r",
      " 94%|█████████████████████████████████████████████   | 47/50 [40:08<03:22, 67.66s/trial, best loss: -0.835820895522388]"
     ]
    },
    {
     "name": "stderr",
     "output_type": "stream",
     "text": [
      "C:\\Users\\Hovsep\\AppData\\Roaming\\mamba\\envs\\tabpfn\\lib\\site-packages\\tabpfn\\classifier.py:431: UserWarning: Running on CPU with more than 200 samples may be slow.\n",
      "Consider using a GPU or the tabpfn-client API: https://github.com/PriorLabs/tabpfn-client\n",
      "  check_cpu_warning(self.device, X)\n",
      "\n",
      "C:\\Users\\Hovsep\\AppData\\Roaming\\mamba\\envs\\tabpfn\\lib\\site-packages\\tabpfn\\classifier.py:431: UserWarning: Running on CPU with more than 200 samples may be slow.\n",
      "Consider using a GPU or the tabpfn-client API: https://github.com/PriorLabs/tabpfn-client\n",
      "  check_cpu_warning(self.device, X)\n",
      "\n"
     ]
    },
    {
     "name": "stdout",
     "output_type": "stream",
     "text": [
      "\r",
      " 96%|██████████████████████████████████████████████  | 48/50 [41:11<02:12, 66.07s/trial, best loss: -0.835820895522388]"
     ]
    },
    {
     "name": "stderr",
     "output_type": "stream",
     "text": [
      "C:\\Users\\Hovsep\\AppData\\Roaming\\mamba\\envs\\tabpfn\\lib\\site-packages\\tabpfn\\classifier.py:431: UserWarning: Running on CPU with more than 200 samples may be slow.\n",
      "Consider using a GPU or the tabpfn-client API: https://github.com/PriorLabs/tabpfn-client\n",
      "  check_cpu_warning(self.device, X)\n",
      "\n",
      "C:\\Users\\Hovsep\\AppData\\Roaming\\mamba\\envs\\tabpfn\\lib\\site-packages\\tabpfn\\classifier.py:431: UserWarning: Running on CPU with more than 200 samples may be slow.\n",
      "Consider using a GPU or the tabpfn-client API: https://github.com/PriorLabs/tabpfn-client\n",
      "  check_cpu_warning(self.device, X)\n",
      "\n"
     ]
    },
    {
     "name": "stdout",
     "output_type": "stream",
     "text": [
      "\r",
      " 98%|███████████████████████████████████████████████ | 49/50 [42:37<01:12, 72.21s/trial, best loss: -0.835820895522388]"
     ]
    },
    {
     "name": "stderr",
     "output_type": "stream",
     "text": [
      "C:\\Users\\Hovsep\\AppData\\Roaming\\mamba\\envs\\tabpfn\\lib\\site-packages\\tabpfn\\classifier.py:431: UserWarning: Running on CPU with more than 200 samples may be slow.\n",
      "Consider using a GPU or the tabpfn-client API: https://github.com/PriorLabs/tabpfn-client\n",
      "  check_cpu_warning(self.device, X)\n",
      "\n"
     ]
    },
    {
     "name": "stdout",
     "output_type": "stream",
     "text": [
      "100%|████████████████████████████████████████████████| 50/50 [42:58<00:00, 51.57s/trial, best loss: -0.835820895522388]\n"
     ]
    },
    {
     "name": "stderr",
     "output_type": "stream",
     "text": [
      "C:\\Users\\Hovsep\\AppData\\Roaming\\mamba\\envs\\tabpfn\\lib\\site-packages\\tabpfn\\classifier.py:431: UserWarning: Running on CPU with more than 200 samples may be slow.\n",
      "Consider using a GPU or the tabpfn-client API: https://github.com/PriorLabs/tabpfn-client\n",
      "  check_cpu_warning(self.device, X)\n"
     ]
    }
   ],
   "source": [
    "from tabpfn_extensions.hpo import TunedTabPFNClassifier\n",
    "\n",
    "# Create a tuned classifier with 50 optimization trials\n",
    "tuned_clf = TunedTabPFNClassifier(\n",
    "    n_trials=50,                    # Number of hyperparameter configurations to try\n",
    "    metric='roc_auc',              # Metric to optimize\n",
    "    categorical_feature_indices=[0, 2],  # Categorical features\n",
    "    random_state=42                 # For reproducibility\n",
    ")\n",
    "\n",
    "# Fit will automatically find the best hyperparameters\n",
    "tuned_clf.fit(X_train, y_train)\n",
    "\n",
    "# Use like any scikit-learn estimator\n",
    "y_pred = tuned_clf.predict(X_test)"
   ]
  },
  {
   "cell_type": "code",
   "execution_count": 25,
   "id": "8970416a",
   "metadata": {},
   "outputs": [
    {
     "name": "stderr",
     "output_type": "stream",
     "text": [
      "C:\\Users\\Hovsep\\AppData\\Roaming\\mamba\\envs\\tabpfn\\lib\\site-packages\\tabpfn\\classifier.py:431: UserWarning: Running on CPU with more than 200 samples may be slow.\n",
      "Consider using a GPU or the tabpfn-client API: https://github.com/PriorLabs/tabpfn-client\n",
      "  check_cpu_warning(self.device, X)\n"
     ]
    },
    {
     "data": {
      "text/plain": [
       "array([[0.73074007, 0.26925993],\n",
       "       [0.8795687 , 0.1204313 ],\n",
       "       [0.88711888, 0.11288112],\n",
       "       [0.93638292, 0.06361708],\n",
       "       [0.86568275, 0.13431725],\n",
       "       [0.88322412, 0.11677588],\n",
       "       [0.87651786, 0.12348214],\n",
       "       [0.40098746, 0.59901254],\n",
       "       [0.83786645, 0.16213355],\n",
       "       [0.8866648 , 0.1133352 ],\n",
       "       [0.89190365, 0.10809635],\n",
       "       [0.8335162 , 0.1664838 ],\n",
       "       [0.8518206 , 0.1481794 ],\n",
       "       [0.92616078, 0.07383922],\n",
       "       [0.61038816, 0.38961184],\n",
       "       [0.8934478 , 0.1065522 ],\n",
       "       [0.86036568, 0.13963432],\n",
       "       [0.85813031, 0.14186969],\n",
       "       [0.85381824, 0.14618176],\n",
       "       [0.64784149, 0.35215851],\n",
       "       [0.89268423, 0.10731577],\n",
       "       [0.64605457, 0.35394543],\n",
       "       [0.88978739, 0.11021261],\n",
       "       [0.47542359, 0.52457641],\n",
       "       [0.89107564, 0.10892436],\n",
       "       [0.88750876, 0.11249124],\n",
       "       [0.90212709, 0.09787291],\n",
       "       [0.91504431, 0.08495569],\n",
       "       [0.87895426, 0.12104574],\n",
       "       [0.85724623, 0.14275377],\n",
       "       [0.87263526, 0.12736474],\n",
       "       [0.86547634, 0.13452366],\n",
       "       [0.86268887, 0.13731113],\n",
       "       [0.78860731, 0.21139269],\n",
       "       [0.44534859, 0.55465141],\n",
       "       [0.91162387, 0.08837613],\n",
       "       [0.86464681, 0.13535319],\n",
       "       [0.86156823, 0.13843177],\n",
       "       [0.85548478, 0.14451522],\n",
       "       [0.87092816, 0.12907184],\n",
       "       [0.91681252, 0.08318748],\n",
       "       [0.90466338, 0.09533662],\n",
       "       [0.82051539, 0.17948461],\n",
       "       [0.88007346, 0.11992654],\n",
       "       [0.69544931, 0.30455069],\n",
       "       [0.85607649, 0.14392351],\n",
       "       [0.85776073, 0.14223927],\n",
       "       [0.85798323, 0.14201677],\n",
       "       [0.86535252, 0.13464748],\n",
       "       [0.8655211 , 0.1344789 ],\n",
       "       [0.73825347, 0.26174653],\n",
       "       [0.50637035, 0.49362965],\n",
       "       [0.87719574, 0.12280426],\n",
       "       [0.85777727, 0.14222273],\n",
       "       [0.93074028, 0.06925972],\n",
       "       [0.90342734, 0.09657266],\n",
       "       [0.88818836, 0.11181164],\n",
       "       [0.84744487, 0.15255513],\n",
       "       [0.85458902, 0.14541098],\n",
       "       [0.85312876, 0.14687124],\n",
       "       [0.87759189, 0.12240811],\n",
       "       [0.51484931, 0.48515069],\n",
       "       [0.41242611, 0.58757389],\n",
       "       [0.9003529 , 0.0996471 ],\n",
       "       [0.6500239 , 0.3499761 ],\n",
       "       [0.52147969, 0.47852031],\n",
       "       [0.88393758, 0.11606242],\n",
       "       [0.87685887, 0.12314113],\n",
       "       [0.85753371, 0.14246629],\n",
       "       [0.86410654, 0.13589346],\n",
       "       [0.89587504, 0.10412496],\n",
       "       [0.86229037, 0.13770963],\n",
       "       [0.8959543 , 0.1040457 ],\n",
       "       [0.85448414, 0.14551586],\n",
       "       [0.37793751, 0.62206249],\n",
       "       [0.86799923, 0.13200077],\n",
       "       [0.86192456, 0.13807544],\n",
       "       [0.89160788, 0.10839212],\n",
       "       [0.89508724, 0.10491276],\n",
       "       [0.70298799, 0.29701201],\n",
       "       [0.8810496 , 0.1189504 ],\n",
       "       [0.44573935, 0.55426065],\n",
       "       [0.88275434, 0.11724566],\n",
       "       [0.521356  , 0.478644  ],\n",
       "       [0.41943914, 0.58056086],\n",
       "       [0.88867912, 0.11132088],\n",
       "       [0.85233514, 0.14766486],\n",
       "       [0.89846171, 0.10153829],\n",
       "       [0.86383426, 0.13616574],\n",
       "       [0.41502778, 0.58497222],\n",
       "       [0.88771124, 0.11228876],\n",
       "       [0.48899438, 0.51100562],\n",
       "       [0.88458927, 0.11541073],\n",
       "       [0.88255148, 0.11744852],\n",
       "       [0.86431195, 0.13568805],\n",
       "       [0.81276544, 0.18723456],\n",
       "       [0.8571027 , 0.1428973 ],\n",
       "       [0.88521028, 0.11478972],\n",
       "       [0.83338622, 0.16661378],\n",
       "       [0.61915344, 0.38084656],\n",
       "       [0.88266987, 0.11733013],\n",
       "       [0.74794662, 0.25205338],\n",
       "       [0.88708453, 0.11291547],\n",
       "       [0.86268406, 0.13731594],\n",
       "       [0.84572992, 0.15427008],\n",
       "       [0.85231479, 0.14768521],\n",
       "       [0.91595174, 0.08404826],\n",
       "       [0.87144265, 0.12855735],\n",
       "       [0.87148527, 0.12851473],\n",
       "       [0.64840418, 0.35159582],\n",
       "       [0.69632445, 0.30367555],\n",
       "       [0.85402446, 0.14597554],\n",
       "       [0.7423051 , 0.2576949 ],\n",
       "       [0.46259223, 0.53740777],\n",
       "       [0.84880955, 0.15119045],\n",
       "       [0.87846031, 0.12153969],\n",
       "       [0.85536814, 0.14463186],\n",
       "       [0.85235365, 0.14764635],\n",
       "       [0.91557513, 0.08442487],\n",
       "       [0.6545773 , 0.3454227 ],\n",
       "       [0.8574994 , 0.1425006 ],\n",
       "       [0.83793208, 0.16206792],\n",
       "       [0.6789965 , 0.3210035 ],\n",
       "       [0.88500694, 0.11499306],\n",
       "       [0.90961819, 0.09038181],\n",
       "       [0.87831442, 0.12168558],\n",
       "       [0.87198148, 0.12801852],\n",
       "       [0.86727452, 0.13272548],\n",
       "       [0.85937707, 0.14062293],\n",
       "       [0.90407843, 0.09592157],\n",
       "       [0.89041051, 0.10958949],\n",
       "       [0.78986139, 0.21013861],\n",
       "       [0.85724707, 0.14275293],\n",
       "       [0.87575885, 0.12424115],\n",
       "       [0.86304396, 0.13695604],\n",
       "       [0.92349993, 0.07650007],\n",
       "       [0.39062041, 0.60937959],\n",
       "       [0.83956185, 0.16043815],\n",
       "       [0.86218047, 0.13781953],\n",
       "       [0.87182933, 0.12817067],\n",
       "       [0.82853997, 0.17146003],\n",
       "       [0.86635723, 0.13364277],\n",
       "       [0.85378877, 0.14621123],\n",
       "       [0.89945471, 0.10054529],\n",
       "       [0.88409783, 0.11590217],\n",
       "       [0.86217054, 0.13782946],\n",
       "       [0.86195943, 0.13804057],\n",
       "       [0.76548941, 0.23451059],\n",
       "       [0.83272967, 0.16727033],\n",
       "       [0.88855039, 0.11144961],\n",
       "       [0.88312445, 0.11687555],\n",
       "       [0.45892428, 0.54107572],\n",
       "       [0.88045222, 0.11954778],\n",
       "       [0.88103545, 0.11896455],\n",
       "       [0.87207609, 0.12792391],\n",
       "       [0.88716965, 0.11283035],\n",
       "       [0.90809237, 0.09190763],\n",
       "       [0.79098126, 0.20901874],\n",
       "       [0.87716269, 0.12283731],\n",
       "       [0.8677214 , 0.1322786 ],\n",
       "       [0.88654292, 0.11345708],\n",
       "       [0.88350737, 0.11649263],\n",
       "       [0.42109896, 0.57890104],\n",
       "       [0.88602267, 0.11397733],\n",
       "       [0.8652048 , 0.1347952 ],\n",
       "       [0.58220766, 0.41779234],\n",
       "       [0.87423597, 0.12576403],\n",
       "       [0.86847091, 0.13152909],\n",
       "       [0.851989  , 0.148011  ],\n",
       "       [0.87972587, 0.12027413],\n",
       "       [0.88155678, 0.11844322],\n",
       "       [0.86592135, 0.13407865],\n",
       "       [0.85928246, 0.14071754],\n",
       "       [0.62019801, 0.37980199],\n",
       "       [0.90396043, 0.09603957],\n",
       "       [0.66980342, 0.33019658],\n",
       "       [0.88735214, 0.11264786],\n",
       "       [0.52408573, 0.47591427],\n",
       "       [0.86447472, 0.13552528],\n",
       "       [0.8908092 , 0.1091908 ],\n",
       "       [0.84729358, 0.15270642],\n",
       "       [0.51500289, 0.48499711],\n",
       "       [0.89905477, 0.10094523],\n",
       "       [0.62182174, 0.37817826],\n",
       "       [0.90293669, 0.09706331],\n",
       "       [0.86448077, 0.13551923],\n",
       "       [0.85449411, 0.14550589],\n",
       "       [0.69879236, 0.30120764],\n",
       "       [0.87679097, 0.12320903],\n",
       "       [0.4256693 , 0.5743307 ],\n",
       "       [0.88605624, 0.11394376],\n",
       "       [0.88327358, 0.11672642],\n",
       "       [0.85999763, 0.14000237],\n",
       "       [0.60919185, 0.39080815],\n",
       "       [0.81986752, 0.18013248],\n",
       "       [0.88404346, 0.11595654],\n",
       "       [0.63100356, 0.36899644],\n",
       "       [0.86700322, 0.13299678],\n",
       "       [0.45644935, 0.54355065],\n",
       "       [0.85754155, 0.14245845],\n",
       "       [0.86234972, 0.13765028],\n",
       "       [0.87408472, 0.12591528],\n",
       "       [0.86782351, 0.13217649],\n",
       "       [0.80881498, 0.19118502],\n",
       "       [0.39817743, 0.60182257],\n",
       "       [0.85229524, 0.14770476],\n",
       "       [0.88359345, 0.11640655],\n",
       "       [0.85827902, 0.14172098],\n",
       "       [0.86618191, 0.13381809],\n",
       "       [0.87048507, 0.12951493],\n",
       "       [0.85114418, 0.14885582],\n",
       "       [0.87266356, 0.12733644],\n",
       "       [0.88120639, 0.11879361],\n",
       "       [0.80756755, 0.19243245],\n",
       "       [0.92887427, 0.07112573],\n",
       "       [0.85704398, 0.14295602],\n",
       "       [0.78268228, 0.21731772],\n",
       "       [0.86177266, 0.13822734],\n",
       "       [0.85155213, 0.14844787],\n",
       "       [0.80380938, 0.19619062],\n",
       "       [0.90812838, 0.09187162],\n",
       "       [0.87223229, 0.12776771],\n",
       "       [0.86233301, 0.13766699],\n",
       "       [0.86050657, 0.13949343],\n",
       "       [0.55844975, 0.44155025],\n",
       "       [0.86800808, 0.13199192],\n",
       "       [0.89411235, 0.10588765],\n",
       "       [0.85150013, 0.14849987],\n",
       "       [0.47070692, 0.52929308],\n",
       "       [0.85439223, 0.14560777],\n",
       "       [0.88444438, 0.11555562],\n",
       "       [0.64663269, 0.35336731],\n",
       "       [0.80015473, 0.19984527],\n",
       "       [0.51120479, 0.48879521],\n",
       "       [0.92313223, 0.07686777],\n",
       "       [0.50343996, 0.49656004],\n",
       "       [0.60145451, 0.39854549],\n",
       "       [0.85008358, 0.14991642],\n",
       "       [0.86427818, 0.13572182],\n",
       "       [0.69566544, 0.30433456],\n",
       "       [0.86223442, 0.13776558],\n",
       "       [0.86905077, 0.13094923],\n",
       "       [0.84817997, 0.15182003],\n",
       "       [0.87446741, 0.12553259],\n",
       "       [0.89649504, 0.10350496],\n",
       "       [0.6483238 , 0.3516762 ],\n",
       "       [0.88012712, 0.11987288],\n",
       "       [0.86683519, 0.13316481],\n",
       "       [0.85382344, 0.14617656],\n",
       "       [0.527752  , 0.472248  ],\n",
       "       [0.85614146, 0.14385854],\n",
       "       [0.82178332, 0.17821668],\n",
       "       [0.85573796, 0.14426204],\n",
       "       [0.84118135, 0.15881865],\n",
       "       [0.88132961, 0.11867039],\n",
       "       [0.87845577, 0.12154423],\n",
       "       [0.89492081, 0.10507919],\n",
       "       [0.88317608, 0.11682392],\n",
       "       [0.89034088, 0.10965912],\n",
       "       [0.8614895 , 0.1385105 ],\n",
       "       [0.88343116, 0.11656884],\n",
       "       [0.85637077, 0.14362923],\n",
       "       [0.87944435, 0.12055565],\n",
       "       [0.84341514, 0.15658486],\n",
       "       [0.88071094, 0.11928906],\n",
       "       [0.88424912, 0.11575088],\n",
       "       [0.4162422 , 0.5837578 ],\n",
       "       [0.88090148, 0.11909852],\n",
       "       [0.86818104, 0.13181896],\n",
       "       [0.43292236, 0.56707764],\n",
       "       [0.86315783, 0.13684217],\n",
       "       [0.91260035, 0.08739965],\n",
       "       [0.89620787, 0.10379213],\n",
       "       [0.61164427, 0.38835573],\n",
       "       [0.89026703, 0.10973297],\n",
       "       [0.8893521 , 0.1106479 ],\n",
       "       [0.8851272 , 0.1148728 ],\n",
       "       [0.44900894, 0.55099106],\n",
       "       [0.88014685, 0.11985315],\n",
       "       [0.65204567, 0.34795433],\n",
       "       [0.89592424, 0.10407576],\n",
       "       [0.86843626, 0.13156374],\n",
       "       [0.87904839, 0.12095161],\n",
       "       [0.86479599, 0.13520401],\n",
       "       [0.68908415, 0.31091585],\n",
       "       [0.85170661, 0.14829339],\n",
       "       [0.87572593, 0.12427407],\n",
       "       [0.84362802, 0.15637198],\n",
       "       [0.85737966, 0.14262034],\n",
       "       [0.84808299, 0.15191701],\n",
       "       [0.86788776, 0.13211224],\n",
       "       [0.86859602, 0.13140398],\n",
       "       [0.57063615, 0.42936385],\n",
       "       [0.64998549, 0.35001451],\n",
       "       [0.38950018, 0.61049982],\n",
       "       [0.90069266, 0.09930734],\n",
       "       [0.83840237, 0.16159763],\n",
       "       [0.86381423, 0.13618577],\n",
       "       [0.85446184, 0.14553816],\n",
       "       [0.89219345, 0.10780655],\n",
       "       [0.6464799 , 0.3535201 ],\n",
       "       [0.8569127 , 0.1430873 ],\n",
       "       [0.85688406, 0.14311594],\n",
       "       [0.8769112 , 0.1230888 ],\n",
       "       [0.52590281, 0.47409719],\n",
       "       [0.84522102, 0.15477898],\n",
       "       [0.85941479, 0.14058521],\n",
       "       [0.88312623, 0.11687377],\n",
       "       [0.84842959, 0.15157041],\n",
       "       [0.89712395, 0.10287605],\n",
       "       [0.87746954, 0.12253046],\n",
       "       [0.8756097 , 0.1243903 ],\n",
       "       [0.87895487, 0.12104513],\n",
       "       [0.55293292, 0.44706708],\n",
       "       [0.87876521, 0.12123479],\n",
       "       [0.86909802, 0.13090198],\n",
       "       [0.50781585, 0.49218415],\n",
       "       [0.65024225, 0.34975775],\n",
       "       [0.88810336, 0.11189664],\n",
       "       [0.86305222, 0.13694778],\n",
       "       [0.64231765, 0.35768235],\n",
       "       [0.60611053, 0.39388947],\n",
       "       [0.85692992, 0.14307008],\n",
       "       [0.86438081, 0.13561919],\n",
       "       [0.84846996, 0.15153004],\n",
       "       [0.87261568, 0.12738432],\n",
       "       [0.82998881, 0.17001119],\n",
       "       [0.88074619, 0.11925381],\n",
       "       [0.86748239, 0.13251761],\n",
       "       [0.85799787, 0.14200213]])"
      ]
     },
     "execution_count": 25,
     "metadata": {},
     "output_type": "execute_result"
    }
   ],
   "source": [
    " tuned_clf.predict_proba(X_test)"
   ]
  },
  {
   "cell_type": "code",
   "execution_count": 14,
   "id": "61efa81a",
   "metadata": {},
   "outputs": [],
   "source": [
    "df_gmsc = pd.read_csv(r'C:\\Users\\Hovsep\\Desktop\\Hovsep\\German\\HU studies\\Semester 3\\Applied Predictive Analytics\\TABPFNCredit-APA25\\data\\pd\\01 kaggle_give me some credit\\gmsc.csv')"
   ]
  },
  {
   "cell_type": "code",
   "execution_count": 15,
   "id": "6ef982cc",
   "metadata": {},
   "outputs": [
    {
     "data": {
      "text/html": [
       "<div>\n",
       "<style scoped>\n",
       "    .dataframe tbody tr th:only-of-type {\n",
       "        vertical-align: middle;\n",
       "    }\n",
       "\n",
       "    .dataframe tbody tr th {\n",
       "        vertical-align: top;\n",
       "    }\n",
       "\n",
       "    .dataframe thead th {\n",
       "        text-align: right;\n",
       "    }\n",
       "</style>\n",
       "<table border=\"1\" class=\"dataframe\">\n",
       "  <thead>\n",
       "    <tr style=\"text-align: right;\">\n",
       "      <th></th>\n",
       "      <th>SeriousDlqin2yrs</th>\n",
       "      <th>RevolvingUtilizationOfUnsecuredLines</th>\n",
       "      <th>age</th>\n",
       "      <th>NumberOfTime30-59DaysPastDueNotWorse</th>\n",
       "      <th>DebtRatio</th>\n",
       "      <th>MonthlyIncome</th>\n",
       "      <th>NumberOfOpenCreditLinesAndLoans</th>\n",
       "      <th>NumberOfTimes90DaysLate</th>\n",
       "      <th>NumberRealEstateLoansOrLines</th>\n",
       "      <th>NumberOfTime60-89DaysPastDueNotWorse</th>\n",
       "      <th>NumberOfDependents</th>\n",
       "    </tr>\n",
       "  </thead>\n",
       "  <tbody>\n",
       "    <tr>\n",
       "      <th>0</th>\n",
       "      <td>1</td>\n",
       "      <td>0.766127</td>\n",
       "      <td>45</td>\n",
       "      <td>2</td>\n",
       "      <td>0.802982</td>\n",
       "      <td>9120.0</td>\n",
       "      <td>13</td>\n",
       "      <td>0</td>\n",
       "      <td>6</td>\n",
       "      <td>0</td>\n",
       "      <td>2.0</td>\n",
       "    </tr>\n",
       "    <tr>\n",
       "      <th>1</th>\n",
       "      <td>0</td>\n",
       "      <td>0.957151</td>\n",
       "      <td>40</td>\n",
       "      <td>0</td>\n",
       "      <td>0.121876</td>\n",
       "      <td>2600.0</td>\n",
       "      <td>4</td>\n",
       "      <td>0</td>\n",
       "      <td>0</td>\n",
       "      <td>0</td>\n",
       "      <td>1.0</td>\n",
       "    </tr>\n",
       "    <tr>\n",
       "      <th>2</th>\n",
       "      <td>0</td>\n",
       "      <td>0.658180</td>\n",
       "      <td>38</td>\n",
       "      <td>1</td>\n",
       "      <td>0.085113</td>\n",
       "      <td>3042.0</td>\n",
       "      <td>2</td>\n",
       "      <td>1</td>\n",
       "      <td>0</td>\n",
       "      <td>0</td>\n",
       "      <td>0.0</td>\n",
       "    </tr>\n",
       "    <tr>\n",
       "      <th>3</th>\n",
       "      <td>0</td>\n",
       "      <td>0.233810</td>\n",
       "      <td>30</td>\n",
       "      <td>0</td>\n",
       "      <td>0.036050</td>\n",
       "      <td>3300.0</td>\n",
       "      <td>5</td>\n",
       "      <td>0</td>\n",
       "      <td>0</td>\n",
       "      <td>0</td>\n",
       "      <td>0.0</td>\n",
       "    </tr>\n",
       "    <tr>\n",
       "      <th>4</th>\n",
       "      <td>0</td>\n",
       "      <td>0.907239</td>\n",
       "      <td>49</td>\n",
       "      <td>1</td>\n",
       "      <td>0.024926</td>\n",
       "      <td>63588.0</td>\n",
       "      <td>7</td>\n",
       "      <td>0</td>\n",
       "      <td>1</td>\n",
       "      <td>0</td>\n",
       "      <td>0.0</td>\n",
       "    </tr>\n",
       "    <tr>\n",
       "      <th>...</th>\n",
       "      <td>...</td>\n",
       "      <td>...</td>\n",
       "      <td>...</td>\n",
       "      <td>...</td>\n",
       "      <td>...</td>\n",
       "      <td>...</td>\n",
       "      <td>...</td>\n",
       "      <td>...</td>\n",
       "      <td>...</td>\n",
       "      <td>...</td>\n",
       "      <td>...</td>\n",
       "    </tr>\n",
       "    <tr>\n",
       "      <th>149995</th>\n",
       "      <td>0</td>\n",
       "      <td>0.040674</td>\n",
       "      <td>74</td>\n",
       "      <td>0</td>\n",
       "      <td>0.225131</td>\n",
       "      <td>2100.0</td>\n",
       "      <td>4</td>\n",
       "      <td>0</td>\n",
       "      <td>1</td>\n",
       "      <td>0</td>\n",
       "      <td>0.0</td>\n",
       "    </tr>\n",
       "    <tr>\n",
       "      <th>149996</th>\n",
       "      <td>0</td>\n",
       "      <td>0.299745</td>\n",
       "      <td>44</td>\n",
       "      <td>0</td>\n",
       "      <td>0.716562</td>\n",
       "      <td>5584.0</td>\n",
       "      <td>4</td>\n",
       "      <td>0</td>\n",
       "      <td>1</td>\n",
       "      <td>0</td>\n",
       "      <td>2.0</td>\n",
       "    </tr>\n",
       "    <tr>\n",
       "      <th>149997</th>\n",
       "      <td>0</td>\n",
       "      <td>0.246044</td>\n",
       "      <td>58</td>\n",
       "      <td>0</td>\n",
       "      <td>3870.000000</td>\n",
       "      <td>NaN</td>\n",
       "      <td>18</td>\n",
       "      <td>0</td>\n",
       "      <td>1</td>\n",
       "      <td>0</td>\n",
       "      <td>0.0</td>\n",
       "    </tr>\n",
       "    <tr>\n",
       "      <th>149998</th>\n",
       "      <td>0</td>\n",
       "      <td>0.000000</td>\n",
       "      <td>30</td>\n",
       "      <td>0</td>\n",
       "      <td>0.000000</td>\n",
       "      <td>5716.0</td>\n",
       "      <td>4</td>\n",
       "      <td>0</td>\n",
       "      <td>0</td>\n",
       "      <td>0</td>\n",
       "      <td>0.0</td>\n",
       "    </tr>\n",
       "    <tr>\n",
       "      <th>149999</th>\n",
       "      <td>0</td>\n",
       "      <td>0.850283</td>\n",
       "      <td>64</td>\n",
       "      <td>0</td>\n",
       "      <td>0.249908</td>\n",
       "      <td>8158.0</td>\n",
       "      <td>8</td>\n",
       "      <td>0</td>\n",
       "      <td>2</td>\n",
       "      <td>0</td>\n",
       "      <td>0.0</td>\n",
       "    </tr>\n",
       "  </tbody>\n",
       "</table>\n",
       "<p>150000 rows × 11 columns</p>\n",
       "</div>"
      ],
      "text/plain": [
       "        SeriousDlqin2yrs  RevolvingUtilizationOfUnsecuredLines  age  \\\n",
       "0                      1                              0.766127   45   \n",
       "1                      0                              0.957151   40   \n",
       "2                      0                              0.658180   38   \n",
       "3                      0                              0.233810   30   \n",
       "4                      0                              0.907239   49   \n",
       "...                  ...                                   ...  ...   \n",
       "149995                 0                              0.040674   74   \n",
       "149996                 0                              0.299745   44   \n",
       "149997                 0                              0.246044   58   \n",
       "149998                 0                              0.000000   30   \n",
       "149999                 0                              0.850283   64   \n",
       "\n",
       "        NumberOfTime30-59DaysPastDueNotWorse    DebtRatio  MonthlyIncome  \\\n",
       "0                                          2     0.802982         9120.0   \n",
       "1                                          0     0.121876         2600.0   \n",
       "2                                          1     0.085113         3042.0   \n",
       "3                                          0     0.036050         3300.0   \n",
       "4                                          1     0.024926        63588.0   \n",
       "...                                      ...          ...            ...   \n",
       "149995                                     0     0.225131         2100.0   \n",
       "149996                                     0     0.716562         5584.0   \n",
       "149997                                     0  3870.000000            NaN   \n",
       "149998                                     0     0.000000         5716.0   \n",
       "149999                                     0     0.249908         8158.0   \n",
       "\n",
       "        NumberOfOpenCreditLinesAndLoans  NumberOfTimes90DaysLate  \\\n",
       "0                                    13                        0   \n",
       "1                                     4                        0   \n",
       "2                                     2                        1   \n",
       "3                                     5                        0   \n",
       "4                                     7                        0   \n",
       "...                                 ...                      ...   \n",
       "149995                                4                        0   \n",
       "149996                                4                        0   \n",
       "149997                               18                        0   \n",
       "149998                                4                        0   \n",
       "149999                                8                        0   \n",
       "\n",
       "        NumberRealEstateLoansOrLines  NumberOfTime60-89DaysPastDueNotWorse  \\\n",
       "0                                  6                                     0   \n",
       "1                                  0                                     0   \n",
       "2                                  0                                     0   \n",
       "3                                  0                                     0   \n",
       "4                                  1                                     0   \n",
       "...                              ...                                   ...   \n",
       "149995                             1                                     0   \n",
       "149996                             1                                     0   \n",
       "149997                             1                                     0   \n",
       "149998                             0                                     0   \n",
       "149999                             2                                     0   \n",
       "\n",
       "        NumberOfDependents  \n",
       "0                      2.0  \n",
       "1                      1.0  \n",
       "2                      0.0  \n",
       "3                      0.0  \n",
       "4                      0.0  \n",
       "...                    ...  \n",
       "149995                 0.0  \n",
       "149996                 2.0  \n",
       "149997                 0.0  \n",
       "149998                 0.0  \n",
       "149999                 0.0  \n",
       "\n",
       "[150000 rows x 11 columns]"
      ]
     },
     "execution_count": 15,
     "metadata": {},
     "output_type": "execute_result"
    }
   ],
   "source": [
    "df_gmsc"
   ]
  },
  {
   "cell_type": "code",
   "execution_count": 17,
   "id": "6a1e8e20",
   "metadata": {},
   "outputs": [
    {
     "name": "stdout",
     "output_type": "stream",
     "text": [
      "01_gmsc preprocessed\n",
      "x shape:  (150000, 10)\n",
      "y shape:  (150000,)\n"
     ]
    }
   ],
   "source": [
    "def _preprocess_01_gmsc(_data: pd.DataFrame) -> tuple[np.ndarray, np.ndarray, list[str], list[str], list[str], list[int], list[int]]:\n",
    "\n",
    "    y = _data['SeriousDlqin2yrs'].values.astype(int)\n",
    "    x = _data.drop('SeriousDlqin2yrs', axis=1).values\n",
    "\n",
    "    cols = list(_data.drop('SeriousDlqin2yrs', axis=1).columns)\n",
    "\n",
    "    cols_cat = []\n",
    "    cols_num = cols\n",
    "\n",
    "    cols_cat_idx = []\n",
    "    cols_num_idx = list(range(len(cols)))\n",
    "\n",
    "    print(\"01_gmsc preprocessed\")\n",
    "    print(\"x shape: \", x.shape)\n",
    "    print(\"y shape: \", y.shape)\n",
    "\n",
    "    return x, y, cols, cols_cat, cols_num, cols_cat_idx, cols_num_idx\n",
    "\n",
    "x, y, cols, cols_cat, cols_num, cols_cat_idx, cols_num_idx = _preprocess_01_gmsc(df_gmsc)"
   ]
  },
  {
   "cell_type": "markdown",
   "id": "0e508571",
   "metadata": {},
   "source": [
    "### Introducing imbalance"
   ]
  },
  {
   "cell_type": "code",
   "execution_count": 7,
   "id": "f5b1f213",
   "metadata": {},
   "outputs": [],
   "source": [
    "import numpy as np\n",
    "\n",
    "def induce_class_imbalance(x, y, imbalance_ratio=0.1, random_state=0):\n",
    "    \"\"\"\n",
    "    Downsample the minority class to achieve a given class imbalance.\n",
    "\n",
    "    Parameters\n",
    "    ----------\n",
    "    x : np.ndarray\n",
    "        Feature matrix.\n",
    "    y : np.ndarray\n",
    "        Target vector (1D, integer or categorical).\n",
    "    imbalance_ratio : float\n",
    "        Desired ratio of minority class in the output data (e.g. 0.1 for 10%).\n",
    "    random_state : int\n",
    "        Random seed.\n",
    "\n",
    "    Returns\n",
    "    -------\n",
    "    x_new, y_new : np.ndarray\n",
    "        Feature matrix and labels with induced class imbalance.\n",
    "    \"\"\"\n",
    "\n",
    "    # Count class occurrences\n",
    "    unique, counts = np.unique(y, return_counts=True)\n",
    "    print(f\"[INFO] Class distribution BEFORE imbalance: {dict(zip(unique, counts))}\")\n",
    "\n",
    "    # Find majority and minority classes\n",
    "    class_counts = dict(zip(unique, counts))\n",
    "    majority_class = unique[np.argmax(counts)]\n",
    "    minority_class = unique[np.argmin(counts)]\n",
    "    print(f\"[INFO] Majority class: {majority_class}, Minority class: {minority_class}\")\n",
    "\n",
    "    idx_major = np.where(y == majority_class)[0]\n",
    "    idx_minor = np.where(y == minority_class)[0]\n",
    "    n_major = len(idx_major)\n",
    "\n",
    "    # Calculate how many minority samples to keep\n",
    "    n_minor_new = int(n_major * imbalance_ratio / (1 - imbalance_ratio))\n",
    "    n_minor_new = min(len(idx_minor), n_minor_new)\n",
    "    print(f\"[INFO] Will keep {n_minor_new} of {len(idx_minor)} minority samples (ratio {imbalance_ratio})\")\n",
    "\n",
    "    # Randomly sample minority indices\n",
    "    rng = np.random.RandomState(random_state)\n",
    "    idx_minor_sampled = rng.choice(idx_minor, size=n_minor_new, replace=False)\n",
    "\n",
    "    # Combine indices and shuffle\n",
    "    idx_combined = np.concatenate([idx_major, idx_minor_sampled])\n",
    "    rng.shuffle(idx_combined)\n",
    "\n",
    "    # Final data\n",
    "    x_new = x[idx_combined]\n",
    "    y_new = y[idx_combined]\n",
    "\n",
    "    # Print new distribution\n",
    "    unique_new, counts_new = np.unique(y_new, return_counts=True)\n",
    "    print(f\"[INFO] Class distribution AFTER imbalance: {dict(zip(unique_new, counts_new))}\")\n",
    "    print(f\"[INFO] Total samples: {len(y_new)}\\n\")\n",
    "    return x_new, y_new\n"
   ]
  },
  {
   "cell_type": "code",
   "execution_count": 10,
   "id": "dad77929",
   "metadata": {},
   "outputs": [
    {
     "name": "stdout",
     "output_type": "stream",
     "text": [
      "[INFO] Class distribution BEFORE imbalance: {0: 500, 1: 500}\n",
      "[INFO] Majority class: 0, Minority class: 0\n",
      "[INFO] Will keep 55 of 500 minority samples (ratio 0.1)\n",
      "[INFO] Class distribution AFTER imbalance: {0: 555}\n",
      "[INFO] Total samples: 555\n",
      "\n"
     ]
    }
   ],
   "source": [
    "x = np.random.randn(1000, 5)\n",
    "y = np.array([0]*500 + [1]*500)\n",
    "\n",
    "x_imb, y_imb = induce_class_imbalance(x, y, imbalance_ratio=0.1, random_state=42)\n"
   ]
  },
  {
   "cell_type": "code",
   "execution_count": 13,
   "id": "c22e9885",
   "metadata": {},
   "outputs": [
    {
     "name": "stdout",
     "output_type": "stream",
     "text": [
      "[INFO] Class distribution BEFORE imbalance: {0: 900, 1: 100}\n",
      "[INFO] Majority class: 0, Minority class: 1\n",
      "[INFO] Will keep 47 of 100 minority samples (ratio 0.05)\n",
      "[INFO] Class distribution AFTER imbalance: {0: 900, 1: 47}\n",
      "[INFO] Total samples: 947\n",
      "\n"
     ]
    }
   ],
   "source": [
    "x = np.random.randn(1000, 5)\n",
    "y = np.array([0]*900 + [1]*100)\n",
    "\n",
    "x_imb, y_imb = induce_class_imbalance(x, y, imbalance_ratio=0.05, random_state=42)\n"
   ]
  },
  {
   "cell_type": "code",
   "execution_count": 9,
   "id": "ae0db3da",
   "metadata": {},
   "outputs": [
    {
     "name": "stdout",
     "output_type": "stream",
     "text": [
      "[INFO] Class distribution BEFORE imbalance: {0: 900, 1: 100}\n",
      "[INFO] Majority class: 0, Minority class: 1\n",
      "[INFO] Will keep 100 of 100 minority samples (ratio 0.1)\n",
      "[INFO] Class distribution AFTER imbalance: {0: 900, 1: 100}\n",
      "[INFO] Total samples: 1000\n",
      "\n",
      "Class 0: 900 Class 1: 100\n"
     ]
    }
   ],
   "source": [
    "\n"
   ]
  },
  {
   "cell_type": "code",
   "execution_count": 18,
   "id": "e0312145",
   "metadata": {},
   "outputs": [],
   "source": [
    "from collections import Counter\n",
    "from imblearn.over_sampling import SMOTE\n",
    "\n",
    "\n",
    "def _introduce_class_imbalance(x, y, imbalance_ratio=0.1, random_state=0):\n",
    "    \"\"\"\n",
    "    Create artificial class imbalance in the dataset. Downsamples or oversamples\n",
    "    the minority class to reach the desired imbalance ratio.\n",
    "\n",
    "    Parameters\n",
    "    ----------\n",
    "    x : np.ndarray\n",
    "        Feature matrix.\n",
    "    y : np.ndarray\n",
    "        Target vector.\n",
    "    imbalance_ratio : float\n",
    "        Desired minority class ratio (e.g., 0.1 for 10% minority).\n",
    "    random_state : int\n",
    "        Random seed.\n",
    "\n",
    "    Returns\n",
    "    -------\n",
    "    x_new, y_new : np.ndarray\n",
    "        New dataset with induced class imbalance.\n",
    "    \"\"\"\n",
    "    unique, counts = np.unique(y, return_counts=True)\n",
    "    print(f\"Class distribution BEFORE imbalance: {dict(zip(unique, counts))}\")\n",
    "\n",
    "    # Identify majority and minority classes\n",
    "    class_counts = dict(zip(unique, counts))\n",
    "    majority_class = unique[np.argmax(counts)]\n",
    "    minority_class = unique[np.argmin(counts)]\n",
    "    idx_major = np.where(y == majority_class)[0]\n",
    "    idx_minor = np.where(y == minority_class)[0]\n",
    "\n",
    "    current_ratio = len(idx_minor) / (len(idx_major) + len(idx_minor))\n",
    "    print(f\"Current minority ratio: {current_ratio:.4f}, Desired: {imbalance_ratio}\")\n",
    "\n",
    "    rng = np.random.RandomState(random_state)\n",
    "\n",
    "    # CASE 1: UNDERSAMPLING (if desired ratio < current)\n",
    "    if imbalance_ratio < current_ratio:\n",
    "        n_major = len(idx_major)\n",
    "        n_minor_new = int(n_major * imbalance_ratio / (1 - imbalance_ratio))\n",
    "        n_minor_new = min(len(idx_minor), n_minor_new)\n",
    "\n",
    "        idx_minor_sampled = rng.choice(idx_minor, size=n_minor_new, replace=False)\n",
    "        idx_combined = np.concatenate([idx_major, idx_minor_sampled])\n",
    "        rng.shuffle(idx_combined)\n",
    "        x_new, y_new = x[idx_combined], y[idx_combined]\n",
    "\n",
    "    # CASE 2: OVERSAMPLING (if desired ratio > current)\n",
    "    else:\n",
    "        # Use SMOTE or other oversampler to create synthetic minority points\n",
    "        smote = SMOTE(sampling_strategy=imbalance_ratio, random_state=random_state)\n",
    "        x_new, y_new = smote.fit_resample(x, y)\n",
    "\n",
    "    # Log final distribution\n",
    "    final_counts = dict(Counter(y_new))\n",
    "    print(f\"Class distribution AFTER imbalance: {final_counts}\")\n",
    "    print(f\"Total samples: {len(y_new)}\\n\")\n",
    "    return x_new, y_new\n"
   ]
  },
  {
   "cell_type": "code",
   "execution_count": 21,
   "id": "f8c78e36",
   "metadata": {},
   "outputs": [
    {
     "name": "stdout",
     "output_type": "stream",
     "text": [
      "Class distribution BEFORE imbalance: {0: 1500, 1: 100}\n",
      "Current minority ratio: 0.0625, Desired: 0.1\n",
      "Class distribution AFTER imbalance: {0: 1500, 1: 150}\n",
      "Total samples: 1650\n",
      "\n",
      "Class 0: 1500 Class 1: 150\n"
     ]
    }
   ],
   "source": [
    "x = np.random.randn(1600, 10)\n",
    "y = np.array([0]*1500 + [1]*100)\n",
    "x_imb, y_imb = _introduce_class_imbalance(x, y, imbalance_ratio=0.1)\n",
    "print('Class 0:', np.sum(y_imb == 0), 'Class 1:', np.sum(y_imb == 1))\n",
    "\n"
   ]
  },
  {
   "cell_type": "code",
   "execution_count": null,
   "id": "396dc4f7",
   "metadata": {},
   "outputs": [],
   "source": []
  }
 ],
 "metadata": {
  "kernelspec": {
   "display_name": "Python (tabpfn)",
   "language": "python",
   "name": "tabpfn"
  },
  "language_info": {
   "codemirror_mode": {
    "name": "ipython",
    "version": 3
   },
   "file_extension": ".py",
   "mimetype": "text/x-python",
   "name": "python",
   "nbconvert_exporter": "python",
   "pygments_lexer": "ipython3",
   "version": "3.10.16"
  }
 },
 "nbformat": 4,
 "nbformat_minor": 5
}
