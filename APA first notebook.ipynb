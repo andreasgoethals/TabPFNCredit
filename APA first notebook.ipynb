{
 "cells": [
  {
   "cell_type": "code",
   "execution_count": 1,
   "id": "598c95d8",
   "metadata": {
    "ExecuteTime": {
     "end_time": "2025-05-27T08:25:34.448587Z",
     "start_time": "2025-05-27T08:25:34.430990Z"
    }
   },
   "outputs": [
    {
     "ename": "SystemError",
     "evalue": "GPU device not found. For fast training, please enable GPU. See section above for instructions.",
     "output_type": "error",
     "traceback": [
      "\u001b[1;31m---------------------------------------------------------------------------\u001b[0m",
      "\u001b[1;31mSystemError\u001b[0m                               Traceback (most recent call last)",
      "Cell \u001b[1;32mIn[1], line 42\u001b[0m\n\u001b[0;32m     39\u001b[0m \u001b[38;5;28;01mfrom\u001b[39;00m\u001b[38;5;250m \u001b[39m\u001b[38;5;21;01mtabpfn_extensions\u001b[39;00m\u001b[38;5;21;01m.\u001b[39;00m\u001b[38;5;21;01mpost_hoc_ensembles\u001b[39;00m\u001b[38;5;21;01m.\u001b[39;00m\u001b[38;5;21;01msklearn_interface\u001b[39;00m\u001b[38;5;250m \u001b[39m\u001b[38;5;28;01mimport\u001b[39;00m AutoTabPFNClassifier, AutoTabPFNRegressor\n\u001b[0;32m     41\u001b[0m \u001b[38;5;28;01mif\u001b[39;00m \u001b[38;5;129;01mnot\u001b[39;00m torch\u001b[38;5;241m.\u001b[39mmps\u001b[38;5;241m.\u001b[39mis_available():\n\u001b[1;32m---> 42\u001b[0m     \u001b[38;5;28;01mraise\u001b[39;00m \u001b[38;5;167;01mSystemError\u001b[39;00m(\u001b[38;5;124m'\u001b[39m\u001b[38;5;124mGPU device not found. For fast training, please enable GPU. See section above for instructions.\u001b[39m\u001b[38;5;124m'\u001b[39m)\n",
      "\u001b[1;31mSystemError\u001b[0m: GPU device not found. For fast training, please enable GPU. See section above for instructions."
     ]
    }
   ],
   "source": [
    "import os\n",
    "\n",
    "# Setup Imports\n",
    "import pandas as pd\n",
    "import numpy as np\n",
    "\n",
    "from sklearn.datasets import load_breast_cancer, load_diabetes, load_iris\n",
    "from sklearn.model_selection import train_test_split\n",
    "from sklearn.model_selection import cross_val_score\n",
    "from sklearn.model_selection import KFold\n",
    "from sklearn.metrics import (\n",
    "    accuracy_score,\n",
    "    mean_absolute_error,\n",
    "    mean_squared_error,\n",
    "    root_mean_squared_error,\n",
    "    r2_score,\n",
    "    roc_auc_score,\n",
    ")\n",
    "from sklearn.model_selection import train_test_split\n",
    "\n",
    "import matplotlib.pyplot as plt\n",
    "from matplotlib.colors import ListedColormap\n",
    "from sklearn.inspection import DecisionBoundaryDisplay\n",
    "\n",
    "from sklearn.datasets import fetch_openml\n",
    "from sklearn.preprocessing import LabelEncoder\n",
    "from IPython.display import display, Markdown, Latex\n",
    "\n",
    "# Baseline Imports\n",
    "from xgboost import XGBClassifier, XGBRegressor\n",
    "from sklearn.ensemble import RandomForestClassifier, RandomForestRegressor\n",
    "from catboost import CatBoostClassifier, CatBoostRegressor\n",
    "\n",
    "import torch\n",
    "\n",
    "import time\n",
    "\n",
    "from tabpfn import TabPFNClassifier, TabPFNRegressor\n",
    "from tabpfn_extensions.post_hoc_ensembles.sklearn_interface import AutoTabPFNClassifier, AutoTabPFNRegressor\n",
    "\n",
    "if not torch.mps.is_available():\n",
    "    raise SystemError('GPU device not found. For fast training, please enable GPU. See section above for instructions.')"
   ]
  },
  {
   "cell_type": "code",
   "execution_count": 2,
   "id": "72bb6d64",
   "metadata": {
    "ExecuteTime": {
     "end_time": "2025-05-27T08:25:35.862155Z",
     "start_time": "2025-05-27T08:25:35.828010Z"
    }
   },
   "outputs": [],
   "source": [
    "df = pd.read_csv(r'C:\\Users\\Hovsep\\Desktop\\Hovsep\\German\\HU studies\\Semester 3\\Applied Predictive Analytics\\TABPFNCredit-APA25\\data\\pd\\02 taiwan creditcard\\taiwan_creditcard.csv')"
   ]
  },
  {
   "cell_type": "code",
   "execution_count": 3,
   "id": "f93abafd",
   "metadata": {
    "ExecuteTime": {
     "end_time": "2025-05-27T08:25:41.256710Z",
     "start_time": "2025-05-27T08:25:41.246816Z"
    }
   },
   "outputs": [
    {
     "name": "stdout",
     "output_type": "stream",
     "text": [
      "02_taiwan_creditcard preprocessed\n",
      "x shape:  (30000, 23)\n",
      "y shape:  (30000,)\n"
     ]
    }
   ],
   "source": [
    "def _preprocess_02_taiwan_creditcard(_data):\n",
    "\n",
    "    # Drop ID and useless columns\n",
    "    _data = _data.drop('ID', axis=1)\n",
    "\n",
    "    # Transform\n",
    "    _data['SEX'] = _data['SEX'].replace({'2': 1, '1': 0})\n",
    "\n",
    "    # Split into covariates, labels\n",
    "    y = _data['default.payment.next.month'].values.astype(int)\n",
    "    x = _data.drop('default.payment.next.month', axis=1).values\n",
    "\n",
    "    cols = list(_data.drop('default.payment.next.month', axis=1).columns)\n",
    "\n",
    "    cols_cat = []\n",
    "    cols_num = cols\n",
    "\n",
    "    cols_cat_idx = [cols.index(col) for col in cols_cat if col in cols]\n",
    "    cols_num_idx = [cols.index(col) for col in cols_num if col in cols]\n",
    "\n",
    "    print(\"02_taiwan_creditcard preprocessed\")\n",
    "    print(\"x shape: \", x.shape)\n",
    "    print(\"y shape: \", y.shape)\n",
    "\n",
    "    return x, y, cols, cols_cat, cols_num, cols_cat_idx, cols_num_idx\n",
    "\n",
    "X, y, cols, cols_cat, cols_num, cols_cat_idx, cols_num_idx = _preprocess_02_taiwan_creditcard(df)"
   ]
  },
  {
   "cell_type": "code",
   "execution_count": 4,
   "id": "9346bfe3",
   "metadata": {},
   "outputs": [],
   "source": [
    "X = X[:1000]\n",
    "y = y[:1000]"
   ]
  },
  {
   "cell_type": "code",
   "execution_count": 5,
   "id": "4414aaf6",
   "metadata": {
    "ExecuteTime": {
     "end_time": "2025-05-27T08:25:43.446510Z",
     "start_time": "2025-05-27T08:25:43.441222Z"
    }
   },
   "outputs": [],
   "source": [
    "X_train, X_test, y_train, y_test = train_test_split(X, y, test_size=0.33, random_state=42)"
   ]
  },
  {
   "cell_type": "code",
   "execution_count": 9,
   "id": "b249e253",
   "metadata": {
    "ExecuteTime": {
     "end_time": "2025-05-27T08:25:46.725139Z",
     "start_time": "2025-05-27T08:25:46.721408Z"
    }
   },
   "outputs": [],
   "source": [
    "from tabpfn_extensions.rf_pfn import (\n",
    "    RandomForestTabPFNClassifier,\n",
    "    RandomForestTabPFNRegressor,\n",
    ")\n",
    "\n",
    "from tabpfn_extensions import TabPFNClassifier, TabPFNRegressor\n",
    "\n",
    "# ----------------------------\n",
    "# Classification - Strategy 1: Random Forest Preprocessing\n",
    "# ----------------------------\n",
    "\n",
    "clf_base = TabPFNClassifier(\n",
    "    ignore_pretraining_limits=False,\n",
    "    inference_config = {\"SUBSAMPLE_SAMPLES\": 10000} # Needs to be set low so that not OOM on fitting intermediate nodes\n",
    ")\n",
    "\n",
    "tabpfn_tree_clf = RandomForestTabPFNClassifier(\n",
    "    tabpfn=clf_base,\n",
    "    verbose=1,\n",
    "    max_predict_time=60, # Will fit for one minute\n",
    "    fit_nodes=True, # Wheather or not to fit intermediate nodes\n",
    "    adaptive_tree=True, # Whather or not to validate if adding a leaf helps or not\n",
    "  )"
   ]
  },
  {
   "cell_type": "code",
   "execution_count": 10,
   "id": "31c700b3",
   "metadata": {},
   "outputs": [
    {
     "data": {
      "text/html": [
       "<style>#sk-container-id-1 {\n",
       "  /* Definition of color scheme common for light and dark mode */\n",
       "  --sklearn-color-text: black;\n",
       "  --sklearn-color-line: gray;\n",
       "  /* Definition of color scheme for unfitted estimators */\n",
       "  --sklearn-color-unfitted-level-0: #fff5e6;\n",
       "  --sklearn-color-unfitted-level-1: #f6e4d2;\n",
       "  --sklearn-color-unfitted-level-2: #ffe0b3;\n",
       "  --sklearn-color-unfitted-level-3: chocolate;\n",
       "  /* Definition of color scheme for fitted estimators */\n",
       "  --sklearn-color-fitted-level-0: #f0f8ff;\n",
       "  --sklearn-color-fitted-level-1: #d4ebff;\n",
       "  --sklearn-color-fitted-level-2: #b3dbfd;\n",
       "  --sklearn-color-fitted-level-3: cornflowerblue;\n",
       "\n",
       "  /* Specific color for light theme */\n",
       "  --sklearn-color-text-on-default-background: var(--sg-text-color, var(--theme-code-foreground, var(--jp-content-font-color1, black)));\n",
       "  --sklearn-color-background: var(--sg-background-color, var(--theme-background, var(--jp-layout-color0, white)));\n",
       "  --sklearn-color-border-box: var(--sg-text-color, var(--theme-code-foreground, var(--jp-content-font-color1, black)));\n",
       "  --sklearn-color-icon: #696969;\n",
       "\n",
       "  @media (prefers-color-scheme: dark) {\n",
       "    /* Redefinition of color scheme for dark theme */\n",
       "    --sklearn-color-text-on-default-background: var(--sg-text-color, var(--theme-code-foreground, var(--jp-content-font-color1, white)));\n",
       "    --sklearn-color-background: var(--sg-background-color, var(--theme-background, var(--jp-layout-color0, #111)));\n",
       "    --sklearn-color-border-box: var(--sg-text-color, var(--theme-code-foreground, var(--jp-content-font-color1, white)));\n",
       "    --sklearn-color-icon: #878787;\n",
       "  }\n",
       "}\n",
       "\n",
       "#sk-container-id-1 {\n",
       "  color: var(--sklearn-color-text);\n",
       "}\n",
       "\n",
       "#sk-container-id-1 pre {\n",
       "  padding: 0;\n",
       "}\n",
       "\n",
       "#sk-container-id-1 input.sk-hidden--visually {\n",
       "  border: 0;\n",
       "  clip: rect(1px 1px 1px 1px);\n",
       "  clip: rect(1px, 1px, 1px, 1px);\n",
       "  height: 1px;\n",
       "  margin: -1px;\n",
       "  overflow: hidden;\n",
       "  padding: 0;\n",
       "  position: absolute;\n",
       "  width: 1px;\n",
       "}\n",
       "\n",
       "#sk-container-id-1 div.sk-dashed-wrapped {\n",
       "  border: 1px dashed var(--sklearn-color-line);\n",
       "  margin: 0 0.4em 0.5em 0.4em;\n",
       "  box-sizing: border-box;\n",
       "  padding-bottom: 0.4em;\n",
       "  background-color: var(--sklearn-color-background);\n",
       "}\n",
       "\n",
       "#sk-container-id-1 div.sk-container {\n",
       "  /* jupyter's `normalize.less` sets `[hidden] { display: none; }`\n",
       "     but bootstrap.min.css set `[hidden] { display: none !important; }`\n",
       "     so we also need the `!important` here to be able to override the\n",
       "     default hidden behavior on the sphinx rendered scikit-learn.org.\n",
       "     See: https://github.com/scikit-learn/scikit-learn/issues/21755 */\n",
       "  display: inline-block !important;\n",
       "  position: relative;\n",
       "}\n",
       "\n",
       "#sk-container-id-1 div.sk-text-repr-fallback {\n",
       "  display: none;\n",
       "}\n",
       "\n",
       "div.sk-parallel-item,\n",
       "div.sk-serial,\n",
       "div.sk-item {\n",
       "  /* draw centered vertical line to link estimators */\n",
       "  background-image: linear-gradient(var(--sklearn-color-text-on-default-background), var(--sklearn-color-text-on-default-background));\n",
       "  background-size: 2px 100%;\n",
       "  background-repeat: no-repeat;\n",
       "  background-position: center center;\n",
       "}\n",
       "\n",
       "/* Parallel-specific style estimator block */\n",
       "\n",
       "#sk-container-id-1 div.sk-parallel-item::after {\n",
       "  content: \"\";\n",
       "  width: 100%;\n",
       "  border-bottom: 2px solid var(--sklearn-color-text-on-default-background);\n",
       "  flex-grow: 1;\n",
       "}\n",
       "\n",
       "#sk-container-id-1 div.sk-parallel {\n",
       "  display: flex;\n",
       "  align-items: stretch;\n",
       "  justify-content: center;\n",
       "  background-color: var(--sklearn-color-background);\n",
       "  position: relative;\n",
       "}\n",
       "\n",
       "#sk-container-id-1 div.sk-parallel-item {\n",
       "  display: flex;\n",
       "  flex-direction: column;\n",
       "}\n",
       "\n",
       "#sk-container-id-1 div.sk-parallel-item:first-child::after {\n",
       "  align-self: flex-end;\n",
       "  width: 50%;\n",
       "}\n",
       "\n",
       "#sk-container-id-1 div.sk-parallel-item:last-child::after {\n",
       "  align-self: flex-start;\n",
       "  width: 50%;\n",
       "}\n",
       "\n",
       "#sk-container-id-1 div.sk-parallel-item:only-child::after {\n",
       "  width: 0;\n",
       "}\n",
       "\n",
       "/* Serial-specific style estimator block */\n",
       "\n",
       "#sk-container-id-1 div.sk-serial {\n",
       "  display: flex;\n",
       "  flex-direction: column;\n",
       "  align-items: center;\n",
       "  background-color: var(--sklearn-color-background);\n",
       "  padding-right: 1em;\n",
       "  padding-left: 1em;\n",
       "}\n",
       "\n",
       "\n",
       "/* Toggleable style: style used for estimator/Pipeline/ColumnTransformer box that is\n",
       "clickable and can be expanded/collapsed.\n",
       "- Pipeline and ColumnTransformer use this feature and define the default style\n",
       "- Estimators will overwrite some part of the style using the `sk-estimator` class\n",
       "*/\n",
       "\n",
       "/* Pipeline and ColumnTransformer style (default) */\n",
       "\n",
       "#sk-container-id-1 div.sk-toggleable {\n",
       "  /* Default theme specific background. It is overwritten whether we have a\n",
       "  specific estimator or a Pipeline/ColumnTransformer */\n",
       "  background-color: var(--sklearn-color-background);\n",
       "}\n",
       "\n",
       "/* Toggleable label */\n",
       "#sk-container-id-1 label.sk-toggleable__label {\n",
       "  cursor: pointer;\n",
       "  display: block;\n",
       "  width: 100%;\n",
       "  margin-bottom: 0;\n",
       "  padding: 0.5em;\n",
       "  box-sizing: border-box;\n",
       "  text-align: center;\n",
       "}\n",
       "\n",
       "#sk-container-id-1 label.sk-toggleable__label-arrow:before {\n",
       "  /* Arrow on the left of the label */\n",
       "  content: \"▸\";\n",
       "  float: left;\n",
       "  margin-right: 0.25em;\n",
       "  color: var(--sklearn-color-icon);\n",
       "}\n",
       "\n",
       "#sk-container-id-1 label.sk-toggleable__label-arrow:hover:before {\n",
       "  color: var(--sklearn-color-text);\n",
       "}\n",
       "\n",
       "/* Toggleable content - dropdown */\n",
       "\n",
       "#sk-container-id-1 div.sk-toggleable__content {\n",
       "  max-height: 0;\n",
       "  max-width: 0;\n",
       "  overflow: hidden;\n",
       "  text-align: left;\n",
       "  /* unfitted */\n",
       "  background-color: var(--sklearn-color-unfitted-level-0);\n",
       "}\n",
       "\n",
       "#sk-container-id-1 div.sk-toggleable__content.fitted {\n",
       "  /* fitted */\n",
       "  background-color: var(--sklearn-color-fitted-level-0);\n",
       "}\n",
       "\n",
       "#sk-container-id-1 div.sk-toggleable__content pre {\n",
       "  margin: 0.2em;\n",
       "  border-radius: 0.25em;\n",
       "  color: var(--sklearn-color-text);\n",
       "  /* unfitted */\n",
       "  background-color: var(--sklearn-color-unfitted-level-0);\n",
       "}\n",
       "\n",
       "#sk-container-id-1 div.sk-toggleable__content.fitted pre {\n",
       "  /* unfitted */\n",
       "  background-color: var(--sklearn-color-fitted-level-0);\n",
       "}\n",
       "\n",
       "#sk-container-id-1 input.sk-toggleable__control:checked~div.sk-toggleable__content {\n",
       "  /* Expand drop-down */\n",
       "  max-height: 200px;\n",
       "  max-width: 100%;\n",
       "  overflow: auto;\n",
       "}\n",
       "\n",
       "#sk-container-id-1 input.sk-toggleable__control:checked~label.sk-toggleable__label-arrow:before {\n",
       "  content: \"▾\";\n",
       "}\n",
       "\n",
       "/* Pipeline/ColumnTransformer-specific style */\n",
       "\n",
       "#sk-container-id-1 div.sk-label input.sk-toggleable__control:checked~label.sk-toggleable__label {\n",
       "  color: var(--sklearn-color-text);\n",
       "  background-color: var(--sklearn-color-unfitted-level-2);\n",
       "}\n",
       "\n",
       "#sk-container-id-1 div.sk-label.fitted input.sk-toggleable__control:checked~label.sk-toggleable__label {\n",
       "  background-color: var(--sklearn-color-fitted-level-2);\n",
       "}\n",
       "\n",
       "/* Estimator-specific style */\n",
       "\n",
       "/* Colorize estimator box */\n",
       "#sk-container-id-1 div.sk-estimator input.sk-toggleable__control:checked~label.sk-toggleable__label {\n",
       "  /* unfitted */\n",
       "  background-color: var(--sklearn-color-unfitted-level-2);\n",
       "}\n",
       "\n",
       "#sk-container-id-1 div.sk-estimator.fitted input.sk-toggleable__control:checked~label.sk-toggleable__label {\n",
       "  /* fitted */\n",
       "  background-color: var(--sklearn-color-fitted-level-2);\n",
       "}\n",
       "\n",
       "#sk-container-id-1 div.sk-label label.sk-toggleable__label,\n",
       "#sk-container-id-1 div.sk-label label {\n",
       "  /* The background is the default theme color */\n",
       "  color: var(--sklearn-color-text-on-default-background);\n",
       "}\n",
       "\n",
       "/* On hover, darken the color of the background */\n",
       "#sk-container-id-1 div.sk-label:hover label.sk-toggleable__label {\n",
       "  color: var(--sklearn-color-text);\n",
       "  background-color: var(--sklearn-color-unfitted-level-2);\n",
       "}\n",
       "\n",
       "/* Label box, darken color on hover, fitted */\n",
       "#sk-container-id-1 div.sk-label.fitted:hover label.sk-toggleable__label.fitted {\n",
       "  color: var(--sklearn-color-text);\n",
       "  background-color: var(--sklearn-color-fitted-level-2);\n",
       "}\n",
       "\n",
       "/* Estimator label */\n",
       "\n",
       "#sk-container-id-1 div.sk-label label {\n",
       "  font-family: monospace;\n",
       "  font-weight: bold;\n",
       "  display: inline-block;\n",
       "  line-height: 1.2em;\n",
       "}\n",
       "\n",
       "#sk-container-id-1 div.sk-label-container {\n",
       "  text-align: center;\n",
       "}\n",
       "\n",
       "/* Estimator-specific */\n",
       "#sk-container-id-1 div.sk-estimator {\n",
       "  font-family: monospace;\n",
       "  border: 1px dotted var(--sklearn-color-border-box);\n",
       "  border-radius: 0.25em;\n",
       "  box-sizing: border-box;\n",
       "  margin-bottom: 0.5em;\n",
       "  /* unfitted */\n",
       "  background-color: var(--sklearn-color-unfitted-level-0);\n",
       "}\n",
       "\n",
       "#sk-container-id-1 div.sk-estimator.fitted {\n",
       "  /* fitted */\n",
       "  background-color: var(--sklearn-color-fitted-level-0);\n",
       "}\n",
       "\n",
       "/* on hover */\n",
       "#sk-container-id-1 div.sk-estimator:hover {\n",
       "  /* unfitted */\n",
       "  background-color: var(--sklearn-color-unfitted-level-2);\n",
       "}\n",
       "\n",
       "#sk-container-id-1 div.sk-estimator.fitted:hover {\n",
       "  /* fitted */\n",
       "  background-color: var(--sklearn-color-fitted-level-2);\n",
       "}\n",
       "\n",
       "/* Specification for estimator info (e.g. \"i\" and \"?\") */\n",
       "\n",
       "/* Common style for \"i\" and \"?\" */\n",
       "\n",
       ".sk-estimator-doc-link,\n",
       "a:link.sk-estimator-doc-link,\n",
       "a:visited.sk-estimator-doc-link {\n",
       "  float: right;\n",
       "  font-size: smaller;\n",
       "  line-height: 1em;\n",
       "  font-family: monospace;\n",
       "  background-color: var(--sklearn-color-background);\n",
       "  border-radius: 1em;\n",
       "  height: 1em;\n",
       "  width: 1em;\n",
       "  text-decoration: none !important;\n",
       "  margin-left: 1ex;\n",
       "  /* unfitted */\n",
       "  border: var(--sklearn-color-unfitted-level-1) 1pt solid;\n",
       "  color: var(--sklearn-color-unfitted-level-1);\n",
       "}\n",
       "\n",
       ".sk-estimator-doc-link.fitted,\n",
       "a:link.sk-estimator-doc-link.fitted,\n",
       "a:visited.sk-estimator-doc-link.fitted {\n",
       "  /* fitted */\n",
       "  border: var(--sklearn-color-fitted-level-1) 1pt solid;\n",
       "  color: var(--sklearn-color-fitted-level-1);\n",
       "}\n",
       "\n",
       "/* On hover */\n",
       "div.sk-estimator:hover .sk-estimator-doc-link:hover,\n",
       ".sk-estimator-doc-link:hover,\n",
       "div.sk-label-container:hover .sk-estimator-doc-link:hover,\n",
       ".sk-estimator-doc-link:hover {\n",
       "  /* unfitted */\n",
       "  background-color: var(--sklearn-color-unfitted-level-3);\n",
       "  color: var(--sklearn-color-background);\n",
       "  text-decoration: none;\n",
       "}\n",
       "\n",
       "div.sk-estimator.fitted:hover .sk-estimator-doc-link.fitted:hover,\n",
       ".sk-estimator-doc-link.fitted:hover,\n",
       "div.sk-label-container:hover .sk-estimator-doc-link.fitted:hover,\n",
       ".sk-estimator-doc-link.fitted:hover {\n",
       "  /* fitted */\n",
       "  background-color: var(--sklearn-color-fitted-level-3);\n",
       "  color: var(--sklearn-color-background);\n",
       "  text-decoration: none;\n",
       "}\n",
       "\n",
       "/* Span, style for the box shown on hovering the info icon */\n",
       ".sk-estimator-doc-link span {\n",
       "  display: none;\n",
       "  z-index: 9999;\n",
       "  position: relative;\n",
       "  font-weight: normal;\n",
       "  right: .2ex;\n",
       "  padding: .5ex;\n",
       "  margin: .5ex;\n",
       "  width: min-content;\n",
       "  min-width: 20ex;\n",
       "  max-width: 50ex;\n",
       "  color: var(--sklearn-color-text);\n",
       "  box-shadow: 2pt 2pt 4pt #999;\n",
       "  /* unfitted */\n",
       "  background: var(--sklearn-color-unfitted-level-0);\n",
       "  border: .5pt solid var(--sklearn-color-unfitted-level-3);\n",
       "}\n",
       "\n",
       ".sk-estimator-doc-link.fitted span {\n",
       "  /* fitted */\n",
       "  background: var(--sklearn-color-fitted-level-0);\n",
       "  border: var(--sklearn-color-fitted-level-3);\n",
       "}\n",
       "\n",
       ".sk-estimator-doc-link:hover span {\n",
       "  display: block;\n",
       "}\n",
       "\n",
       "/* \"?\"-specific style due to the `<a>` HTML tag */\n",
       "\n",
       "#sk-container-id-1 a.estimator_doc_link {\n",
       "  float: right;\n",
       "  font-size: 1rem;\n",
       "  line-height: 1em;\n",
       "  font-family: monospace;\n",
       "  background-color: var(--sklearn-color-background);\n",
       "  border-radius: 1rem;\n",
       "  height: 1rem;\n",
       "  width: 1rem;\n",
       "  text-decoration: none;\n",
       "  /* unfitted */\n",
       "  color: var(--sklearn-color-unfitted-level-1);\n",
       "  border: var(--sklearn-color-unfitted-level-1) 1pt solid;\n",
       "}\n",
       "\n",
       "#sk-container-id-1 a.estimator_doc_link.fitted {\n",
       "  /* fitted */\n",
       "  border: var(--sklearn-color-fitted-level-1) 1pt solid;\n",
       "  color: var(--sklearn-color-fitted-level-1);\n",
       "}\n",
       "\n",
       "/* On hover */\n",
       "#sk-container-id-1 a.estimator_doc_link:hover {\n",
       "  /* unfitted */\n",
       "  background-color: var(--sklearn-color-unfitted-level-3);\n",
       "  color: var(--sklearn-color-background);\n",
       "  text-decoration: none;\n",
       "}\n",
       "\n",
       "#sk-container-id-1 a.estimator_doc_link.fitted:hover {\n",
       "  /* fitted */\n",
       "  background-color: var(--sklearn-color-fitted-level-3);\n",
       "}\n",
       "</style><div id=\"sk-container-id-1\" class=\"sk-top-container\"><div class=\"sk-text-repr-fallback\"><pre>RandomForestTabPFNClassifier(tabpfn=TabPFNClassifier(inference_config={&#x27;SUBSAMPLE_SAMPLES&#x27;: 10000},\n",
       "                                                     random_state=None),\n",
       "                             verbose=1)</pre><b>In a Jupyter environment, please rerun this cell to show the HTML representation or trust the notebook. <br />On GitHub, the HTML representation is unable to render, please try loading this page with nbviewer.org.</b></div><div class=\"sk-container\" hidden><div class=\"sk-item sk-dashed-wrapped\"><div class=\"sk-label-container\"><div class=\"sk-label fitted sk-toggleable\"><input class=\"sk-toggleable__control sk-hidden--visually\" id=\"sk-estimator-id-1\" type=\"checkbox\" ><label for=\"sk-estimator-id-1\" class=\"sk-toggleable__label fitted sk-toggleable__label-arrow fitted\">&nbsp;RandomForestTabPFNClassifier<span class=\"sk-estimator-doc-link fitted\">i<span>Fitted</span></span></label><div class=\"sk-toggleable__content fitted\"><pre>RandomForestTabPFNClassifier(tabpfn=TabPFNClassifier(inference_config={&#x27;SUBSAMPLE_SAMPLES&#x27;: 10000},\n",
       "                                                     random_state=None),\n",
       "                             verbose=1)</pre></div> </div></div><div class=\"sk-parallel\"><div class=\"sk-parallel-item\"><div class=\"sk-item\"><div class=\"sk-label-container\"><div class=\"sk-label fitted sk-toggleable\"><input class=\"sk-toggleable__control sk-hidden--visually\" id=\"sk-estimator-id-2\" type=\"checkbox\" ><label for=\"sk-estimator-id-2\" class=\"sk-toggleable__label fitted sk-toggleable__label-arrow fitted\">tabpfn: TabPFNClassifier</label><div class=\"sk-toggleable__content fitted\"><pre>TabPFNClassifier(inference_config={&#x27;SUBSAMPLE_SAMPLES&#x27;: 10000},\n",
       "                 random_state=None)</pre></div> </div></div><div class=\"sk-serial\"><div class=\"sk-item\"><div class=\"sk-estimator fitted sk-toggleable\"><input class=\"sk-toggleable__control sk-hidden--visually\" id=\"sk-estimator-id-3\" type=\"checkbox\" ><label for=\"sk-estimator-id-3\" class=\"sk-toggleable__label fitted sk-toggleable__label-arrow fitted\">TabPFNClassifier</label><div class=\"sk-toggleable__content fitted\"><pre>TabPFNClassifier(inference_config={&#x27;SUBSAMPLE_SAMPLES&#x27;: 10000},\n",
       "                 random_state=None)</pre></div> </div></div></div></div></div></div></div></div></div>"
      ],
      "text/plain": [
       "RandomForestTabPFNClassifier(tabpfn=TabPFNClassifier(inference_config={'SUBSAMPLE_SAMPLES': 10000},\n",
       "                                                     random_state=None),\n",
       "                             verbose=1)"
      ]
     },
     "execution_count": 10,
     "metadata": {},
     "output_type": "execute_result"
    }
   ],
   "source": [
    "tabpfn_tree_clf.fit(X_train,y_train)"
   ]
  },
  {
   "cell_type": "code",
   "execution_count": 11,
   "id": "90cd54de",
   "metadata": {},
   "outputs": [
    {
     "data": {
      "text/plain": [
       "array([0.07903535, 0.1230707 , 0.02513363, 0.00589716, 0.06836648,\n",
       "       0.06620984, 0.01820143, 0.47830425, 0.12814349, 0.07878031,\n",
       "       0.05677329, 0.41242993, 0.08941906, 0.01570168, 0.40265445,\n",
       "       0.08840268, 0.1599634 , 0.27770404, 0.16345307, 0.13532064,\n",
       "       0.04651301, 0.81277463, 0.00799871, 0.35147816, 0.15027599,\n",
       "       0.00719767, 0.02434179, 0.03122396, 0.13516361, 0.12120839,\n",
       "       0.08556467, 0.04470438, 0.08925583, 0.25370464, 0.60698823,\n",
       "       0.03130528, 0.09252821, 0.18899533, 0.20827363, 0.0304418 ,\n",
       "       0.01453172, 0.0254864 , 0.23399847, 0.03920531, 0.06105586,\n",
       "       0.2223861 , 0.03439506, 0.35025249, 0.07297111, 0.47466789,\n",
       "       0.07366134, 0.32381161, 0.16230443, 0.04365281, 0.02895358,\n",
       "       0.01332006, 0.05073964, 0.34541762, 0.08630175, 0.35648618,\n",
       "       0.05534633, 0.6273648 , 0.35353452, 0.06971321, 0.11353923,\n",
       "       0.46219681, 0.04946558, 0.14746095, 0.1246255 , 0.11159707,\n",
       "       0.08279402, 0.15475707, 0.02684646, 0.07422115, 0.7835182 ,\n",
       "       0.28095931, 0.03973065, 0.06081528, 0.00902336, 0.29116935,\n",
       "       0.0192215 , 0.77790059, 0.02088171, 0.56984085, 0.67819226,\n",
       "       0.08495852, 0.08920995, 0.07465592, 0.20720798, 0.35483315,\n",
       "       0.01521728, 0.18948648, 0.01681563, 0.04679451, 0.08714807,\n",
       "       0.34048808, 0.27720817, 0.0358895 , 0.13901542, 0.04600682,\n",
       "       0.2278472 , 0.01839719, 0.03670817, 0.17512262, 0.47088093,\n",
       "       0.07337139, 0.01086573, 0.08790154, 0.06594814, 0.08073843,\n",
       "       0.65150219, 0.06942962, 0.09189203, 0.68792582, 0.29932435,\n",
       "       0.06392337, 0.08443541, 0.38443933, 0.01500536, 0.06925661,\n",
       "       0.23541981, 0.08769137, 0.26173194, 0.01202481, 0.01697434,\n",
       "       0.34333565, 0.10896757, 0.18942494, 0.04890517, 0.02563842,\n",
       "       0.10697014, 0.14306019, 0.09797571, 0.04723594, 0.07450454,\n",
       "       0.08367586, 0.62605254, 0.32566653, 0.59537397, 0.12018012,\n",
       "       0.07154963, 0.24367907, 0.03949375, 0.06796457, 0.08511617,\n",
       "       0.06549343, 0.20233965, 0.31359261, 0.15839136, 0.04955363,\n",
       "       0.04427273, 0.45989746, 0.05084656, 0.11772771, 0.068853  ,\n",
       "       0.07932464, 0.00862844, 0.06917156, 0.26221341, 0.04538903,\n",
       "       0.03091484, 0.0201631 , 0.23091517, 0.0481245 , 0.03283296,\n",
       "       0.39343572, 0.18185791, 0.10634387, 0.29282683, 0.11835905,\n",
       "       0.18228059, 0.01013366, 0.18149942, 0.35922122, 0.02503183,\n",
       "       0.26199128, 0.12655493, 0.6949294 , 0.103574  , 0.01741164,\n",
       "       0.13474895, 0.079482  , 0.01294247, 0.09917901, 0.06951582,\n",
       "       0.28550856, 0.22090723, 0.27704869, 0.12686527, 0.28084191,\n",
       "       0.02357491, 0.01365217, 0.23591344, 0.19524705, 0.16554011,\n",
       "       0.02651407, 0.21374777, 0.09134758, 0.24366698, 0.04179744,\n",
       "       0.08126585, 0.04188309, 0.01764465, 0.05063664, 0.62923982,\n",
       "       0.10416179, 0.04912045, 0.08802897, 0.19138603, 0.06613762,\n",
       "       0.16360151, 0.08524776, 0.09849454, 0.24577023, 0.02697489,\n",
       "       0.27501085, 0.11233726, 0.05249547, 0.42245162, 0.23562411,\n",
       "       0.03527034, 0.14993677, 0.07462987, 0.0308747 , 0.45646656,\n",
       "       0.07157334, 0.01294348, 0.0966362 , 0.63322467, 0.04592635,\n",
       "       0.06228748, 0.45787811, 0.08002829, 0.48140937, 0.01211862,\n",
       "       0.41557781, 0.13182637, 0.16021425, 0.04535804, 0.50788306,\n",
       "       0.01722559, 0.22154803, 0.03057312, 0.14615526, 0.09681647,\n",
       "       0.72924876, 0.0699493 , 0.09725054, 0.37566401, 0.68993789,\n",
       "       0.2020128 , 0.27922323, 0.17872425, 0.14857056, 0.0678598 ,\n",
       "       0.22371945, 0.04761017, 0.26596874, 0.03369358, 0.09147326,\n",
       "       0.05372017, 0.25295734, 0.10181992, 0.09098025, 0.03302494,\n",
       "       0.05913761, 0.74216586, 0.10576858, 0.01509692, 0.73072284,\n",
       "       0.03005111, 0.00676134, 0.23992981, 0.35660843, 0.037531  ,\n",
       "       0.03309755, 0.0239882 , 0.51559821, 0.13249459, 0.64093892,\n",
       "       0.04804605, 0.13635592, 0.0861705 , 0.07687936, 0.26606836,\n",
       "       0.20709739, 0.02265536, 0.0551593 , 0.28233097, 0.15570065,\n",
       "       0.15592767, 0.0082817 , 0.28546009, 0.24982861, 0.83187727,\n",
       "       0.08343772, 0.13457049, 0.12411349, 0.32117931, 0.01813757,\n",
       "       0.01795689, 0.08010251, 0.15392641, 0.08392187, 0.40068722,\n",
       "       0.08151227, 0.0332679 , 0.04627804, 0.14399482, 0.0479462 ,\n",
       "       0.0730601 , 0.05169968, 0.0204273 , 0.550969  , 0.18371627,\n",
       "       0.11091888, 0.37076557, 0.79696459, 0.07997357, 0.13264853,\n",
       "       0.87227284, 0.56879564, 0.09064537, 0.05545553, 0.11239855,\n",
       "       0.04304617, 0.10170075, 0.03118083, 0.02822927, 0.2636435 ])"
      ]
     },
     "execution_count": 11,
     "metadata": {},
     "output_type": "execute_result"
    }
   ],
   "source": [
    "tabpfn_tree_clf.predict_proba(X_test)[:,1]"
   ]
  },
  {
   "cell_type": "code",
   "execution_count": 7,
   "id": "fcbafe70",
   "metadata": {
    "ExecuteTime": {
     "end_time": "2025-05-27T08:25:51.634008Z",
     "start_time": "2025-05-27T08:25:51.630455Z"
    }
   },
   "outputs": [
    {
     "name": "stdout",
     "output_type": "stream",
     "text": [
      "\n",
      "--- Classification: Strategy 1 (Subsampled Ensemble) ---\n"
     ]
    }
   ],
   "source": [
    "# ----------------------------\n",
    "# Classification - Strategy 2: Subsampled Ensemble using TabPFNClassifier\n",
    "# ----------------------------\n",
    "print(\"\\n--- Classification: Strategy 1 (Subsampled Ensemble) ---\")\n",
    "tabpfn_subsample_clf = TabPFNClassifier(\n",
    "    ignore_pretraining_limits=True,  # (bool) Allows the use of datasets larger than pretraining limits.\n",
    "    n_estimators=32,                 # (int) Number of estimators for ensembling; improves accuracy with higher values.\n",
    "    inference_config={\n",
    "        \"SUBSAMPLE_SAMPLES\": 10000  # (int) Maximum number of samples per inference step to manage memory usage.\n",
    "    },\n",
    ")"
   ]
  },
  {
   "cell_type": "code",
   "execution_count": 8,
   "id": "5ea19edd",
   "metadata": {
    "ExecuteTime": {
     "end_time": "2025-05-27T09:43:50.587885Z",
     "start_time": "2025-05-27T08:25:56.577665Z"
    }
   },
   "outputs": [
    {
     "name": "stdout",
     "output_type": "stream",
     "text": [
      "\n",
      " Starting Training...\n",
      "\n",
      " Training done in 3.19 minutes.\n"
     ]
    }
   ],
   "source": [
    "# Compare different machine learning models by training each one multiple times\n",
    "# on different parts of the data and averaging their performance scores for a\n",
    "# more reliable performance estimate\n",
    "\n",
    "assert len(np.unique(y)) <= 10 # Is classification?\n",
    "\n",
    "print(\"\\n Starting Training...\")\n",
    "start_time = time.time()\n",
    "\n",
    "\n",
    "# Define models\n",
    "models_class = [\n",
    "    ('TabPFN RF', tabpfn_tree_clf),\n",
    "#     ('TabPFN Subsample', tabpfn_subsample_clf),\n",
    "#     ('XGBoost', XGBClassifier()),\n",
    "#     ('CatBoost', CatBoostClassifier(random_state=42, verbose=0)),\n",
    "#     ('RandomForest', RandomForestClassifier(random_state=42)),\n",
    "]\n",
    "\n",
    "# Calculate scores\n",
    "cv = KFold(random_state=42, n_splits=3, shuffle=True)\n",
    "scoring = 'roc_auc_ovr' if len(np.unique(y)) > 2 else 'roc_auc'\n",
    "scores_raw_class = {name: cross_val_score(model, X, y, cv=cv, scoring=scoring, verbose=1)\n",
    "          for name, model in models_class}\n",
    "scores_class = {name: scores_raw_class[name].mean()\n",
    "          for name, model in models_class}\n",
    "\n",
    "\n",
    "end_time = time.time()\n",
    "print(f\"\\n Training done in {(end_time - start_time)/60:.2f} minutes.\")"
   ]
  },
  {
   "cell_type": "code",
   "execution_count": null,
   "id": "1c33d952",
   "metadata": {},
   "outputs": [],
   "source": [
    "# Plot results\n",
    "df = pd.DataFrame(list(scores_class.items()), columns=['Model', 'ROC AUC'])\n",
    "colors = ['tab:blue' if 'RF' in name else ('tab:red' if 'sample' in name else 'tab:gray') for (name, _) in models_class]\n",
    "ax = df.plot(x='Model', y='ROC AUC', kind='bar', figsize=(10, 6), color=colors)\n",
    "ax.set_ylim(df['ROC AUC'].min() * 0.995, min(1.0, df['ROC AUC'].max() * 1.005))\n",
    "ax.set_title('Model Comparison - 5-fold Cross-validation')"
   ]
  },
  {
   "cell_type": "code",
   "execution_count": null,
   "id": "25d0539e",
   "metadata": {},
   "outputs": [],
   "source": []
  },
  {
   "cell_type": "code",
   "execution_count": 12,
   "id": "29d18f2b",
   "metadata": {
    "scrolled": true
   },
   "outputs": [
    {
     "name": "stdout",
     "output_type": "stream",
     "text": [
      "\r",
      "  0%|                                                                           | 0/50 [00:00<?, ?trial/s, best loss=?]"
     ]
    },
    {
     "name": "stderr",
     "output_type": "stream",
     "text": [
      "C:\\Users\\Hovsep\\AppData\\Roaming\\mamba\\envs\\tabpfn\\lib\\site-packages\\tabpfn\\base.py:89: UserWarning: Downloading model to C:\\Users\\Hovsep\\AppData\\Roaming\\mamba\\envs\\tabpfn\\Lib\\site-packages\\tabpfn_extensions\\hpo\\hpo_models\\tabpfn-v2-classifier-vutqq28w.ckpt.\n",
      "  model, _, config_ = load_model_criterion_config(\n",
      "\n",
      "C:\\Users\\Hovsep\\AppData\\Roaming\\mamba\\envs\\tabpfn\\lib\\site-packages\\tqdm\\auto.py:21: TqdmWarning: IProgress not found. Please update jupyter and ipywidgets. See https://ipywidgets.readthedocs.io/en/stable/user_install.html\n",
      "  from .autonotebook import tqdm as notebook_tqdm\n",
      "\n",
      "C:\\Users\\Hovsep\\AppData\\Roaming\\mamba\\envs\\tabpfn\\lib\\site-packages\\tabpfn\\classifier.py:431: UserWarning: Running on CPU with more than 200 samples may be slow.\n",
      "Consider using a GPU or the tabpfn-client API: https://github.com/PriorLabs/tabpfn-client\n",
      "  check_cpu_warning(self.device, X)\n",
      "\n",
      "C:\\Users\\Hovsep\\AppData\\Roaming\\mamba\\envs\\tabpfn\\lib\\site-packages\\sklearn\\preprocessing\\_encoders.py:242: UserWarning: Found unknown categories in columns [0] during transform. These unknown categories will be encoded as all zeros\n",
      "  warnings.warn(\n",
      "\n",
      "C:\\Users\\Hovsep\\AppData\\Roaming\\mamba\\envs\\tabpfn\\lib\\site-packages\\sklearn\\preprocessing\\_encoders.py:242: UserWarning: Found unknown categories in columns [0] during transform. These unknown categories will be encoded as all zeros\n",
      "  warnings.warn(\n",
      "\n",
      "C:\\Users\\Hovsep\\AppData\\Roaming\\mamba\\envs\\tabpfn\\lib\\site-packages\\sklearn\\preprocessing\\_encoders.py:242: UserWarning: Found unknown categories in columns [1] during transform. These unknown categories will be encoded as all zeros\n",
      "  warnings.warn(\n",
      "\n",
      "C:\\Users\\Hovsep\\AppData\\Roaming\\mamba\\envs\\tabpfn\\lib\\site-packages\\sklearn\\preprocessing\\_encoders.py:242: UserWarning: Found unknown categories in columns [0] during transform. These unknown categories will be encoded as all zeros\n",
      "  warnings.warn(\n",
      "\n",
      "C:\\Users\\Hovsep\\AppData\\Roaming\\mamba\\envs\\tabpfn\\lib\\site-packages\\tabpfn\\classifier.py:431: UserWarning: Running on CPU with more than 200 samples may be slow.\n",
      "Consider using a GPU or the tabpfn-client API: https://github.com/PriorLabs/tabpfn-client\n",
      "  check_cpu_warning(self.device, X)\n",
      "\n"
     ]
    },
    {
     "name": "stdout",
     "output_type": "stream",
     "text": [
      "\r",
      "  2%|▉                                             | 1/50 [01:30<1:13:59, 90.60s/trial, best loss: -0.8283582089552238]"
     ]
    },
    {
     "name": "stderr",
     "output_type": "stream",
     "text": [
      "C:\\Users\\Hovsep\\AppData\\Roaming\\mamba\\envs\\tabpfn\\lib\\site-packages\\tabpfn\\classifier.py:431: UserWarning: Running on CPU with more than 200 samples may be slow.\n",
      "Consider using a GPU or the tabpfn-client API: https://github.com/PriorLabs/tabpfn-client\n",
      "  check_cpu_warning(self.device, X)\n",
      "\n"
     ]
    },
    {
     "name": "stdout",
     "output_type": "stream",
     "text": [
      "\r",
      "  4%|█▉                                              | 2/50 [02:28<57:15, 71.58s/trial, best loss: -0.8283582089552238]"
     ]
    },
    {
     "name": "stderr",
     "output_type": "stream",
     "text": [
      "C:\\Users\\Hovsep\\AppData\\Roaming\\mamba\\envs\\tabpfn\\lib\\site-packages\\tabpfn\\classifier.py:431: UserWarning: Running on CPU with more than 200 samples may be slow.\n",
      "Consider using a GPU or the tabpfn-client API: https://github.com/PriorLabs/tabpfn-client\n",
      "  check_cpu_warning(self.device, X)\n",
      "\n"
     ]
    },
    {
     "name": "stdout",
     "output_type": "stream",
     "text": [
      "\r",
      "  6%|██▉                                             | 3/50 [03:12<46:12, 59.00s/trial, best loss: -0.8283582089552238]"
     ]
    },
    {
     "name": "stderr",
     "output_type": "stream",
     "text": [
      "C:\\Users\\Hovsep\\AppData\\Roaming\\mamba\\envs\\tabpfn\\lib\\site-packages\\tabpfn\\base.py:89: UserWarning: Downloading model to C:\\Users\\Hovsep\\AppData\\Roaming\\mamba\\envs\\tabpfn\\Lib\\site-packages\\tabpfn_extensions\\hpo\\hpo_models\\tabpfn-v2-classifier-llderlii.ckpt.\n",
      "  model, _, config_ = load_model_criterion_config(\n",
      "\n",
      "C:\\Users\\Hovsep\\AppData\\Roaming\\mamba\\envs\\tabpfn\\lib\\site-packages\\tabpfn\\classifier.py:431: UserWarning: Running on CPU with more than 200 samples may be slow.\n",
      "Consider using a GPU or the tabpfn-client API: https://github.com/PriorLabs/tabpfn-client\n",
      "  check_cpu_warning(self.device, X)\n",
      "\n",
      "C:\\Users\\Hovsep\\AppData\\Roaming\\mamba\\envs\\tabpfn\\lib\\site-packages\\tabpfn\\classifier.py:431: UserWarning: Running on CPU with more than 200 samples may be slow.\n",
      "Consider using a GPU or the tabpfn-client API: https://github.com/PriorLabs/tabpfn-client\n",
      "  check_cpu_warning(self.device, X)\n",
      "\n"
     ]
    },
    {
     "name": "stdout",
     "output_type": "stream",
     "text": [
      "\r",
      "  8%|███▉                                             | 4/50 [04:20<47:52, 62.46s/trial, best loss: -0.835820895522388]"
     ]
    },
    {
     "name": "stderr",
     "output_type": "stream",
     "text": [
      "C:\\Users\\Hovsep\\AppData\\Roaming\\mamba\\envs\\tabpfn\\lib\\site-packages\\tabpfn\\base.py:89: UserWarning: Downloading model to C:\\Users\\Hovsep\\AppData\\Roaming\\mamba\\envs\\tabpfn\\Lib\\site-packages\\tabpfn_extensions\\hpo\\hpo_models\\tabpfn-v2-classifier-gn2p4bpt.ckpt.\n",
      "  model, _, config_ = load_model_criterion_config(\n",
      "\n",
      "C:\\Users\\Hovsep\\AppData\\Roaming\\mamba\\envs\\tabpfn\\lib\\site-packages\\tabpfn\\classifier.py:431: UserWarning: Running on CPU with more than 200 samples may be slow.\n",
      "Consider using a GPU or the tabpfn-client API: https://github.com/PriorLabs/tabpfn-client\n",
      "  check_cpu_warning(self.device, X)\n",
      "\n",
      "C:\\Users\\Hovsep\\AppData\\Roaming\\mamba\\envs\\tabpfn\\lib\\site-packages\\sklearn\\preprocessing\\_encoders.py:242: UserWarning: Found unknown categories in columns [1] during transform. These unknown categories will be encoded as all zeros\n",
      "  warnings.warn(\n",
      "\n",
      "C:\\Users\\Hovsep\\AppData\\Roaming\\mamba\\envs\\tabpfn\\lib\\site-packages\\sklearn\\preprocessing\\_encoders.py:242: UserWarning: Found unknown categories in columns [1] during transform. These unknown categories will be encoded as all zeros\n",
      "  warnings.warn(\n",
      "\n",
      "C:\\Users\\Hovsep\\AppData\\Roaming\\mamba\\envs\\tabpfn\\lib\\site-packages\\sklearn\\preprocessing\\_encoders.py:242: UserWarning: Found unknown categories in columns [0] during transform. These unknown categories will be encoded as all zeros\n",
      "  warnings.warn(\n",
      "\n",
      "C:\\Users\\Hovsep\\AppData\\Roaming\\mamba\\envs\\tabpfn\\lib\\site-packages\\sklearn\\preprocessing\\_encoders.py:242: UserWarning: Found unknown categories in columns [0] during transform. These unknown categories will be encoded as all zeros\n",
      "  warnings.warn(\n",
      "\n",
      "C:\\Users\\Hovsep\\AppData\\Roaming\\mamba\\envs\\tabpfn\\lib\\site-packages\\tabpfn\\classifier.py:431: UserWarning: Running on CPU with more than 200 samples may be slow.\n",
      "Consider using a GPU or the tabpfn-client API: https://github.com/PriorLabs/tabpfn-client\n",
      "  check_cpu_warning(self.device, X)\n",
      "\n"
     ]
    },
    {
     "name": "stdout",
     "output_type": "stream",
     "text": [
      "\r",
      " 10%|████▉                                            | 5/50 [05:00<40:39, 54.20s/trial, best loss: -0.835820895522388]"
     ]
    },
    {
     "name": "stderr",
     "output_type": "stream",
     "text": [
      "C:\\Users\\Hovsep\\AppData\\Roaming\\mamba\\envs\\tabpfn\\lib\\site-packages\\tabpfn\\classifier.py:431: UserWarning: Running on CPU with more than 200 samples may be slow.\n",
      "Consider using a GPU or the tabpfn-client API: https://github.com/PriorLabs/tabpfn-client\n",
      "  check_cpu_warning(self.device, X)\n",
      "\n"
     ]
    },
    {
     "name": "stdout",
     "output_type": "stream",
     "text": [
      "\r",
      " 12%|█████▉                                           | 6/50 [05:34<34:50, 47.51s/trial, best loss: -0.835820895522388]"
     ]
    },
    {
     "name": "stderr",
     "output_type": "stream",
     "text": [
      "C:\\Users\\Hovsep\\AppData\\Roaming\\mamba\\envs\\tabpfn\\lib\\site-packages\\tabpfn\\classifier.py:431: UserWarning: Running on CPU with more than 200 samples may be slow.\n",
      "Consider using a GPU or the tabpfn-client API: https://github.com/PriorLabs/tabpfn-client\n",
      "  check_cpu_warning(self.device, X)\n",
      "\n",
      "C:\\Users\\Hovsep\\AppData\\Roaming\\mamba\\envs\\tabpfn\\lib\\site-packages\\tabpfn\\classifier.py:431: UserWarning: Running on CPU with more than 200 samples may be slow.\n",
      "Consider using a GPU or the tabpfn-client API: https://github.com/PriorLabs/tabpfn-client\n",
      "  check_cpu_warning(self.device, X)\n",
      "\n"
     ]
    },
    {
     "name": "stdout",
     "output_type": "stream",
     "text": [
      "\r",
      " 14%|██████▊                                          | 7/50 [06:31<36:12, 50.53s/trial, best loss: -0.835820895522388]"
     ]
    },
    {
     "name": "stderr",
     "output_type": "stream",
     "text": [
      "C:\\Users\\Hovsep\\AppData\\Roaming\\mamba\\envs\\tabpfn\\lib\\site-packages\\tabpfn\\base.py:89: UserWarning: Downloading model to C:\\Users\\Hovsep\\AppData\\Roaming\\mamba\\envs\\tabpfn\\Lib\\site-packages\\tabpfn_extensions\\hpo\\hpo_models\\tabpfn-v2-classifier-znskzxi4.ckpt.\n",
      "  model, _, config_ = load_model_criterion_config(\n",
      "\n",
      "C:\\Users\\Hovsep\\AppData\\Roaming\\mamba\\envs\\tabpfn\\lib\\site-packages\\tabpfn\\classifier.py:431: UserWarning: Running on CPU with more than 200 samples may be slow.\n",
      "Consider using a GPU or the tabpfn-client API: https://github.com/PriorLabs/tabpfn-client\n",
      "  check_cpu_warning(self.device, X)\n",
      "\n",
      "C:\\Users\\Hovsep\\AppData\\Roaming\\mamba\\envs\\tabpfn\\lib\\site-packages\\tabpfn\\classifier.py:431: UserWarning: Running on CPU with more than 200 samples may be slow.\n",
      "Consider using a GPU or the tabpfn-client API: https://github.com/PriorLabs/tabpfn-client\n",
      "  check_cpu_warning(self.device, X)\n",
      "\n"
     ]
    },
    {
     "name": "stdout",
     "output_type": "stream",
     "text": [
      "\r",
      " 16%|███████▊                                         | 8/50 [07:12<33:17, 47.57s/trial, best loss: -0.835820895522388]"
     ]
    },
    {
     "name": "stderr",
     "output_type": "stream",
     "text": [
      "C:\\Users\\Hovsep\\AppData\\Roaming\\mamba\\envs\\tabpfn\\lib\\site-packages\\tabpfn\\classifier.py:431: UserWarning: Running on CPU with more than 200 samples may be slow.\n",
      "Consider using a GPU or the tabpfn-client API: https://github.com/PriorLabs/tabpfn-client\n",
      "  check_cpu_warning(self.device, X)\n",
      "\n",
      "C:\\Users\\Hovsep\\AppData\\Roaming\\mamba\\envs\\tabpfn\\lib\\site-packages\\tabpfn\\classifier.py:431: UserWarning: Running on CPU with more than 200 samples may be slow.\n",
      "Consider using a GPU or the tabpfn-client API: https://github.com/PriorLabs/tabpfn-client\n",
      "  check_cpu_warning(self.device, X)\n",
      "\n"
     ]
    },
    {
     "name": "stdout",
     "output_type": "stream",
     "text": [
      "\r",
      " 18%|████████▊                                        | 9/50 [08:42<41:27, 60.68s/trial, best loss: -0.835820895522388]"
     ]
    },
    {
     "name": "stderr",
     "output_type": "stream",
     "text": [
      "C:\\Users\\Hovsep\\AppData\\Roaming\\mamba\\envs\\tabpfn\\lib\\site-packages\\tabpfn\\classifier.py:431: UserWarning: Running on CPU with more than 200 samples may be slow.\n",
      "Consider using a GPU or the tabpfn-client API: https://github.com/PriorLabs/tabpfn-client\n",
      "  check_cpu_warning(self.device, X)\n",
      "\n",
      "C:\\Users\\Hovsep\\AppData\\Roaming\\mamba\\envs\\tabpfn\\lib\\site-packages\\tabpfn\\classifier.py:431: UserWarning: Running on CPU with more than 200 samples may be slow.\n",
      "Consider using a GPU or the tabpfn-client API: https://github.com/PriorLabs/tabpfn-client\n",
      "  check_cpu_warning(self.device, X)\n",
      "\n"
     ]
    },
    {
     "name": "stdout",
     "output_type": "stream",
     "text": [
      "\r",
      " 20%|█████████▌                                      | 10/50 [09:54<42:53, 64.35s/trial, best loss: -0.835820895522388]"
     ]
    },
    {
     "name": "stderr",
     "output_type": "stream",
     "text": [
      "C:\\Users\\Hovsep\\AppData\\Roaming\\mamba\\envs\\tabpfn\\lib\\site-packages\\tabpfn\\classifier.py:431: UserWarning: Running on CPU with more than 200 samples may be slow.\n",
      "Consider using a GPU or the tabpfn-client API: https://github.com/PriorLabs/tabpfn-client\n",
      "  check_cpu_warning(self.device, X)\n",
      "\n",
      "C:\\Users\\Hovsep\\AppData\\Roaming\\mamba\\envs\\tabpfn\\lib\\site-packages\\sklearn\\preprocessing\\_encoders.py:242: UserWarning: Found unknown categories in columns [0] during transform. These unknown categories will be encoded as all zeros\n",
      "  warnings.warn(\n",
      "\n",
      "C:\\Users\\Hovsep\\AppData\\Roaming\\mamba\\envs\\tabpfn\\lib\\site-packages\\sklearn\\preprocessing\\_encoders.py:242: UserWarning: Found unknown categories in columns [0] during transform. These unknown categories will be encoded as all zeros\n",
      "  warnings.warn(\n",
      "\n",
      "C:\\Users\\Hovsep\\AppData\\Roaming\\mamba\\envs\\tabpfn\\lib\\site-packages\\sklearn\\preprocessing\\_encoders.py:242: UserWarning: Found unknown categories in columns [1] during transform. These unknown categories will be encoded as all zeros\n",
      "  warnings.warn(\n",
      "\n",
      "C:\\Users\\Hovsep\\AppData\\Roaming\\mamba\\envs\\tabpfn\\lib\\site-packages\\tabpfn\\classifier.py:431: UserWarning: Running on CPU with more than 200 samples may be slow.\n",
      "Consider using a GPU or the tabpfn-client API: https://github.com/PriorLabs/tabpfn-client\n",
      "  check_cpu_warning(self.device, X)\n",
      "\n"
     ]
    },
    {
     "name": "stdout",
     "output_type": "stream",
     "text": [
      "\r",
      " 22%|██████████▌                                     | 11/50 [10:28<35:44, 54.98s/trial, best loss: -0.835820895522388]"
     ]
    },
    {
     "name": "stderr",
     "output_type": "stream",
     "text": [
      "C:\\Users\\Hovsep\\AppData\\Roaming\\mamba\\envs\\tabpfn\\lib\\site-packages\\tabpfn\\classifier.py:431: UserWarning: Running on CPU with more than 200 samples may be slow.\n",
      "Consider using a GPU or the tabpfn-client API: https://github.com/PriorLabs/tabpfn-client\n",
      "  check_cpu_warning(self.device, X)\n",
      "\n"
     ]
    },
    {
     "name": "stdout",
     "output_type": "stream",
     "text": [
      "\r",
      " 24%|███████████▌                                    | 12/50 [10:53<28:56, 45.70s/trial, best loss: -0.835820895522388]"
     ]
    },
    {
     "name": "stderr",
     "output_type": "stream",
     "text": [
      "C:\\Users\\Hovsep\\AppData\\Roaming\\mamba\\envs\\tabpfn\\lib\\site-packages\\tabpfn\\classifier.py:431: UserWarning: Running on CPU with more than 200 samples may be slow.\n",
      "Consider using a GPU or the tabpfn-client API: https://github.com/PriorLabs/tabpfn-client\n",
      "  check_cpu_warning(self.device, X)\n",
      "\n"
     ]
    },
    {
     "name": "stdout",
     "output_type": "stream",
     "text": [
      "\r",
      " 26%|████████████▍                                   | 13/50 [11:40<28:33, 46.30s/trial, best loss: -0.835820895522388]"
     ]
    },
    {
     "name": "stderr",
     "output_type": "stream",
     "text": [
      "C:\\Users\\Hovsep\\AppData\\Roaming\\mamba\\envs\\tabpfn\\lib\\site-packages\\tabpfn\\classifier.py:431: UserWarning: Running on CPU with more than 200 samples may be slow.\n",
      "Consider using a GPU or the tabpfn-client API: https://github.com/PriorLabs/tabpfn-client\n",
      "  check_cpu_warning(self.device, X)\n",
      "\n",
      "C:\\Users\\Hovsep\\AppData\\Roaming\\mamba\\envs\\tabpfn\\lib\\site-packages\\tabpfn\\classifier.py:431: UserWarning: Running on CPU with more than 200 samples may be slow.\n",
      "Consider using a GPU or the tabpfn-client API: https://github.com/PriorLabs/tabpfn-client\n",
      "  check_cpu_warning(self.device, X)\n",
      "\n"
     ]
    },
    {
     "name": "stdout",
     "output_type": "stream",
     "text": [
      "\r",
      " 28%|█████████████▍                                  | 14/50 [12:18<26:15, 43.77s/trial, best loss: -0.835820895522388]"
     ]
    },
    {
     "name": "stderr",
     "output_type": "stream",
     "text": [
      "C:\\Users\\Hovsep\\AppData\\Roaming\\mamba\\envs\\tabpfn\\lib\\site-packages\\tabpfn\\classifier.py:431: UserWarning: Running on CPU with more than 200 samples may be slow.\n",
      "Consider using a GPU or the tabpfn-client API: https://github.com/PriorLabs/tabpfn-client\n",
      "  check_cpu_warning(self.device, X)\n",
      "\n",
      "C:\\Users\\Hovsep\\AppData\\Roaming\\mamba\\envs\\tabpfn\\lib\\site-packages\\tabpfn\\classifier.py:431: UserWarning: Running on CPU with more than 200 samples may be slow.\n",
      "Consider using a GPU or the tabpfn-client API: https://github.com/PriorLabs/tabpfn-client\n",
      "  check_cpu_warning(self.device, X)\n",
      "\n"
     ]
    },
    {
     "name": "stdout",
     "output_type": "stream",
     "text": [
      "\r",
      " 30%|██████████████▍                                 | 15/50 [13:18<28:25, 48.72s/trial, best loss: -0.835820895522388]"
     ]
    },
    {
     "name": "stderr",
     "output_type": "stream",
     "text": [
      "C:\\Users\\Hovsep\\AppData\\Roaming\\mamba\\envs\\tabpfn\\lib\\site-packages\\tabpfn\\classifier.py:431: UserWarning: Running on CPU with more than 200 samples may be slow.\n",
      "Consider using a GPU or the tabpfn-client API: https://github.com/PriorLabs/tabpfn-client\n",
      "  check_cpu_warning(self.device, X)\n",
      "\n",
      "C:\\Users\\Hovsep\\AppData\\Roaming\\mamba\\envs\\tabpfn\\lib\\site-packages\\tabpfn\\classifier.py:431: UserWarning: Running on CPU with more than 200 samples may be slow.\n",
      "Consider using a GPU or the tabpfn-client API: https://github.com/PriorLabs/tabpfn-client\n",
      "  check_cpu_warning(self.device, X)\n",
      "\n"
     ]
    },
    {
     "name": "stdout",
     "output_type": "stream",
     "text": [
      "\r",
      " 32%|███████████████▎                                | 16/50 [13:53<25:16, 44.59s/trial, best loss: -0.835820895522388]"
     ]
    },
    {
     "name": "stderr",
     "output_type": "stream",
     "text": [
      "C:\\Users\\Hovsep\\AppData\\Roaming\\mamba\\envs\\tabpfn\\lib\\site-packages\\tabpfn\\classifier.py:431: UserWarning: Running on CPU with more than 200 samples may be slow.\n",
      "Consider using a GPU or the tabpfn-client API: https://github.com/PriorLabs/tabpfn-client\n",
      "  check_cpu_warning(self.device, X)\n",
      "\n",
      "C:\\Users\\Hovsep\\AppData\\Roaming\\mamba\\envs\\tabpfn\\lib\\site-packages\\tabpfn\\classifier.py:431: UserWarning: Running on CPU with more than 200 samples may be slow.\n",
      "Consider using a GPU or the tabpfn-client API: https://github.com/PriorLabs/tabpfn-client\n",
      "  check_cpu_warning(self.device, X)\n",
      "\n"
     ]
    },
    {
     "name": "stdout",
     "output_type": "stream",
     "text": [
      "\r",
      " 34%|████████████████▎                               | 17/50 [14:43<25:24, 46.20s/trial, best loss: -0.835820895522388]"
     ]
    },
    {
     "name": "stderr",
     "output_type": "stream",
     "text": [
      "C:\\Users\\Hovsep\\AppData\\Roaming\\mamba\\envs\\tabpfn\\lib\\site-packages\\tabpfn\\classifier.py:431: UserWarning: Running on CPU with more than 200 samples may be slow.\n",
      "Consider using a GPU or the tabpfn-client API: https://github.com/PriorLabs/tabpfn-client\n",
      "  check_cpu_warning(self.device, X)\n",
      "\n",
      "C:\\Users\\Hovsep\\AppData\\Roaming\\mamba\\envs\\tabpfn\\lib\\site-packages\\tabpfn\\classifier.py:431: UserWarning: Running on CPU with more than 200 samples may be slow.\n",
      "Consider using a GPU or the tabpfn-client API: https://github.com/PriorLabs/tabpfn-client\n",
      "  check_cpu_warning(self.device, X)\n",
      "\n"
     ]
    },
    {
     "name": "stdout",
     "output_type": "stream",
     "text": [
      "\r",
      " 36%|█████████████████▎                              | 18/50 [16:01<29:45, 55.81s/trial, best loss: -0.835820895522388]"
     ]
    },
    {
     "name": "stderr",
     "output_type": "stream",
     "text": [
      "C:\\Users\\Hovsep\\AppData\\Roaming\\mamba\\envs\\tabpfn\\lib\\site-packages\\tabpfn\\classifier.py:431: UserWarning: Running on CPU with more than 200 samples may be slow.\n",
      "Consider using a GPU or the tabpfn-client API: https://github.com/PriorLabs/tabpfn-client\n",
      "  check_cpu_warning(self.device, X)\n",
      "\n"
     ]
    },
    {
     "name": "stdout",
     "output_type": "stream",
     "text": [
      "\r",
      " 38%|██████████████████▏                             | 19/50 [16:33<25:01, 48.43s/trial, best loss: -0.835820895522388]"
     ]
    },
    {
     "name": "stderr",
     "output_type": "stream",
     "text": [
      "C:\\Users\\Hovsep\\AppData\\Roaming\\mamba\\envs\\tabpfn\\lib\\site-packages\\tabpfn\\base.py:89: UserWarning: Downloading model to C:\\Users\\Hovsep\\AppData\\Roaming\\mamba\\envs\\tabpfn\\Lib\\site-packages\\tabpfn_extensions\\hpo\\hpo_models\\tabpfn-v2-classifier.ckpt.\n",
      "  model, _, config_ = load_model_criterion_config(\n",
      "\n",
      "WARNING:tabpfn.model.loading:HuggingFace downloads failed: HuggingFace download failed!\n",
      "C:\\Users\\Hovsep\\AppData\\Roaming\\mamba\\envs\\tabpfn\\lib\\site-packages\\tabpfn\\classifier.py:431: UserWarning: Running on CPU with more than 200 samples may be slow.\n",
      "Consider using a GPU or the tabpfn-client API: https://github.com/PriorLabs/tabpfn-client\n",
      "  check_cpu_warning(self.device, X)\n",
      "\n"
     ]
    },
    {
     "name": "stdout",
     "output_type": "stream",
     "text": [
      "\r",
      " 40%|███████████████████▏                            | 20/50 [17:18<23:41, 47.38s/trial, best loss: -0.835820895522388]"
     ]
    },
    {
     "name": "stderr",
     "output_type": "stream",
     "text": [
      "C:\\Users\\Hovsep\\AppData\\Roaming\\mamba\\envs\\tabpfn\\lib\\site-packages\\tabpfn\\classifier.py:431: UserWarning: Running on CPU with more than 200 samples may be slow.\n",
      "Consider using a GPU or the tabpfn-client API: https://github.com/PriorLabs/tabpfn-client\n",
      "  check_cpu_warning(self.device, X)\n",
      "\n",
      "C:\\Users\\Hovsep\\AppData\\Roaming\\mamba\\envs\\tabpfn\\lib\\site-packages\\tabpfn\\classifier.py:431: UserWarning: Running on CPU with more than 200 samples may be slow.\n",
      "Consider using a GPU or the tabpfn-client API: https://github.com/PriorLabs/tabpfn-client\n",
      "  check_cpu_warning(self.device, X)\n",
      "\n"
     ]
    },
    {
     "name": "stdout",
     "output_type": "stream",
     "text": [
      "\r",
      " 42%|████████████████████▏                           | 21/50 [17:59<21:58, 45.48s/trial, best loss: -0.835820895522388]"
     ]
    },
    {
     "name": "stderr",
     "output_type": "stream",
     "text": [
      "C:\\Users\\Hovsep\\AppData\\Roaming\\mamba\\envs\\tabpfn\\lib\\site-packages\\tabpfn\\classifier.py:431: UserWarning: Running on CPU with more than 200 samples may be slow.\n",
      "Consider using a GPU or the tabpfn-client API: https://github.com/PriorLabs/tabpfn-client\n",
      "  check_cpu_warning(self.device, X)\n",
      "\n",
      "C:\\Users\\Hovsep\\AppData\\Roaming\\mamba\\envs\\tabpfn\\lib\\site-packages\\tabpfn\\classifier.py:431: UserWarning: Running on CPU with more than 200 samples may be slow.\n",
      "Consider using a GPU or the tabpfn-client API: https://github.com/PriorLabs/tabpfn-client\n",
      "  check_cpu_warning(self.device, X)\n",
      "\n"
     ]
    },
    {
     "name": "stdout",
     "output_type": "stream",
     "text": [
      "\r",
      " 44%|█████████████████████                           | 22/50 [19:19<26:05, 55.92s/trial, best loss: -0.835820895522388]"
     ]
    },
    {
     "name": "stderr",
     "output_type": "stream",
     "text": [
      "C:\\Users\\Hovsep\\AppData\\Roaming\\mamba\\envs\\tabpfn\\lib\\site-packages\\tabpfn\\classifier.py:431: UserWarning: Running on CPU with more than 200 samples may be slow.\n",
      "Consider using a GPU or the tabpfn-client API: https://github.com/PriorLabs/tabpfn-client\n",
      "  check_cpu_warning(self.device, X)\n",
      "\n"
     ]
    },
    {
     "name": "stdout",
     "output_type": "stream",
     "text": [
      "\r",
      " 46%|██████████████████████                          | 23/50 [19:47<21:26, 47.65s/trial, best loss: -0.835820895522388]"
     ]
    },
    {
     "name": "stderr",
     "output_type": "stream",
     "text": [
      "C:\\Users\\Hovsep\\AppData\\Roaming\\mamba\\envs\\tabpfn\\lib\\site-packages\\tabpfn\\classifier.py:431: UserWarning: Running on CPU with more than 200 samples may be slow.\n",
      "Consider using a GPU or the tabpfn-client API: https://github.com/PriorLabs/tabpfn-client\n",
      "  check_cpu_warning(self.device, X)\n",
      "\n"
     ]
    },
    {
     "name": "stdout",
     "output_type": "stream",
     "text": [
      "\r",
      " 48%|███████████████████████                         | 24/50 [20:44<21:48, 50.34s/trial, best loss: -0.835820895522388]"
     ]
    },
    {
     "name": "stderr",
     "output_type": "stream",
     "text": [
      "C:\\Users\\Hovsep\\AppData\\Roaming\\mamba\\envs\\tabpfn\\lib\\site-packages\\tabpfn\\classifier.py:431: UserWarning: Running on CPU with more than 200 samples may be slow.\n",
      "Consider using a GPU or the tabpfn-client API: https://github.com/PriorLabs/tabpfn-client\n",
      "  check_cpu_warning(self.device, X)\n",
      "\n"
     ]
    },
    {
     "name": "stdout",
     "output_type": "stream",
     "text": [
      "\r",
      " 50%|████████████████████████                        | 25/50 [21:30<20:30, 49.20s/trial, best loss: -0.835820895522388]"
     ]
    },
    {
     "name": "stderr",
     "output_type": "stream",
     "text": [
      "C:\\Users\\Hovsep\\AppData\\Roaming\\mamba\\envs\\tabpfn\\lib\\site-packages\\tabpfn\\classifier.py:431: UserWarning: Running on CPU with more than 200 samples may be slow.\n",
      "Consider using a GPU or the tabpfn-client API: https://github.com/PriorLabs/tabpfn-client\n",
      "  check_cpu_warning(self.device, X)\n",
      "\n"
     ]
    },
    {
     "name": "stdout",
     "output_type": "stream",
     "text": [
      "\r",
      " 52%|████████████████████████▉                       | 26/50 [22:12<18:47, 46.98s/trial, best loss: -0.835820895522388]"
     ]
    },
    {
     "name": "stderr",
     "output_type": "stream",
     "text": [
      "C:\\Users\\Hovsep\\AppData\\Roaming\\mamba\\envs\\tabpfn\\lib\\site-packages\\tabpfn\\classifier.py:431: UserWarning: Running on CPU with more than 200 samples may be slow.\n",
      "Consider using a GPU or the tabpfn-client API: https://github.com/PriorLabs/tabpfn-client\n",
      "  check_cpu_warning(self.device, X)\n",
      "\n",
      "C:\\Users\\Hovsep\\AppData\\Roaming\\mamba\\envs\\tabpfn\\lib\\site-packages\\tabpfn\\classifier.py:431: UserWarning: Running on CPU with more than 200 samples may be slow.\n",
      "Consider using a GPU or the tabpfn-client API: https://github.com/PriorLabs/tabpfn-client\n",
      "  check_cpu_warning(self.device, X)\n",
      "\n"
     ]
    },
    {
     "name": "stdout",
     "output_type": "stream",
     "text": [
      "\r",
      " 54%|█████████████████████████▉                      | 27/50 [23:23<20:44, 54.10s/trial, best loss: -0.835820895522388]"
     ]
    },
    {
     "name": "stderr",
     "output_type": "stream",
     "text": [
      "C:\\Users\\Hovsep\\AppData\\Roaming\\mamba\\envs\\tabpfn\\lib\\site-packages\\tabpfn\\classifier.py:431: UserWarning: Running on CPU with more than 200 samples may be slow.\n",
      "Consider using a GPU or the tabpfn-client API: https://github.com/PriorLabs/tabpfn-client\n",
      "  check_cpu_warning(self.device, X)\n",
      "\n"
     ]
    },
    {
     "name": "stdout",
     "output_type": "stream",
     "text": [
      "\r",
      " 56%|██████████████████████████▉                     | 28/50 [24:05<18:33, 50.61s/trial, best loss: -0.835820895522388]"
     ]
    },
    {
     "name": "stderr",
     "output_type": "stream",
     "text": [
      "C:\\Users\\Hovsep\\AppData\\Roaming\\mamba\\envs\\tabpfn\\lib\\site-packages\\tabpfn\\classifier.py:431: UserWarning: Running on CPU with more than 200 samples may be slow.\n",
      "Consider using a GPU or the tabpfn-client API: https://github.com/PriorLabs/tabpfn-client\n",
      "  check_cpu_warning(self.device, X)\n",
      "\n"
     ]
    },
    {
     "name": "stdout",
     "output_type": "stream",
     "text": [
      "\r",
      " 58%|███████████████████████████▊                    | 29/50 [24:26<14:31, 41.52s/trial, best loss: -0.835820895522388]"
     ]
    },
    {
     "name": "stderr",
     "output_type": "stream",
     "text": [
      "C:\\Users\\Hovsep\\AppData\\Roaming\\mamba\\envs\\tabpfn\\lib\\site-packages\\tabpfn\\classifier.py:431: UserWarning: Running on CPU with more than 200 samples may be slow.\n",
      "Consider using a GPU or the tabpfn-client API: https://github.com/PriorLabs/tabpfn-client\n",
      "  check_cpu_warning(self.device, X)\n",
      "\n"
     ]
    },
    {
     "name": "stdout",
     "output_type": "stream",
     "text": [
      "\r",
      " 60%|████████████████████████████▊                   | 30/50 [24:40<11:06, 33.34s/trial, best loss: -0.835820895522388]"
     ]
    },
    {
     "name": "stderr",
     "output_type": "stream",
     "text": [
      "C:\\Users\\Hovsep\\AppData\\Roaming\\mamba\\envs\\tabpfn\\lib\\site-packages\\tabpfn\\classifier.py:431: UserWarning: Running on CPU with more than 200 samples may be slow.\n",
      "Consider using a GPU or the tabpfn-client API: https://github.com/PriorLabs/tabpfn-client\n",
      "  check_cpu_warning(self.device, X)\n",
      "\n"
     ]
    },
    {
     "name": "stdout",
     "output_type": "stream",
     "text": [
      "\r",
      " 62%|█████████████████████████████▊                  | 31/50 [25:12<10:28, 33.08s/trial, best loss: -0.835820895522388]"
     ]
    },
    {
     "name": "stderr",
     "output_type": "stream",
     "text": [
      "C:\\Users\\Hovsep\\AppData\\Roaming\\mamba\\envs\\tabpfn\\lib\\site-packages\\tabpfn\\classifier.py:431: UserWarning: Running on CPU with more than 200 samples may be slow.\n",
      "Consider using a GPU or the tabpfn-client API: https://github.com/PriorLabs/tabpfn-client\n",
      "  check_cpu_warning(self.device, X)\n",
      "\n",
      "C:\\Users\\Hovsep\\AppData\\Roaming\\mamba\\envs\\tabpfn\\lib\\site-packages\\sklearn\\preprocessing\\_encoders.py:242: UserWarning: Found unknown categories in columns [1] during transform. These unknown categories will be encoded as all zeros\n",
      "  warnings.warn(\n",
      "\n",
      "C:\\Users\\Hovsep\\AppData\\Roaming\\mamba\\envs\\tabpfn\\lib\\site-packages\\sklearn\\preprocessing\\_encoders.py:242: UserWarning: Found unknown categories in columns [1] during transform. These unknown categories will be encoded as all zeros\n",
      "  warnings.warn(\n",
      "\n",
      "C:\\Users\\Hovsep\\AppData\\Roaming\\mamba\\envs\\tabpfn\\lib\\site-packages\\sklearn\\preprocessing\\_encoders.py:242: UserWarning: Found unknown categories in columns [0] during transform. These unknown categories will be encoded as all zeros\n",
      "  warnings.warn(\n",
      "\n",
      "C:\\Users\\Hovsep\\AppData\\Roaming\\mamba\\envs\\tabpfn\\lib\\site-packages\\sklearn\\preprocessing\\_encoders.py:242: UserWarning: Found unknown categories in columns [1] during transform. These unknown categories will be encoded as all zeros\n",
      "  warnings.warn(\n",
      "\n",
      "C:\\Users\\Hovsep\\AppData\\Roaming\\mamba\\envs\\tabpfn\\lib\\site-packages\\tabpfn\\classifier.py:431: UserWarning: Running on CPU with more than 200 samples may be slow.\n",
      "Consider using a GPU or the tabpfn-client API: https://github.com/PriorLabs/tabpfn-client\n",
      "  check_cpu_warning(self.device, X)\n",
      "\n"
     ]
    },
    {
     "name": "stdout",
     "output_type": "stream",
     "text": [
      "\r",
      " 64%|██████████████████████████████▋                 | 32/50 [25:46<09:59, 33.28s/trial, best loss: -0.835820895522388]"
     ]
    },
    {
     "name": "stderr",
     "output_type": "stream",
     "text": [
      "C:\\Users\\Hovsep\\AppData\\Roaming\\mamba\\envs\\tabpfn\\lib\\site-packages\\tabpfn\\classifier.py:431: UserWarning: Running on CPU with more than 200 samples may be slow.\n",
      "Consider using a GPU or the tabpfn-client API: https://github.com/PriorLabs/tabpfn-client\n",
      "  check_cpu_warning(self.device, X)\n",
      "\n"
     ]
    },
    {
     "name": "stdout",
     "output_type": "stream",
     "text": [
      "\r",
      " 66%|███████████████████████████████▋                | 33/50 [26:05<08:13, 29.04s/trial, best loss: -0.835820895522388]"
     ]
    },
    {
     "name": "stderr",
     "output_type": "stream",
     "text": [
      "C:\\Users\\Hovsep\\AppData\\Roaming\\mamba\\envs\\tabpfn\\lib\\site-packages\\tabpfn\\classifier.py:431: UserWarning: Running on CPU with more than 200 samples may be slow.\n",
      "Consider using a GPU or the tabpfn-client API: https://github.com/PriorLabs/tabpfn-client\n",
      "  check_cpu_warning(self.device, X)\n",
      "\n"
     ]
    },
    {
     "name": "stdout",
     "output_type": "stream",
     "text": [
      "\r",
      " 68%|████████████████████████████████▋               | 34/50 [26:18<06:27, 24.22s/trial, best loss: -0.835820895522388]"
     ]
    },
    {
     "name": "stderr",
     "output_type": "stream",
     "text": [
      "C:\\Users\\Hovsep\\AppData\\Roaming\\mamba\\envs\\tabpfn\\lib\\site-packages\\tabpfn\\classifier.py:431: UserWarning: Running on CPU with more than 200 samples may be slow.\n",
      "Consider using a GPU or the tabpfn-client API: https://github.com/PriorLabs/tabpfn-client\n",
      "  check_cpu_warning(self.device, X)\n",
      "\n",
      "C:\\Users\\Hovsep\\AppData\\Roaming\\mamba\\envs\\tabpfn\\lib\\site-packages\\tabpfn\\classifier.py:431: UserWarning: Running on CPU with more than 200 samples may be slow.\n",
      "Consider using a GPU or the tabpfn-client API: https://github.com/PriorLabs/tabpfn-client\n",
      "  check_cpu_warning(self.device, X)\n",
      "\n"
     ]
    },
    {
     "name": "stdout",
     "output_type": "stream",
     "text": [
      "\r",
      " 70%|█████████████████████████████████▌              | 35/50 [27:14<08:24, 33.65s/trial, best loss: -0.835820895522388]"
     ]
    },
    {
     "name": "stderr",
     "output_type": "stream",
     "text": [
      "C:\\Users\\Hovsep\\AppData\\Roaming\\mamba\\envs\\tabpfn\\lib\\site-packages\\tabpfn\\classifier.py:431: UserWarning: Running on CPU with more than 200 samples may be slow.\n",
      "Consider using a GPU or the tabpfn-client API: https://github.com/PriorLabs/tabpfn-client\n",
      "  check_cpu_warning(self.device, X)\n",
      "\n",
      "C:\\Users\\Hovsep\\AppData\\Roaming\\mamba\\envs\\tabpfn\\lib\\site-packages\\tabpfn\\classifier.py:431: UserWarning: Running on CPU with more than 200 samples may be slow.\n",
      "Consider using a GPU or the tabpfn-client API: https://github.com/PriorLabs/tabpfn-client\n",
      "  check_cpu_warning(self.device, X)\n",
      "\n"
     ]
    },
    {
     "name": "stdout",
     "output_type": "stream",
     "text": [
      "\r",
      " 72%|██████████████████████████████████▌             | 36/50 [28:33<11:00, 47.18s/trial, best loss: -0.835820895522388]"
     ]
    },
    {
     "name": "stderr",
     "output_type": "stream",
     "text": [
      "C:\\Users\\Hovsep\\AppData\\Roaming\\mamba\\envs\\tabpfn\\lib\\site-packages\\tabpfn\\classifier.py:431: UserWarning: Running on CPU with more than 200 samples may be slow.\n",
      "Consider using a GPU or the tabpfn-client API: https://github.com/PriorLabs/tabpfn-client\n",
      "  check_cpu_warning(self.device, X)\n",
      "\n"
     ]
    },
    {
     "name": "stdout",
     "output_type": "stream",
     "text": [
      "\r",
      " 74%|███████████████████████████████████▌            | 37/50 [29:09<09:29, 43.81s/trial, best loss: -0.835820895522388]"
     ]
    },
    {
     "name": "stderr",
     "output_type": "stream",
     "text": [
      "C:\\Users\\Hovsep\\AppData\\Roaming\\mamba\\envs\\tabpfn\\lib\\site-packages\\tabpfn\\classifier.py:431: UserWarning: Running on CPU with more than 200 samples may be slow.\n",
      "Consider using a GPU or the tabpfn-client API: https://github.com/PriorLabs/tabpfn-client\n",
      "  check_cpu_warning(self.device, X)\n",
      "\n"
     ]
    },
    {
     "name": "stdout",
     "output_type": "stream",
     "text": [
      "\r",
      " 76%|████████████████████████████████████▍           | 38/50 [29:52<08:43, 43.59s/trial, best loss: -0.835820895522388]"
     ]
    },
    {
     "name": "stderr",
     "output_type": "stream",
     "text": [
      "C:\\Users\\Hovsep\\AppData\\Roaming\\mamba\\envs\\tabpfn\\lib\\site-packages\\tabpfn\\classifier.py:431: UserWarning: Running on CPU with more than 200 samples may be slow.\n",
      "Consider using a GPU or the tabpfn-client API: https://github.com/PriorLabs/tabpfn-client\n",
      "  check_cpu_warning(self.device, X)\n",
      "\n"
     ]
    },
    {
     "name": "stdout",
     "output_type": "stream",
     "text": [
      "\r",
      " 78%|█████████████████████████████████████▍          | 39/50 [30:41<08:16, 45.18s/trial, best loss: -0.835820895522388]"
     ]
    },
    {
     "name": "stderr",
     "output_type": "stream",
     "text": [
      "C:\\Users\\Hovsep\\AppData\\Roaming\\mamba\\envs\\tabpfn\\lib\\site-packages\\tabpfn\\classifier.py:431: UserWarning: Running on CPU with more than 200 samples may be slow.\n",
      "Consider using a GPU or the tabpfn-client API: https://github.com/PriorLabs/tabpfn-client\n",
      "  check_cpu_warning(self.device, X)\n",
      "\n",
      "C:\\Users\\Hovsep\\AppData\\Roaming\\mamba\\envs\\tabpfn\\lib\\site-packages\\tabpfn\\classifier.py:431: UserWarning: Running on CPU with more than 200 samples may be slow.\n",
      "Consider using a GPU or the tabpfn-client API: https://github.com/PriorLabs/tabpfn-client\n",
      "  check_cpu_warning(self.device, X)\n",
      "\n"
     ]
    },
    {
     "name": "stdout",
     "output_type": "stream",
     "text": [
      "\r",
      " 80%|██████████████████████████████████████▍         | 40/50 [32:17<10:04, 60.48s/trial, best loss: -0.835820895522388]"
     ]
    },
    {
     "name": "stderr",
     "output_type": "stream",
     "text": [
      "C:\\Users\\Hovsep\\AppData\\Roaming\\mamba\\envs\\tabpfn\\lib\\site-packages\\tabpfn\\classifier.py:431: UserWarning: Running on CPU with more than 200 samples may be slow.\n",
      "Consider using a GPU or the tabpfn-client API: https://github.com/PriorLabs/tabpfn-client\n",
      "  check_cpu_warning(self.device, X)\n",
      "\n",
      "C:\\Users\\Hovsep\\AppData\\Roaming\\mamba\\envs\\tabpfn\\lib\\site-packages\\sklearn\\preprocessing\\_encoders.py:242: UserWarning: Found unknown categories in columns [1] during transform. These unknown categories will be encoded as all zeros\n",
      "  warnings.warn(\n",
      "\n",
      "C:\\Users\\Hovsep\\AppData\\Roaming\\mamba\\envs\\tabpfn\\lib\\site-packages\\sklearn\\preprocessing\\_encoders.py:242: UserWarning: Found unknown categories in columns [1] during transform. These unknown categories will be encoded as all zeros\n",
      "  warnings.warn(\n",
      "\n",
      "C:\\Users\\Hovsep\\AppData\\Roaming\\mamba\\envs\\tabpfn\\lib\\site-packages\\sklearn\\preprocessing\\_encoders.py:242: UserWarning: Found unknown categories in columns [1] during transform. These unknown categories will be encoded as all zeros\n",
      "  warnings.warn(\n",
      "\n",
      "C:\\Users\\Hovsep\\AppData\\Roaming\\mamba\\envs\\tabpfn\\lib\\site-packages\\sklearn\\preprocessing\\_encoders.py:242: UserWarning: Found unknown categories in columns [1] during transform. These unknown categories will be encoded as all zeros\n",
      "  warnings.warn(\n",
      "\n",
      "C:\\Users\\Hovsep\\AppData\\Roaming\\mamba\\envs\\tabpfn\\lib\\site-packages\\tabpfn\\classifier.py:431: UserWarning: Running on CPU with more than 200 samples may be slow.\n",
      "Consider using a GPU or the tabpfn-client API: https://github.com/PriorLabs/tabpfn-client\n",
      "  check_cpu_warning(self.device, X)\n",
      "\n"
     ]
    },
    {
     "name": "stdout",
     "output_type": "stream",
     "text": [
      "\r",
      " 82%|███████████████████████████████████████▎        | 41/50 [32:52<07:55, 52.79s/trial, best loss: -0.835820895522388]"
     ]
    },
    {
     "name": "stderr",
     "output_type": "stream",
     "text": [
      "C:\\Users\\Hovsep\\AppData\\Roaming\\mamba\\envs\\tabpfn\\lib\\site-packages\\tabpfn\\classifier.py:431: UserWarning: Running on CPU with more than 200 samples may be slow.\n",
      "Consider using a GPU or the tabpfn-client API: https://github.com/PriorLabs/tabpfn-client\n",
      "  check_cpu_warning(self.device, X)\n",
      "\n",
      "C:\\Users\\Hovsep\\AppData\\Roaming\\mamba\\envs\\tabpfn\\lib\\site-packages\\tabpfn\\classifier.py:431: UserWarning: Running on CPU with more than 200 samples may be slow.\n",
      "Consider using a GPU or the tabpfn-client API: https://github.com/PriorLabs/tabpfn-client\n",
      "  check_cpu_warning(self.device, X)\n",
      "\n"
     ]
    },
    {
     "name": "stdout",
     "output_type": "stream",
     "text": [
      "\r",
      " 84%|████████████████████████████████████████▎       | 42/50 [34:02<07:44, 58.05s/trial, best loss: -0.835820895522388]"
     ]
    },
    {
     "name": "stderr",
     "output_type": "stream",
     "text": [
      "C:\\Users\\Hovsep\\AppData\\Roaming\\mamba\\envs\\tabpfn\\lib\\site-packages\\tabpfn\\classifier.py:431: UserWarning: Running on CPU with more than 200 samples may be slow.\n",
      "Consider using a GPU or the tabpfn-client API: https://github.com/PriorLabs/tabpfn-client\n",
      "  check_cpu_warning(self.device, X)\n",
      "\n",
      "C:\\Users\\Hovsep\\AppData\\Roaming\\mamba\\envs\\tabpfn\\lib\\site-packages\\tabpfn\\classifier.py:431: UserWarning: Running on CPU with more than 200 samples may be slow.\n",
      "Consider using a GPU or the tabpfn-client API: https://github.com/PriorLabs/tabpfn-client\n",
      "  check_cpu_warning(self.device, X)\n",
      "\n"
     ]
    },
    {
     "name": "stdout",
     "output_type": "stream",
     "text": [
      "\r",
      " 86%|█████████████████████████████████████████▎      | 43/50 [35:38<08:05, 69.35s/trial, best loss: -0.835820895522388]"
     ]
    },
    {
     "name": "stderr",
     "output_type": "stream",
     "text": [
      "C:\\Users\\Hovsep\\AppData\\Roaming\\mamba\\envs\\tabpfn\\lib\\site-packages\\tabpfn\\classifier.py:431: UserWarning: Running on CPU with more than 200 samples may be slow.\n",
      "Consider using a GPU or the tabpfn-client API: https://github.com/PriorLabs/tabpfn-client\n",
      "  check_cpu_warning(self.device, X)\n",
      "\n",
      "C:\\Users\\Hovsep\\AppData\\Roaming\\mamba\\envs\\tabpfn\\lib\\site-packages\\tabpfn\\classifier.py:431: UserWarning: Running on CPU with more than 200 samples may be slow.\n",
      "Consider using a GPU or the tabpfn-client API: https://github.com/PriorLabs/tabpfn-client\n",
      "  check_cpu_warning(self.device, X)\n",
      "\n"
     ]
    },
    {
     "name": "stdout",
     "output_type": "stream",
     "text": [
      "\r",
      " 88%|██████████████████████████████████████████▏     | 44/50 [36:31<06:26, 64.40s/trial, best loss: -0.835820895522388]"
     ]
    },
    {
     "name": "stderr",
     "output_type": "stream",
     "text": [
      "C:\\Users\\Hovsep\\AppData\\Roaming\\mamba\\envs\\tabpfn\\lib\\site-packages\\tabpfn\\classifier.py:431: UserWarning: Running on CPU with more than 200 samples may be slow.\n",
      "Consider using a GPU or the tabpfn-client API: https://github.com/PriorLabs/tabpfn-client\n",
      "  check_cpu_warning(self.device, X)\n",
      "\n",
      "C:\\Users\\Hovsep\\AppData\\Roaming\\mamba\\envs\\tabpfn\\lib\\site-packages\\sklearn\\preprocessing\\_encoders.py:242: UserWarning: Found unknown categories in columns [0] during transform. These unknown categories will be encoded as all zeros\n",
      "  warnings.warn(\n",
      "\n",
      "C:\\Users\\Hovsep\\AppData\\Roaming\\mamba\\envs\\tabpfn\\lib\\site-packages\\sklearn\\preprocessing\\_encoders.py:242: UserWarning: Found unknown categories in columns [0] during transform. These unknown categories will be encoded as all zeros\n",
      "  warnings.warn(\n",
      "\n",
      "C:\\Users\\Hovsep\\AppData\\Roaming\\mamba\\envs\\tabpfn\\lib\\site-packages\\sklearn\\preprocessing\\_encoders.py:242: UserWarning: Found unknown categories in columns [0] during transform. These unknown categories will be encoded as all zeros\n",
      "  warnings.warn(\n",
      "\n",
      "C:\\Users\\Hovsep\\AppData\\Roaming\\mamba\\envs\\tabpfn\\lib\\site-packages\\sklearn\\preprocessing\\_encoders.py:242: UserWarning: Found unknown categories in columns [0] during transform. These unknown categories will be encoded as all zeros\n",
      "  warnings.warn(\n",
      "\n",
      "C:\\Users\\Hovsep\\AppData\\Roaming\\mamba\\envs\\tabpfn\\lib\\site-packages\\tabpfn\\classifier.py:431: UserWarning: Running on CPU with more than 200 samples may be slow.\n",
      "Consider using a GPU or the tabpfn-client API: https://github.com/PriorLabs/tabpfn-client\n",
      "  check_cpu_warning(self.device, X)\n",
      "\n"
     ]
    },
    {
     "name": "stdout",
     "output_type": "stream",
     "text": [
      "\r",
      " 90%|███████████████████████████████████████████▏    | 45/50 [37:51<05:45, 69.09s/trial, best loss: -0.835820895522388]"
     ]
    },
    {
     "name": "stderr",
     "output_type": "stream",
     "text": [
      "C:\\Users\\Hovsep\\AppData\\Roaming\\mamba\\envs\\tabpfn\\lib\\site-packages\\tabpfn\\classifier.py:431: UserWarning: Running on CPU with more than 200 samples may be slow.\n",
      "Consider using a GPU or the tabpfn-client API: https://github.com/PriorLabs/tabpfn-client\n",
      "  check_cpu_warning(self.device, X)\n",
      "\n",
      "C:\\Users\\Hovsep\\AppData\\Roaming\\mamba\\envs\\tabpfn\\lib\\site-packages\\tabpfn\\classifier.py:431: UserWarning: Running on CPU with more than 200 samples may be slow.\n",
      "Consider using a GPU or the tabpfn-client API: https://github.com/PriorLabs/tabpfn-client\n",
      "  check_cpu_warning(self.device, X)\n",
      "\n"
     ]
    },
    {
     "name": "stdout",
     "output_type": "stream",
     "text": [
      "\r",
      " 92%|████████████████████████████████████████████▏   | 46/50 [39:15<04:54, 73.56s/trial, best loss: -0.835820895522388]"
     ]
    },
    {
     "name": "stderr",
     "output_type": "stream",
     "text": [
      "C:\\Users\\Hovsep\\AppData\\Roaming\\mamba\\envs\\tabpfn\\lib\\site-packages\\tabpfn\\classifier.py:431: UserWarning: Running on CPU with more than 200 samples may be slow.\n",
      "Consider using a GPU or the tabpfn-client API: https://github.com/PriorLabs/tabpfn-client\n",
      "  check_cpu_warning(self.device, X)\n",
      "\n",
      "C:\\Users\\Hovsep\\AppData\\Roaming\\mamba\\envs\\tabpfn\\lib\\site-packages\\tabpfn\\classifier.py:431: UserWarning: Running on CPU with more than 200 samples may be slow.\n",
      "Consider using a GPU or the tabpfn-client API: https://github.com/PriorLabs/tabpfn-client\n",
      "  check_cpu_warning(self.device, X)\n",
      "\n"
     ]
    },
    {
     "name": "stdout",
     "output_type": "stream",
     "text": [
      "\r",
      " 94%|█████████████████████████████████████████████   | 47/50 [40:08<03:22, 67.66s/trial, best loss: -0.835820895522388]"
     ]
    },
    {
     "name": "stderr",
     "output_type": "stream",
     "text": [
      "C:\\Users\\Hovsep\\AppData\\Roaming\\mamba\\envs\\tabpfn\\lib\\site-packages\\tabpfn\\classifier.py:431: UserWarning: Running on CPU with more than 200 samples may be slow.\n",
      "Consider using a GPU or the tabpfn-client API: https://github.com/PriorLabs/tabpfn-client\n",
      "  check_cpu_warning(self.device, X)\n",
      "\n",
      "C:\\Users\\Hovsep\\AppData\\Roaming\\mamba\\envs\\tabpfn\\lib\\site-packages\\tabpfn\\classifier.py:431: UserWarning: Running on CPU with more than 200 samples may be slow.\n",
      "Consider using a GPU or the tabpfn-client API: https://github.com/PriorLabs/tabpfn-client\n",
      "  check_cpu_warning(self.device, X)\n",
      "\n"
     ]
    },
    {
     "name": "stdout",
     "output_type": "stream",
     "text": [
      "\r",
      " 96%|██████████████████████████████████████████████  | 48/50 [41:11<02:12, 66.07s/trial, best loss: -0.835820895522388]"
     ]
    },
    {
     "name": "stderr",
     "output_type": "stream",
     "text": [
      "C:\\Users\\Hovsep\\AppData\\Roaming\\mamba\\envs\\tabpfn\\lib\\site-packages\\tabpfn\\classifier.py:431: UserWarning: Running on CPU with more than 200 samples may be slow.\n",
      "Consider using a GPU or the tabpfn-client API: https://github.com/PriorLabs/tabpfn-client\n",
      "  check_cpu_warning(self.device, X)\n",
      "\n",
      "C:\\Users\\Hovsep\\AppData\\Roaming\\mamba\\envs\\tabpfn\\lib\\site-packages\\tabpfn\\classifier.py:431: UserWarning: Running on CPU with more than 200 samples may be slow.\n",
      "Consider using a GPU or the tabpfn-client API: https://github.com/PriorLabs/tabpfn-client\n",
      "  check_cpu_warning(self.device, X)\n",
      "\n"
     ]
    },
    {
     "name": "stdout",
     "output_type": "stream",
     "text": [
      "\r",
      " 98%|███████████████████████████████████████████████ | 49/50 [42:37<01:12, 72.21s/trial, best loss: -0.835820895522388]"
     ]
    },
    {
     "name": "stderr",
     "output_type": "stream",
     "text": [
      "C:\\Users\\Hovsep\\AppData\\Roaming\\mamba\\envs\\tabpfn\\lib\\site-packages\\tabpfn\\classifier.py:431: UserWarning: Running on CPU with more than 200 samples may be slow.\n",
      "Consider using a GPU or the tabpfn-client API: https://github.com/PriorLabs/tabpfn-client\n",
      "  check_cpu_warning(self.device, X)\n",
      "\n"
     ]
    },
    {
     "name": "stdout",
     "output_type": "stream",
     "text": [
      "100%|████████████████████████████████████████████████| 50/50 [42:58<00:00, 51.57s/trial, best loss: -0.835820895522388]\n"
     ]
    },
    {
     "name": "stderr",
     "output_type": "stream",
     "text": [
      "C:\\Users\\Hovsep\\AppData\\Roaming\\mamba\\envs\\tabpfn\\lib\\site-packages\\tabpfn\\classifier.py:431: UserWarning: Running on CPU with more than 200 samples may be slow.\n",
      "Consider using a GPU or the tabpfn-client API: https://github.com/PriorLabs/tabpfn-client\n",
      "  check_cpu_warning(self.device, X)\n"
     ]
    }
   ],
   "source": [
    "from tabpfn_extensions.hpo import TunedTabPFNClassifier\n",
    "\n",
    "# Create a tuned classifier with 50 optimization trials\n",
    "tuned_clf = TunedTabPFNClassifier(\n",
    "    n_trials=50,                    # Number of hyperparameter configurations to try\n",
    "    metric='roc_auc',              # Metric to optimize\n",
    "    categorical_feature_indices=[0, 2],  # Categorical features\n",
    "    random_state=42                 # For reproducibility\n",
    ")\n",
    "\n",
    "# Fit will automatically find the best hyperparameters\n",
    "tuned_clf.fit(X_train, y_train)\n",
    "\n",
    "# Use like any scikit-learn estimator\n",
    "y_pred = tuned_clf.predict(X_test)"
   ]
  },
  {
   "cell_type": "code",
   "execution_count": 25,
   "id": "8970416a",
   "metadata": {},
   "outputs": [
    {
     "name": "stderr",
     "output_type": "stream",
     "text": [
      "C:\\Users\\Hovsep\\AppData\\Roaming\\mamba\\envs\\tabpfn\\lib\\site-packages\\tabpfn\\classifier.py:431: UserWarning: Running on CPU with more than 200 samples may be slow.\n",
      "Consider using a GPU or the tabpfn-client API: https://github.com/PriorLabs/tabpfn-client\n",
      "  check_cpu_warning(self.device, X)\n"
     ]
    },
    {
     "data": {
      "text/plain": [
       "array([[0.73074007, 0.26925993],\n",
       "       [0.8795687 , 0.1204313 ],\n",
       "       [0.88711888, 0.11288112],\n",
       "       [0.93638292, 0.06361708],\n",
       "       [0.86568275, 0.13431725],\n",
       "       [0.88322412, 0.11677588],\n",
       "       [0.87651786, 0.12348214],\n",
       "       [0.40098746, 0.59901254],\n",
       "       [0.83786645, 0.16213355],\n",
       "       [0.8866648 , 0.1133352 ],\n",
       "       [0.89190365, 0.10809635],\n",
       "       [0.8335162 , 0.1664838 ],\n",
       "       [0.8518206 , 0.1481794 ],\n",
       "       [0.92616078, 0.07383922],\n",
       "       [0.61038816, 0.38961184],\n",
       "       [0.8934478 , 0.1065522 ],\n",
       "       [0.86036568, 0.13963432],\n",
       "       [0.85813031, 0.14186969],\n",
       "       [0.85381824, 0.14618176],\n",
       "       [0.64784149, 0.35215851],\n",
       "       [0.89268423, 0.10731577],\n",
       "       [0.64605457, 0.35394543],\n",
       "       [0.88978739, 0.11021261],\n",
       "       [0.47542359, 0.52457641],\n",
       "       [0.89107564, 0.10892436],\n",
       "       [0.88750876, 0.11249124],\n",
       "       [0.90212709, 0.09787291],\n",
       "       [0.91504431, 0.08495569],\n",
       "       [0.87895426, 0.12104574],\n",
       "       [0.85724623, 0.14275377],\n",
       "       [0.87263526, 0.12736474],\n",
       "       [0.86547634, 0.13452366],\n",
       "       [0.86268887, 0.13731113],\n",
       "       [0.78860731, 0.21139269],\n",
       "       [0.44534859, 0.55465141],\n",
       "       [0.91162387, 0.08837613],\n",
       "       [0.86464681, 0.13535319],\n",
       "       [0.86156823, 0.13843177],\n",
       "       [0.85548478, 0.14451522],\n",
       "       [0.87092816, 0.12907184],\n",
       "       [0.91681252, 0.08318748],\n",
       "       [0.90466338, 0.09533662],\n",
       "       [0.82051539, 0.17948461],\n",
       "       [0.88007346, 0.11992654],\n",
       "       [0.69544931, 0.30455069],\n",
       "       [0.85607649, 0.14392351],\n",
       "       [0.85776073, 0.14223927],\n",
       "       [0.85798323, 0.14201677],\n",
       "       [0.86535252, 0.13464748],\n",
       "       [0.8655211 , 0.1344789 ],\n",
       "       [0.73825347, 0.26174653],\n",
       "       [0.50637035, 0.49362965],\n",
       "       [0.87719574, 0.12280426],\n",
       "       [0.85777727, 0.14222273],\n",
       "       [0.93074028, 0.06925972],\n",
       "       [0.90342734, 0.09657266],\n",
       "       [0.88818836, 0.11181164],\n",
       "       [0.84744487, 0.15255513],\n",
       "       [0.85458902, 0.14541098],\n",
       "       [0.85312876, 0.14687124],\n",
       "       [0.87759189, 0.12240811],\n",
       "       [0.51484931, 0.48515069],\n",
       "       [0.41242611, 0.58757389],\n",
       "       [0.9003529 , 0.0996471 ],\n",
       "       [0.6500239 , 0.3499761 ],\n",
       "       [0.52147969, 0.47852031],\n",
       "       [0.88393758, 0.11606242],\n",
       "       [0.87685887, 0.12314113],\n",
       "       [0.85753371, 0.14246629],\n",
       "       [0.86410654, 0.13589346],\n",
       "       [0.89587504, 0.10412496],\n",
       "       [0.86229037, 0.13770963],\n",
       "       [0.8959543 , 0.1040457 ],\n",
       "       [0.85448414, 0.14551586],\n",
       "       [0.37793751, 0.62206249],\n",
       "       [0.86799923, 0.13200077],\n",
       "       [0.86192456, 0.13807544],\n",
       "       [0.89160788, 0.10839212],\n",
       "       [0.89508724, 0.10491276],\n",
       "       [0.70298799, 0.29701201],\n",
       "       [0.8810496 , 0.1189504 ],\n",
       "       [0.44573935, 0.55426065],\n",
       "       [0.88275434, 0.11724566],\n",
       "       [0.521356  , 0.478644  ],\n",
       "       [0.41943914, 0.58056086],\n",
       "       [0.88867912, 0.11132088],\n",
       "       [0.85233514, 0.14766486],\n",
       "       [0.89846171, 0.10153829],\n",
       "       [0.86383426, 0.13616574],\n",
       "       [0.41502778, 0.58497222],\n",
       "       [0.88771124, 0.11228876],\n",
       "       [0.48899438, 0.51100562],\n",
       "       [0.88458927, 0.11541073],\n",
       "       [0.88255148, 0.11744852],\n",
       "       [0.86431195, 0.13568805],\n",
       "       [0.81276544, 0.18723456],\n",
       "       [0.8571027 , 0.1428973 ],\n",
       "       [0.88521028, 0.11478972],\n",
       "       [0.83338622, 0.16661378],\n",
       "       [0.61915344, 0.38084656],\n",
       "       [0.88266987, 0.11733013],\n",
       "       [0.74794662, 0.25205338],\n",
       "       [0.88708453, 0.11291547],\n",
       "       [0.86268406, 0.13731594],\n",
       "       [0.84572992, 0.15427008],\n",
       "       [0.85231479, 0.14768521],\n",
       "       [0.91595174, 0.08404826],\n",
       "       [0.87144265, 0.12855735],\n",
       "       [0.87148527, 0.12851473],\n",
       "       [0.64840418, 0.35159582],\n",
       "       [0.69632445, 0.30367555],\n",
       "       [0.85402446, 0.14597554],\n",
       "       [0.7423051 , 0.2576949 ],\n",
       "       [0.46259223, 0.53740777],\n",
       "       [0.84880955, 0.15119045],\n",
       "       [0.87846031, 0.12153969],\n",
       "       [0.85536814, 0.14463186],\n",
       "       [0.85235365, 0.14764635],\n",
       "       [0.91557513, 0.08442487],\n",
       "       [0.6545773 , 0.3454227 ],\n",
       "       [0.8574994 , 0.1425006 ],\n",
       "       [0.83793208, 0.16206792],\n",
       "       [0.6789965 , 0.3210035 ],\n",
       "       [0.88500694, 0.11499306],\n",
       "       [0.90961819, 0.09038181],\n",
       "       [0.87831442, 0.12168558],\n",
       "       [0.87198148, 0.12801852],\n",
       "       [0.86727452, 0.13272548],\n",
       "       [0.85937707, 0.14062293],\n",
       "       [0.90407843, 0.09592157],\n",
       "       [0.89041051, 0.10958949],\n",
       "       [0.78986139, 0.21013861],\n",
       "       [0.85724707, 0.14275293],\n",
       "       [0.87575885, 0.12424115],\n",
       "       [0.86304396, 0.13695604],\n",
       "       [0.92349993, 0.07650007],\n",
       "       [0.39062041, 0.60937959],\n",
       "       [0.83956185, 0.16043815],\n",
       "       [0.86218047, 0.13781953],\n",
       "       [0.87182933, 0.12817067],\n",
       "       [0.82853997, 0.17146003],\n",
       "       [0.86635723, 0.13364277],\n",
       "       [0.85378877, 0.14621123],\n",
       "       [0.89945471, 0.10054529],\n",
       "       [0.88409783, 0.11590217],\n",
       "       [0.86217054, 0.13782946],\n",
       "       [0.86195943, 0.13804057],\n",
       "       [0.76548941, 0.23451059],\n",
       "       [0.83272967, 0.16727033],\n",
       "       [0.88855039, 0.11144961],\n",
       "       [0.88312445, 0.11687555],\n",
       "       [0.45892428, 0.54107572],\n",
       "       [0.88045222, 0.11954778],\n",
       "       [0.88103545, 0.11896455],\n",
       "       [0.87207609, 0.12792391],\n",
       "       [0.88716965, 0.11283035],\n",
       "       [0.90809237, 0.09190763],\n",
       "       [0.79098126, 0.20901874],\n",
       "       [0.87716269, 0.12283731],\n",
       "       [0.8677214 , 0.1322786 ],\n",
       "       [0.88654292, 0.11345708],\n",
       "       [0.88350737, 0.11649263],\n",
       "       [0.42109896, 0.57890104],\n",
       "       [0.88602267, 0.11397733],\n",
       "       [0.8652048 , 0.1347952 ],\n",
       "       [0.58220766, 0.41779234],\n",
       "       [0.87423597, 0.12576403],\n",
       "       [0.86847091, 0.13152909],\n",
       "       [0.851989  , 0.148011  ],\n",
       "       [0.87972587, 0.12027413],\n",
       "       [0.88155678, 0.11844322],\n",
       "       [0.86592135, 0.13407865],\n",
       "       [0.85928246, 0.14071754],\n",
       "       [0.62019801, 0.37980199],\n",
       "       [0.90396043, 0.09603957],\n",
       "       [0.66980342, 0.33019658],\n",
       "       [0.88735214, 0.11264786],\n",
       "       [0.52408573, 0.47591427],\n",
       "       [0.86447472, 0.13552528],\n",
       "       [0.8908092 , 0.1091908 ],\n",
       "       [0.84729358, 0.15270642],\n",
       "       [0.51500289, 0.48499711],\n",
       "       [0.89905477, 0.10094523],\n",
       "       [0.62182174, 0.37817826],\n",
       "       [0.90293669, 0.09706331],\n",
       "       [0.86448077, 0.13551923],\n",
       "       [0.85449411, 0.14550589],\n",
       "       [0.69879236, 0.30120764],\n",
       "       [0.87679097, 0.12320903],\n",
       "       [0.4256693 , 0.5743307 ],\n",
       "       [0.88605624, 0.11394376],\n",
       "       [0.88327358, 0.11672642],\n",
       "       [0.85999763, 0.14000237],\n",
       "       [0.60919185, 0.39080815],\n",
       "       [0.81986752, 0.18013248],\n",
       "       [0.88404346, 0.11595654],\n",
       "       [0.63100356, 0.36899644],\n",
       "       [0.86700322, 0.13299678],\n",
       "       [0.45644935, 0.54355065],\n",
       "       [0.85754155, 0.14245845],\n",
       "       [0.86234972, 0.13765028],\n",
       "       [0.87408472, 0.12591528],\n",
       "       [0.86782351, 0.13217649],\n",
       "       [0.80881498, 0.19118502],\n",
       "       [0.39817743, 0.60182257],\n",
       "       [0.85229524, 0.14770476],\n",
       "       [0.88359345, 0.11640655],\n",
       "       [0.85827902, 0.14172098],\n",
       "       [0.86618191, 0.13381809],\n",
       "       [0.87048507, 0.12951493],\n",
       "       [0.85114418, 0.14885582],\n",
       "       [0.87266356, 0.12733644],\n",
       "       [0.88120639, 0.11879361],\n",
       "       [0.80756755, 0.19243245],\n",
       "       [0.92887427, 0.07112573],\n",
       "       [0.85704398, 0.14295602],\n",
       "       [0.78268228, 0.21731772],\n",
       "       [0.86177266, 0.13822734],\n",
       "       [0.85155213, 0.14844787],\n",
       "       [0.80380938, 0.19619062],\n",
       "       [0.90812838, 0.09187162],\n",
       "       [0.87223229, 0.12776771],\n",
       "       [0.86233301, 0.13766699],\n",
       "       [0.86050657, 0.13949343],\n",
       "       [0.55844975, 0.44155025],\n",
       "       [0.86800808, 0.13199192],\n",
       "       [0.89411235, 0.10588765],\n",
       "       [0.85150013, 0.14849987],\n",
       "       [0.47070692, 0.52929308],\n",
       "       [0.85439223, 0.14560777],\n",
       "       [0.88444438, 0.11555562],\n",
       "       [0.64663269, 0.35336731],\n",
       "       [0.80015473, 0.19984527],\n",
       "       [0.51120479, 0.48879521],\n",
       "       [0.92313223, 0.07686777],\n",
       "       [0.50343996, 0.49656004],\n",
       "       [0.60145451, 0.39854549],\n",
       "       [0.85008358, 0.14991642],\n",
       "       [0.86427818, 0.13572182],\n",
       "       [0.69566544, 0.30433456],\n",
       "       [0.86223442, 0.13776558],\n",
       "       [0.86905077, 0.13094923],\n",
       "       [0.84817997, 0.15182003],\n",
       "       [0.87446741, 0.12553259],\n",
       "       [0.89649504, 0.10350496],\n",
       "       [0.6483238 , 0.3516762 ],\n",
       "       [0.88012712, 0.11987288],\n",
       "       [0.86683519, 0.13316481],\n",
       "       [0.85382344, 0.14617656],\n",
       "       [0.527752  , 0.472248  ],\n",
       "       [0.85614146, 0.14385854],\n",
       "       [0.82178332, 0.17821668],\n",
       "       [0.85573796, 0.14426204],\n",
       "       [0.84118135, 0.15881865],\n",
       "       [0.88132961, 0.11867039],\n",
       "       [0.87845577, 0.12154423],\n",
       "       [0.89492081, 0.10507919],\n",
       "       [0.88317608, 0.11682392],\n",
       "       [0.89034088, 0.10965912],\n",
       "       [0.8614895 , 0.1385105 ],\n",
       "       [0.88343116, 0.11656884],\n",
       "       [0.85637077, 0.14362923],\n",
       "       [0.87944435, 0.12055565],\n",
       "       [0.84341514, 0.15658486],\n",
       "       [0.88071094, 0.11928906],\n",
       "       [0.88424912, 0.11575088],\n",
       "       [0.4162422 , 0.5837578 ],\n",
       "       [0.88090148, 0.11909852],\n",
       "       [0.86818104, 0.13181896],\n",
       "       [0.43292236, 0.56707764],\n",
       "       [0.86315783, 0.13684217],\n",
       "       [0.91260035, 0.08739965],\n",
       "       [0.89620787, 0.10379213],\n",
       "       [0.61164427, 0.38835573],\n",
       "       [0.89026703, 0.10973297],\n",
       "       [0.8893521 , 0.1106479 ],\n",
       "       [0.8851272 , 0.1148728 ],\n",
       "       [0.44900894, 0.55099106],\n",
       "       [0.88014685, 0.11985315],\n",
       "       [0.65204567, 0.34795433],\n",
       "       [0.89592424, 0.10407576],\n",
       "       [0.86843626, 0.13156374],\n",
       "       [0.87904839, 0.12095161],\n",
       "       [0.86479599, 0.13520401],\n",
       "       [0.68908415, 0.31091585],\n",
       "       [0.85170661, 0.14829339],\n",
       "       [0.87572593, 0.12427407],\n",
       "       [0.84362802, 0.15637198],\n",
       "       [0.85737966, 0.14262034],\n",
       "       [0.84808299, 0.15191701],\n",
       "       [0.86788776, 0.13211224],\n",
       "       [0.86859602, 0.13140398],\n",
       "       [0.57063615, 0.42936385],\n",
       "       [0.64998549, 0.35001451],\n",
       "       [0.38950018, 0.61049982],\n",
       "       [0.90069266, 0.09930734],\n",
       "       [0.83840237, 0.16159763],\n",
       "       [0.86381423, 0.13618577],\n",
       "       [0.85446184, 0.14553816],\n",
       "       [0.89219345, 0.10780655],\n",
       "       [0.6464799 , 0.3535201 ],\n",
       "       [0.8569127 , 0.1430873 ],\n",
       "       [0.85688406, 0.14311594],\n",
       "       [0.8769112 , 0.1230888 ],\n",
       "       [0.52590281, 0.47409719],\n",
       "       [0.84522102, 0.15477898],\n",
       "       [0.85941479, 0.14058521],\n",
       "       [0.88312623, 0.11687377],\n",
       "       [0.84842959, 0.15157041],\n",
       "       [0.89712395, 0.10287605],\n",
       "       [0.87746954, 0.12253046],\n",
       "       [0.8756097 , 0.1243903 ],\n",
       "       [0.87895487, 0.12104513],\n",
       "       [0.55293292, 0.44706708],\n",
       "       [0.87876521, 0.12123479],\n",
       "       [0.86909802, 0.13090198],\n",
       "       [0.50781585, 0.49218415],\n",
       "       [0.65024225, 0.34975775],\n",
       "       [0.88810336, 0.11189664],\n",
       "       [0.86305222, 0.13694778],\n",
       "       [0.64231765, 0.35768235],\n",
       "       [0.60611053, 0.39388947],\n",
       "       [0.85692992, 0.14307008],\n",
       "       [0.86438081, 0.13561919],\n",
       "       [0.84846996, 0.15153004],\n",
       "       [0.87261568, 0.12738432],\n",
       "       [0.82998881, 0.17001119],\n",
       "       [0.88074619, 0.11925381],\n",
       "       [0.86748239, 0.13251761],\n",
       "       [0.85799787, 0.14200213]])"
      ]
     },
     "execution_count": 25,
     "metadata": {},
     "output_type": "execute_result"
    }
   ],
   "source": [
    " tuned_clf.predict_proba(X_test)"
   ]
  },
  {
   "cell_type": "code",
   "execution_count": 14,
   "id": "61efa81a",
   "metadata": {},
   "outputs": [],
   "source": [
    "df_gmsc = pd.read_csv(r'C:\\Users\\Hovsep\\Desktop\\Hovsep\\German\\HU studies\\Semester 3\\Applied Predictive Analytics\\TABPFNCredit-APA25\\data\\pd\\01 kaggle_give me some credit\\gmsc.csv')"
   ]
  },
  {
   "cell_type": "code",
   "execution_count": 15,
   "id": "6ef982cc",
   "metadata": {},
   "outputs": [
    {
     "data": {
      "text/html": [
       "<div>\n",
       "<style scoped>\n",
       "    .dataframe tbody tr th:only-of-type {\n",
       "        vertical-align: middle;\n",
       "    }\n",
       "\n",
       "    .dataframe tbody tr th {\n",
       "        vertical-align: top;\n",
       "    }\n",
       "\n",
       "    .dataframe thead th {\n",
       "        text-align: right;\n",
       "    }\n",
       "</style>\n",
       "<table border=\"1\" class=\"dataframe\">\n",
       "  <thead>\n",
       "    <tr style=\"text-align: right;\">\n",
       "      <th></th>\n",
       "      <th>SeriousDlqin2yrs</th>\n",
       "      <th>RevolvingUtilizationOfUnsecuredLines</th>\n",
       "      <th>age</th>\n",
       "      <th>NumberOfTime30-59DaysPastDueNotWorse</th>\n",
       "      <th>DebtRatio</th>\n",
       "      <th>MonthlyIncome</th>\n",
       "      <th>NumberOfOpenCreditLinesAndLoans</th>\n",
       "      <th>NumberOfTimes90DaysLate</th>\n",
       "      <th>NumberRealEstateLoansOrLines</th>\n",
       "      <th>NumberOfTime60-89DaysPastDueNotWorse</th>\n",
       "      <th>NumberOfDependents</th>\n",
       "    </tr>\n",
       "  </thead>\n",
       "  <tbody>\n",
       "    <tr>\n",
       "      <th>0</th>\n",
       "      <td>1</td>\n",
       "      <td>0.766127</td>\n",
       "      <td>45</td>\n",
       "      <td>2</td>\n",
       "      <td>0.802982</td>\n",
       "      <td>9120.0</td>\n",
       "      <td>13</td>\n",
       "      <td>0</td>\n",
       "      <td>6</td>\n",
       "      <td>0</td>\n",
       "      <td>2.0</td>\n",
       "    </tr>\n",
       "    <tr>\n",
       "      <th>1</th>\n",
       "      <td>0</td>\n",
       "      <td>0.957151</td>\n",
       "      <td>40</td>\n",
       "      <td>0</td>\n",
       "      <td>0.121876</td>\n",
       "      <td>2600.0</td>\n",
       "      <td>4</td>\n",
       "      <td>0</td>\n",
       "      <td>0</td>\n",
       "      <td>0</td>\n",
       "      <td>1.0</td>\n",
       "    </tr>\n",
       "    <tr>\n",
       "      <th>2</th>\n",
       "      <td>0</td>\n",
       "      <td>0.658180</td>\n",
       "      <td>38</td>\n",
       "      <td>1</td>\n",
       "      <td>0.085113</td>\n",
       "      <td>3042.0</td>\n",
       "      <td>2</td>\n",
       "      <td>1</td>\n",
       "      <td>0</td>\n",
       "      <td>0</td>\n",
       "      <td>0.0</td>\n",
       "    </tr>\n",
       "    <tr>\n",
       "      <th>3</th>\n",
       "      <td>0</td>\n",
       "      <td>0.233810</td>\n",
       "      <td>30</td>\n",
       "      <td>0</td>\n",
       "      <td>0.036050</td>\n",
       "      <td>3300.0</td>\n",
       "      <td>5</td>\n",
       "      <td>0</td>\n",
       "      <td>0</td>\n",
       "      <td>0</td>\n",
       "      <td>0.0</td>\n",
       "    </tr>\n",
       "    <tr>\n",
       "      <th>4</th>\n",
       "      <td>0</td>\n",
       "      <td>0.907239</td>\n",
       "      <td>49</td>\n",
       "      <td>1</td>\n",
       "      <td>0.024926</td>\n",
       "      <td>63588.0</td>\n",
       "      <td>7</td>\n",
       "      <td>0</td>\n",
       "      <td>1</td>\n",
       "      <td>0</td>\n",
       "      <td>0.0</td>\n",
       "    </tr>\n",
       "    <tr>\n",
       "      <th>...</th>\n",
       "      <td>...</td>\n",
       "      <td>...</td>\n",
       "      <td>...</td>\n",
       "      <td>...</td>\n",
       "      <td>...</td>\n",
       "      <td>...</td>\n",
       "      <td>...</td>\n",
       "      <td>...</td>\n",
       "      <td>...</td>\n",
       "      <td>...</td>\n",
       "      <td>...</td>\n",
       "    </tr>\n",
       "    <tr>\n",
       "      <th>149995</th>\n",
       "      <td>0</td>\n",
       "      <td>0.040674</td>\n",
       "      <td>74</td>\n",
       "      <td>0</td>\n",
       "      <td>0.225131</td>\n",
       "      <td>2100.0</td>\n",
       "      <td>4</td>\n",
       "      <td>0</td>\n",
       "      <td>1</td>\n",
       "      <td>0</td>\n",
       "      <td>0.0</td>\n",
       "    </tr>\n",
       "    <tr>\n",
       "      <th>149996</th>\n",
       "      <td>0</td>\n",
       "      <td>0.299745</td>\n",
       "      <td>44</td>\n",
       "      <td>0</td>\n",
       "      <td>0.716562</td>\n",
       "      <td>5584.0</td>\n",
       "      <td>4</td>\n",
       "      <td>0</td>\n",
       "      <td>1</td>\n",
       "      <td>0</td>\n",
       "      <td>2.0</td>\n",
       "    </tr>\n",
       "    <tr>\n",
       "      <th>149997</th>\n",
       "      <td>0</td>\n",
       "      <td>0.246044</td>\n",
       "      <td>58</td>\n",
       "      <td>0</td>\n",
       "      <td>3870.000000</td>\n",
       "      <td>NaN</td>\n",
       "      <td>18</td>\n",
       "      <td>0</td>\n",
       "      <td>1</td>\n",
       "      <td>0</td>\n",
       "      <td>0.0</td>\n",
       "    </tr>\n",
       "    <tr>\n",
       "      <th>149998</th>\n",
       "      <td>0</td>\n",
       "      <td>0.000000</td>\n",
       "      <td>30</td>\n",
       "      <td>0</td>\n",
       "      <td>0.000000</td>\n",
       "      <td>5716.0</td>\n",
       "      <td>4</td>\n",
       "      <td>0</td>\n",
       "      <td>0</td>\n",
       "      <td>0</td>\n",
       "      <td>0.0</td>\n",
       "    </tr>\n",
       "    <tr>\n",
       "      <th>149999</th>\n",
       "      <td>0</td>\n",
       "      <td>0.850283</td>\n",
       "      <td>64</td>\n",
       "      <td>0</td>\n",
       "      <td>0.249908</td>\n",
       "      <td>8158.0</td>\n",
       "      <td>8</td>\n",
       "      <td>0</td>\n",
       "      <td>2</td>\n",
       "      <td>0</td>\n",
       "      <td>0.0</td>\n",
       "    </tr>\n",
       "  </tbody>\n",
       "</table>\n",
       "<p>150000 rows × 11 columns</p>\n",
       "</div>"
      ],
      "text/plain": [
       "        SeriousDlqin2yrs  RevolvingUtilizationOfUnsecuredLines  age  \\\n",
       "0                      1                              0.766127   45   \n",
       "1                      0                              0.957151   40   \n",
       "2                      0                              0.658180   38   \n",
       "3                      0                              0.233810   30   \n",
       "4                      0                              0.907239   49   \n",
       "...                  ...                                   ...  ...   \n",
       "149995                 0                              0.040674   74   \n",
       "149996                 0                              0.299745   44   \n",
       "149997                 0                              0.246044   58   \n",
       "149998                 0                              0.000000   30   \n",
       "149999                 0                              0.850283   64   \n",
       "\n",
       "        NumberOfTime30-59DaysPastDueNotWorse    DebtRatio  MonthlyIncome  \\\n",
       "0                                          2     0.802982         9120.0   \n",
       "1                                          0     0.121876         2600.0   \n",
       "2                                          1     0.085113         3042.0   \n",
       "3                                          0     0.036050         3300.0   \n",
       "4                                          1     0.024926        63588.0   \n",
       "...                                      ...          ...            ...   \n",
       "149995                                     0     0.225131         2100.0   \n",
       "149996                                     0     0.716562         5584.0   \n",
       "149997                                     0  3870.000000            NaN   \n",
       "149998                                     0     0.000000         5716.0   \n",
       "149999                                     0     0.249908         8158.0   \n",
       "\n",
       "        NumberOfOpenCreditLinesAndLoans  NumberOfTimes90DaysLate  \\\n",
       "0                                    13                        0   \n",
       "1                                     4                        0   \n",
       "2                                     2                        1   \n",
       "3                                     5                        0   \n",
       "4                                     7                        0   \n",
       "...                                 ...                      ...   \n",
       "149995                                4                        0   \n",
       "149996                                4                        0   \n",
       "149997                               18                        0   \n",
       "149998                                4                        0   \n",
       "149999                                8                        0   \n",
       "\n",
       "        NumberRealEstateLoansOrLines  NumberOfTime60-89DaysPastDueNotWorse  \\\n",
       "0                                  6                                     0   \n",
       "1                                  0                                     0   \n",
       "2                                  0                                     0   \n",
       "3                                  0                                     0   \n",
       "4                                  1                                     0   \n",
       "...                              ...                                   ...   \n",
       "149995                             1                                     0   \n",
       "149996                             1                                     0   \n",
       "149997                             1                                     0   \n",
       "149998                             0                                     0   \n",
       "149999                             2                                     0   \n",
       "\n",
       "        NumberOfDependents  \n",
       "0                      2.0  \n",
       "1                      1.0  \n",
       "2                      0.0  \n",
       "3                      0.0  \n",
       "4                      0.0  \n",
       "...                    ...  \n",
       "149995                 0.0  \n",
       "149996                 2.0  \n",
       "149997                 0.0  \n",
       "149998                 0.0  \n",
       "149999                 0.0  \n",
       "\n",
       "[150000 rows x 11 columns]"
      ]
     },
     "execution_count": 15,
     "metadata": {},
     "output_type": "execute_result"
    }
   ],
   "source": [
    "df_gmsc"
   ]
  },
  {
   "cell_type": "code",
   "execution_count": 17,
   "id": "6a1e8e20",
   "metadata": {},
   "outputs": [
    {
     "name": "stdout",
     "output_type": "stream",
     "text": [
      "01_gmsc preprocessed\n",
      "x shape:  (150000, 10)\n",
      "y shape:  (150000,)\n"
     ]
    }
   ],
   "source": [
    "def _preprocess_01_gmsc(_data: pd.DataFrame) -> tuple[np.ndarray, np.ndarray, list[str], list[str], list[str], list[int], list[int]]:\n",
    "\n",
    "    y = _data['SeriousDlqin2yrs'].values.astype(int)\n",
    "    x = _data.drop('SeriousDlqin2yrs', axis=1).values\n",
    "\n",
    "    cols = list(_data.drop('SeriousDlqin2yrs', axis=1).columns)\n",
    "\n",
    "    cols_cat = []\n",
    "    cols_num = cols\n",
    "\n",
    "    cols_cat_idx = []\n",
    "    cols_num_idx = list(range(len(cols)))\n",
    "\n",
    "    print(\"01_gmsc preprocessed\")\n",
    "    print(\"x shape: \", x.shape)\n",
    "    print(\"y shape: \", y.shape)\n",
    "\n",
    "    return x, y, cols, cols_cat, cols_num, cols_cat_idx, cols_num_idx\n",
    "\n",
    "x, y, cols, cols_cat, cols_num, cols_cat_idx, cols_num_idx = _preprocess_01_gmsc(df_gmsc)"
   ]
  },
  {
   "cell_type": "code",
   "execution_count": 19,
   "id": "ae0db3da",
   "metadata": {},
   "outputs": [
    {
     "data": {
      "text/plain": [
       "array([7.66126609e-01, 4.50000000e+01, 2.00000000e+00, 8.02982129e-01,\n",
       "       9.12000000e+03, 1.30000000e+01, 0.00000000e+00, 6.00000000e+00,\n",
       "       0.00000000e+00, 2.00000000e+00])"
      ]
     },
     "execution_count": 19,
     "metadata": {},
     "output_type": "execute_result"
    }
   ],
   "source": [
    "x[0]"
   ]
  }
 ],
 "metadata": {
  "kernelspec": {
   "display_name": "Python (tabpfn)",
   "language": "python",
   "name": "tabpfn"
  },
  "language_info": {
   "codemirror_mode": {
    "name": "ipython",
    "version": 3
   },
   "file_extension": ".py",
   "mimetype": "text/x-python",
   "name": "python",
   "nbconvert_exporter": "python",
   "pygments_lexer": "ipython3",
   "version": "3.10.16"
  }
 },
 "nbformat": 4,
 "nbformat_minor": 5
}
