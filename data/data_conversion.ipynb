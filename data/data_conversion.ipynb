{
 "cells": [
  {
   "cell_type": "code",
   "execution_count": 56,
   "id": "f8618b17ea194397",
   "metadata": {
    "collapsed": true,
    "ExecuteTime": {
     "end_time": "2025-01-23T14:57:55.450636600Z",
     "start_time": "2025-01-23T14:57:55.443290300Z"
    }
   },
   "outputs": [],
   "source": [
    "import pandas as pd\n",
    "from sas7bdat import SAS7BDAT\n",
    "import os"
   ]
  },
  {
   "cell_type": "code",
   "execution_count": 57,
   "outputs": [],
   "source": [
    "\n",
    "def convert_sas_to_csv(sas_file_path, csv_file_path):\n",
    "    # Read the .sas file\n",
    "    with SAS7BDAT(sas_file_path) as file:\n",
    "        df = file.to_data_frame()\n",
    "    \n",
    "    # Save to CSV\n",
    "    df.to_csv(csv_file_path, index=False)\n",
    "    "
   ],
   "metadata": {
    "collapsed": false,
    "ExecuteTime": {
     "end_time": "2025-01-23T14:57:55.697902500Z",
     "start_time": "2025-01-23T14:57:55.671908100Z"
    }
   },
   "id": "e8fb1448defd235c"
  },
  {
   "cell_type": "code",
   "execution_count": 58,
   "outputs": [],
   "source": [
    "def eda(df):\n",
    "#    print(df.head())\n",
    "#    print(df.info())\n",
    "#    print(df.describe())\n",
    "#    print(df.columns)\n",
    "    print(df.shape)\n",
    "#    print(df.isnull().sum())\n",
    "#    print(df.nunique())"
   ],
   "metadata": {
    "collapsed": false,
    "ExecuteTime": {
     "end_time": "2025-01-23T14:57:56.094896700Z",
     "start_time": "2025-01-23T14:57:56.072415600Z"
    }
   },
   "id": "f055494e654bb35a"
  },
  {
   "cell_type": "code",
   "execution_count": 59,
   "outputs": [],
   "source": [
    "DIR = r'C:\\Users\\u0148775\\PycharmProjects\\CreditScoring\\data'"
   ],
   "metadata": {
    "collapsed": false,
    "ExecuteTime": {
     "end_time": "2025-01-23T14:57:56.830783600Z",
     "start_time": "2025-01-23T14:57:56.775784400Z"
    }
   },
   "id": "124f9046fbff5a5e"
  },
  {
   "cell_type": "markdown",
   "source": [
    "# LGD Data"
   ],
   "metadata": {
    "collapsed": false
   },
   "id": "fc9df309a83357d3"
  },
  {
   "cell_type": "markdown",
   "source": [
    "## 01 heloc_lgd"
   ],
   "metadata": {
    "collapsed": false
   },
   "id": "861dd3542ff3be9c"
  },
  {
   "cell_type": "code",
   "execution_count": 60,
   "outputs": [],
   "source": [
    "convert_sas_to_csv(sas_file_path=os.path.join(DIR, 'lgd', '01 heloc_lgd', 'heloc_lgd.sas7bdat'),\n",
    "                   csv_file_path=os.path.join(DIR, 'lgd', '01 heloc_lgd', 'heloc_lgd.csv'))"
   ],
   "metadata": {
    "collapsed": false,
    "ExecuteTime": {
     "end_time": "2025-01-23T14:58:01.063153400Z",
     "start_time": "2025-01-23T14:57:58.230133300Z"
    }
   },
   "id": "9364b9a55b497760"
  },
  {
   "cell_type": "code",
   "execution_count": 61,
   "outputs": [
    {
     "name": "stderr",
     "output_type": "stream",
     "text": [
      "C:\\Users\\u0148775\\AppData\\Local\\Temp\\ipykernel_28012\\829123912.py:1: DtypeWarning: Columns (8) have mixed types. Specify dtype option on import or set low_memory=False.\n",
      "  df_01 = pd.read_csv(os.path.join(DIR, 'lgd', '01 heloc_lgd', 'heloc_lgd.csv'))\n"
     ]
    }
   ],
   "source": [
    "df_01 = pd.read_csv(os.path.join(DIR, 'lgd', '01 heloc_lgd', 'heloc_lgd.csv'))"
   ],
   "metadata": {
    "collapsed": false,
    "ExecuteTime": {
     "end_time": "2025-01-23T14:58:01.186896500Z",
     "start_time": "2025-01-23T14:58:01.065151100Z"
    }
   },
   "id": "b35d97031dbdf074"
  },
  {
   "cell_type": "code",
   "execution_count": 43,
   "outputs": [
    {
     "name": "stdout",
     "output_type": "stream",
     "text": [
      "(67898, 17)\n"
     ]
    }
   ],
   "source": [
    "eda(df_01)"
   ],
   "metadata": {
    "collapsed": false,
    "ExecuteTime": {
     "end_time": "2025-01-23T14:36:54.029722900Z",
     "start_time": "2025-01-23T14:36:54.011687600Z"
    }
   },
   "id": "initial_id"
  },
  {
   "cell_type": "markdown",
   "source": [
    "## 02 LGD ctx"
   ],
   "metadata": {
    "collapsed": false
   },
   "id": "d07127146920aa6c"
  },
  {
   "cell_type": "code",
   "execution_count": 44,
   "outputs": [
    {
     "ename": "ParserError",
     "evalue": "Error tokenizing data. C error: Expected 4 fields in line 5, saw 5\n",
     "output_type": "error",
     "traceback": [
      "\u001B[1;31m---------------------------------------------------------------------------\u001B[0m",
      "\u001B[1;31mParserError\u001B[0m                               Traceback (most recent call last)",
      "Cell \u001B[1;32mIn[44], line 1\u001B[0m\n\u001B[1;32m----> 1\u001B[0m df_02 \u001B[38;5;241m=\u001B[39m \u001B[43mpd\u001B[49m\u001B[38;5;241;43m.\u001B[39;49m\u001B[43mread_csv\u001B[49m\u001B[43m(\u001B[49m\u001B[38;5;124;43mr\u001B[39;49m\u001B[38;5;124;43m'\u001B[39;49m\u001B[38;5;124;43mC:\u001B[39;49m\u001B[38;5;124;43m\\\u001B[39;49m\u001B[38;5;124;43mUsers\u001B[39;49m\u001B[38;5;124;43m\\\u001B[39;49m\u001B[38;5;124;43mu0148775\u001B[39;49m\u001B[38;5;124;43m\\\u001B[39;49m\u001B[38;5;124;43mPycharmProjects\u001B[39;49m\u001B[38;5;124;43m\\\u001B[39;49m\u001B[38;5;124;43mCreditScoring\u001B[39;49m\u001B[38;5;124;43m\\\u001B[39;49m\u001B[38;5;124;43mdata\u001B[39;49m\u001B[38;5;124;43m\\\u001B[39;49m\u001B[38;5;124;43mlgd\u001B[39;49m\u001B[38;5;124;43m\\\u001B[39;49m\u001B[38;5;124;43m02 LGD ctx\u001B[39;49m\u001B[38;5;124;43m\\\u001B[39;49m\u001B[38;5;124;43mcrdata.csv\u001B[39;49m\u001B[38;5;124;43m'\u001B[39;49m\u001B[43m)\u001B[49m\n\u001B[0;32m      3\u001B[0m eda(df_02)\n",
      "File \u001B[1;32m~\\PycharmProjects\\CreditScoring\\venv\\lib\\site-packages\\pandas\\io\\parsers\\readers.py:1026\u001B[0m, in \u001B[0;36mread_csv\u001B[1;34m(filepath_or_buffer, sep, delimiter, header, names, index_col, usecols, dtype, engine, converters, true_values, false_values, skipinitialspace, skiprows, skipfooter, nrows, na_values, keep_default_na, na_filter, verbose, skip_blank_lines, parse_dates, infer_datetime_format, keep_date_col, date_parser, date_format, dayfirst, cache_dates, iterator, chunksize, compression, thousands, decimal, lineterminator, quotechar, quoting, doublequote, escapechar, comment, encoding, encoding_errors, dialect, on_bad_lines, delim_whitespace, low_memory, memory_map, float_precision, storage_options, dtype_backend)\u001B[0m\n\u001B[0;32m   1013\u001B[0m kwds_defaults \u001B[38;5;241m=\u001B[39m _refine_defaults_read(\n\u001B[0;32m   1014\u001B[0m     dialect,\n\u001B[0;32m   1015\u001B[0m     delimiter,\n\u001B[1;32m   (...)\u001B[0m\n\u001B[0;32m   1022\u001B[0m     dtype_backend\u001B[38;5;241m=\u001B[39mdtype_backend,\n\u001B[0;32m   1023\u001B[0m )\n\u001B[0;32m   1024\u001B[0m kwds\u001B[38;5;241m.\u001B[39mupdate(kwds_defaults)\n\u001B[1;32m-> 1026\u001B[0m \u001B[38;5;28;01mreturn\u001B[39;00m \u001B[43m_read\u001B[49m\u001B[43m(\u001B[49m\u001B[43mfilepath_or_buffer\u001B[49m\u001B[43m,\u001B[49m\u001B[43m \u001B[49m\u001B[43mkwds\u001B[49m\u001B[43m)\u001B[49m\n",
      "File \u001B[1;32m~\\PycharmProjects\\CreditScoring\\venv\\lib\\site-packages\\pandas\\io\\parsers\\readers.py:626\u001B[0m, in \u001B[0;36m_read\u001B[1;34m(filepath_or_buffer, kwds)\u001B[0m\n\u001B[0;32m    623\u001B[0m     \u001B[38;5;28;01mreturn\u001B[39;00m parser\n\u001B[0;32m    625\u001B[0m \u001B[38;5;28;01mwith\u001B[39;00m parser:\n\u001B[1;32m--> 626\u001B[0m     \u001B[38;5;28;01mreturn\u001B[39;00m \u001B[43mparser\u001B[49m\u001B[38;5;241;43m.\u001B[39;49m\u001B[43mread\u001B[49m\u001B[43m(\u001B[49m\u001B[43mnrows\u001B[49m\u001B[43m)\u001B[49m\n",
      "File \u001B[1;32m~\\PycharmProjects\\CreditScoring\\venv\\lib\\site-packages\\pandas\\io\\parsers\\readers.py:1923\u001B[0m, in \u001B[0;36mTextFileReader.read\u001B[1;34m(self, nrows)\u001B[0m\n\u001B[0;32m   1916\u001B[0m nrows \u001B[38;5;241m=\u001B[39m validate_integer(\u001B[38;5;124m\"\u001B[39m\u001B[38;5;124mnrows\u001B[39m\u001B[38;5;124m\"\u001B[39m, nrows)\n\u001B[0;32m   1917\u001B[0m \u001B[38;5;28;01mtry\u001B[39;00m:\n\u001B[0;32m   1918\u001B[0m     \u001B[38;5;66;03m# error: \"ParserBase\" has no attribute \"read\"\u001B[39;00m\n\u001B[0;32m   1919\u001B[0m     (\n\u001B[0;32m   1920\u001B[0m         index,\n\u001B[0;32m   1921\u001B[0m         columns,\n\u001B[0;32m   1922\u001B[0m         col_dict,\n\u001B[1;32m-> 1923\u001B[0m     ) \u001B[38;5;241m=\u001B[39m \u001B[38;5;28;43mself\u001B[39;49m\u001B[38;5;241;43m.\u001B[39;49m\u001B[43m_engine\u001B[49m\u001B[38;5;241;43m.\u001B[39;49m\u001B[43mread\u001B[49m\u001B[43m(\u001B[49m\u001B[43m  \u001B[49m\u001B[38;5;66;43;03m# type: ignore[attr-defined]\u001B[39;49;00m\n\u001B[0;32m   1924\u001B[0m \u001B[43m        \u001B[49m\u001B[43mnrows\u001B[49m\n\u001B[0;32m   1925\u001B[0m \u001B[43m    \u001B[49m\u001B[43m)\u001B[49m\n\u001B[0;32m   1926\u001B[0m \u001B[38;5;28;01mexcept\u001B[39;00m \u001B[38;5;167;01mException\u001B[39;00m:\n\u001B[0;32m   1927\u001B[0m     \u001B[38;5;28mself\u001B[39m\u001B[38;5;241m.\u001B[39mclose()\n",
      "File \u001B[1;32m~\\PycharmProjects\\CreditScoring\\venv\\lib\\site-packages\\pandas\\io\\parsers\\c_parser_wrapper.py:234\u001B[0m, in \u001B[0;36mCParserWrapper.read\u001B[1;34m(self, nrows)\u001B[0m\n\u001B[0;32m    232\u001B[0m \u001B[38;5;28;01mtry\u001B[39;00m:\n\u001B[0;32m    233\u001B[0m     \u001B[38;5;28;01mif\u001B[39;00m \u001B[38;5;28mself\u001B[39m\u001B[38;5;241m.\u001B[39mlow_memory:\n\u001B[1;32m--> 234\u001B[0m         chunks \u001B[38;5;241m=\u001B[39m \u001B[38;5;28;43mself\u001B[39;49m\u001B[38;5;241;43m.\u001B[39;49m\u001B[43m_reader\u001B[49m\u001B[38;5;241;43m.\u001B[39;49m\u001B[43mread_low_memory\u001B[49m\u001B[43m(\u001B[49m\u001B[43mnrows\u001B[49m\u001B[43m)\u001B[49m\n\u001B[0;32m    235\u001B[0m         \u001B[38;5;66;03m# destructive to chunks\u001B[39;00m\n\u001B[0;32m    236\u001B[0m         data \u001B[38;5;241m=\u001B[39m _concatenate_chunks(chunks)\n",
      "File \u001B[1;32mparsers.pyx:838\u001B[0m, in \u001B[0;36mpandas._libs.parsers.TextReader.read_low_memory\u001B[1;34m()\u001B[0m\n",
      "File \u001B[1;32mparsers.pyx:905\u001B[0m, in \u001B[0;36mpandas._libs.parsers.TextReader._read_rows\u001B[1;34m()\u001B[0m\n",
      "File \u001B[1;32mparsers.pyx:874\u001B[0m, in \u001B[0;36mpandas._libs.parsers.TextReader._tokenize_rows\u001B[1;34m()\u001B[0m\n",
      "File \u001B[1;32mparsers.pyx:891\u001B[0m, in \u001B[0;36mpandas._libs.parsers.TextReader._check_tokenize_status\u001B[1;34m()\u001B[0m\n",
      "File \u001B[1;32mparsers.pyx:2061\u001B[0m, in \u001B[0;36mpandas._libs.parsers.raise_parser_error\u001B[1;34m()\u001B[0m\n",
      "\u001B[1;31mParserError\u001B[0m: Error tokenizing data. C error: Expected 4 fields in line 5, saw 5\n"
     ]
    }
   ],
   "source": [
    "df_02 = pd.read_csv(r'C:\\Users\\u0148775\\PycharmProjects\\CreditScoring\\data\\lgd\\02 LGD ctx\\crdata.csv')\n",
    "\n",
    "eda(df_02)"
   ],
   "metadata": {
    "collapsed": false,
    "ExecuteTime": {
     "end_time": "2025-01-23T14:36:54.111745Z",
     "start_time": "2025-01-23T14:36:54.029722900Z"
    }
   },
   "id": "acd223cc5144168a"
  },
  {
   "cell_type": "code",
   "execution_count": 44,
   "outputs": [],
   "source": [],
   "metadata": {
    "collapsed": false,
    "ExecuteTime": {
     "end_time": "2025-01-23T14:36:54.201628100Z",
     "start_time": "2025-01-23T14:36:54.191870800Z"
    }
   },
   "id": "320a34799b61b891"
  },
  {
   "cell_type": "markdown",
   "source": [
    "## 03 loss2"
   ],
   "metadata": {
    "collapsed": false
   },
   "id": "30c6dd6a833d742a"
  },
  {
   "cell_type": "code",
   "execution_count": 0,
   "outputs": [],
   "source": [
    "convert_sas_to_csv(sas_file_path=os.path.join(DIR, 'lgd', '03 loss2', 'loss2.sas7bdat'),\n",
    "                   csv_file_path=os.path.join(DIR, 'lgd', '03 loss2', 'loss2.csv'))"
   ],
   "metadata": {
    "collapsed": false
   },
   "id": "cbda7c67d661d305"
  },
  {
   "cell_type": "code",
   "execution_count": 45,
   "outputs": [
    {
     "name": "stdout",
     "output_type": "stream",
     "text": [
      "(4802, 72)\n"
     ]
    }
   ],
   "source": [
    "df_03 = pd.read_csv(os.path.join(DIR, 'lgd', '03 loss2', 'loss2.csv'))\n",
    "\n",
    "eda(df_03)"
   ],
   "metadata": {
    "collapsed": false,
    "ExecuteTime": {
     "start_time": "2025-01-23T14:36:54.968455800Z"
    }
   },
   "id": "a56d399abfbf46ad"
  },
  {
   "cell_type": "code",
   "execution_count": 62,
   "outputs": [
    {
     "data": {
      "text/plain": "   Alltel_Client            Loan_Category State  UPB_At_Resolution  \\\n0            472                 CONVENTI    IA           62866.07   \n1            472  CONVENTIONAL CONFORMING    NH          166570.84   \n2            472  CONVENTIONAL CONFORMING    CO           67452.44   \n3            685  CONVENTIONAL CONFORMING    ID          131335.10   \n4            472                 CONVENTI    MO           98359.30   \n\n   Unpaid_Interest  Total_Debt  Servicing_Loss  REO_Sales_Price  \\\n0             0.00     4510.47             NaN             0.00   \n1          5895.63   188211.41             NaN       -197500.00   \n2          3398.12    75606.50             NaN        -64000.00   \n3          8283.33   145932.00             NaN        150000.00   \n4          2674.30   116840.29             NaN        -80602.85   \n\n   Original_Appraised_Value  REO_Appraisal_Amount  ...      _Proceeds  \\\n0                   70000.0                   NaN  ...   20223.112591   \n1                  213000.0              220000.0  ...  185327.130000   \n2                   69000.0               67000.0  ...   58252.010000   \n3                  165000.0              147000.0  ...  138251.010000   \n4                       NaN                   NaN  ...   71259.570000   \n\n       _ELGDnum1     _ELGDnum2     _ELGD   _Loss_Amount       lr1  \\\n0   71184.713433  50961.600842  0.791509   13423.732516  0.208491   \n1  192793.081733   7465.951733  0.043799  162991.541200  0.956201   \n2   78239.151067  19987.141067  0.289558   49039.189200  0.710442   \n3  158344.873667  20093.863667  0.149144  114634.059750  0.850856   \n4  127553.877709  56294.307709  0.558601   44482.991749  0.441399   \n\n         lss_amt    lss_rt MI_ind  id1  \n0   13423.732516  0.208491    1.0  1.0  \n1  162991.541200  0.956201    1.0  2.0  \n2   49039.189200  0.710442    1.0  3.0  \n3  114634.059750  0.850856    1.0  4.0  \n4   44482.991749  0.441399    0.0  5.0  \n\n[5 rows x 72 columns]",
      "text/html": "<div>\n<style scoped>\n    .dataframe tbody tr th:only-of-type {\n        vertical-align: middle;\n    }\n\n    .dataframe tbody tr th {\n        vertical-align: top;\n    }\n\n    .dataframe thead th {\n        text-align: right;\n    }\n</style>\n<table border=\"1\" class=\"dataframe\">\n  <thead>\n    <tr style=\"text-align: right;\">\n      <th></th>\n      <th>Alltel_Client</th>\n      <th>Loan_Category</th>\n      <th>State</th>\n      <th>UPB_At_Resolution</th>\n      <th>Unpaid_Interest</th>\n      <th>Total_Debt</th>\n      <th>Servicing_Loss</th>\n      <th>REO_Sales_Price</th>\n      <th>Original_Appraised_Value</th>\n      <th>REO_Appraisal_Amount</th>\n      <th>...</th>\n      <th>_Proceeds</th>\n      <th>_ELGDnum1</th>\n      <th>_ELGDnum2</th>\n      <th>_ELGD</th>\n      <th>_Loss_Amount</th>\n      <th>lr1</th>\n      <th>lss_amt</th>\n      <th>lss_rt</th>\n      <th>MI_ind</th>\n      <th>id1</th>\n    </tr>\n  </thead>\n  <tbody>\n    <tr>\n      <th>0</th>\n      <td>472</td>\n      <td>CONVENTI</td>\n      <td>IA</td>\n      <td>62866.07</td>\n      <td>0.00</td>\n      <td>4510.47</td>\n      <td>NaN</td>\n      <td>0.00</td>\n      <td>70000.0</td>\n      <td>NaN</td>\n      <td>...</td>\n      <td>20223.112591</td>\n      <td>71184.713433</td>\n      <td>50961.600842</td>\n      <td>0.791509</td>\n      <td>13423.732516</td>\n      <td>0.208491</td>\n      <td>13423.732516</td>\n      <td>0.208491</td>\n      <td>1.0</td>\n      <td>1.0</td>\n    </tr>\n    <tr>\n      <th>1</th>\n      <td>472</td>\n      <td>CONVENTIONAL CONFORMING</td>\n      <td>NH</td>\n      <td>166570.84</td>\n      <td>5895.63</td>\n      <td>188211.41</td>\n      <td>NaN</td>\n      <td>-197500.00</td>\n      <td>213000.0</td>\n      <td>220000.0</td>\n      <td>...</td>\n      <td>185327.130000</td>\n      <td>192793.081733</td>\n      <td>7465.951733</td>\n      <td>0.043799</td>\n      <td>162991.541200</td>\n      <td>0.956201</td>\n      <td>162991.541200</td>\n      <td>0.956201</td>\n      <td>1.0</td>\n      <td>2.0</td>\n    </tr>\n    <tr>\n      <th>2</th>\n      <td>472</td>\n      <td>CONVENTIONAL CONFORMING</td>\n      <td>CO</td>\n      <td>67452.44</td>\n      <td>3398.12</td>\n      <td>75606.50</td>\n      <td>NaN</td>\n      <td>-64000.00</td>\n      <td>69000.0</td>\n      <td>67000.0</td>\n      <td>...</td>\n      <td>58252.010000</td>\n      <td>78239.151067</td>\n      <td>19987.141067</td>\n      <td>0.289558</td>\n      <td>49039.189200</td>\n      <td>0.710442</td>\n      <td>49039.189200</td>\n      <td>0.710442</td>\n      <td>1.0</td>\n      <td>3.0</td>\n    </tr>\n    <tr>\n      <th>3</th>\n      <td>685</td>\n      <td>CONVENTIONAL CONFORMING</td>\n      <td>ID</td>\n      <td>131335.10</td>\n      <td>8283.33</td>\n      <td>145932.00</td>\n      <td>NaN</td>\n      <td>150000.00</td>\n      <td>165000.0</td>\n      <td>147000.0</td>\n      <td>...</td>\n      <td>138251.010000</td>\n      <td>158344.873667</td>\n      <td>20093.863667</td>\n      <td>0.149144</td>\n      <td>114634.059750</td>\n      <td>0.850856</td>\n      <td>114634.059750</td>\n      <td>0.850856</td>\n      <td>1.0</td>\n      <td>4.0</td>\n    </tr>\n    <tr>\n      <th>4</th>\n      <td>472</td>\n      <td>CONVENTI</td>\n      <td>MO</td>\n      <td>98359.30</td>\n      <td>2674.30</td>\n      <td>116840.29</td>\n      <td>NaN</td>\n      <td>-80602.85</td>\n      <td>NaN</td>\n      <td>NaN</td>\n      <td>...</td>\n      <td>71259.570000</td>\n      <td>127553.877709</td>\n      <td>56294.307709</td>\n      <td>0.558601</td>\n      <td>44482.991749</td>\n      <td>0.441399</td>\n      <td>44482.991749</td>\n      <td>0.441399</td>\n      <td>0.0</td>\n      <td>5.0</td>\n    </tr>\n  </tbody>\n</table>\n<p>5 rows × 72 columns</p>\n</div>"
     },
     "execution_count": 62,
     "metadata": {},
     "output_type": "execute_result"
    }
   ],
   "source": [
    "df_03.head()"
   ],
   "metadata": {
    "collapsed": false,
    "ExecuteTime": {
     "end_time": "2025-01-23T14:58:27.545782200Z",
     "start_time": "2025-01-23T14:58:27.511783Z"
    }
   },
   "id": "f985dd674bf081c9"
  },
  {
   "cell_type": "markdown",
   "source": [
    "## 04 extract_bart_baesens_5"
   ],
   "metadata": {
    "collapsed": false
   },
   "id": "bfbaba9e13aeac73"
  },
  {
   "cell_type": "code",
   "execution_count": 0,
   "outputs": [],
   "source": [
    "convert_sas_to_csv(sas_file_path=os.path.join(DIR, 'lgd', '04 extract_bart_baesens_5', 'extract_bart_baesens_5.sas7bdat'),\n",
    "                   csv_file_path=os.path.join(DIR, 'lgd', '04 extract_bart_baesens_5', 'extract_bart_baesens_5.csv'))"
   ],
   "metadata": {
    "collapsed": false
   },
   "id": "15dbfdeb2d35903d"
  },
  {
   "cell_type": "code",
   "execution_count": 63,
   "outputs": [
    {
     "name": "stdout",
     "output_type": "stream",
     "text": [
      "(3053, 179)\n"
     ]
    }
   ],
   "source": [
    "df_04 = pd.read_csv(os.path.join(DIR, 'lgd', '04 extract_bart_baesens_5', 'extract_bart_baesens_5.csv'))\n",
    "\n",
    "eda(df_04)"
   ],
   "metadata": {
    "collapsed": false,
    "ExecuteTime": {
     "end_time": "2025-01-23T14:59:31.130764100Z",
     "start_time": "2025-01-23T14:59:31.086407500Z"
    }
   },
   "id": "bee0239af333b1a2"
  },
  {
   "cell_type": "code",
   "execution_count": 64,
   "outputs": [
    {
     "data": {
      "text/plain": "   Account  Group  EXPOSURE_AT_DEFAULT_AMT   Rec_1  Rec_2   Rec_3   Rec_4  \\\n0      1.0    1.0                 13307.77  140.73    0.0  280.86  140.43   \n1      2.0    1.0                  6901.36    0.00    0.0  189.88    0.00   \n2      3.0    1.0                  2851.79   30.15    0.0   60.18   30.09   \n3      4.0    1.0                 14921.91  173.33    0.0  345.86  172.93   \n4      5.0    1.0                 22437.06    0.00    0.0  597.86  298.93   \n\n    Rec_5  Rec_6   Rec_7  ...  EE1_COST_AMT  EE1_INCOME_AMT  \\\n0  140.43   0.00  140.43  ...           NaN             NaN   \n1   94.94  94.94   94.94  ...           NaN             NaN   \n2   30.09   0.00   30.09  ...           NaN             NaN   \n3  172.93   0.00  172.93  ...           NaN             NaN   \n4  298.93   0.00  298.93  ...           NaN             NaN   \n\n   EE1_RATIO_COST_INCOME_CKP_PCT  EE1_RATIO_COST_INCOME_NO_CKP_PCT  purpose  \\\n0                            NaN                               NaN      2.0   \n1                            NaN                               NaN      3.0   \n2                            NaN                               NaN      2.0   \n3                            NaN                               NaN      3.0   \n4                            NaN                               NaN      3.0   \n\n   purpose_bis  income  EFFECTIVE_FROM_DT  EFFECTIVE_TO_DT  complete_dt  \n0          1.0     0.0         2005-03-19       9999-12-29   2016-01-01  \n1          4.0     0.0         2005-03-18       9999-12-29   2016-01-01  \n2          1.0     0.0         2005-03-19       9999-12-29   2016-01-01  \n3          4.0     0.0         2005-03-18       9999-12-29   2016-01-01  \n4          4.0     0.0         2005-03-18       9999-12-29   2016-01-01  \n\n[5 rows x 179 columns]",
      "text/html": "<div>\n<style scoped>\n    .dataframe tbody tr th:only-of-type {\n        vertical-align: middle;\n    }\n\n    .dataframe tbody tr th {\n        vertical-align: top;\n    }\n\n    .dataframe thead th {\n        text-align: right;\n    }\n</style>\n<table border=\"1\" class=\"dataframe\">\n  <thead>\n    <tr style=\"text-align: right;\">\n      <th></th>\n      <th>Account</th>\n      <th>Group</th>\n      <th>EXPOSURE_AT_DEFAULT_AMT</th>\n      <th>Rec_1</th>\n      <th>Rec_2</th>\n      <th>Rec_3</th>\n      <th>Rec_4</th>\n      <th>Rec_5</th>\n      <th>Rec_6</th>\n      <th>Rec_7</th>\n      <th>...</th>\n      <th>EE1_COST_AMT</th>\n      <th>EE1_INCOME_AMT</th>\n      <th>EE1_RATIO_COST_INCOME_CKP_PCT</th>\n      <th>EE1_RATIO_COST_INCOME_NO_CKP_PCT</th>\n      <th>purpose</th>\n      <th>purpose_bis</th>\n      <th>income</th>\n      <th>EFFECTIVE_FROM_DT</th>\n      <th>EFFECTIVE_TO_DT</th>\n      <th>complete_dt</th>\n    </tr>\n  </thead>\n  <tbody>\n    <tr>\n      <th>0</th>\n      <td>1.0</td>\n      <td>1.0</td>\n      <td>13307.77</td>\n      <td>140.73</td>\n      <td>0.0</td>\n      <td>280.86</td>\n      <td>140.43</td>\n      <td>140.43</td>\n      <td>0.00</td>\n      <td>140.43</td>\n      <td>...</td>\n      <td>NaN</td>\n      <td>NaN</td>\n      <td>NaN</td>\n      <td>NaN</td>\n      <td>2.0</td>\n      <td>1.0</td>\n      <td>0.0</td>\n      <td>2005-03-19</td>\n      <td>9999-12-29</td>\n      <td>2016-01-01</td>\n    </tr>\n    <tr>\n      <th>1</th>\n      <td>2.0</td>\n      <td>1.0</td>\n      <td>6901.36</td>\n      <td>0.00</td>\n      <td>0.0</td>\n      <td>189.88</td>\n      <td>0.00</td>\n      <td>94.94</td>\n      <td>94.94</td>\n      <td>94.94</td>\n      <td>...</td>\n      <td>NaN</td>\n      <td>NaN</td>\n      <td>NaN</td>\n      <td>NaN</td>\n      <td>3.0</td>\n      <td>4.0</td>\n      <td>0.0</td>\n      <td>2005-03-18</td>\n      <td>9999-12-29</td>\n      <td>2016-01-01</td>\n    </tr>\n    <tr>\n      <th>2</th>\n      <td>3.0</td>\n      <td>1.0</td>\n      <td>2851.79</td>\n      <td>30.15</td>\n      <td>0.0</td>\n      <td>60.18</td>\n      <td>30.09</td>\n      <td>30.09</td>\n      <td>0.00</td>\n      <td>30.09</td>\n      <td>...</td>\n      <td>NaN</td>\n      <td>NaN</td>\n      <td>NaN</td>\n      <td>NaN</td>\n      <td>2.0</td>\n      <td>1.0</td>\n      <td>0.0</td>\n      <td>2005-03-19</td>\n      <td>9999-12-29</td>\n      <td>2016-01-01</td>\n    </tr>\n    <tr>\n      <th>3</th>\n      <td>4.0</td>\n      <td>1.0</td>\n      <td>14921.91</td>\n      <td>173.33</td>\n      <td>0.0</td>\n      <td>345.86</td>\n      <td>172.93</td>\n      <td>172.93</td>\n      <td>0.00</td>\n      <td>172.93</td>\n      <td>...</td>\n      <td>NaN</td>\n      <td>NaN</td>\n      <td>NaN</td>\n      <td>NaN</td>\n      <td>3.0</td>\n      <td>4.0</td>\n      <td>0.0</td>\n      <td>2005-03-18</td>\n      <td>9999-12-29</td>\n      <td>2016-01-01</td>\n    </tr>\n    <tr>\n      <th>4</th>\n      <td>5.0</td>\n      <td>1.0</td>\n      <td>22437.06</td>\n      <td>0.00</td>\n      <td>0.0</td>\n      <td>597.86</td>\n      <td>298.93</td>\n      <td>298.93</td>\n      <td>0.00</td>\n      <td>298.93</td>\n      <td>...</td>\n      <td>NaN</td>\n      <td>NaN</td>\n      <td>NaN</td>\n      <td>NaN</td>\n      <td>3.0</td>\n      <td>4.0</td>\n      <td>0.0</td>\n      <td>2005-03-18</td>\n      <td>9999-12-29</td>\n      <td>2016-01-01</td>\n    </tr>\n  </tbody>\n</table>\n<p>5 rows × 179 columns</p>\n</div>"
     },
     "execution_count": 64,
     "metadata": {},
     "output_type": "execute_result"
    }
   ],
   "source": [
    "df_04.head()"
   ],
   "metadata": {
    "collapsed": false,
    "ExecuteTime": {
     "end_time": "2025-01-23T14:59:43.630068500Z",
     "start_time": "2025-01-23T14:59:43.586267200Z"
    }
   },
   "id": "2b29d080a16376e3"
  },
  {
   "cell_type": "markdown",
   "source": [
    "## 05 lgd_axa"
   ],
   "metadata": {
    "collapsed": false
   },
   "id": "40ce0ccebb05e040"
  },
  {
   "cell_type": "code",
   "execution_count": 0,
   "outputs": [],
   "source": [
    "convert_sas_to_csv(sas_file_path=os.path.join(DIR, 'lgd', '05 lgd_axa', 'lgd_axa.sas7bdat'),\n",
    "                   csv_file_path=os.path.join(DIR, 'lgd', '05 lgd_axa', 'lgd_axa.csv'))"
   ],
   "metadata": {
    "collapsed": false
   },
   "id": "bac5d97c728398d2"
  },
  {
   "cell_type": "code",
   "execution_count": 50,
   "outputs": [
    {
     "name": "stdout",
     "output_type": "stream",
     "text": [
      "(2545, 8)\n"
     ]
    }
   ],
   "source": [
    "df_05 = pd.read_csv(os.path.join(DIR, 'lgd', '05 lgd_axa', 'lgd_axa.csv'))\n",
    "\n",
    "eda(df_05)"
   ],
   "metadata": {
    "collapsed": false,
    "ExecuteTime": {
     "start_time": "2025-01-23T14:40:24.453943200Z"
    }
   },
   "id": "e2f5161a70bdf62c"
  },
  {
   "cell_type": "code",
   "execution_count": 65,
   "outputs": [
    {
     "data": {
      "text/plain": "        LTV  Recovery_rate  lgd_time  y_logistic      lnrr  Y_probit  \\\n0  0.214078       0.698016  0.301984   -0.837866 -0.359514 -0.518701   \n1  0.214078       0.780084  0.219916   -1.266157 -0.248354 -0.772477   \n2  0.214078       0.702287  0.297713   -0.858212 -0.353413 -0.530989   \n3  0.214078       0.753989  0.246011   -1.120001 -0.282378 -0.687096   \n4  0.214078       0.802813  0.197187   -1.403967 -0.219634 -0.851711   \n\n   purpose1  event  \n0       0.0    1.0  \n1       0.0    1.0  \n2       0.0    1.0  \n3       0.0    1.0  \n4       0.0    1.0  ",
      "text/html": "<div>\n<style scoped>\n    .dataframe tbody tr th:only-of-type {\n        vertical-align: middle;\n    }\n\n    .dataframe tbody tr th {\n        vertical-align: top;\n    }\n\n    .dataframe thead th {\n        text-align: right;\n    }\n</style>\n<table border=\"1\" class=\"dataframe\">\n  <thead>\n    <tr style=\"text-align: right;\">\n      <th></th>\n      <th>LTV</th>\n      <th>Recovery_rate</th>\n      <th>lgd_time</th>\n      <th>y_logistic</th>\n      <th>lnrr</th>\n      <th>Y_probit</th>\n      <th>purpose1</th>\n      <th>event</th>\n    </tr>\n  </thead>\n  <tbody>\n    <tr>\n      <th>0</th>\n      <td>0.214078</td>\n      <td>0.698016</td>\n      <td>0.301984</td>\n      <td>-0.837866</td>\n      <td>-0.359514</td>\n      <td>-0.518701</td>\n      <td>0.0</td>\n      <td>1.0</td>\n    </tr>\n    <tr>\n      <th>1</th>\n      <td>0.214078</td>\n      <td>0.780084</td>\n      <td>0.219916</td>\n      <td>-1.266157</td>\n      <td>-0.248354</td>\n      <td>-0.772477</td>\n      <td>0.0</td>\n      <td>1.0</td>\n    </tr>\n    <tr>\n      <th>2</th>\n      <td>0.214078</td>\n      <td>0.702287</td>\n      <td>0.297713</td>\n      <td>-0.858212</td>\n      <td>-0.353413</td>\n      <td>-0.530989</td>\n      <td>0.0</td>\n      <td>1.0</td>\n    </tr>\n    <tr>\n      <th>3</th>\n      <td>0.214078</td>\n      <td>0.753989</td>\n      <td>0.246011</td>\n      <td>-1.120001</td>\n      <td>-0.282378</td>\n      <td>-0.687096</td>\n      <td>0.0</td>\n      <td>1.0</td>\n    </tr>\n    <tr>\n      <th>4</th>\n      <td>0.214078</td>\n      <td>0.802813</td>\n      <td>0.197187</td>\n      <td>-1.403967</td>\n      <td>-0.219634</td>\n      <td>-0.851711</td>\n      <td>0.0</td>\n      <td>1.0</td>\n    </tr>\n  </tbody>\n</table>\n</div>"
     },
     "execution_count": 65,
     "metadata": {},
     "output_type": "execute_result"
    }
   ],
   "source": [
    "df_05.head()"
   ],
   "metadata": {
    "collapsed": false,
    "ExecuteTime": {
     "end_time": "2025-01-23T15:00:47.213962600Z",
     "start_time": "2025-01-23T15:00:47.181587900Z"
    }
   },
   "id": "cfe0d1baa4f4a19f"
  },
  {
   "cell_type": "markdown",
   "source": [
    "## 06 base_model"
   ],
   "metadata": {
    "collapsed": false
   },
   "id": "e22cc06a3bc7c94c"
  },
  {
   "cell_type": "code",
   "execution_count": 51,
   "outputs": [
    {
     "name": "stderr",
     "output_type": "stream",
     "text": [
      "[base_model.sas7bdat] column count mismatch\n",
      "[base_model.sas7bdat] column count mismatch\n",
      "[base_model.sas7bdat] column count mismatch\n",
      "[base_model.sas7bdat] column count mismatch\n"
     ]
    }
   ],
   "source": [
    "df = convert_sas_to_csv(r'C:\\Users\\u0148775\\PycharmProjects\\CreditScoring\\data\\lgd\\06 base_model\\base_model.sas7bdat',\n",
    "                        r'C:\\Users\\u0148775\\PycharmProjects\\CreditScoring\\data\\lgd\\06 base_model\\base_model.csv')"
   ],
   "metadata": {
    "collapsed": false,
    "ExecuteTime": {
     "end_time": "2025-01-23T14:43:13.255558Z",
     "start_time": "2025-01-23T14:43:12.684553900Z"
    }
   },
   "id": "4e3200504aedacdf"
  },
  {
   "cell_type": "code",
   "execution_count": 52,
   "outputs": [
    {
     "name": "stdout",
     "output_type": "stream",
     "text": [
      "(762, 334)\n"
     ]
    }
   ],
   "source": [
    "df_06 = pd.read_csv(os.path.join(DIR, 'lgd', '06 base_model', 'base_model.csv'))\n",
    "\n",
    "eda(df_06)"
   ],
   "metadata": {
    "collapsed": false,
    "ExecuteTime": {
     "end_time": "2025-01-23T14:43:14.905941Z",
     "start_time": "2025-01-23T14:43:14.837050900Z"
    }
   },
   "id": "2745ba271443edc"
  },
  {
   "cell_type": "code",
   "execution_count": 66,
   "outputs": [
    {
     "data": {
      "text/plain": "                       DEAL_DocUNID                       DEAL_MainID  \\\n0  942AE61CC98AA4AFC1256EB5005840A2  349EC405993DA541C1256EB500579174   \n1  03E71D964BE2F942C1256E69004F4ED4  DF6F3B5ABBBC6990C1256E54006D031E   \n2  03E71D964BE2F942C1256E69004F4ED4  DF6F3B5ABBBC6990C1256E54006D031E   \n3  03E71D964BE2F942C1256E69004F4ED4  DF6F3B5ABBBC6990C1256E54006D031E   \n4  03E71D964BE2F942C1256E69004F4ED4  DF6F3B5ABBBC6990C1256E54006D031E   \n\n  DEAL_GoverningLawRecovery DEAL_FacilityIdentifier DEAL_StarWebIdentifier  \\\n0                     India                     lmp                    NaN   \n1            United_Kingdom                    D001                    NaN   \n2            United_Kingdom                    D001                    NaN   \n3            United_Kingdom                    D001                    NaN   \n4            United_Kingdom                    D001                    NaN   \n\n  DEAL_ClientCurrency  DEAL_FacilityCommitment DEAL_Syndication  \\\n0                 INR                     43.3                N   \n1                 GBP                     17.0                Y   \n2                 GBP                     17.0                Y   \n3                 GBP                     17.0                Y   \n4                 GBP                     17.0                Y   \n\n  DEAL_SGRoleSyndication  DEAL_DealType  ... classe_endet_actif_conso  \\\n0                    NaN  Plain Vanilla  ...                [0.4;0.6[   \n1               Arranger             SL  ...                [0.2;0.4[   \n2               Arranger             SL  ...                [0.2;0.4[   \n3               Arranger             SL  ...                [0.2;0.4[   \n4               Arranger             SL  ...                [0.2;0.4[   \n\n  classe_taux_avancement  classe_DFLT_duree classe_FCLT_duree  \\\n0                [0.3;6[              [0;2[           [0;1.5[   \n1                [0.3;6[            [2;3.5[           [4;6.5[   \n2                [0;0.3[            [2;3.5[           [1.5;4[   \n3                [0.3;6[            [2;3.5[           [4;6.5[   \n4                [0.3;6[            [2;3.5[           [4;6.5[   \n\n  classe_FCLT_duree_pre_DfLT classe_DFLT_dicho_2A cat_taux_IB cat_prodI  \\\n0                      [0;1[                  0.0           4         1   \n1                      [2;4[                  1.0           4         4   \n2                      [0;1[                  1.0           4         4   \n3                      [2;4[                  1.0           4         4   \n4                      [2;4[                  1.0           4         4   \n\n  cat_LEI cat_PMI  \n0       3       1  \n1       3       1  \n2       3       1  \n3       3       1  \n4       3       1  \n\n[5 rows x 334 columns]",
      "text/html": "<div>\n<style scoped>\n    .dataframe tbody tr th:only-of-type {\n        vertical-align: middle;\n    }\n\n    .dataframe tbody tr th {\n        vertical-align: top;\n    }\n\n    .dataframe thead th {\n        text-align: right;\n    }\n</style>\n<table border=\"1\" class=\"dataframe\">\n  <thead>\n    <tr style=\"text-align: right;\">\n      <th></th>\n      <th>DEAL_DocUNID</th>\n      <th>DEAL_MainID</th>\n      <th>DEAL_GoverningLawRecovery</th>\n      <th>DEAL_FacilityIdentifier</th>\n      <th>DEAL_StarWebIdentifier</th>\n      <th>DEAL_ClientCurrency</th>\n      <th>DEAL_FacilityCommitment</th>\n      <th>DEAL_Syndication</th>\n      <th>DEAL_SGRoleSyndication</th>\n      <th>DEAL_DealType</th>\n      <th>...</th>\n      <th>classe_endet_actif_conso</th>\n      <th>classe_taux_avancement</th>\n      <th>classe_DFLT_duree</th>\n      <th>classe_FCLT_duree</th>\n      <th>classe_FCLT_duree_pre_DfLT</th>\n      <th>classe_DFLT_dicho_2A</th>\n      <th>cat_taux_IB</th>\n      <th>cat_prodI</th>\n      <th>cat_LEI</th>\n      <th>cat_PMI</th>\n    </tr>\n  </thead>\n  <tbody>\n    <tr>\n      <th>0</th>\n      <td>942AE61CC98AA4AFC1256EB5005840A2</td>\n      <td>349EC405993DA541C1256EB500579174</td>\n      <td>India</td>\n      <td>lmp</td>\n      <td>NaN</td>\n      <td>INR</td>\n      <td>43.3</td>\n      <td>N</td>\n      <td>NaN</td>\n      <td>Plain Vanilla</td>\n      <td>...</td>\n      <td>[0.4;0.6[</td>\n      <td>[0.3;6[</td>\n      <td>[0;2[</td>\n      <td>[0;1.5[</td>\n      <td>[0;1[</td>\n      <td>0.0</td>\n      <td>4</td>\n      <td>1</td>\n      <td>3</td>\n      <td>1</td>\n    </tr>\n    <tr>\n      <th>1</th>\n      <td>03E71D964BE2F942C1256E69004F4ED4</td>\n      <td>DF6F3B5ABBBC6990C1256E54006D031E</td>\n      <td>United_Kingdom</td>\n      <td>D001</td>\n      <td>NaN</td>\n      <td>GBP</td>\n      <td>17.0</td>\n      <td>Y</td>\n      <td>Arranger</td>\n      <td>SL</td>\n      <td>...</td>\n      <td>[0.2;0.4[</td>\n      <td>[0.3;6[</td>\n      <td>[2;3.5[</td>\n      <td>[4;6.5[</td>\n      <td>[2;4[</td>\n      <td>1.0</td>\n      <td>4</td>\n      <td>4</td>\n      <td>3</td>\n      <td>1</td>\n    </tr>\n    <tr>\n      <th>2</th>\n      <td>03E71D964BE2F942C1256E69004F4ED4</td>\n      <td>DF6F3B5ABBBC6990C1256E54006D031E</td>\n      <td>United_Kingdom</td>\n      <td>D001</td>\n      <td>NaN</td>\n      <td>GBP</td>\n      <td>17.0</td>\n      <td>Y</td>\n      <td>Arranger</td>\n      <td>SL</td>\n      <td>...</td>\n      <td>[0.2;0.4[</td>\n      <td>[0;0.3[</td>\n      <td>[2;3.5[</td>\n      <td>[1.5;4[</td>\n      <td>[0;1[</td>\n      <td>1.0</td>\n      <td>4</td>\n      <td>4</td>\n      <td>3</td>\n      <td>1</td>\n    </tr>\n    <tr>\n      <th>3</th>\n      <td>03E71D964BE2F942C1256E69004F4ED4</td>\n      <td>DF6F3B5ABBBC6990C1256E54006D031E</td>\n      <td>United_Kingdom</td>\n      <td>D001</td>\n      <td>NaN</td>\n      <td>GBP</td>\n      <td>17.0</td>\n      <td>Y</td>\n      <td>Arranger</td>\n      <td>SL</td>\n      <td>...</td>\n      <td>[0.2;0.4[</td>\n      <td>[0.3;6[</td>\n      <td>[2;3.5[</td>\n      <td>[4;6.5[</td>\n      <td>[2;4[</td>\n      <td>1.0</td>\n      <td>4</td>\n      <td>4</td>\n      <td>3</td>\n      <td>1</td>\n    </tr>\n    <tr>\n      <th>4</th>\n      <td>03E71D964BE2F942C1256E69004F4ED4</td>\n      <td>DF6F3B5ABBBC6990C1256E54006D031E</td>\n      <td>United_Kingdom</td>\n      <td>D001</td>\n      <td>NaN</td>\n      <td>GBP</td>\n      <td>17.0</td>\n      <td>Y</td>\n      <td>Arranger</td>\n      <td>SL</td>\n      <td>...</td>\n      <td>[0.2;0.4[</td>\n      <td>[0.3;6[</td>\n      <td>[2;3.5[</td>\n      <td>[4;6.5[</td>\n      <td>[2;4[</td>\n      <td>1.0</td>\n      <td>4</td>\n      <td>4</td>\n      <td>3</td>\n      <td>1</td>\n    </tr>\n  </tbody>\n</table>\n<p>5 rows × 334 columns</p>\n</div>"
     },
     "execution_count": 66,
     "metadata": {},
     "output_type": "execute_result"
    }
   ],
   "source": [
    "df_06.head()"
   ],
   "metadata": {
    "collapsed": false,
    "ExecuteTime": {
     "end_time": "2025-01-23T15:00:59.431801400Z",
     "start_time": "2025-01-23T15:00:59.415153100Z"
    }
   },
   "id": "9c7eca78fe3d5629"
  },
  {
   "cell_type": "markdown",
   "source": [
    "## 07 base_modelisation"
   ],
   "metadata": {
    "collapsed": false
   },
   "id": "24389e28d2ac1c98"
  },
  {
   "cell_type": "code",
   "execution_count": 54,
   "outputs": [
    {
     "name": "stdout",
     "output_type": "stream",
     "text": [
      "(594, 282)\n"
     ]
    }
   ],
   "source": [
    "df_07 = pd.read_csv(os.path.join(DIR, 'lgd', '07 base_modelisation', 'base_modelisation.csv'))\n",
    "\n",
    "eda(df_07)"
   ],
   "metadata": {
    "collapsed": false,
    "ExecuteTime": {
     "end_time": "2025-01-23T14:44:54.069114500Z",
     "start_time": "2025-01-23T14:44:54.014113Z"
    }
   },
   "id": "ad293d91fb69a86e"
  },
  {
   "cell_type": "code",
   "execution_count": null,
   "outputs": [],
   "source": [],
   "metadata": {
    "collapsed": false
   },
   "id": "a8d6bf50e4de8a1a"
  },
  {
   "cell_type": "code",
   "execution_count": null,
   "outputs": [],
   "source": [],
   "metadata": {
    "collapsed": false
   },
   "id": "b9668485499aa337"
  },
  {
   "cell_type": "code",
   "execution_count": null,
   "outputs": [],
   "source": [],
   "metadata": {
    "collapsed": false
   },
   "id": "291429ee330aab86"
  },
  {
   "cell_type": "code",
   "execution_count": null,
   "outputs": [],
   "source": [],
   "metadata": {
    "collapsed": false
   },
   "id": "514c2760d6f1fbb1"
  }
 ],
 "metadata": {
  "kernelspec": {
   "display_name": "Python 3",
   "language": "python",
   "name": "python3"
  },
  "language_info": {
   "codemirror_mode": {
    "name": "ipython",
    "version": 2
   },
   "file_extension": ".py",
   "mimetype": "text/x-python",
   "name": "python",
   "nbconvert_exporter": "python",
   "pygments_lexer": "ipython2",
   "version": "2.7.6"
  }
 },
 "nbformat": 4,
 "nbformat_minor": 5
}
