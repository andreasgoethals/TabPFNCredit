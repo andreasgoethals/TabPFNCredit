{
 "cells": [
  {
   "cell_type": "code",
   "execution_count": 2,
   "id": "initial_id",
   "metadata": {
    "collapsed": true,
    "ExecuteTime": {
     "end_time": "2025-01-22T14:09:31.135993900Z",
     "start_time": "2025-01-22T14:09:28.299667300Z"
    }
   },
   "outputs": [],
   "source": [
    "# Converting heloc_lgd.sas7bdat to heloc_lgd.csv:\n",
    "\n",
    "from sas7bdat import SAS7BDAT\n",
    "import pandas as pd\n",
    "\n",
    "# Read the .sas file\n",
    "with SAS7BDAT(r'C:\\Users\\u0148775\\PycharmProjects\\CreditScoring\\data\\01 heloc_lgd\\heloc_lgd.sas7bdat') as file:\n",
    "    df = file.to_data_frame()\n",
    "\n",
    "# Save to CSV\n",
    "df.to_csv(r'C:\\Users\\u0148775\\PycharmProjects\\CreditScoring\\data/01 heloc_lgd/heloc_lgd.csv', index=False)\n"
   ]
  },
  {
   "cell_type": "code",
   "execution_count": 3,
   "outputs": [
    {
     "data": {
      "text/plain": "          REC  PortNum       ObsDT       DefDT   PrinBal    PayOff  AvailAmt  \\\n0         1.0      1.0  2003-01-31  2004-01-31      0.00      0.00  25000.00   \n1         1.0      1.0  2003-02-28  2004-01-31      0.00      0.00  25000.00   \n2         1.0      1.0  2003-03-31  2004-01-31      0.00      0.00  25000.00   \n3         1.0      1.0  2003-04-30  2004-01-31      0.00      0.00  25000.00   \n4         1.0      1.0  2003-05-31  2004-01-31      0.00      0.00  25000.00   \n...       ...      ...         ...         ...       ...       ...       ...   \n67893  8852.0      2.0  2003-05-31  2003-10-31  19860.06  20552.70    139.94   \n67894  8852.0      2.0  2003-06-30  2003-10-31  19860.06  20687.10    139.94   \n67895  8852.0      2.0  2003-07-31  2003-10-31  19860.06  20825.17    139.94   \n67896  8852.0      2.0  2003-08-31  2003-10-31  19860.06  20967.05    139.94   \n67897  8852.0      2.0  2003-09-30  2003-10-31  19860.06  21097.51    139.94   \n\n              LTV LienPos     Age  CurrEquifax  Utilization  DefPrinBal  \\\n0        0.000000  Second  9999.0          NaN     0.000000        0.00   \n1        0.000000  Second  9999.0          NaN     0.000000        0.00   \n2        0.000000  Second  9999.0          NaN     0.000000        0.00   \n3        0.000000  Second  9999.0          NaN     0.000000        0.00   \n4        0.000000  Second  9999.0          NaN     0.000000        0.00   \n...           ...     ...     ...          ...          ...         ...   \n67893  114.099976             2.0        360.0     0.993237    19860.06   \n67894  114.099976             2.0        360.0     0.993281    19860.06   \n67895  114.099976             2.0        360.0     0.993325    19860.06   \n67896  114.099976             2.0        360.0     0.993370    19860.06   \n67897  114.099976             2.0        360.0     0.993411    19860.06   \n\n       DefPayOff  PD_Rnd  LGD_ACTG  DLGD_Econ  \n0          30.00  0.0038       0.0      0.116  \n1          30.00  0.0038       0.0      0.116  \n2          30.00  0.0038       0.0      0.116  \n3          30.00  0.0038       0.0      0.116  \n4          30.00  0.0038       0.0      0.116  \n...          ...     ...       ...        ...  \n67893   21097.51  0.8307       1.0      1.036  \n67894   21097.51  0.8307       1.0      1.036  \n67895   21097.51  0.8307       1.0      1.036  \n67896   21097.51  0.8307       1.0      1.036  \n67897   21097.51  0.8307       1.0      1.036  \n\n[67898 rows x 17 columns]",
      "text/html": "<div>\n<style scoped>\n    .dataframe tbody tr th:only-of-type {\n        vertical-align: middle;\n    }\n\n    .dataframe tbody tr th {\n        vertical-align: top;\n    }\n\n    .dataframe thead th {\n        text-align: right;\n    }\n</style>\n<table border=\"1\" class=\"dataframe\">\n  <thead>\n    <tr style=\"text-align: right;\">\n      <th></th>\n      <th>REC</th>\n      <th>PortNum</th>\n      <th>ObsDT</th>\n      <th>DefDT</th>\n      <th>PrinBal</th>\n      <th>PayOff</th>\n      <th>AvailAmt</th>\n      <th>LTV</th>\n      <th>LienPos</th>\n      <th>Age</th>\n      <th>CurrEquifax</th>\n      <th>Utilization</th>\n      <th>DefPrinBal</th>\n      <th>DefPayOff</th>\n      <th>PD_Rnd</th>\n      <th>LGD_ACTG</th>\n      <th>DLGD_Econ</th>\n    </tr>\n  </thead>\n  <tbody>\n    <tr>\n      <th>0</th>\n      <td>1.0</td>\n      <td>1.0</td>\n      <td>2003-01-31</td>\n      <td>2004-01-31</td>\n      <td>0.00</td>\n      <td>0.00</td>\n      <td>25000.00</td>\n      <td>0.000000</td>\n      <td>Second</td>\n      <td>9999.0</td>\n      <td>NaN</td>\n      <td>0.000000</td>\n      <td>0.00</td>\n      <td>30.00</td>\n      <td>0.0038</td>\n      <td>0.0</td>\n      <td>0.116</td>\n    </tr>\n    <tr>\n      <th>1</th>\n      <td>1.0</td>\n      <td>1.0</td>\n      <td>2003-02-28</td>\n      <td>2004-01-31</td>\n      <td>0.00</td>\n      <td>0.00</td>\n      <td>25000.00</td>\n      <td>0.000000</td>\n      <td>Second</td>\n      <td>9999.0</td>\n      <td>NaN</td>\n      <td>0.000000</td>\n      <td>0.00</td>\n      <td>30.00</td>\n      <td>0.0038</td>\n      <td>0.0</td>\n      <td>0.116</td>\n    </tr>\n    <tr>\n      <th>2</th>\n      <td>1.0</td>\n      <td>1.0</td>\n      <td>2003-03-31</td>\n      <td>2004-01-31</td>\n      <td>0.00</td>\n      <td>0.00</td>\n      <td>25000.00</td>\n      <td>0.000000</td>\n      <td>Second</td>\n      <td>9999.0</td>\n      <td>NaN</td>\n      <td>0.000000</td>\n      <td>0.00</td>\n      <td>30.00</td>\n      <td>0.0038</td>\n      <td>0.0</td>\n      <td>0.116</td>\n    </tr>\n    <tr>\n      <th>3</th>\n      <td>1.0</td>\n      <td>1.0</td>\n      <td>2003-04-30</td>\n      <td>2004-01-31</td>\n      <td>0.00</td>\n      <td>0.00</td>\n      <td>25000.00</td>\n      <td>0.000000</td>\n      <td>Second</td>\n      <td>9999.0</td>\n      <td>NaN</td>\n      <td>0.000000</td>\n      <td>0.00</td>\n      <td>30.00</td>\n      <td>0.0038</td>\n      <td>0.0</td>\n      <td>0.116</td>\n    </tr>\n    <tr>\n      <th>4</th>\n      <td>1.0</td>\n      <td>1.0</td>\n      <td>2003-05-31</td>\n      <td>2004-01-31</td>\n      <td>0.00</td>\n      <td>0.00</td>\n      <td>25000.00</td>\n      <td>0.000000</td>\n      <td>Second</td>\n      <td>9999.0</td>\n      <td>NaN</td>\n      <td>0.000000</td>\n      <td>0.00</td>\n      <td>30.00</td>\n      <td>0.0038</td>\n      <td>0.0</td>\n      <td>0.116</td>\n    </tr>\n    <tr>\n      <th>...</th>\n      <td>...</td>\n      <td>...</td>\n      <td>...</td>\n      <td>...</td>\n      <td>...</td>\n      <td>...</td>\n      <td>...</td>\n      <td>...</td>\n      <td>...</td>\n      <td>...</td>\n      <td>...</td>\n      <td>...</td>\n      <td>...</td>\n      <td>...</td>\n      <td>...</td>\n      <td>...</td>\n      <td>...</td>\n    </tr>\n    <tr>\n      <th>67893</th>\n      <td>8852.0</td>\n      <td>2.0</td>\n      <td>2003-05-31</td>\n      <td>2003-10-31</td>\n      <td>19860.06</td>\n      <td>20552.70</td>\n      <td>139.94</td>\n      <td>114.099976</td>\n      <td></td>\n      <td>2.0</td>\n      <td>360.0</td>\n      <td>0.993237</td>\n      <td>19860.06</td>\n      <td>21097.51</td>\n      <td>0.8307</td>\n      <td>1.0</td>\n      <td>1.036</td>\n    </tr>\n    <tr>\n      <th>67894</th>\n      <td>8852.0</td>\n      <td>2.0</td>\n      <td>2003-06-30</td>\n      <td>2003-10-31</td>\n      <td>19860.06</td>\n      <td>20687.10</td>\n      <td>139.94</td>\n      <td>114.099976</td>\n      <td></td>\n      <td>2.0</td>\n      <td>360.0</td>\n      <td>0.993281</td>\n      <td>19860.06</td>\n      <td>21097.51</td>\n      <td>0.8307</td>\n      <td>1.0</td>\n      <td>1.036</td>\n    </tr>\n    <tr>\n      <th>67895</th>\n      <td>8852.0</td>\n      <td>2.0</td>\n      <td>2003-07-31</td>\n      <td>2003-10-31</td>\n      <td>19860.06</td>\n      <td>20825.17</td>\n      <td>139.94</td>\n      <td>114.099976</td>\n      <td></td>\n      <td>2.0</td>\n      <td>360.0</td>\n      <td>0.993325</td>\n      <td>19860.06</td>\n      <td>21097.51</td>\n      <td>0.8307</td>\n      <td>1.0</td>\n      <td>1.036</td>\n    </tr>\n    <tr>\n      <th>67896</th>\n      <td>8852.0</td>\n      <td>2.0</td>\n      <td>2003-08-31</td>\n      <td>2003-10-31</td>\n      <td>19860.06</td>\n      <td>20967.05</td>\n      <td>139.94</td>\n      <td>114.099976</td>\n      <td></td>\n      <td>2.0</td>\n      <td>360.0</td>\n      <td>0.993370</td>\n      <td>19860.06</td>\n      <td>21097.51</td>\n      <td>0.8307</td>\n      <td>1.0</td>\n      <td>1.036</td>\n    </tr>\n    <tr>\n      <th>67897</th>\n      <td>8852.0</td>\n      <td>2.0</td>\n      <td>2003-09-30</td>\n      <td>2003-10-31</td>\n      <td>19860.06</td>\n      <td>21097.51</td>\n      <td>139.94</td>\n      <td>114.099976</td>\n      <td></td>\n      <td>2.0</td>\n      <td>360.0</td>\n      <td>0.993411</td>\n      <td>19860.06</td>\n      <td>21097.51</td>\n      <td>0.8307</td>\n      <td>1.0</td>\n      <td>1.036</td>\n    </tr>\n  </tbody>\n</table>\n<p>67898 rows × 17 columns</p>\n</div>"
     },
     "execution_count": 3,
     "metadata": {},
     "output_type": "execute_result"
    }
   ],
   "source": [
    "df"
   ],
   "metadata": {
    "collapsed": false,
    "ExecuteTime": {
     "end_time": "2025-01-22T14:09:32.763762300Z",
     "start_time": "2025-01-22T14:09:32.711758600Z"
    }
   },
   "id": "2745ba271443edc"
  },
  {
   "cell_type": "code",
   "execution_count": null,
   "outputs": [],
   "source": [],
   "metadata": {
    "collapsed": false
   },
   "id": "a739a260e3137e90"
  }
 ],
 "metadata": {
  "kernelspec": {
   "display_name": "Python 3",
   "language": "python",
   "name": "python3"
  },
  "language_info": {
   "codemirror_mode": {
    "name": "ipython",
    "version": 2
   },
   "file_extension": ".py",
   "mimetype": "text/x-python",
   "name": "python",
   "nbconvert_exporter": "python",
   "pygments_lexer": "ipython2",
   "version": "2.7.6"
  }
 },
 "nbformat": 4,
 "nbformat_minor": 5
}
